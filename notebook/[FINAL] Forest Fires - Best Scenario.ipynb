{
 "cells": [
  {
   "cell_type": "code",
   "execution_count": 1,
   "metadata": {},
   "outputs": [],
   "source": [
    "import pandas as pd\n",
    "import numpy as np\n",
    "\n",
    "import seaborn as sns\n",
    "import matplotlib.pyplot as plt"
   ]
  },
  {
   "cell_type": "markdown",
   "metadata": {},
   "source": [
    "# Dataset\n",
    "\n",
    "The dataset is about forest fire in Portugal, detailed information can be found here: http://archive.ics.uci.edu/ml/datasets/Forest+Fires"
   ]
  },
  {
   "cell_type": "markdown",
   "metadata": {},
   "source": [
    "# Atribut Information\n",
    "\n",
    "For more information, read [Cortez and Morais, 2007].\n",
    "\n",
    "- X - x-axis spatial coordinate within the Montesinho park map: 1 to 9\n",
    "- Y - y-axis spatial coordinate within the Montesinho park map: 2 to 9\n",
    "- month - month of the year: 'jan' to 'dec'\n",
    "- day - day of the week: 'mon' to 'sun'\n",
    "- FFMC - FFMC index from the FWI system: 18.7 to 96.20\n",
    "- DMC - DMC index from the FWI system: 1.1 to 291.3\n",
    "- DC - DC index from the FWI system: 7.9 to 860.6\n",
    "- ISI - ISI index from the FWI system: 0.0 to 56.10\n",
    "- temp - temperature in Celsius degrees: 2.2 to 33.30\n",
    "- RH - relative humidity in %: 15.0 to 100\n",
    "- wind - wind speed in km/h: 0.40 to 9.40\n",
    "- rain - outside rain in mm/m2 : 0.0 to 6.4\n",
    "- area - the burned area of the forest (in ha): 0.00 to 1090.84 (this output variable is very skewed towards 0.0, thus it may make sense to model with the logarithm transform)."
   ]
  },
  {
   "cell_type": "code",
   "execution_count": 2,
   "metadata": {},
   "outputs": [],
   "source": [
    "data = pd.read_csv('../dataset/forestfires.csv')"
   ]
  },
  {
   "cell_type": "code",
   "execution_count": 3,
   "metadata": {},
   "outputs": [
    {
     "data": {
      "text/html": [
       "<div>\n",
       "<style scoped>\n",
       "    .dataframe tbody tr th:only-of-type {\n",
       "        vertical-align: middle;\n",
       "    }\n",
       "\n",
       "    .dataframe tbody tr th {\n",
       "        vertical-align: top;\n",
       "    }\n",
       "\n",
       "    .dataframe thead th {\n",
       "        text-align: right;\n",
       "    }\n",
       "</style>\n",
       "<table border=\"1\" class=\"dataframe\">\n",
       "  <thead>\n",
       "    <tr style=\"text-align: right;\">\n",
       "      <th></th>\n",
       "      <th>X</th>\n",
       "      <th>Y</th>\n",
       "      <th>month</th>\n",
       "      <th>day</th>\n",
       "      <th>FFMC</th>\n",
       "      <th>DMC</th>\n",
       "      <th>DC</th>\n",
       "      <th>ISI</th>\n",
       "      <th>temp</th>\n",
       "      <th>RH</th>\n",
       "      <th>wind</th>\n",
       "      <th>rain</th>\n",
       "      <th>area</th>\n",
       "    </tr>\n",
       "  </thead>\n",
       "  <tbody>\n",
       "    <tr>\n",
       "      <th>0</th>\n",
       "      <td>7</td>\n",
       "      <td>5</td>\n",
       "      <td>mar</td>\n",
       "      <td>fri</td>\n",
       "      <td>86.2</td>\n",
       "      <td>26.2</td>\n",
       "      <td>94.3</td>\n",
       "      <td>5.1</td>\n",
       "      <td>8.2</td>\n",
       "      <td>51</td>\n",
       "      <td>6.7</td>\n",
       "      <td>0.0</td>\n",
       "      <td>0.0</td>\n",
       "    </tr>\n",
       "    <tr>\n",
       "      <th>1</th>\n",
       "      <td>7</td>\n",
       "      <td>4</td>\n",
       "      <td>oct</td>\n",
       "      <td>tue</td>\n",
       "      <td>90.6</td>\n",
       "      <td>35.4</td>\n",
       "      <td>669.1</td>\n",
       "      <td>6.7</td>\n",
       "      <td>18.0</td>\n",
       "      <td>33</td>\n",
       "      <td>0.9</td>\n",
       "      <td>0.0</td>\n",
       "      <td>0.0</td>\n",
       "    </tr>\n",
       "    <tr>\n",
       "      <th>2</th>\n",
       "      <td>7</td>\n",
       "      <td>4</td>\n",
       "      <td>oct</td>\n",
       "      <td>sat</td>\n",
       "      <td>90.6</td>\n",
       "      <td>43.7</td>\n",
       "      <td>686.9</td>\n",
       "      <td>6.7</td>\n",
       "      <td>14.6</td>\n",
       "      <td>33</td>\n",
       "      <td>1.3</td>\n",
       "      <td>0.0</td>\n",
       "      <td>0.0</td>\n",
       "    </tr>\n",
       "    <tr>\n",
       "      <th>3</th>\n",
       "      <td>8</td>\n",
       "      <td>6</td>\n",
       "      <td>mar</td>\n",
       "      <td>fri</td>\n",
       "      <td>91.7</td>\n",
       "      <td>33.3</td>\n",
       "      <td>77.5</td>\n",
       "      <td>9.0</td>\n",
       "      <td>8.3</td>\n",
       "      <td>97</td>\n",
       "      <td>4.0</td>\n",
       "      <td>0.2</td>\n",
       "      <td>0.0</td>\n",
       "    </tr>\n",
       "    <tr>\n",
       "      <th>4</th>\n",
       "      <td>8</td>\n",
       "      <td>6</td>\n",
       "      <td>mar</td>\n",
       "      <td>sun</td>\n",
       "      <td>89.3</td>\n",
       "      <td>51.3</td>\n",
       "      <td>102.2</td>\n",
       "      <td>9.6</td>\n",
       "      <td>11.4</td>\n",
       "      <td>99</td>\n",
       "      <td>1.8</td>\n",
       "      <td>0.0</td>\n",
       "      <td>0.0</td>\n",
       "    </tr>\n",
       "  </tbody>\n",
       "</table>\n",
       "</div>"
      ],
      "text/plain": [
       "   X  Y month  day  FFMC   DMC     DC  ISI  temp  RH  wind  rain  area\n",
       "0  7  5   mar  fri  86.2  26.2   94.3  5.1   8.2  51   6.7   0.0   0.0\n",
       "1  7  4   oct  tue  90.6  35.4  669.1  6.7  18.0  33   0.9   0.0   0.0\n",
       "2  7  4   oct  sat  90.6  43.7  686.9  6.7  14.6  33   1.3   0.0   0.0\n",
       "3  8  6   mar  fri  91.7  33.3   77.5  9.0   8.3  97   4.0   0.2   0.0\n",
       "4  8  6   mar  sun  89.3  51.3  102.2  9.6  11.4  99   1.8   0.0   0.0"
      ]
     },
     "execution_count": 3,
     "metadata": {},
     "output_type": "execute_result"
    }
   ],
   "source": [
    "data.head()"
   ]
  },
  {
   "cell_type": "code",
   "execution_count": 4,
   "metadata": {},
   "outputs": [
    {
     "data": {
      "text/plain": [
       "(517, 13)"
      ]
     },
     "execution_count": 4,
     "metadata": {},
     "output_type": "execute_result"
    }
   ],
   "source": [
    "data.shape"
   ]
  },
  {
   "cell_type": "code",
   "execution_count": 6,
   "metadata": {},
   "outputs": [
    {
     "name": "stdout",
     "output_type": "stream",
     "text": [
      "<class 'pandas.core.frame.DataFrame'>\n",
      "RangeIndex: 517 entries, 0 to 516\n",
      "Data columns (total 13 columns):\n",
      " #   Column  Non-Null Count  Dtype  \n",
      "---  ------  --------------  -----  \n",
      " 0   X       517 non-null    int64  \n",
      " 1   Y       517 non-null    int64  \n",
      " 2   month   517 non-null    object \n",
      " 3   day     517 non-null    object \n",
      " 4   FFMC    517 non-null    float64\n",
      " 5   DMC     517 non-null    float64\n",
      " 6   DC      517 non-null    float64\n",
      " 7   ISI     517 non-null    float64\n",
      " 8   temp    517 non-null    float64\n",
      " 9   RH      517 non-null    int64  \n",
      " 10  wind    517 non-null    float64\n",
      " 11  rain    517 non-null    float64\n",
      " 12  area    517 non-null    float64\n",
      "dtypes: float64(8), int64(3), object(2)\n",
      "memory usage: 52.6+ KB\n"
     ]
    }
   ],
   "source": [
    "data.info()"
   ]
  },
  {
   "cell_type": "markdown",
   "metadata": {},
   "source": [
    "### Additional Information\n",
    "\n",
    "WEATHER\n",
    "\n",
    "Sources:\n",
    "https://www.auburn.edu/academic/forestry_wildlife/fire/weather_elements.htm\n",
    "\n",
    "- Air temperature has a direct influence on fire behavior because of the heat requirements for ignition and continuing the combustion process.\n",
    "- The temperature is the highest at that time resulting in higher fuel temperatures. Consequently, less heat is needed to raise the fuel to its ignition temperature. At the same time rising temperatures result in decreasing relative humidity and fuel moisture.\n",
    "- Wind has a strong effect on fire behavior due to the fanning effect on the fire. Wind increases the supply of oxygen, which results in the fire burning more rapidly. Wind influences the rate of spread and intensity of the fire. \n",
    "- The lower the relative humidity, the more readily a fire will start and burn; the more vigorously a fire will burn. This is because relative humidity is changed by temperature.\n",
    "- Precipitation will quickly dampen the surface of fuels to the point that fires cannot ignite and no wildfires will occur. During long periods of dry weather, drought, moisture that is toward the center of larger fuels and deeper in surface litter is able to work its way to the surface and evaporate into the dry atmosphere.  As a result, a larger percent of the total fuel becomes available fuel; available to burn.\n",
    "\n",
    "Conclusion:\n",
    "There will be more fire when Temperature is higher, Humidity (RH) is lower, Precipitation (Rain) is lower, and Wind is stronger.\n",
    "\n",
    "FIRE WEATHER INDEX\n",
    "\n",
    "Sources:\n",
    "https://www.nwcg.gov/publications/pms437/cffdrs/fire-weather-index-system\n",
    "\n",
    "There 3 main processes:\n",
    "- Fire Weather Observation : Temperature, Relative Humidity, Rain, and Wind.\n",
    "- Fuel Moisture Codes: FFMC (Temperature, Relative Humidity, Rain, and Wind), DMC (Temperature, Relative Humidity, and Wind), DC (Temperature and Rain)\n",
    "- Fire Behaviour Indices : ISI (Wind + FFMC) - as the fires Spread Component (SC)."
   ]
  },
  {
   "cell_type": "markdown",
   "metadata": {},
   "source": [
    "---"
   ]
  },
  {
   "cell_type": "markdown",
   "metadata": {},
   "source": [
    "# Data Preparation"
   ]
  },
  {
   "cell_type": "code",
   "execution_count": 7,
   "metadata": {},
   "outputs": [],
   "source": [
    "data['area_categorical'] = data['area'].apply(lambda x:1 if x > 0 else 0)"
   ]
  },
  {
   "cell_type": "code",
   "execution_count": 8,
   "metadata": {},
   "outputs": [],
   "source": [
    "from sklearn.preprocessing import LabelEncoder\n",
    "\n",
    "encoder = LabelEncoder()\n",
    "data['month'] = encoder.fit_transform(data['month'])\n",
    "data['day'] = encoder.fit_transform(data['day'])"
   ]
  },
  {
   "cell_type": "code",
   "execution_count": 9,
   "metadata": {},
   "outputs": [],
   "source": [
    "data['location'] = data['X'].astype('string')+'-'+data['Y'].astype('string')"
   ]
  },
  {
   "cell_type": "code",
   "execution_count": 10,
   "metadata": {},
   "outputs": [],
   "source": [
    "data['location'] = encoder.fit_transform(data['location'])"
   ]
  },
  {
   "cell_type": "code",
   "execution_count": 11,
   "metadata": {},
   "outputs": [
    {
     "data": {
      "text/html": [
       "<div>\n",
       "<style scoped>\n",
       "    .dataframe tbody tr th:only-of-type {\n",
       "        vertical-align: middle;\n",
       "    }\n",
       "\n",
       "    .dataframe tbody tr th {\n",
       "        vertical-align: top;\n",
       "    }\n",
       "\n",
       "    .dataframe thead th {\n",
       "        text-align: right;\n",
       "    }\n",
       "</style>\n",
       "<table border=\"1\" class=\"dataframe\">\n",
       "  <thead>\n",
       "    <tr style=\"text-align: right;\">\n",
       "      <th></th>\n",
       "      <th>X</th>\n",
       "      <th>Y</th>\n",
       "      <th>month</th>\n",
       "      <th>day</th>\n",
       "      <th>FFMC</th>\n",
       "      <th>DMC</th>\n",
       "      <th>DC</th>\n",
       "      <th>ISI</th>\n",
       "      <th>temp</th>\n",
       "      <th>RH</th>\n",
       "      <th>wind</th>\n",
       "      <th>rain</th>\n",
       "      <th>area</th>\n",
       "      <th>area_categorical</th>\n",
       "      <th>location</th>\n",
       "    </tr>\n",
       "  </thead>\n",
       "  <tbody>\n",
       "    <tr>\n",
       "      <th>0</th>\n",
       "      <td>7</td>\n",
       "      <td>5</td>\n",
       "      <td>7</td>\n",
       "      <td>0</td>\n",
       "      <td>86.2</td>\n",
       "      <td>26.2</td>\n",
       "      <td>94.3</td>\n",
       "      <td>5.1</td>\n",
       "      <td>8.2</td>\n",
       "      <td>51</td>\n",
       "      <td>6.7</td>\n",
       "      <td>0.0</td>\n",
       "      <td>0.0</td>\n",
       "      <td>0</td>\n",
       "      <td>25</td>\n",
       "    </tr>\n",
       "    <tr>\n",
       "      <th>1</th>\n",
       "      <td>7</td>\n",
       "      <td>4</td>\n",
       "      <td>10</td>\n",
       "      <td>5</td>\n",
       "      <td>90.6</td>\n",
       "      <td>35.4</td>\n",
       "      <td>669.1</td>\n",
       "      <td>6.7</td>\n",
       "      <td>18.0</td>\n",
       "      <td>33</td>\n",
       "      <td>0.9</td>\n",
       "      <td>0.0</td>\n",
       "      <td>0.0</td>\n",
       "      <td>0</td>\n",
       "      <td>24</td>\n",
       "    </tr>\n",
       "    <tr>\n",
       "      <th>2</th>\n",
       "      <td>7</td>\n",
       "      <td>4</td>\n",
       "      <td>10</td>\n",
       "      <td>2</td>\n",
       "      <td>90.6</td>\n",
       "      <td>43.7</td>\n",
       "      <td>686.9</td>\n",
       "      <td>6.7</td>\n",
       "      <td>14.6</td>\n",
       "      <td>33</td>\n",
       "      <td>1.3</td>\n",
       "      <td>0.0</td>\n",
       "      <td>0.0</td>\n",
       "      <td>0</td>\n",
       "      <td>24</td>\n",
       "    </tr>\n",
       "    <tr>\n",
       "      <th>3</th>\n",
       "      <td>8</td>\n",
       "      <td>6</td>\n",
       "      <td>7</td>\n",
       "      <td>0</td>\n",
       "      <td>91.7</td>\n",
       "      <td>33.3</td>\n",
       "      <td>77.5</td>\n",
       "      <td>9.0</td>\n",
       "      <td>8.3</td>\n",
       "      <td>97</td>\n",
       "      <td>4.0</td>\n",
       "      <td>0.2</td>\n",
       "      <td>0.0</td>\n",
       "      <td>0</td>\n",
       "      <td>30</td>\n",
       "    </tr>\n",
       "    <tr>\n",
       "      <th>4</th>\n",
       "      <td>8</td>\n",
       "      <td>6</td>\n",
       "      <td>7</td>\n",
       "      <td>3</td>\n",
       "      <td>89.3</td>\n",
       "      <td>51.3</td>\n",
       "      <td>102.2</td>\n",
       "      <td>9.6</td>\n",
       "      <td>11.4</td>\n",
       "      <td>99</td>\n",
       "      <td>1.8</td>\n",
       "      <td>0.0</td>\n",
       "      <td>0.0</td>\n",
       "      <td>0</td>\n",
       "      <td>30</td>\n",
       "    </tr>\n",
       "  </tbody>\n",
       "</table>\n",
       "</div>"
      ],
      "text/plain": [
       "   X  Y  month  day  FFMC   DMC     DC  ISI  temp  RH  wind  rain  area  \\\n",
       "0  7  5      7    0  86.2  26.2   94.3  5.1   8.2  51   6.7   0.0   0.0   \n",
       "1  7  4     10    5  90.6  35.4  669.1  6.7  18.0  33   0.9   0.0   0.0   \n",
       "2  7  4     10    2  90.6  43.7  686.9  6.7  14.6  33   1.3   0.0   0.0   \n",
       "3  8  6      7    0  91.7  33.3   77.5  9.0   8.3  97   4.0   0.2   0.0   \n",
       "4  8  6      7    3  89.3  51.3  102.2  9.6  11.4  99   1.8   0.0   0.0   \n",
       "\n",
       "   area_categorical  location  \n",
       "0                 0        25  \n",
       "1                 0        24  \n",
       "2                 0        24  \n",
       "3                 0        30  \n",
       "4                 0        30  "
      ]
     },
     "execution_count": 11,
     "metadata": {},
     "output_type": "execute_result"
    }
   ],
   "source": [
    "data.head()"
   ]
  },
  {
   "cell_type": "markdown",
   "metadata": {},
   "source": [
    "---"
   ]
  },
  {
   "cell_type": "markdown",
   "metadata": {},
   "source": [
    "# Base Model with RF"
   ]
  },
  {
   "cell_type": "code",
   "execution_count": 12,
   "metadata": {},
   "outputs": [],
   "source": [
    "X = data.drop(['area_categorical','area','X','Y'], axis = 1)\n",
    "y = data['area_categorical']"
   ]
  },
  {
   "cell_type": "code",
   "execution_count": 13,
   "metadata": {},
   "outputs": [],
   "source": [
    "from sklearn.model_selection import train_test_split\n",
    "\n",
    "X_train, X_valid, y_train, y_valid = train_test_split(X, y, \n",
    "                                                      train_size=0.7, \n",
    "                                                      test_size=0.3,\n",
    "                                                      random_state=42)"
   ]
  },
  {
   "cell_type": "code",
   "execution_count": 14,
   "metadata": {},
   "outputs": [
    {
     "data": {
      "text/plain": [
       "RandomForestClassifier(random_state=0)"
      ]
     },
     "execution_count": 14,
     "metadata": {},
     "output_type": "execute_result"
    }
   ],
   "source": [
    "from sklearn.ensemble import RandomForestClassifier\n",
    "\n",
    "model = RandomForestClassifier(random_state=0)\n",
    "model.fit(X_train, y_train)"
   ]
  },
  {
   "cell_type": "code",
   "execution_count": 15,
   "metadata": {},
   "outputs": [],
   "source": [
    "y_pred = model.predict(X_valid)"
   ]
  },
  {
   "cell_type": "code",
   "execution_count": 16,
   "metadata": {},
   "outputs": [
    {
     "name": "stdout",
     "output_type": "stream",
     "text": [
      "              precision    recall  f1-score   support\n",
      "\n",
      "           0       0.59      0.49      0.54        77\n",
      "           1       0.58      0.67      0.62        79\n",
      "\n",
      "    accuracy                           0.58       156\n",
      "   macro avg       0.58      0.58      0.58       156\n",
      "weighted avg       0.58      0.58      0.58       156\n",
      "\n"
     ]
    }
   ],
   "source": [
    "from sklearn.metrics import classification_report\n",
    "\n",
    "print(classification_report(y_valid, y_pred))"
   ]
  },
  {
   "cell_type": "code",
   "execution_count": 17,
   "metadata": {},
   "outputs": [
    {
     "data": {
      "text/html": [
       "<div>\n",
       "<style scoped>\n",
       "    .dataframe tbody tr th:only-of-type {\n",
       "        vertical-align: middle;\n",
       "    }\n",
       "\n",
       "    .dataframe tbody tr th {\n",
       "        vertical-align: top;\n",
       "    }\n",
       "\n",
       "    .dataframe thead th {\n",
       "        text-align: right;\n",
       "    }\n",
       "</style>\n",
       "<table border=\"1\" class=\"dataframe\">\n",
       "  <thead>\n",
       "    <tr style=\"text-align: right;\">\n",
       "      <th></th>\n",
       "      <th>0</th>\n",
       "      <th>1</th>\n",
       "    </tr>\n",
       "  </thead>\n",
       "  <tbody>\n",
       "    <tr>\n",
       "      <th>0</th>\n",
       "      <td>38</td>\n",
       "      <td>39</td>\n",
       "    </tr>\n",
       "    <tr>\n",
       "      <th>1</th>\n",
       "      <td>26</td>\n",
       "      <td>53</td>\n",
       "    </tr>\n",
       "  </tbody>\n",
       "</table>\n",
       "</div>"
      ],
      "text/plain": [
       "    0   1\n",
       "0  38  39\n",
       "1  26  53"
      ]
     },
     "execution_count": 17,
     "metadata": {},
     "output_type": "execute_result"
    }
   ],
   "source": [
    "from sklearn.metrics import confusion_matrix\n",
    "\n",
    "pd.DataFrame(confusion_matrix(y_valid, y_pred))"
   ]
  },
  {
   "cell_type": "code",
   "execution_count": 18,
   "metadata": {},
   "outputs": [],
   "source": [
    "y_pred_ = model.predict(X_train)"
   ]
  },
  {
   "cell_type": "code",
   "execution_count": 19,
   "metadata": {},
   "outputs": [
    {
     "name": "stdout",
     "output_type": "stream",
     "text": [
      "              precision    recall  f1-score   support\n",
      "\n",
      "           0       0.99      0.99      0.99       170\n",
      "           1       0.99      0.99      0.99       191\n",
      "\n",
      "    accuracy                           0.99       361\n",
      "   macro avg       0.99      0.99      0.99       361\n",
      "weighted avg       0.99      0.99      0.99       361\n",
      "\n"
     ]
    }
   ],
   "source": [
    "from sklearn.metrics import classification_report\n",
    "\n",
    "print(classification_report(y_train, y_pred_))"
   ]
  },
  {
   "cell_type": "code",
   "execution_count": 20,
   "metadata": {},
   "outputs": [
    {
     "data": {
      "text/html": [
       "<div>\n",
       "<style scoped>\n",
       "    .dataframe tbody tr th:only-of-type {\n",
       "        vertical-align: middle;\n",
       "    }\n",
       "\n",
       "    .dataframe tbody tr th {\n",
       "        vertical-align: top;\n",
       "    }\n",
       "\n",
       "    .dataframe thead th {\n",
       "        text-align: right;\n",
       "    }\n",
       "</style>\n",
       "<table border=\"1\" class=\"dataframe\">\n",
       "  <thead>\n",
       "    <tr style=\"text-align: right;\">\n",
       "      <th></th>\n",
       "      <th>0</th>\n",
       "      <th>1</th>\n",
       "    </tr>\n",
       "  </thead>\n",
       "  <tbody>\n",
       "    <tr>\n",
       "      <th>0</th>\n",
       "      <td>168</td>\n",
       "      <td>2</td>\n",
       "    </tr>\n",
       "    <tr>\n",
       "      <th>1</th>\n",
       "      <td>1</td>\n",
       "      <td>190</td>\n",
       "    </tr>\n",
       "  </tbody>\n",
       "</table>\n",
       "</div>"
      ],
      "text/plain": [
       "     0    1\n",
       "0  168    2\n",
       "1    1  190"
      ]
     },
     "execution_count": 20,
     "metadata": {},
     "output_type": "execute_result"
    }
   ],
   "source": [
    "from sklearn.metrics import confusion_matrix\n",
    "\n",
    "pd.DataFrame(confusion_matrix(y_train, y_pred_))"
   ]
  },
  {
   "cell_type": "markdown",
   "metadata": {},
   "source": [
    "RF is tend to overfit with much higher F1-Score accuracy compare to the validation dataset"
   ]
  },
  {
   "cell_type": "markdown",
   "metadata": {},
   "source": [
    "---"
   ]
  },
  {
   "cell_type": "markdown",
   "metadata": {},
   "source": [
    "# Feature Engineering"
   ]
  },
  {
   "cell_type": "markdown",
   "metadata": {},
   "source": [
    "## Clustering"
   ]
  },
  {
   "cell_type": "code",
   "execution_count": 22,
   "metadata": {},
   "outputs": [],
   "source": [
    "from sklearn.cluster import KMeans"
   ]
  },
  {
   "cell_type": "markdown",
   "metadata": {},
   "source": [
    "### Weather Cluster"
   ]
  },
  {
   "cell_type": "code",
   "execution_count": 23,
   "metadata": {},
   "outputs": [
    {
     "data": {
      "text/html": [
       "<div>\n",
       "<style scoped>\n",
       "    .dataframe tbody tr th:only-of-type {\n",
       "        vertical-align: middle;\n",
       "    }\n",
       "\n",
       "    .dataframe tbody tr th {\n",
       "        vertical-align: top;\n",
       "    }\n",
       "\n",
       "    .dataframe thead th {\n",
       "        text-align: right;\n",
       "    }\n",
       "</style>\n",
       "<table border=\"1\" class=\"dataframe\">\n",
       "  <thead>\n",
       "    <tr style=\"text-align: right;\">\n",
       "      <th></th>\n",
       "      <th>X</th>\n",
       "      <th>Y</th>\n",
       "      <th>month</th>\n",
       "      <th>day</th>\n",
       "      <th>FFMC</th>\n",
       "      <th>DMC</th>\n",
       "      <th>DC</th>\n",
       "      <th>ISI</th>\n",
       "      <th>temp</th>\n",
       "      <th>RH</th>\n",
       "      <th>wind</th>\n",
       "      <th>rain</th>\n",
       "      <th>area</th>\n",
       "      <th>area_categorical</th>\n",
       "      <th>location</th>\n",
       "      <th>cluster_weather</th>\n",
       "    </tr>\n",
       "  </thead>\n",
       "  <tbody>\n",
       "    <tr>\n",
       "      <th>0</th>\n",
       "      <td>7</td>\n",
       "      <td>5</td>\n",
       "      <td>7</td>\n",
       "      <td>0</td>\n",
       "      <td>86.2</td>\n",
       "      <td>26.2</td>\n",
       "      <td>94.3</td>\n",
       "      <td>5.1</td>\n",
       "      <td>8.2</td>\n",
       "      <td>51</td>\n",
       "      <td>6.7</td>\n",
       "      <td>0.0</td>\n",
       "      <td>0.0</td>\n",
       "      <td>0</td>\n",
       "      <td>25</td>\n",
       "      <td>0</td>\n",
       "    </tr>\n",
       "    <tr>\n",
       "      <th>1</th>\n",
       "      <td>7</td>\n",
       "      <td>4</td>\n",
       "      <td>10</td>\n",
       "      <td>5</td>\n",
       "      <td>90.6</td>\n",
       "      <td>35.4</td>\n",
       "      <td>669.1</td>\n",
       "      <td>6.7</td>\n",
       "      <td>18.0</td>\n",
       "      <td>33</td>\n",
       "      <td>0.9</td>\n",
       "      <td>0.0</td>\n",
       "      <td>0.0</td>\n",
       "      <td>0</td>\n",
       "      <td>24</td>\n",
       "      <td>1</td>\n",
       "    </tr>\n",
       "    <tr>\n",
       "      <th>2</th>\n",
       "      <td>7</td>\n",
       "      <td>4</td>\n",
       "      <td>10</td>\n",
       "      <td>2</td>\n",
       "      <td>90.6</td>\n",
       "      <td>43.7</td>\n",
       "      <td>686.9</td>\n",
       "      <td>6.7</td>\n",
       "      <td>14.6</td>\n",
       "      <td>33</td>\n",
       "      <td>1.3</td>\n",
       "      <td>0.0</td>\n",
       "      <td>0.0</td>\n",
       "      <td>0</td>\n",
       "      <td>24</td>\n",
       "      <td>1</td>\n",
       "    </tr>\n",
       "    <tr>\n",
       "      <th>3</th>\n",
       "      <td>8</td>\n",
       "      <td>6</td>\n",
       "      <td>7</td>\n",
       "      <td>0</td>\n",
       "      <td>91.7</td>\n",
       "      <td>33.3</td>\n",
       "      <td>77.5</td>\n",
       "      <td>9.0</td>\n",
       "      <td>8.3</td>\n",
       "      <td>97</td>\n",
       "      <td>4.0</td>\n",
       "      <td>0.2</td>\n",
       "      <td>0.0</td>\n",
       "      <td>0</td>\n",
       "      <td>30</td>\n",
       "      <td>0</td>\n",
       "    </tr>\n",
       "    <tr>\n",
       "      <th>4</th>\n",
       "      <td>8</td>\n",
       "      <td>6</td>\n",
       "      <td>7</td>\n",
       "      <td>3</td>\n",
       "      <td>89.3</td>\n",
       "      <td>51.3</td>\n",
       "      <td>102.2</td>\n",
       "      <td>9.6</td>\n",
       "      <td>11.4</td>\n",
       "      <td>99</td>\n",
       "      <td>1.8</td>\n",
       "      <td>0.0</td>\n",
       "      <td>0.0</td>\n",
       "      <td>0</td>\n",
       "      <td>30</td>\n",
       "      <td>0</td>\n",
       "    </tr>\n",
       "  </tbody>\n",
       "</table>\n",
       "</div>"
      ],
      "text/plain": [
       "   X  Y  month  day  FFMC   DMC     DC  ISI  temp  RH  wind  rain  area  \\\n",
       "0  7  5      7    0  86.2  26.2   94.3  5.1   8.2  51   6.7   0.0   0.0   \n",
       "1  7  4     10    5  90.6  35.4  669.1  6.7  18.0  33   0.9   0.0   0.0   \n",
       "2  7  4     10    2  90.6  43.7  686.9  6.7  14.6  33   1.3   0.0   0.0   \n",
       "3  8  6      7    0  91.7  33.3   77.5  9.0   8.3  97   4.0   0.2   0.0   \n",
       "4  8  6      7    3  89.3  51.3  102.2  9.6  11.4  99   1.8   0.0   0.0   \n",
       "\n",
       "   area_categorical  location cluster_weather  \n",
       "0                 0        25               0  \n",
       "1                 0        24               1  \n",
       "2                 0        24               1  \n",
       "3                 0        30               0  \n",
       "4                 0        30               0  "
      ]
     },
     "execution_count": 23,
     "metadata": {},
     "output_type": "execute_result"
    }
   ],
   "source": [
    "features_weather = ['X', 'Y', 'month', 'temp', 'RH', 'wind', 'rain']\n",
    "\n",
    "kmeans = KMeans(n_clusters=2)\n",
    "data[\"cluster_weather\"] = kmeans.fit_predict(data[features_weather])\n",
    "data[\"cluster_weather\"] = data[\"cluster_weather\"].astype(\"category\")\n",
    "\n",
    "data.head()"
   ]
  },
  {
   "cell_type": "markdown",
   "metadata": {},
   "source": [
    "### Fire Weather Index Cluster"
   ]
  },
  {
   "cell_type": "code",
   "execution_count": 24,
   "metadata": {},
   "outputs": [
    {
     "data": {
      "text/html": [
       "<div>\n",
       "<style scoped>\n",
       "    .dataframe tbody tr th:only-of-type {\n",
       "        vertical-align: middle;\n",
       "    }\n",
       "\n",
       "    .dataframe tbody tr th {\n",
       "        vertical-align: top;\n",
       "    }\n",
       "\n",
       "    .dataframe thead th {\n",
       "        text-align: right;\n",
       "    }\n",
       "</style>\n",
       "<table border=\"1\" class=\"dataframe\">\n",
       "  <thead>\n",
       "    <tr style=\"text-align: right;\">\n",
       "      <th></th>\n",
       "      <th>X</th>\n",
       "      <th>Y</th>\n",
       "      <th>month</th>\n",
       "      <th>day</th>\n",
       "      <th>FFMC</th>\n",
       "      <th>DMC</th>\n",
       "      <th>DC</th>\n",
       "      <th>ISI</th>\n",
       "      <th>temp</th>\n",
       "      <th>RH</th>\n",
       "      <th>wind</th>\n",
       "      <th>rain</th>\n",
       "      <th>area</th>\n",
       "      <th>area_categorical</th>\n",
       "      <th>location</th>\n",
       "      <th>cluster_weather</th>\n",
       "      <th>cluster_weather_index</th>\n",
       "    </tr>\n",
       "  </thead>\n",
       "  <tbody>\n",
       "    <tr>\n",
       "      <th>0</th>\n",
       "      <td>7</td>\n",
       "      <td>5</td>\n",
       "      <td>7</td>\n",
       "      <td>0</td>\n",
       "      <td>86.2</td>\n",
       "      <td>26.2</td>\n",
       "      <td>94.3</td>\n",
       "      <td>5.1</td>\n",
       "      <td>8.2</td>\n",
       "      <td>51</td>\n",
       "      <td>6.7</td>\n",
       "      <td>0.0</td>\n",
       "      <td>0.0</td>\n",
       "      <td>0</td>\n",
       "      <td>25</td>\n",
       "      <td>0</td>\n",
       "      <td>1</td>\n",
       "    </tr>\n",
       "    <tr>\n",
       "      <th>1</th>\n",
       "      <td>7</td>\n",
       "      <td>4</td>\n",
       "      <td>10</td>\n",
       "      <td>5</td>\n",
       "      <td>90.6</td>\n",
       "      <td>35.4</td>\n",
       "      <td>669.1</td>\n",
       "      <td>6.7</td>\n",
       "      <td>18.0</td>\n",
       "      <td>33</td>\n",
       "      <td>0.9</td>\n",
       "      <td>0.0</td>\n",
       "      <td>0.0</td>\n",
       "      <td>0</td>\n",
       "      <td>24</td>\n",
       "      <td>1</td>\n",
       "      <td>0</td>\n",
       "    </tr>\n",
       "    <tr>\n",
       "      <th>2</th>\n",
       "      <td>7</td>\n",
       "      <td>4</td>\n",
       "      <td>10</td>\n",
       "      <td>2</td>\n",
       "      <td>90.6</td>\n",
       "      <td>43.7</td>\n",
       "      <td>686.9</td>\n",
       "      <td>6.7</td>\n",
       "      <td>14.6</td>\n",
       "      <td>33</td>\n",
       "      <td>1.3</td>\n",
       "      <td>0.0</td>\n",
       "      <td>0.0</td>\n",
       "      <td>0</td>\n",
       "      <td>24</td>\n",
       "      <td>1</td>\n",
       "      <td>0</td>\n",
       "    </tr>\n",
       "    <tr>\n",
       "      <th>3</th>\n",
       "      <td>8</td>\n",
       "      <td>6</td>\n",
       "      <td>7</td>\n",
       "      <td>0</td>\n",
       "      <td>91.7</td>\n",
       "      <td>33.3</td>\n",
       "      <td>77.5</td>\n",
       "      <td>9.0</td>\n",
       "      <td>8.3</td>\n",
       "      <td>97</td>\n",
       "      <td>4.0</td>\n",
       "      <td>0.2</td>\n",
       "      <td>0.0</td>\n",
       "      <td>0</td>\n",
       "      <td>30</td>\n",
       "      <td>0</td>\n",
       "      <td>1</td>\n",
       "    </tr>\n",
       "    <tr>\n",
       "      <th>4</th>\n",
       "      <td>8</td>\n",
       "      <td>6</td>\n",
       "      <td>7</td>\n",
       "      <td>3</td>\n",
       "      <td>89.3</td>\n",
       "      <td>51.3</td>\n",
       "      <td>102.2</td>\n",
       "      <td>9.6</td>\n",
       "      <td>11.4</td>\n",
       "      <td>99</td>\n",
       "      <td>1.8</td>\n",
       "      <td>0.0</td>\n",
       "      <td>0.0</td>\n",
       "      <td>0</td>\n",
       "      <td>30</td>\n",
       "      <td>0</td>\n",
       "      <td>1</td>\n",
       "    </tr>\n",
       "  </tbody>\n",
       "</table>\n",
       "</div>"
      ],
      "text/plain": [
       "   X  Y  month  day  FFMC   DMC     DC  ISI  temp  RH  wind  rain  area  \\\n",
       "0  7  5      7    0  86.2  26.2   94.3  5.1   8.2  51   6.7   0.0   0.0   \n",
       "1  7  4     10    5  90.6  35.4  669.1  6.7  18.0  33   0.9   0.0   0.0   \n",
       "2  7  4     10    2  90.6  43.7  686.9  6.7  14.6  33   1.3   0.0   0.0   \n",
       "3  8  6      7    0  91.7  33.3   77.5  9.0   8.3  97   4.0   0.2   0.0   \n",
       "4  8  6      7    3  89.3  51.3  102.2  9.6  11.4  99   1.8   0.0   0.0   \n",
       "\n",
       "   area_categorical  location cluster_weather cluster_weather_index  \n",
       "0                 0        25               0                     1  \n",
       "1                 0        24               1                     0  \n",
       "2                 0        24               1                     0  \n",
       "3                 0        30               0                     1  \n",
       "4                 0        30               0                     1  "
      ]
     },
     "execution_count": 24,
     "metadata": {},
     "output_type": "execute_result"
    }
   ],
   "source": [
    "features_index = ['X', 'Y', 'month', 'FFMC', 'DMC', 'DC', 'ISI']\n",
    "\n",
    "kmeans = KMeans(n_clusters=2)\n",
    "data[\"cluster_weather_index\"] = kmeans.fit_predict(data[features_index])\n",
    "data[\"cluster_weather_index\"] = data[\"cluster_weather_index\"].astype(\"category\")\n",
    "\n",
    "data.head()"
   ]
  },
  {
   "cell_type": "code",
   "execution_count": 25,
   "metadata": {},
   "outputs": [],
   "source": [
    "X = data.drop(['X','Y','area_categorical'], axis = 1)\n",
    "y = data['area_categorical']"
   ]
  },
  {
   "cell_type": "code",
   "execution_count": 26,
   "metadata": {},
   "outputs": [],
   "source": [
    "from sklearn.model_selection import train_test_split\n",
    "\n",
    "X_train, X_valid, y_train, y_valid = train_test_split(X, y, \n",
    "                                                      train_size=0.8, \n",
    "                                                      test_size=0.2,\n",
    "                                                      random_state=42)"
   ]
  },
  {
   "cell_type": "code",
   "execution_count": 27,
   "metadata": {},
   "outputs": [
    {
     "name": "stderr",
     "output_type": "stream",
     "text": [
      "/opt/anaconda3/lib/python3.7/site-packages/ipykernel_launcher.py:1: SettingWithCopyWarning: \n",
      "A value is trying to be set on a copy of a slice from a DataFrame.\n",
      "Try using .loc[row_indexer,col_indexer] = value instead\n",
      "\n",
      "See the caveats in the documentation: https://pandas.pydata.org/pandas-docs/stable/user_guide/indexing.html#returning-a-view-versus-a-copy\n",
      "  \"\"\"Entry point for launching an IPython kernel.\n"
     ]
    }
   ],
   "source": [
    "X_train[\"area_weather\"] = X_train.groupby(\"cluster_weather\")[\"area\"].transform(\"max\")\n",
    "\n",
    "# Merge the values into the validation set\n",
    "X_valid = X_valid.merge(\n",
    "    X_train[[\"cluster_weather\", \"area_weather\"]].drop_duplicates(),\n",
    "    on=\"cluster_weather\",\n",
    "    how=\"left\",\n",
    ")"
   ]
  },
  {
   "cell_type": "code",
   "execution_count": 28,
   "metadata": {},
   "outputs": [
    {
     "name": "stderr",
     "output_type": "stream",
     "text": [
      "/opt/anaconda3/lib/python3.7/site-packages/ipykernel_launcher.py:1: SettingWithCopyWarning: \n",
      "A value is trying to be set on a copy of a slice from a DataFrame.\n",
      "Try using .loc[row_indexer,col_indexer] = value instead\n",
      "\n",
      "See the caveats in the documentation: https://pandas.pydata.org/pandas-docs/stable/user_guide/indexing.html#returning-a-view-versus-a-copy\n",
      "  \"\"\"Entry point for launching an IPython kernel.\n"
     ]
    }
   ],
   "source": [
    "X_train[\"area_weather_index\"] = X_train.groupby(\"cluster_weather_index\")[\"area\"].transform(\"max\")\n",
    "\n",
    "# Merge the values into the validation set\n",
    "X_valid = X_valid.merge(\n",
    "    X_train[[\"cluster_weather_index\", \"area_weather_index\"]].drop_duplicates(),\n",
    "    on=\"cluster_weather_index\",\n",
    "    how=\"left\",\n",
    ")"
   ]
  },
  {
   "cell_type": "code",
   "execution_count": 29,
   "metadata": {},
   "outputs": [
    {
     "name": "stderr",
     "output_type": "stream",
     "text": [
      "/opt/anaconda3/lib/python3.7/site-packages/ipykernel_launcher.py:1: SettingWithCopyWarning: \n",
      "A value is trying to be set on a copy of a slice from a DataFrame.\n",
      "Try using .loc[row_indexer,col_indexer] = value instead\n",
      "\n",
      "See the caveats in the documentation: https://pandas.pydata.org/pandas-docs/stable/user_guide/indexing.html#returning-a-view-versus-a-copy\n",
      "  \"\"\"Entry point for launching an IPython kernel.\n"
     ]
    }
   ],
   "source": [
    "X_train[\"area_month_max\"] = X_train.groupby(\"month\")[\"area\"].transform(\"max\")\n",
    "\n",
    "# Merge the values into the validation set\n",
    "X_valid = X_valid.merge(\n",
    "    X_train[[\"month\", \"area_month_max\"]].drop_duplicates(),\n",
    "    on=\"month\",\n",
    "    how=\"left\",\n",
    ")"
   ]
  },
  {
   "cell_type": "code",
   "execution_count": 30,
   "metadata": {},
   "outputs": [],
   "source": [
    "X_train = X_train.drop(['area','day'], axis = 1)\n",
    "X_valid = X_valid.drop(['area','day'], axis = 1)"
   ]
  },
  {
   "cell_type": "code",
   "execution_count": 31,
   "metadata": {},
   "outputs": [
    {
     "data": {
      "text/plain": [
       "Index(['month', 'FFMC', 'DMC', 'DC', 'ISI', 'temp', 'RH', 'wind', 'rain',\n",
       "       'location', 'cluster_weather', 'cluster_weather_index', 'area_weather',\n",
       "       'area_weather_index', 'area_month_max'],\n",
       "      dtype='object')"
      ]
     },
     "execution_count": 31,
     "metadata": {},
     "output_type": "execute_result"
    }
   ],
   "source": [
    "X_train.columns"
   ]
  },
  {
   "cell_type": "code",
   "execution_count": 32,
   "metadata": {},
   "outputs": [
    {
     "data": {
      "text/plain": [
       "array([False, False,  True,  True, False,  True, False, False, False,\n",
       "        True, False, False,  True,  True,  True])"
      ]
     },
     "execution_count": 32,
     "metadata": {},
     "output_type": "execute_result"
    }
   ],
   "source": [
    "from sklearn.feature_selection import SelectKBest\n",
    "from sklearn.feature_selection import chi2\n",
    "\n",
    "threshold = 7\n",
    "\n",
    "skb = SelectKBest(score_func=chi2, k=threshold)\n",
    "sel_skb = skb.fit(X_train, y_train)\n",
    "sel_skb_index = sel_skb.get_support()\n",
    "\n",
    "sel_skb_index"
   ]
  },
  {
   "cell_type": "code",
   "execution_count": 33,
   "metadata": {},
   "outputs": [
    {
     "data": {
      "text/plain": [
       "array([ True, False, False,  True, False,  True,  True, False, False,\n",
       "       False, False, False,  True,  True,  True])"
      ]
     },
     "execution_count": 33,
     "metadata": {},
     "output_type": "execute_result"
    }
   ],
   "source": [
    "from sklearn.feature_selection import SelectKBest\n",
    "from sklearn.feature_selection import chi2\n",
    "\n",
    "threshold = 7\n",
    "\n",
    "skb = SelectKBest(score_func=chi2, k=threshold)\n",
    "sel_skb = skb.fit(X_valid, y_valid)\n",
    "sel_skb_index = sel_skb.get_support()\n",
    "\n",
    "sel_skb_index"
   ]
  },
  {
   "cell_type": "markdown",
   "metadata": {},
   "source": [
    "Selected : DC, temp, area_weather, area_weather_index, area_month_max"
   ]
  },
  {
   "cell_type": "code",
   "execution_count": 34,
   "metadata": {},
   "outputs": [],
   "source": [
    "X_train = X_train[['DC','temp','area_weather','area_weather_index','area_month_max']]\n",
    "X_valid = X_valid[['DC','temp','area_weather','area_weather_index','area_month_max']]"
   ]
  },
  {
   "cell_type": "markdown",
   "metadata": {},
   "source": [
    "### Testing - RF"
   ]
  },
  {
   "cell_type": "code",
   "execution_count": 36,
   "metadata": {},
   "outputs": [
    {
     "data": {
      "text/plain": [
       "RandomForestClassifier(random_state=42)"
      ]
     },
     "execution_count": 36,
     "metadata": {},
     "output_type": "execute_result"
    }
   ],
   "source": [
    "model = RandomForestClassifier(random_state=42)\n",
    "model.fit(X_train, y_train)"
   ]
  },
  {
   "cell_type": "code",
   "execution_count": 37,
   "metadata": {},
   "outputs": [],
   "source": [
    "y_pred = model.predict(X_valid)"
   ]
  },
  {
   "cell_type": "code",
   "execution_count": 38,
   "metadata": {},
   "outputs": [
    {
     "name": "stdout",
     "output_type": "stream",
     "text": [
      "              precision    recall  f1-score   support\n",
      "\n",
      "           0       0.66      0.69      0.67        51\n",
      "           1       0.69      0.66      0.67        53\n",
      "\n",
      "    accuracy                           0.67       104\n",
      "   macro avg       0.67      0.67      0.67       104\n",
      "weighted avg       0.67      0.67      0.67       104\n",
      "\n"
     ]
    }
   ],
   "source": [
    "from sklearn.metrics import classification_report\n",
    "\n",
    "print(classification_report(y_valid, y_pred))"
   ]
  },
  {
   "cell_type": "code",
   "execution_count": 39,
   "metadata": {},
   "outputs": [
    {
     "data": {
      "text/html": [
       "<div>\n",
       "<style scoped>\n",
       "    .dataframe tbody tr th:only-of-type {\n",
       "        vertical-align: middle;\n",
       "    }\n",
       "\n",
       "    .dataframe tbody tr th {\n",
       "        vertical-align: top;\n",
       "    }\n",
       "\n",
       "    .dataframe thead th {\n",
       "        text-align: right;\n",
       "    }\n",
       "</style>\n",
       "<table border=\"1\" class=\"dataframe\">\n",
       "  <thead>\n",
       "    <tr style=\"text-align: right;\">\n",
       "      <th></th>\n",
       "      <th>0</th>\n",
       "      <th>1</th>\n",
       "    </tr>\n",
       "  </thead>\n",
       "  <tbody>\n",
       "    <tr>\n",
       "      <th>0</th>\n",
       "      <td>35</td>\n",
       "      <td>16</td>\n",
       "    </tr>\n",
       "    <tr>\n",
       "      <th>1</th>\n",
       "      <td>18</td>\n",
       "      <td>35</td>\n",
       "    </tr>\n",
       "  </tbody>\n",
       "</table>\n",
       "</div>"
      ],
      "text/plain": [
       "    0   1\n",
       "0  35  16\n",
       "1  18  35"
      ]
     },
     "execution_count": 39,
     "metadata": {},
     "output_type": "execute_result"
    }
   ],
   "source": [
    "from sklearn.metrics import confusion_matrix\n",
    "\n",
    "pd.DataFrame(confusion_matrix(y_valid, y_pred))"
   ]
  },
  {
   "cell_type": "code",
   "execution_count": 40,
   "metadata": {},
   "outputs": [],
   "source": [
    "y_pred_ = model.predict(X_train)"
   ]
  },
  {
   "cell_type": "code",
   "execution_count": 41,
   "metadata": {},
   "outputs": [
    {
     "name": "stdout",
     "output_type": "stream",
     "text": [
      "              precision    recall  f1-score   support\n",
      "\n",
      "           0       0.96      0.97      0.96       196\n",
      "           1       0.97      0.96      0.97       217\n",
      "\n",
      "    accuracy                           0.97       413\n",
      "   macro avg       0.97      0.97      0.97       413\n",
      "weighted avg       0.97      0.97      0.97       413\n",
      "\n"
     ]
    }
   ],
   "source": [
    "from sklearn.metrics import classification_report\n",
    "\n",
    "print(classification_report(y_train, y_pred_))"
   ]
  },
  {
   "cell_type": "code",
   "execution_count": 42,
   "metadata": {},
   "outputs": [
    {
     "data": {
      "text/html": [
       "<div>\n",
       "<style scoped>\n",
       "    .dataframe tbody tr th:only-of-type {\n",
       "        vertical-align: middle;\n",
       "    }\n",
       "\n",
       "    .dataframe tbody tr th {\n",
       "        vertical-align: top;\n",
       "    }\n",
       "\n",
       "    .dataframe thead th {\n",
       "        text-align: right;\n",
       "    }\n",
       "</style>\n",
       "<table border=\"1\" class=\"dataframe\">\n",
       "  <thead>\n",
       "    <tr style=\"text-align: right;\">\n",
       "      <th></th>\n",
       "      <th>0</th>\n",
       "      <th>1</th>\n",
       "    </tr>\n",
       "  </thead>\n",
       "  <tbody>\n",
       "    <tr>\n",
       "      <th>0</th>\n",
       "      <td>190</td>\n",
       "      <td>6</td>\n",
       "    </tr>\n",
       "    <tr>\n",
       "      <th>1</th>\n",
       "      <td>8</td>\n",
       "      <td>209</td>\n",
       "    </tr>\n",
       "  </tbody>\n",
       "</table>\n",
       "</div>"
      ],
      "text/plain": [
       "     0    1\n",
       "0  190    6\n",
       "1    8  209"
      ]
     },
     "execution_count": 42,
     "metadata": {},
     "output_type": "execute_result"
    }
   ],
   "source": [
    "from sklearn.metrics import confusion_matrix\n",
    "\n",
    "pd.DataFrame(confusion_matrix(y_train, y_pred_))"
   ]
  },
  {
   "cell_type": "markdown",
   "metadata": {},
   "source": [
    "---"
   ]
  },
  {
   "cell_type": "markdown",
   "metadata": {},
   "source": [
    "# Neural Network"
   ]
  },
  {
   "cell_type": "code",
   "execution_count": 47,
   "metadata": {},
   "outputs": [],
   "source": [
    "import tensorflow\n",
    "from tensorflow import keras\n",
    "from tensorflow.keras.layers import Dense\n",
    "from tensorflow.keras.models import Sequential\n",
    "from tensorflow.keras.layers import Dropout\n",
    "from tensorflow.keras.callbacks import ModelCheckpoint\n",
    "\n",
    "import keras_tuner as kt"
   ]
  },
  {
   "cell_type": "markdown",
   "metadata": {},
   "source": [
    "## Hyperparameter Tuning"
   ]
  },
  {
   "cell_type": "code",
   "execution_count": 43,
   "metadata": {},
   "outputs": [
    {
     "data": {
      "text/plain": [
       "(413, 5)"
      ]
     },
     "execution_count": 43,
     "metadata": {},
     "output_type": "execute_result"
    }
   ],
   "source": [
    "X_train.shape"
   ]
  },
  {
   "cell_type": "code",
   "execution_count": 446,
   "metadata": {},
   "outputs": [],
   "source": [
    "def model_builder(hp):\n",
    "  model = keras.Sequential()\n",
    "  model.add(Dense(10, input_shape=(5,), activation='relu', kernel_initializer = 'he_uniform'))\n",
    "  model.add(Dropout(rate=0.25))\n",
    "  \n",
    "  hp_units_1 = hp.Int('units_1', min_value=4, max_value=32, step=2)\n",
    "  hp_activation_1 = hp.Choice('dense_activation_1', values=['relu', 'tanh', 'sigmoid'])\n",
    "  model.add(keras.layers.Dense(units=hp_units_1, activation=hp_activation_1, kernel_initializer = 'he_uniform'))\n",
    "  model.add(Dropout(rate=0.25))\n",
    "    \n",
    "  hp_units_2 = hp.Int('units_2', min_value=4, max_value=32, step=2)\n",
    "  hp_activation_2 = hp.Choice('dense_activation_2', values=['relu', 'tanh', 'sigmoid']) \n",
    "  model.add(keras.layers.Dense(units=hp_units_2, activation=hp_activation_2, kernel_initializer = 'he_uniform'))\n",
    "  model.add(Dropout(rate=0.25))\n",
    "    \n",
    "  hp_units_3 = hp.Int('units_3', min_value=4, max_value=32, step=2)\n",
    "  hp_activation_3 = hp.Choice('dense_activation_3', values=['relu', 'tanh', 'sigmoid']) \n",
    "  model.add(keras.layers.Dense(units=hp_units_3, activation=hp_activation_3, kernel_initializer = 'he_uniform'))\n",
    "  model.add(Dropout(rate=0.25))\n",
    "  \n",
    "  hp_units_4 = hp.Int('units_4', min_value=4, max_value=32, step=2)\n",
    "  hp_activation_4 = hp.Choice('dense_activation_4', values=['relu', 'tanh', 'sigmoid']) \n",
    "  model.add(keras.layers.Dense(units=hp_units_4, activation=hp_activation_4, kernel_initializer = 'he_uniform'))\n",
    "  model.add(Dropout(rate=0.25))\n",
    "\n",
    "  hp_units_5 = hp.Int('units_5', min_value=4, max_value=32, step=2)\n",
    "  hp_activation_5 = hp.Choice('dense_activation_5', values=['relu', 'tanh', 'sigmoid']) \n",
    "  model.add(keras.layers.Dense(units=hp_units_5, activation=hp_activation_5, kernel_initializer = 'he_uniform'))\n",
    "  model.add(Dropout(rate=0.25))\n",
    "\n",
    "  model.add(Dense(1, activation='sigmoid'))\n",
    "\n",
    "  model.compile(optimizer='adam',\n",
    "                loss='binary_crossentropy',\n",
    "                metrics=[tensorflow.keras.metrics.AUC()])\n",
    "\n",
    "  return model"
   ]
  },
  {
   "cell_type": "code",
   "execution_count": 447,
   "metadata": {},
   "outputs": [],
   "source": [
    "tuner = kt.Hyperband(model_builder,\n",
    "                     objective=kt.Objective(\"auc\", direction=\"max\"),\n",
    "                     max_epochs=100,\n",
    "                     directory='my_dir_final',\n",
    "                     project_name='intro_to_kt_2')"
   ]
  },
  {
   "cell_type": "code",
   "execution_count": 448,
   "metadata": {},
   "outputs": [],
   "source": [
    "stop_early = tensorflow.keras.callbacks.EarlyStopping(monitor='val_loss', patience=5, mode='min')"
   ]
  },
  {
   "cell_type": "code",
   "execution_count": 449,
   "metadata": {},
   "outputs": [
    {
     "name": "stdout",
     "output_type": "stream",
     "text": [
      "Trial 254 Complete [00h 00m 03s]\n",
      "auc: 0.5322520732879639\n",
      "\n",
      "Best auc So Far: 0.6050955057144165\n",
      "Total elapsed time: 00h 11m 04s\n",
      "INFO:tensorflow:Oracle triggered exit\n"
     ]
    }
   ],
   "source": [
    "tuner.search(X_train, \n",
    "             y_train, \n",
    "             epochs=100, \n",
    "             validation_split=0.2, \n",
    "             callbacks=[stop_early],\n",
    "             batch_size=32)\n",
    "\n",
    "# Get the optimal hyperparameters\n",
    "best_hps=tuner.get_best_hyperparameters(num_trials=5)[0]"
   ]
  },
  {
   "cell_type": "code",
   "execution_count": 450,
   "metadata": {},
   "outputs": [
    {
     "data": {
      "text/plain": [
       "4"
      ]
     },
     "execution_count": 450,
     "metadata": {},
     "output_type": "execute_result"
    }
   ],
   "source": [
    "best_hps.get('units_1')"
   ]
  },
  {
   "cell_type": "code",
   "execution_count": 451,
   "metadata": {},
   "outputs": [
    {
     "data": {
      "text/plain": [
       "'sigmoid'"
      ]
     },
     "execution_count": 451,
     "metadata": {},
     "output_type": "execute_result"
    }
   ],
   "source": [
    "best_hps.get('dense_activation_1')"
   ]
  },
  {
   "cell_type": "code",
   "execution_count": 452,
   "metadata": {},
   "outputs": [
    {
     "data": {
      "text/plain": [
       "14"
      ]
     },
     "execution_count": 452,
     "metadata": {},
     "output_type": "execute_result"
    }
   ],
   "source": [
    "best_hps.get('units_2')"
   ]
  },
  {
   "cell_type": "code",
   "execution_count": 453,
   "metadata": {},
   "outputs": [
    {
     "data": {
      "text/plain": [
       "'tanh'"
      ]
     },
     "execution_count": 453,
     "metadata": {},
     "output_type": "execute_result"
    }
   ],
   "source": [
    "best_hps.get('dense_activa tion_2')"
   ]
  },
  {
   "cell_type": "code",
   "execution_count": 454,
   "metadata": {},
   "outputs": [
    {
     "data": {
      "text/plain": [
       "14"
      ]
     },
     "execution_count": 454,
     "metadata": {},
     "output_type": "execute_result"
    }
   ],
   "source": [
    "best_hps.get('units_3')"
   ]
  },
  {
   "cell_type": "code",
   "execution_count": 455,
   "metadata": {},
   "outputs": [
    {
     "data": {
      "text/plain": [
       "'tanh'"
      ]
     },
     "execution_count": 455,
     "metadata": {},
     "output_type": "execute_result"
    }
   ],
   "source": [
    "best_hps.get('dense_activation_3')"
   ]
  },
  {
   "cell_type": "code",
   "execution_count": 456,
   "metadata": {},
   "outputs": [
    {
     "data": {
      "text/plain": [
       "6"
      ]
     },
     "execution_count": 456,
     "metadata": {},
     "output_type": "execute_result"
    }
   ],
   "source": [
    "best_hps.get('units_4')"
   ]
  },
  {
   "cell_type": "code",
   "execution_count": 457,
   "metadata": {},
   "outputs": [
    {
     "data": {
      "text/plain": [
       "'sigmoid'"
      ]
     },
     "execution_count": 457,
     "metadata": {},
     "output_type": "execute_result"
    }
   ],
   "source": [
    "best_hps.get('dense_activation_4')"
   ]
  },
  {
   "cell_type": "code",
   "execution_count": 458,
   "metadata": {},
   "outputs": [
    {
     "data": {
      "text/plain": [
       "16"
      ]
     },
     "execution_count": 458,
     "metadata": {},
     "output_type": "execute_result"
    }
   ],
   "source": [
    "best_hps.get('units_5')"
   ]
  },
  {
   "cell_type": "code",
   "execution_count": 459,
   "metadata": {},
   "outputs": [
    {
     "data": {
      "text/plain": [
       "'tanh'"
      ]
     },
     "execution_count": 459,
     "metadata": {},
     "output_type": "execute_result"
    }
   ],
   "source": [
    "best_hps.get('dense_activation_5')"
   ]
  },
  {
   "cell_type": "code",
   "execution_count": 470,
   "metadata": {},
   "outputs": [
    {
     "name": "stdout",
     "output_type": "stream",
     "text": [
      "Epoch 1/500\n",
      "11/11 [==============================] - 0s 45ms/step - loss: 0.7621 - auc_3: 0.5047 - val_loss: 0.7549 - val_auc_3: 0.4062\n",
      "Epoch 2/500\n",
      "11/11 [==============================] - 0s 10ms/step - loss: 0.7526 - auc_3: 0.4825 - val_loss: 0.7369 - val_auc_3: 0.4161\n",
      "Epoch 3/500\n",
      "11/11 [==============================] - 0s 4ms/step - loss: 0.7457 - auc_3: 0.4805 - val_loss: 0.7195 - val_auc_3: 0.4298\n",
      "Epoch 4/500\n",
      "11/11 [==============================] - 0s 7ms/step - loss: 0.7255 - auc_3: 0.4927 - val_loss: 0.7145 - val_auc_3: 0.4304\n",
      "Epoch 5/500\n",
      "11/11 [==============================] - 0s 7ms/step - loss: 0.7283 - auc_3: 0.4892 - val_loss: 0.7085 - val_auc_3: 0.4164\n",
      "Epoch 6/500\n",
      "11/11 [==============================] - 0s 9ms/step - loss: 0.7193 - auc_3: 0.5100 - val_loss: 0.7066 - val_auc_3: 0.3980\n",
      "Epoch 7/500\n",
      "11/11 [==============================] - 0s 5ms/step - loss: 0.7203 - auc_3: 0.4895 - val_loss: 0.7020 - val_auc_3: 0.4088\n",
      "Epoch 8/500\n",
      "11/11 [==============================] - 0s 5ms/step - loss: 0.7137 - auc_3: 0.4876 - val_loss: 0.6993 - val_auc_3: 0.4207\n",
      "Epoch 9/500\n",
      "11/11 [==============================] - 0s 9ms/step - loss: 0.7277 - auc_3: 0.4416 - val_loss: 0.6977 - val_auc_3: 0.4365\n",
      "Epoch 10/500\n",
      "11/11 [==============================] - 0s 8ms/step - loss: 0.6915 - auc_3: 0.5531 - val_loss: 0.6974 - val_auc_3: 0.4371\n",
      "Epoch 11/500\n",
      "11/11 [==============================] - 0s 7ms/step - loss: 0.7095 - auc_3: 0.4987 - val_loss: 0.6969 - val_auc_3: 0.4371\n",
      "Epoch 12/500\n",
      "11/11 [==============================] - 0s 6ms/step - loss: 0.7059 - auc_3: 0.5190 - val_loss: 0.6967 - val_auc_3: 0.4371\n",
      "Epoch 13/500\n",
      "11/11 [==============================] - 0s 8ms/step - loss: 0.7104 - auc_3: 0.4846 - val_loss: 0.6964 - val_auc_3: 0.4371\n",
      "Epoch 14/500\n",
      "11/11 [==============================] - 0s 8ms/step - loss: 0.7079 - auc_3: 0.4911 - val_loss: 0.6967 - val_auc_3: 0.4371\n",
      "Epoch 15/500\n",
      "11/11 [==============================] - 0s 6ms/step - loss: 0.6921 - auc_3: 0.5524 - val_loss: 0.6970 - val_auc_3: 0.4318\n",
      "Epoch 16/500\n",
      "11/11 [==============================] - 0s 8ms/step - loss: 0.7114 - auc_3: 0.4825 - val_loss: 0.6970 - val_auc_3: 0.4426\n",
      "Epoch 17/500\n",
      "11/11 [==============================] - 0s 9ms/step - loss: 0.7245 - auc_3: 0.4249 - val_loss: 0.6971 - val_auc_3: 0.4423\n",
      "Epoch 18/500\n",
      "11/11 [==============================] - 0s 6ms/step - loss: 0.6934 - auc_3: 0.5394 - val_loss: 0.6971 - val_auc_3: 0.4272\n",
      "Epoch 19/500\n",
      "11/11 [==============================] - 0s 6ms/step - loss: 0.7131 - auc_3: 0.4738 - val_loss: 0.6970 - val_auc_3: 0.4283\n",
      "Epoch 20/500\n",
      "11/11 [==============================] - 0s 8ms/step - loss: 0.7026 - auc_3: 0.5046 - val_loss: 0.6968 - val_auc_3: 0.4196\n",
      "Epoch 21/500\n",
      "11/11 [==============================] - 0s 6ms/step - loss: 0.7019 - auc_3: 0.4966 - val_loss: 0.6961 - val_auc_3: 0.4242\n",
      "Epoch 22/500\n",
      "11/11 [==============================] - 0s 7ms/step - loss: 0.7035 - auc_3: 0.4910 - val_loss: 0.6960 - val_auc_3: 0.4272\n",
      "Epoch 23/500\n",
      "11/11 [==============================] - 0s 5ms/step - loss: 0.7166 - auc_3: 0.4314 - val_loss: 0.6957 - val_auc_3: 0.4272\n",
      "Epoch 24/500\n",
      "11/11 [==============================] - 0s 6ms/step - loss: 0.6975 - auc_3: 0.5067 - val_loss: 0.6956 - val_auc_3: 0.4272\n",
      "Epoch 25/500\n",
      "11/11 [==============================] - 0s 6ms/step - loss: 0.6957 - auc_3: 0.5299 - val_loss: 0.6958 - val_auc_3: 0.4318\n",
      "Epoch 26/500\n",
      "11/11 [==============================] - 0s 6ms/step - loss: 0.6917 - auc_3: 0.5374 - val_loss: 0.6955 - val_auc_3: 0.4242\n",
      "Epoch 27/500\n",
      "11/11 [==============================] - 0s 8ms/step - loss: 0.7037 - auc_3: 0.4638 - val_loss: 0.6954 - val_auc_3: 0.4242\n",
      "Epoch 28/500\n",
      "11/11 [==============================] - 0s 6ms/step - loss: 0.6883 - auc_3: 0.5600 - val_loss: 0.6953 - val_auc_3: 0.4167\n",
      "Epoch 29/500\n",
      "11/11 [==============================] - 0s 7ms/step - loss: 0.7005 - auc_3: 0.4942 - val_loss: 0.6954 - val_auc_3: 0.4196\n",
      "Epoch 30/500\n",
      "11/11 [==============================] - 0s 7ms/step - loss: 0.6961 - auc_3: 0.5044 - val_loss: 0.6954 - val_auc_3: 0.4196\n",
      "Epoch 31/500\n",
      "11/11 [==============================] - 0s 7ms/step - loss: 0.6976 - auc_3: 0.5112 - val_loss: 0.6957 - val_auc_3: 0.4283\n",
      "Epoch 32/500\n",
      "11/11 [==============================] - 0s 7ms/step - loss: 0.6958 - auc_3: 0.5081 - val_loss: 0.6959 - val_auc_3: 0.4283\n",
      "Epoch 33/500\n",
      "11/11 [==============================] - 0s 6ms/step - loss: 0.6962 - auc_3: 0.5189 - val_loss: 0.6958 - val_auc_3: 0.4283\n",
      "Epoch 34/500\n",
      "11/11 [==============================] - 0s 7ms/step - loss: 0.6965 - auc_3: 0.5072 - val_loss: 0.6957 - val_auc_3: 0.4280\n",
      "Epoch 35/500\n",
      "11/11 [==============================] - 0s 7ms/step - loss: 0.7003 - auc_3: 0.4807 - val_loss: 0.6960 - val_auc_3: 0.4245\n",
      "Epoch 36/500\n",
      "11/11 [==============================] - 0s 7ms/step - loss: 0.7003 - auc_3: 0.5042 - val_loss: 0.6955 - val_auc_3: 0.4280\n",
      "Epoch 37/500\n",
      "11/11 [==============================] - 0s 8ms/step - loss: 0.6964 - auc_3: 0.4908 - val_loss: 0.6960 - val_auc_3: 0.4312\n",
      "Epoch 38/500\n",
      "11/11 [==============================] - 0s 7ms/step - loss: 0.7056 - auc_3: 0.4548 - val_loss: 0.6958 - val_auc_3: 0.4280\n",
      "Epoch 39/500\n",
      "11/11 [==============================] - 0s 7ms/step - loss: 0.6887 - auc_3: 0.5311 - val_loss: 0.6964 - val_auc_3: 0.4336\n",
      "Epoch 40/500\n",
      "11/11 [==============================] - 0s 7ms/step - loss: 0.7025 - auc_3: 0.4944 - val_loss: 0.6967 - val_auc_3: 0.4155\n",
      "Epoch 41/500\n",
      "11/11 [==============================] - 0s 8ms/step - loss: 0.7008 - auc_3: 0.4737 - val_loss: 0.6966 - val_auc_3: 0.4242\n",
      "Epoch 42/500\n",
      "11/11 [==============================] - 0s 8ms/step - loss: 0.6919 - auc_3: 0.5226 - val_loss: 0.6966 - val_auc_3: 0.4245\n",
      "Epoch 43/500\n",
      "11/11 [==============================] - 0s 6ms/step - loss: 0.6981 - auc_3: 0.4946 - val_loss: 0.6964 - val_auc_3: 0.4242\n",
      "Epoch 44/500\n",
      "11/11 [==============================] - 0s 7ms/step - loss: 0.6874 - auc_3: 0.5728 - val_loss: 0.6964 - val_auc_3: 0.4242\n",
      "Epoch 45/500\n",
      "11/11 [==============================] - 0s 8ms/step - loss: 0.6925 - auc_3: 0.5282 - val_loss: 0.6957 - val_auc_3: 0.4283\n",
      "Epoch 46/500\n",
      "11/11 [==============================] - 0s 6ms/step - loss: 0.6911 - auc_3: 0.5449 - val_loss: 0.6957 - val_auc_3: 0.4347\n",
      "Epoch 47/500\n",
      "11/11 [==============================] - 0s 8ms/step - loss: 0.7016 - auc_3: 0.4693 - val_loss: 0.6956 - val_auc_3: 0.4283\n",
      "Epoch 48/500\n",
      "11/11 [==============================] - 0s 8ms/step - loss: 0.6948 - auc_3: 0.5149 - val_loss: 0.6954 - val_auc_3: 0.4312\n",
      "Epoch 49/500\n",
      "11/11 [==============================] - 0s 6ms/step - loss: 0.6934 - auc_3: 0.5147 - val_loss: 0.6954 - val_auc_3: 0.4283\n",
      "Epoch 50/500\n",
      "11/11 [==============================] - 0s 8ms/step - loss: 0.6960 - auc_3: 0.5128 - val_loss: 0.6956 - val_auc_3: 0.4347\n",
      "Epoch 51/500\n",
      "11/11 [==============================] - 0s 6ms/step - loss: 0.6932 - auc_3: 0.5085 - val_loss: 0.6956 - val_auc_3: 0.4350\n",
      "Epoch 52/500\n",
      "11/11 [==============================] - 0s 6ms/step - loss: 0.6918 - auc_3: 0.5061 - val_loss: 0.6956 - val_auc_3: 0.4423\n",
      "Epoch 53/500\n",
      "11/11 [==============================] - 0s 6ms/step - loss: 0.7053 - auc_3: 0.4546 - val_loss: 0.6955 - val_auc_3: 0.4499\n",
      "Epoch 54/500\n",
      "11/11 [==============================] - 0s 5ms/step - loss: 0.6955 - auc_3: 0.4907 - val_loss: 0.6951 - val_auc_3: 0.4650\n",
      "Epoch 55/500\n",
      "11/11 [==============================] - 0s 6ms/step - loss: 0.7020 - auc_3: 0.4720 - val_loss: 0.6949 - val_auc_3: 0.4578\n",
      "Epoch 56/500\n",
      "11/11 [==============================] - 0s 7ms/step - loss: 0.7033 - auc_3: 0.4696 - val_loss: 0.6948 - val_auc_3: 0.4575\n",
      "Epoch 57/500\n",
      "11/11 [==============================] - 0s 6ms/step - loss: 0.6917 - auc_3: 0.5249 - val_loss: 0.6934 - val_auc_3: 0.4991\n",
      "Epoch 58/500\n",
      "11/11 [==============================] - 0s 7ms/step - loss: 0.7019 - auc_3: 0.4655 - val_loss: 0.6928 - val_auc_3: 0.5020\n",
      "Epoch 59/500\n",
      "11/11 [==============================] - 0s 5ms/step - loss: 0.6897 - auc_3: 0.5406 - val_loss: 0.6927 - val_auc_3: 0.5020\n",
      "Epoch 60/500\n",
      "11/11 [==============================] - 0s 10ms/step - loss: 0.6879 - auc_3: 0.5532 - val_loss: 0.6927 - val_auc_3: 0.5087\n",
      "Epoch 61/500\n"
     ]
    },
    {
     "name": "stdout",
     "output_type": "stream",
     "text": [
      "11/11 [==============================] - 0s 7ms/step - loss: 0.6906 - auc_3: 0.5270 - val_loss: 0.6929 - val_auc_3: 0.5000\n",
      "Epoch 62/500\n",
      "11/11 [==============================] - 0s 8ms/step - loss: 0.6962 - auc_3: 0.4966 - val_loss: 0.6930 - val_auc_3: 0.5006\n",
      "Epoch 63/500\n",
      "11/11 [==============================] - 0s 7ms/step - loss: 0.6835 - auc_3: 0.5813 - val_loss: 0.6930 - val_auc_3: 0.5035\n",
      "Epoch 64/500\n",
      "11/11 [==============================] - 0s 7ms/step - loss: 0.6929 - auc_3: 0.5149 - val_loss: 0.6930 - val_auc_3: 0.5035\n",
      "Epoch 65/500\n",
      "11/11 [==============================] - 0s 7ms/step - loss: 0.6979 - auc_3: 0.4788 - val_loss: 0.6926 - val_auc_3: 0.5102\n",
      "Epoch 66/500\n",
      "11/11 [==============================] - 0s 7ms/step - loss: 0.6929 - auc_3: 0.5254 - val_loss: 0.6927 - val_auc_3: 0.5067\n",
      "Epoch 67/500\n",
      "11/11 [==============================] - 0s 6ms/step - loss: 0.6839 - auc_3: 0.5817 - val_loss: 0.6928 - val_auc_3: 0.5067\n",
      "Epoch 68/500\n",
      "11/11 [==============================] - 0s 7ms/step - loss: 0.6994 - auc_3: 0.4720 - val_loss: 0.6929 - val_auc_3: 0.5044\n",
      "Epoch 69/500\n",
      "11/11 [==============================] - 0s 6ms/step - loss: 0.6982 - auc_3: 0.4898 - val_loss: 0.6930 - val_auc_3: 0.5044\n",
      "Epoch 70/500\n",
      "11/11 [==============================] - 0s 6ms/step - loss: 0.6950 - auc_3: 0.4818 - val_loss: 0.6929 - val_auc_3: 0.5044\n",
      "Epoch 71/500\n",
      "11/11 [==============================] - 0s 10ms/step - loss: 0.6893 - auc_3: 0.5369 - val_loss: 0.6929 - val_auc_3: 0.5044\n",
      "Epoch 72/500\n",
      "11/11 [==============================] - 0s 8ms/step - loss: 0.6960 - auc_3: 0.4847 - val_loss: 0.6931 - val_auc_3: 0.5044\n",
      "Epoch 73/500\n",
      "11/11 [==============================] - 0s 7ms/step - loss: 0.6972 - auc_3: 0.4682 - val_loss: 0.6932 - val_auc_3: 0.4910\n",
      "Epoch 74/500\n",
      "11/11 [==============================] - 0s 8ms/step - loss: 0.6896 - auc_3: 0.5478 - val_loss: 0.6928 - val_auc_3: 0.5146\n",
      "Epoch 75/500\n",
      "11/11 [==============================] - 0s 10ms/step - loss: 0.6966 - auc_3: 0.4782 - val_loss: 0.6928 - val_auc_3: 0.5111\n",
      "Epoch 76/500\n",
      "11/11 [==============================] - 0s 9ms/step - loss: 0.6928 - auc_3: 0.5031 - val_loss: 0.6927 - val_auc_3: 0.4933\n",
      "Epoch 77/500\n",
      "11/11 [==============================] - 0s 7ms/step - loss: 0.6929 - auc_3: 0.4993 - val_loss: 0.6935 - val_auc_3: 0.4901\n",
      "Epoch 78/500\n",
      "11/11 [==============================] - 0s 9ms/step - loss: 0.6992 - auc_3: 0.4763 - val_loss: 0.6934 - val_auc_3: 0.4901\n",
      "Epoch 79/500\n",
      "11/11 [==============================] - 0s 7ms/step - loss: 0.6946 - auc_3: 0.4992 - val_loss: 0.6934 - val_auc_3: 0.4857\n",
      "Epoch 80/500\n",
      "11/11 [==============================] - 0s 9ms/step - loss: 0.6915 - auc_3: 0.5341 - val_loss: 0.6932 - val_auc_3: 0.4872\n",
      "Epoch 81/500\n",
      "11/11 [==============================] - 0s 8ms/step - loss: 0.6965 - auc_3: 0.4803 - val_loss: 0.6931 - val_auc_3: 0.4872\n",
      "Epoch 82/500\n",
      "11/11 [==============================] - 0s 8ms/step - loss: 0.6909 - auc_3: 0.5313 - val_loss: 0.6931 - val_auc_3: 0.4872\n",
      "Epoch 83/500\n",
      "11/11 [==============================] - 0s 7ms/step - loss: 0.6939 - auc_3: 0.4960 - val_loss: 0.6934 - val_auc_3: 0.4872\n",
      "Epoch 84/500\n",
      "11/11 [==============================] - 0s 7ms/step - loss: 0.6929 - auc_3: 0.5273 - val_loss: 0.6939 - val_auc_3: 0.4773\n",
      "Epoch 85/500\n",
      "11/11 [==============================] - 0s 8ms/step - loss: 0.6917 - auc_3: 0.5217 - val_loss: 0.6939 - val_auc_3: 0.4513\n",
      "Epoch 86/500\n",
      "11/11 [==============================] - 0s 9ms/step - loss: 0.6909 - auc_3: 0.5292 - val_loss: 0.6936 - val_auc_3: 0.4700\n",
      "Epoch 87/500\n",
      "11/11 [==============================] - 0s 5ms/step - loss: 0.6941 - auc_3: 0.4917 - val_loss: 0.6935 - val_auc_3: 0.4811\n",
      "Epoch 88/500\n",
      "11/11 [==============================] - 0s 7ms/step - loss: 0.6915 - auc_3: 0.5281 - val_loss: 0.6930 - val_auc_3: 0.4872\n",
      "Epoch 89/500\n",
      "11/11 [==============================] - 0s 15ms/step - loss: 0.6932 - auc_3: 0.5336 - val_loss: 0.6927 - val_auc_3: 0.4886\n",
      "Epoch 90/500\n",
      "11/11 [==============================] - 0s 7ms/step - loss: 0.6955 - auc_3: 0.4808 - val_loss: 0.6925 - val_auc_3: 0.4997\n",
      "Epoch 91/500\n",
      "11/11 [==============================] - 0s 6ms/step - loss: 0.6944 - auc_3: 0.4932 - val_loss: 0.6925 - val_auc_3: 0.5020\n",
      "Epoch 92/500\n",
      "11/11 [==============================] - 0s 8ms/step - loss: 0.6924 - auc_3: 0.5047 - val_loss: 0.6924 - val_auc_3: 0.5006\n",
      "Epoch 93/500\n",
      "11/11 [==============================] - 0s 7ms/step - loss: 0.6921 - auc_3: 0.5248 - val_loss: 0.6924 - val_auc_3: 0.4983\n",
      "Epoch 94/500\n",
      "11/11 [==============================] - 0s 7ms/step - loss: 0.6941 - auc_3: 0.5028 - val_loss: 0.6924 - val_auc_3: 0.5117\n",
      "Epoch 95/500\n",
      "11/11 [==============================] - 0s 7ms/step - loss: 0.6927 - auc_3: 0.5104 - val_loss: 0.6923 - val_auc_3: 0.4997\n",
      "Epoch 96/500\n",
      "11/11 [==============================] - 0s 6ms/step - loss: 0.6920 - auc_3: 0.5239 - val_loss: 0.6922 - val_auc_3: 0.4997\n",
      "Epoch 97/500\n",
      "11/11 [==============================] - 0s 5ms/step - loss: 0.6922 - auc_3: 0.5078 - val_loss: 0.6923 - val_auc_3: 0.5131\n",
      "Epoch 98/500\n",
      "11/11 [==============================] - 0s 8ms/step - loss: 0.6955 - auc_3: 0.4864 - val_loss: 0.6919 - val_auc_3: 0.5210\n",
      "Epoch 99/500\n",
      "11/11 [==============================] - 0s 5ms/step - loss: 0.6876 - auc_3: 0.5510 - val_loss: 0.6923 - val_auc_3: 0.5146\n",
      "Epoch 100/500\n",
      "11/11 [==============================] - 0s 6ms/step - loss: 0.6941 - auc_3: 0.5049 - val_loss: 0.6922 - val_auc_3: 0.5055\n",
      "Epoch 101/500\n",
      "11/11 [==============================] - 1s 47ms/step - loss: 0.6971 - auc_3: 0.4499 - val_loss: 0.6921 - val_auc_3: 0.5122\n",
      "Epoch 102/500\n",
      "11/11 [==============================] - 0s 10ms/step - loss: 0.6892 - auc_3: 0.5198 - val_loss: 0.6921 - val_auc_3: 0.5122\n",
      "Epoch 103/500\n",
      "11/11 [==============================] - 0s 10ms/step - loss: 0.6970 - auc_3: 0.4830 - val_loss: 0.6921 - val_auc_3: 0.5169\n",
      "Epoch 104/500\n",
      "11/11 [==============================] - 0s 5ms/step - loss: 0.6945 - auc_3: 0.5083 - val_loss: 0.6921 - val_auc_3: 0.5169\n",
      "Epoch 105/500\n",
      "11/11 [==============================] - 0s 5ms/step - loss: 0.6920 - auc_3: 0.4860 - val_loss: 0.6921 - val_auc_3: 0.5169\n",
      "Epoch 106/500\n",
      "11/11 [==============================] - 0s 6ms/step - loss: 0.6921 - auc_3: 0.5164 - val_loss: 0.6922 - val_auc_3: 0.5169\n",
      "Epoch 107/500\n",
      "11/11 [==============================] - 0s 6ms/step - loss: 0.6909 - auc_3: 0.5078 - val_loss: 0.6922 - val_auc_3: 0.5090\n",
      "Epoch 108/500\n",
      "11/11 [==============================] - 0s 7ms/step - loss: 0.6967 - auc_3: 0.4541 - val_loss: 0.6922 - val_auc_3: 0.5012\n",
      "Epoch 109/500\n",
      "11/11 [==============================] - 0s 8ms/step - loss: 0.7002 - auc_3: 0.4366 - val_loss: 0.6922 - val_auc_3: 0.5012\n",
      "Epoch 110/500\n",
      "11/11 [==============================] - 0s 6ms/step - loss: 0.6923 - auc_3: 0.4995 - val_loss: 0.6922 - val_auc_3: 0.5090\n",
      "Epoch 111/500\n",
      "11/11 [==============================] - 0s 11ms/step - loss: 0.6892 - auc_3: 0.5519 - val_loss: 0.6922 - val_auc_3: 0.5169\n",
      "Epoch 112/500\n",
      "11/11 [==============================] - 0s 10ms/step - loss: 0.6887 - auc_3: 0.5296 - val_loss: 0.6922 - val_auc_3: 0.5169\n",
      "Epoch 113/500\n",
      "11/11 [==============================] - 0s 9ms/step - loss: 0.6873 - auc_3: 0.5646 - val_loss: 0.6922 - val_auc_3: 0.5169\n",
      "Epoch 114/500\n",
      "11/11 [==============================] - 0s 5ms/step - loss: 0.6972 - auc_3: 0.4749 - val_loss: 0.6922 - val_auc_3: 0.5157\n",
      "Epoch 115/500\n",
      "11/11 [==============================] - 0s 5ms/step - loss: 0.6929 - auc_3: 0.5229 - val_loss: 0.6922 - val_auc_3: 0.5012\n",
      "Epoch 116/500\n",
      "11/11 [==============================] - 0s 6ms/step - loss: 0.6914 - auc_3: 0.5194 - val_loss: 0.6922 - val_auc_3: 0.5012\n",
      "Epoch 117/500\n",
      "11/11 [==============================] - 0s 8ms/step - loss: 0.6889 - auc_3: 0.5555 - val_loss: 0.6922 - val_auc_3: 0.5122\n",
      "Epoch 118/500\n",
      "11/11 [==============================] - 0s 6ms/step - loss: 0.6899 - auc_3: 0.5420 - val_loss: 0.6921 - val_auc_3: 0.5134\n",
      "Epoch 119/500\n",
      "11/11 [==============================] - 0s 5ms/step - loss: 0.6918 - auc_3: 0.4992 - val_loss: 0.6921 - val_auc_3: 0.5181\n",
      "Epoch 120/500\n",
      "11/11 [==============================] - 0s 6ms/step - loss: 0.6899 - auc_3: 0.5440 - val_loss: 0.6921 - val_auc_3: 0.5181\n",
      "Epoch 121/500\n"
     ]
    },
    {
     "name": "stdout",
     "output_type": "stream",
     "text": [
      "11/11 [==============================] - 0s 11ms/step - loss: 0.6968 - auc_3: 0.4560 - val_loss: 0.6921 - val_auc_3: 0.5181\n",
      "Epoch 122/500\n",
      "11/11 [==============================] - 0s 9ms/step - loss: 0.6924 - auc_3: 0.4947 - val_loss: 0.6919 - val_auc_3: 0.5192\n",
      "Epoch 123/500\n",
      "11/11 [==============================] - 0s 8ms/step - loss: 0.6943 - auc_3: 0.5135 - val_loss: 0.6919 - val_auc_3: 0.5192\n",
      "Epoch 124/500\n",
      "11/11 [==============================] - 0s 6ms/step - loss: 0.6921 - auc_3: 0.5183 - val_loss: 0.6920 - val_auc_3: 0.5192\n",
      "Epoch 125/500\n",
      "11/11 [==============================] - 0s 12ms/step - loss: 0.6966 - auc_3: 0.4784 - val_loss: 0.6921 - val_auc_3: 0.5169\n",
      "Epoch 126/500\n",
      "11/11 [==============================] - 0s 9ms/step - loss: 0.6962 - auc_3: 0.4698 - val_loss: 0.6921 - val_auc_3: 0.5169\n",
      "Epoch 127/500\n",
      "11/11 [==============================] - 0s 8ms/step - loss: 0.6922 - auc_3: 0.5048 - val_loss: 0.6921 - val_auc_3: 0.5169\n",
      "Epoch 128/500\n",
      "11/11 [==============================] - 0s 24ms/step - loss: 0.6923 - auc_3: 0.5197 - val_loss: 0.6920 - val_auc_3: 0.5146\n",
      "Epoch 129/500\n",
      "11/11 [==============================] - 0s 11ms/step - loss: 0.6958 - auc_3: 0.4551 - val_loss: 0.6919 - val_auc_3: 0.5251\n",
      "Epoch 130/500\n",
      "11/11 [==============================] - 0s 12ms/step - loss: 0.6959 - auc_3: 0.4640 - val_loss: 0.6920 - val_auc_3: 0.5405\n",
      "Epoch 131/500\n",
      "11/11 [==============================] - 0s 10ms/step - loss: 0.6912 - auc_3: 0.5121 - val_loss: 0.6919 - val_auc_3: 0.5192\n",
      "Epoch 132/500\n",
      "11/11 [==============================] - 0s 9ms/step - loss: 0.6939 - auc_3: 0.4874 - val_loss: 0.6922 - val_auc_3: 0.5111\n",
      "Epoch 133/500\n",
      "11/11 [==============================] - 0s 11ms/step - loss: 0.6919 - auc_3: 0.5144 - val_loss: 0.6920 - val_auc_3: 0.5221\n",
      "Epoch 134/500\n",
      "11/11 [==============================] - 0s 15ms/step - loss: 0.6860 - auc_3: 0.5793 - val_loss: 0.6921 - val_auc_3: 0.5163\n",
      "Epoch 135/500\n",
      "11/11 [==============================] - 0s 11ms/step - loss: 0.6922 - auc_3: 0.5152 - val_loss: 0.6921 - val_auc_3: 0.5163\n",
      "Epoch 136/500\n",
      "11/11 [==============================] - 0s 13ms/step - loss: 0.6925 - auc_3: 0.5232 - val_loss: 0.6920 - val_auc_3: 0.5175\n",
      "Epoch 137/500\n",
      "11/11 [==============================] - 0s 8ms/step - loss: 0.6885 - auc_3: 0.5538 - val_loss: 0.6921 - val_auc_3: 0.5163\n",
      "Epoch 138/500\n",
      "11/11 [==============================] - 0s 6ms/step - loss: 0.6942 - auc_3: 0.4934 - val_loss: 0.6922 - val_auc_3: 0.5163\n",
      "Epoch 139/500\n",
      "11/11 [==============================] - 0s 8ms/step - loss: 0.6939 - auc_3: 0.4926 - val_loss: 0.6921 - val_auc_3: 0.5163\n",
      "Epoch 140/500\n",
      "11/11 [==============================] - 0s 6ms/step - loss: 0.6936 - auc_3: 0.4866 - val_loss: 0.6921 - val_auc_3: 0.5163\n",
      "Epoch 141/500\n",
      "11/11 [==============================] - 0s 6ms/step - loss: 0.6942 - auc_3: 0.4769 - val_loss: 0.6921 - val_auc_3: 0.5163\n",
      "Epoch 142/500\n",
      "11/11 [==============================] - 0s 6ms/step - loss: 0.6934 - auc_3: 0.4975 - val_loss: 0.6921 - val_auc_3: 0.5023\n",
      "Epoch 143/500\n",
      "11/11 [==============================] - 0s 8ms/step - loss: 0.6910 - auc_3: 0.5064 - val_loss: 0.6921 - val_auc_3: 0.5023\n",
      "Epoch 144/500\n",
      "11/11 [==============================] - 0s 6ms/step - loss: 0.6936 - auc_3: 0.4816 - val_loss: 0.6920 - val_auc_3: 0.5023\n",
      "Epoch 145/500\n",
      "11/11 [==============================] - 0s 6ms/step - loss: 0.6906 - auc_3: 0.5220 - val_loss: 0.6921 - val_auc_3: 0.5023\n",
      "Epoch 146/500\n",
      "11/11 [==============================] - 0s 6ms/step - loss: 0.6938 - auc_3: 0.4905 - val_loss: 0.6921 - val_auc_3: 0.5023\n",
      "Epoch 147/500\n",
      "11/11 [==============================] - 0s 7ms/step - loss: 0.6962 - auc_3: 0.4916 - val_loss: 0.6921 - val_auc_3: 0.5023\n",
      "Epoch 148/500\n",
      "11/11 [==============================] - 0s 8ms/step - loss: 0.6919 - auc_3: 0.5014 - val_loss: 0.6921 - val_auc_3: 0.5163\n"
     ]
    }
   ],
   "source": [
    "# Define Model\n",
    "\n",
    "model = Sequential()\n",
    "\n",
    "model.add(Dense(10, input_shape=(5,), activation='relu', kernel_initializer = 'he_uniform'))\n",
    "model.add(Dropout(rate=0.25))\n",
    "\n",
    "model.add(Dense(4, activation='sigmoid', kernel_initializer = 'he_uniform'))\n",
    "model.add(Dropout(rate=0.25))\n",
    "\n",
    "model.add(Dense(14, activation='tanh', kernel_initializer = 'he_uniform'))\n",
    "model.add(Dropout(rate=0.25))\n",
    "\n",
    "model.add(Dense(14, activation='tanh', kernel_initializer = 'he_uniform'))\n",
    "model.add(Dropout(rate=0.25))\n",
    "\n",
    "model.add(Dense(16, activation='tanh', kernel_initializer = 'he_uniform'))\n",
    "model.add(Dropout(rate=0.25))\n",
    "\n",
    "model.add(Dense(6, activation='sigmoid', kernel_initializer = 'he_uniform'))\n",
    "model.add(Dropout(rate=0.25))\n",
    "\n",
    "model.add(Dense(1, activation='sigmoid'))\n",
    "\n",
    "# Compile model\n",
    "model.compile(loss='binary_crossentropy', \n",
    "              optimizer='adam', \n",
    "              metrics=[tensorflow.keras.metrics.AUC()])\n",
    "    \n",
    "stop_early = tensorflow.keras.callbacks.EarlyStopping(monitor='val_loss', patience=50, mode='min')\n",
    "\n",
    "# Fit model\n",
    "history = model.fit(X_train, \n",
    "                    y_train, \n",
    "                    validation_split=0.2,\n",
    "                    epochs=500,\n",
    "                    callbacks=[stop_early],\n",
    "                    batch_size=32)"
   ]
  },
  {
   "cell_type": "code",
   "execution_count": 471,
   "metadata": {},
   "outputs": [],
   "source": [
    "y_pred = model.predict_classes(X_valid)"
   ]
  },
  {
   "cell_type": "code",
   "execution_count": 472,
   "metadata": {},
   "outputs": [
    {
     "name": "stdout",
     "output_type": "stream",
     "text": [
      "              precision    recall  f1-score   support\n",
      "\n",
      "           0       0.00      0.00      0.00        51\n",
      "           1       0.51      1.00      0.68        53\n",
      "\n",
      "    accuracy                           0.51       104\n",
      "   macro avg       0.25      0.50      0.34       104\n",
      "weighted avg       0.26      0.51      0.34       104\n",
      "\n"
     ]
    },
    {
     "name": "stderr",
     "output_type": "stream",
     "text": [
      "/opt/anaconda3/lib/python3.7/site-packages/sklearn/metrics/_classification.py:1221: UndefinedMetricWarning: Precision and F-score are ill-defined and being set to 0.0 in labels with no predicted samples. Use `zero_division` parameter to control this behavior.\n",
      "  _warn_prf(average, modifier, msg_start, len(result))\n"
     ]
    }
   ],
   "source": [
    "from sklearn.metrics import classification_report\n",
    "\n",
    "print(classification_report(y_valid, y_pred))"
   ]
  },
  {
   "cell_type": "code",
   "execution_count": 473,
   "metadata": {},
   "outputs": [
    {
     "data": {
      "text/html": [
       "<div>\n",
       "<style scoped>\n",
       "    .dataframe tbody tr th:only-of-type {\n",
       "        vertical-align: middle;\n",
       "    }\n",
       "\n",
       "    .dataframe tbody tr th {\n",
       "        vertical-align: top;\n",
       "    }\n",
       "\n",
       "    .dataframe thead th {\n",
       "        text-align: right;\n",
       "    }\n",
       "</style>\n",
       "<table border=\"1\" class=\"dataframe\">\n",
       "  <thead>\n",
       "    <tr style=\"text-align: right;\">\n",
       "      <th></th>\n",
       "      <th>0</th>\n",
       "      <th>1</th>\n",
       "    </tr>\n",
       "  </thead>\n",
       "  <tbody>\n",
       "    <tr>\n",
       "      <th>0</th>\n",
       "      <td>0</td>\n",
       "      <td>51</td>\n",
       "    </tr>\n",
       "    <tr>\n",
       "      <th>1</th>\n",
       "      <td>0</td>\n",
       "      <td>53</td>\n",
       "    </tr>\n",
       "  </tbody>\n",
       "</table>\n",
       "</div>"
      ],
      "text/plain": [
       "   0   1\n",
       "0  0  51\n",
       "1  0  53"
      ]
     },
     "execution_count": 473,
     "metadata": {},
     "output_type": "execute_result"
    }
   ],
   "source": [
    "from sklearn.metrics import confusion_matrix\n",
    "\n",
    "pd.DataFrame(confusion_matrix(y_valid, y_pred))"
   ]
  },
  {
   "cell_type": "code",
   "execution_count": 474,
   "metadata": {},
   "outputs": [
    {
     "data": {
      "image/png": "[encoded data removed]",
      "text/plain": [
       "<Figure size 432x288 with 1 Axes>"
      ]
     },
     "metadata": {
      "needs_background": "light"
     },
     "output_type": "display_data"
    }
   ],
   "source": [
    "plt.plot(history.history['loss'])\n",
    "plt.plot(history.history['val_loss'])\n",
    "plt.ylabel('Loss')\n",
    "plt.xlabel('Epoch')\n",
    "plt.legend(['Train', 'Validation'], loc='upper right')\n",
    "plt.show()"
   ]
  },
  {
   "cell_type": "code",
   "execution_count": 557,
   "metadata": {},
   "outputs": [],
   "source": [
    "def fit_model(X_train, y_train, X_valid, y_valid, n_batch):\n",
    "\n",
    "    model = Sequential()\n",
    "\n",
    "    model.add(Dense(10, input_shape=(5,), activation='relu', kernel_initializer = 'he_uniform'))\n",
    "    model.add(Dropout(rate=0.25))\n",
    "\n",
    "    model.add(Dense(14, activation='tanh', kernel_initializer = 'he_uniform'))\n",
    "    model.add(Dropout(rate=0.25))\n",
    "    \n",
    "    model.add(Dense(14, activation='tanh', kernel_initializer = 'he_uniform'))\n",
    "    model.add(Dropout(rate=0.25))\n",
    "    \n",
    "    model.add(Dense(14, activation='tanh', kernel_initializer = 'he_uniform'))\n",
    "    model.add(Dropout(rate=0.25))\n",
    "\n",
    "    model.add(Dense(1, activation='sigmoid'))\n",
    "\n",
    "    # Compile model\n",
    "    model.compile(loss='binary_crossentropy', \n",
    "              optimizer='adam', \n",
    "              metrics=[tensorflow.keras.metrics.AUC()])\n",
    "    \n",
    "    stop_early = tensorflow.keras.callbacks.EarlyStopping(monitor='val_loss', patience=50, mode='min')\n",
    "\n",
    "    # Fit model\n",
    "    history = model.fit(X_train, \n",
    "                    y_train, \n",
    "                    validation_split=0.2,\n",
    "                    epochs=1000,\n",
    "                    callbacks=[stop_early],\n",
    "                    batch_size=n_batch,\n",
    "                    verbose=0)\n",
    "    \n",
    "    plt.plot(history.history['loss'])\n",
    "    plt.plot(history.history['val_loss'])\n",
    "    plt.title('batch='+str(n_batch))\n",
    "    plt.ylabel('Loss')\n",
    "    plt.xlabel('Epoch')\n",
    "    plt.legend(['Train', 'Validation'], loc='upper right')"
   ]
  },
  {
   "cell_type": "code",
   "execution_count": 558,
   "metadata": {},
   "outputs": [
    {
     "data": {
      "image/png": "[encoded data removed]",
      "text/plain": [
       "<Figure size 1440x1440 with 7 Axes>"
      ]
     },
     "metadata": {
      "needs_background": "light"
     },
     "output_type": "display_data"
    }
   ],
   "source": [
    "# create learning curves for different batch sizes\n",
    "batch_sizes = [4, 8, 16, 32, 64, 128, 256]\n",
    "\n",
    "plt.figure(figsize=(20, 20))\n",
    "\n",
    "for i in range(len(batch_sizes)):\n",
    "    plot_no = 420 + (i+1)\n",
    "    plt.subplot(plot_no)\n",
    "    \n",
    "    fit_model(X_train, y_train, X_valid, y_valid, batch_sizes[i])\n",
    "plt.show()"
   ]
  },
  {
   "cell_type": "code",
   "execution_count": 620,
   "metadata": {},
   "outputs": [
    {
     "name": "stdout",
     "output_type": "stream",
     "text": [
      "Epoch 1/1000\n",
      "52/52 [==============================] - 1s 10ms/step - loss: 0.8496 - auc_72: 0.4714 - val_loss: 0.7878 - val_auc_72: 0.4430\n",
      "Epoch 2/1000\n",
      "52/52 [==============================] - 0s 3ms/step - loss: 0.8254 - auc_72: 0.4228 - val_loss: 0.7469 - val_auc_72: 0.4504\n",
      "Epoch 3/1000\n",
      "52/52 [==============================] - 0s 3ms/step - loss: 0.7525 - auc_72: 0.5146 - val_loss: 0.7301 - val_auc_72: 0.4837\n",
      "Epoch 4/1000\n",
      "52/52 [==============================] - 0s 2ms/step - loss: 0.7713 - auc_72: 0.4401 - val_loss: 0.7080 - val_auc_72: 0.4917\n",
      "Epoch 5/1000\n",
      "52/52 [==============================] - 0s 2ms/step - loss: 0.7279 - auc_72: 0.5133 - val_loss: 0.7100 - val_auc_72: 0.4587\n",
      "Epoch 6/1000\n",
      "52/52 [==============================] - 0s 3ms/step - loss: 0.7047 - auc_72: 0.5511 - val_loss: 0.7053 - val_auc_72: 0.5392\n",
      "Epoch 7/1000\n",
      "52/52 [==============================] - 0s 3ms/step - loss: 0.7283 - auc_72: 0.4942 - val_loss: 0.7024 - val_auc_72: 0.5544\n",
      "Epoch 8/1000\n",
      "52/52 [==============================] - 0s 3ms/step - loss: 0.7010 - auc_72: 0.5537 - val_loss: 0.6957 - val_auc_72: 0.5679\n",
      "Epoch 9/1000\n",
      "52/52 [==============================] - 0s 3ms/step - loss: 0.6952 - auc_72: 0.5581 - val_loss: 0.6945 - val_auc_72: 0.5370\n",
      "Epoch 10/1000\n",
      "52/52 [==============================] - 0s 2ms/step - loss: 0.7368 - auc_72: 0.4537 - val_loss: 0.6897 - val_auc_72: 0.5590\n",
      "Epoch 11/1000\n",
      "52/52 [==============================] - 0s 3ms/step - loss: 0.7155 - auc_72: 0.5087 - val_loss: 0.6888 - val_auc_72: 0.5486\n",
      "Epoch 12/1000\n",
      "52/52 [==============================] - 0s 2ms/step - loss: 0.7092 - auc_72: 0.5098 - val_loss: 0.6885 - val_auc_72: 0.5466\n",
      "Epoch 13/1000\n",
      "52/52 [==============================] - 0s 3ms/step - loss: 0.7082 - auc_72: 0.5092 - val_loss: 0.6866 - val_auc_72: 0.5507\n",
      "Epoch 14/1000\n",
      "52/52 [==============================] - 0s 3ms/step - loss: 0.7070 - auc_72: 0.5155 - val_loss: 0.6859 - val_auc_72: 0.5559\n",
      "Epoch 15/1000\n",
      "52/52 [==============================] - 0s 3ms/step - loss: 0.7020 - auc_72: 0.5319 - val_loss: 0.6871 - val_auc_72: 0.5294\n",
      "Epoch 16/1000\n",
      "52/52 [==============================] - 0s 3ms/step - loss: 0.7173 - auc_72: 0.4787 - val_loss: 0.6853 - val_auc_72: 0.5289\n",
      "Epoch 17/1000\n",
      "52/52 [==============================] - 0s 4ms/step - loss: 0.7201 - auc_72: 0.4652 - val_loss: 0.6825 - val_auc_72: 0.5866\n",
      "Epoch 18/1000\n",
      "52/52 [==============================] - 0s 4ms/step - loss: 0.7147 - auc_72: 0.4848 - val_loss: 0.6778 - val_auc_72: 0.6323\n",
      "Epoch 19/1000\n",
      "52/52 [==============================] - 0s 4ms/step - loss: 0.7159 - auc_72: 0.4768 - val_loss: 0.6789 - val_auc_72: 0.6210\n",
      "Epoch 20/1000\n",
      "52/52 [==============================] - 0s 3ms/step - loss: 0.7041 - auc_72: 0.5076 - val_loss: 0.6804 - val_auc_72: 0.5849\n",
      "Epoch 21/1000\n",
      "52/52 [==============================] - 0s 4ms/step - loss: 0.6982 - auc_72: 0.5288 - val_loss: 0.6791 - val_auc_72: 0.6202\n",
      "Epoch 22/1000\n",
      "52/52 [==============================] - 0s 4ms/step - loss: 0.7031 - auc_72: 0.4998 - val_loss: 0.6790 - val_auc_72: 0.6206\n",
      "Epoch 23/1000\n",
      "52/52 [==============================] - 0s 4ms/step - loss: 0.7006 - auc_72: 0.5199 - val_loss: 0.6776 - val_auc_72: 0.6215\n",
      "Epoch 24/1000\n",
      "52/52 [==============================] - 0s 4ms/step - loss: 0.7022 - auc_72: 0.5103 - val_loss: 0.6794 - val_auc_72: 0.6213\n",
      "Epoch 25/1000\n",
      "52/52 [==============================] - 0s 3ms/step - loss: 0.7142 - auc_72: 0.4744 - val_loss: 0.6810 - val_auc_72: 0.6206\n",
      "Epoch 26/1000\n",
      "52/52 [==============================] - 0s 3ms/step - loss: 0.6866 - auc_72: 0.5555 - val_loss: 0.6812 - val_auc_72: 0.6193\n",
      "Epoch 27/1000\n",
      "52/52 [==============================] - 0s 3ms/step - loss: 0.7022 - auc_72: 0.5156 - val_loss: 0.6843 - val_auc_72: 0.5555\n",
      "Epoch 28/1000\n",
      "52/52 [==============================] - 0s 3ms/step - loss: 0.7188 - auc_72: 0.4546 - val_loss: 0.6823 - val_auc_72: 0.5688\n",
      "Epoch 29/1000\n",
      "52/52 [==============================] - 0s 5ms/step - loss: 0.7048 - auc_72: 0.5050 - val_loss: 0.6841 - val_auc_72: 0.5431\n",
      "Epoch 30/1000\n",
      "52/52 [==============================] - 0s 4ms/step - loss: 0.6887 - auc_72: 0.5621 - val_loss: 0.6825 - val_auc_72: 0.5668\n",
      "Epoch 31/1000\n",
      "52/52 [==============================] - 0s 3ms/step - loss: 0.6958 - auc_72: 0.5299 - val_loss: 0.6831 - val_auc_72: 0.5483\n",
      "Epoch 32/1000\n",
      "52/52 [==============================] - 0s 3ms/step - loss: 0.6997 - auc_72: 0.5030 - val_loss: 0.6805 - val_auc_72: 0.6006\n",
      "Epoch 33/1000\n",
      "52/52 [==============================] - 0s 3ms/step - loss: 0.6894 - auc_72: 0.5550 - val_loss: 0.6804 - val_auc_72: 0.5993\n",
      "Epoch 34/1000\n",
      "52/52 [==============================] - 0s 3ms/step - loss: 0.6933 - auc_72: 0.5391 - val_loss: 0.6821 - val_auc_72: 0.5684\n",
      "Epoch 35/1000\n",
      "52/52 [==============================] - 0s 3ms/step - loss: 0.7056 - auc_72: 0.4884 - val_loss: 0.6830 - val_auc_72: 0.5782\n",
      "Epoch 36/1000\n",
      "52/52 [==============================] - 0s 3ms/step - loss: 0.6942 - auc_72: 0.5284 - val_loss: 0.6839 - val_auc_72: 0.5710\n",
      "Epoch 37/1000\n",
      "52/52 [==============================] - 0s 3ms/step - loss: 0.6952 - auc_72: 0.5254 - val_loss: 0.6843 - val_auc_72: 0.5586\n",
      "Epoch 38/1000\n",
      "52/52 [==============================] - 0s 3ms/step - loss: 0.6927 - auc_72: 0.5400 - val_loss: 0.6858 - val_auc_72: 0.5501\n",
      "Epoch 39/1000\n",
      "52/52 [==============================] - 0s 4ms/step - loss: 0.6974 - auc_72: 0.5121 - val_loss: 0.6843 - val_auc_72: 0.5559\n",
      "Epoch 40/1000\n",
      "52/52 [==============================] - 0s 3ms/step - loss: 0.6937 - auc_72: 0.5161 - val_loss: 0.6831 - val_auc_72: 0.5782\n",
      "Epoch 41/1000\n",
      "52/52 [==============================] - 0s 3ms/step - loss: 0.6932 - auc_72: 0.5299 - val_loss: 0.6846 - val_auc_72: 0.5405\n",
      "Epoch 42/1000\n",
      "52/52 [==============================] - 0s 3ms/step - loss: 0.6909 - auc_72: 0.5444 - val_loss: 0.6867 - val_auc_72: 0.5314\n",
      "Epoch 43/1000\n",
      "52/52 [==============================] - 0s 3ms/step - loss: 0.6918 - auc_72: 0.5227 - val_loss: 0.6853 - val_auc_72: 0.5474\n",
      "Epoch 44/1000\n",
      "52/52 [==============================] - 0s 4ms/step - loss: 0.6947 - auc_72: 0.5126 - val_loss: 0.6851 - val_auc_72: 0.5533\n",
      "Epoch 45/1000\n",
      "52/52 [==============================] - 0s 4ms/step - loss: 0.7046 - auc_72: 0.4853 - val_loss: 0.6858 - val_auc_72: 0.5459\n",
      "Epoch 46/1000\n",
      "52/52 [==============================] - 0s 4ms/step - loss: 0.6886 - auc_72: 0.5461 - val_loss: 0.6848 - val_auc_72: 0.5444\n",
      "Epoch 47/1000\n",
      "52/52 [==============================] - 0s 3ms/step - loss: 0.6965 - auc_72: 0.5124 - val_loss: 0.6856 - val_auc_72: 0.5466\n",
      "Epoch 48/1000\n",
      "52/52 [==============================] - 0s 3ms/step - loss: 0.7106 - auc_72: 0.4545 - val_loss: 0.6873 - val_auc_72: 0.5414\n",
      "Epoch 49/1000\n",
      "52/52 [==============================] - 0s 3ms/step - loss: 0.6950 - auc_72: 0.5102 - val_loss: 0.6856 - val_auc_72: 0.5694\n",
      "Epoch 50/1000\n",
      "52/52 [==============================] - 0s 3ms/step - loss: 0.6974 - auc_72: 0.4863 - val_loss: 0.6834 - val_auc_72: 0.5784\n",
      "Epoch 51/1000\n",
      "52/52 [==============================] - 0s 4ms/step - loss: 0.6999 - auc_72: 0.4967 - val_loss: 0.6818 - val_auc_72: 0.6019\n",
      "Epoch 52/1000\n",
      "52/52 [==============================] - 0s 3ms/step - loss: 0.6941 - auc_72: 0.5135 - val_loss: 0.6806 - val_auc_72: 0.6167\n",
      "Epoch 53/1000\n",
      "52/52 [==============================] - 0s 3ms/step - loss: 0.6939 - auc_72: 0.5166 - val_loss: 0.6806 - val_auc_72: 0.6210\n",
      "Epoch 54/1000\n",
      "52/52 [==============================] - 0s 3ms/step - loss: 0.6909 - auc_72: 0.5225 - val_loss: 0.6813 - val_auc_72: 0.6025\n",
      "Epoch 55/1000\n",
      "52/52 [==============================] - 0s 3ms/step - loss: 0.6990 - auc_72: 0.4937 - val_loss: 0.6825 - val_auc_72: 0.6104\n",
      "Epoch 56/1000\n",
      "52/52 [==============================] - 0s 2ms/step - loss: 0.7002 - auc_72: 0.4868 - val_loss: 0.6832 - val_auc_72: 0.5893\n",
      "Epoch 57/1000\n",
      "52/52 [==============================] - 0s 3ms/step - loss: 0.6963 - auc_72: 0.5140 - val_loss: 0.6840 - val_auc_72: 0.5662\n",
      "Epoch 58/1000\n",
      "52/52 [==============================] - 0s 2ms/step - loss: 0.6991 - auc_72: 0.4766 - val_loss: 0.6848 - val_auc_72: 0.5448\n",
      "Epoch 59/1000\n",
      "52/52 [==============================] - 0s 3ms/step - loss: 0.6887 - auc_72: 0.5454 - val_loss: 0.6844 - val_auc_72: 0.5501\n"
     ]
    },
    {
     "name": "stdout",
     "output_type": "stream",
     "text": [
      "Epoch 60/1000\n",
      "52/52 [==============================] - 0s 3ms/step - loss: 0.6920 - auc_72: 0.5285 - val_loss: 0.6844 - val_auc_72: 0.5566\n",
      "Epoch 61/1000\n",
      "52/52 [==============================] - 0s 2ms/step - loss: 0.6910 - auc_72: 0.5175 - val_loss: 0.6822 - val_auc_72: 0.5943\n",
      "Epoch 62/1000\n",
      "52/52 [==============================] - 0s 3ms/step - loss: 0.7026 - auc_72: 0.4767 - val_loss: 0.6821 - val_auc_72: 0.5936\n",
      "Epoch 63/1000\n",
      "52/52 [==============================] - 0s 2ms/step - loss: 0.6938 - auc_72: 0.5199 - val_loss: 0.6816 - val_auc_72: 0.5733\n",
      "Epoch 64/1000\n",
      "52/52 [==============================] - 0s 2ms/step - loss: 0.6960 - auc_72: 0.5082 - val_loss: 0.6823 - val_auc_72: 0.5936\n",
      "Epoch 65/1000\n",
      "52/52 [==============================] - 0s 2ms/step - loss: 0.6948 - auc_72: 0.5141 - val_loss: 0.6807 - val_auc_72: 0.5990\n",
      "Epoch 66/1000\n",
      "52/52 [==============================] - 0s 3ms/step - loss: 0.6917 - auc_72: 0.5355 - val_loss: 0.6814 - val_auc_72: 0.6019\n",
      "Epoch 67/1000\n",
      "52/52 [==============================] - 0s 3ms/step - loss: 0.6961 - auc_72: 0.4990 - val_loss: 0.6805 - val_auc_72: 0.6208\n",
      "Epoch 68/1000\n",
      "52/52 [==============================] - 0s 3ms/step - loss: 0.6939 - auc_72: 0.5179 - val_loss: 0.6818 - val_auc_72: 0.6186\n",
      "Epoch 69/1000\n",
      "52/52 [==============================] - 0s 2ms/step - loss: 0.6925 - auc_72: 0.5281 - val_loss: 0.6834 - val_auc_72: 0.5893\n",
      "Epoch 70/1000\n",
      "52/52 [==============================] - 0s 3ms/step - loss: 0.6932 - auc_72: 0.5068 - val_loss: 0.6833 - val_auc_72: 0.5877\n",
      "Epoch 71/1000\n",
      "52/52 [==============================] - 0s 2ms/step - loss: 0.6943 - auc_72: 0.5112 - val_loss: 0.6813 - val_auc_72: 0.5853\n",
      "Epoch 72/1000\n",
      "52/52 [==============================] - 0s 3ms/step - loss: 0.6883 - auc_72: 0.5489 - val_loss: 0.6826 - val_auc_72: 0.5847\n",
      "Epoch 73/1000\n",
      "52/52 [==============================] - 0s 2ms/step - loss: 0.6932 - auc_72: 0.5306 - val_loss: 0.6829 - val_auc_72: 0.5821\n",
      "Epoch 74/1000\n",
      "52/52 [==============================] - 0s 2ms/step - loss: 0.6922 - auc_72: 0.5271 - val_loss: 0.6838 - val_auc_72: 0.5877\n",
      "Epoch 75/1000\n",
      "52/52 [==============================] - 0s 3ms/step - loss: 0.6969 - auc_72: 0.4909 - val_loss: 0.6824 - val_auc_72: 0.6169\n",
      "Epoch 76/1000\n",
      "52/52 [==============================] - 0s 2ms/step - loss: 0.6873 - auc_72: 0.5414 - val_loss: 0.6831 - val_auc_72: 0.5991\n",
      "Epoch 77/1000\n",
      "52/52 [==============================] - 0s 2ms/step - loss: 0.7015 - auc_72: 0.4545 - val_loss: 0.6832 - val_auc_72: 0.5958\n",
      "Epoch 78/1000\n",
      "52/52 [==============================] - 0s 2ms/step - loss: 0.6891 - auc_72: 0.5375 - val_loss: 0.6827 - val_auc_72: 0.5958\n",
      "Epoch 79/1000\n",
      "52/52 [==============================] - 0s 3ms/step - loss: 0.6896 - auc_72: 0.5282 - val_loss: 0.6828 - val_auc_72: 0.6003\n",
      "Epoch 80/1000\n",
      "52/52 [==============================] - 0s 2ms/step - loss: 0.6972 - auc_72: 0.4880 - val_loss: 0.6829 - val_auc_72: 0.6023\n",
      "Epoch 81/1000\n",
      "52/52 [==============================] - 0s 2ms/step - loss: 0.6872 - auc_72: 0.5468 - val_loss: 0.6822 - val_auc_72: 0.6003\n",
      "Epoch 82/1000\n",
      "52/52 [==============================] - 0s 2ms/step - loss: 0.6900 - auc_72: 0.5363 - val_loss: 0.6834 - val_auc_72: 0.5893\n",
      "Epoch 83/1000\n",
      "52/52 [==============================] - 0s 3ms/step - loss: 0.6925 - auc_72: 0.5232 - val_loss: 0.6845 - val_auc_72: 0.6027\n",
      "Epoch 84/1000\n",
      "52/52 [==============================] - 0s 3ms/step - loss: 0.6967 - auc_72: 0.4922 - val_loss: 0.6826 - val_auc_72: 0.6310\n",
      "Epoch 85/1000\n",
      "52/52 [==============================] - 0s 4ms/step - loss: 0.6903 - auc_72: 0.5337 - val_loss: 0.6823 - val_auc_72: 0.6345\n",
      "Epoch 86/1000\n",
      "52/52 [==============================] - 0s 3ms/step - loss: 0.6842 - auc_72: 0.5859 - val_loss: 0.6819 - val_auc_72: 0.6354\n",
      "Epoch 87/1000\n",
      "52/52 [==============================] - 0s 3ms/step - loss: 0.6922 - auc_72: 0.5162 - val_loss: 0.6814 - val_auc_72: 0.6361\n",
      "Epoch 88/1000\n",
      "52/52 [==============================] - 0s 3ms/step - loss: 0.6901 - auc_72: 0.5373 - val_loss: 0.6802 - val_auc_72: 0.6580\n",
      "Epoch 89/1000\n",
      "52/52 [==============================] - 0s 3ms/step - loss: 0.6854 - auc_72: 0.5612 - val_loss: 0.6826 - val_auc_72: 0.6038\n",
      "Epoch 90/1000\n",
      "52/52 [==============================] - 0s 4ms/step - loss: 0.6891 - auc_72: 0.5313 - val_loss: 0.6830 - val_auc_72: 0.5980\n",
      "Epoch 91/1000\n",
      "52/52 [==============================] - 0s 3ms/step - loss: 0.6958 - auc_72: 0.4923 - val_loss: 0.6824 - val_auc_72: 0.6058\n",
      "Epoch 92/1000\n",
      "52/52 [==============================] - 0s 4ms/step - loss: 0.6965 - auc_72: 0.4927 - val_loss: 0.6833 - val_auc_72: 0.6051\n",
      "Epoch 93/1000\n",
      "52/52 [==============================] - 0s 3ms/step - loss: 0.6897 - auc_72: 0.5464 - val_loss: 0.6826 - val_auc_72: 0.6206\n",
      "Epoch 94/1000\n",
      "52/52 [==============================] - 0s 3ms/step - loss: 0.6912 - auc_72: 0.5382 - val_loss: 0.6835 - val_auc_72: 0.6006\n",
      "Epoch 95/1000\n",
      "52/52 [==============================] - 0s 3ms/step - loss: 0.6924 - auc_72: 0.5058 - val_loss: 0.6835 - val_auc_72: 0.6091\n",
      "Epoch 96/1000\n",
      "52/52 [==============================] - 0s 3ms/step - loss: 0.6945 - auc_72: 0.5115 - val_loss: 0.6831 - val_auc_72: 0.5966\n",
      "Epoch 97/1000\n",
      "52/52 [==============================] - 0s 3ms/step - loss: 0.6888 - auc_72: 0.5472 - val_loss: 0.6823 - val_auc_72: 0.6115\n",
      "Epoch 98/1000\n",
      "52/52 [==============================] - 0s 2ms/step - loss: 0.6926 - auc_72: 0.5161 - val_loss: 0.6834 - val_auc_72: 0.6010\n",
      "Epoch 99/1000\n",
      "52/52 [==============================] - 0s 3ms/step - loss: 0.6904 - auc_72: 0.5234 - val_loss: 0.6837 - val_auc_72: 0.6010\n",
      "Epoch 100/1000\n",
      "52/52 [==============================] - 0s 3ms/step - loss: 0.6874 - auc_72: 0.5510 - val_loss: 0.6834 - val_auc_72: 0.6010\n",
      "Epoch 101/1000\n",
      "52/52 [==============================] - 0s 4ms/step - loss: 0.6926 - auc_72: 0.5273 - val_loss: 0.6833 - val_auc_72: 0.6010\n",
      "Epoch 102/1000\n",
      "52/52 [==============================] - 0s 3ms/step - loss: 0.6956 - auc_72: 0.4822 - val_loss: 0.6838 - val_auc_72: 0.5710\n",
      "Epoch 103/1000\n",
      "52/52 [==============================] - 0s 3ms/step - loss: 0.6908 - auc_72: 0.5268 - val_loss: 0.6832 - val_auc_72: 0.6010\n",
      "Epoch 104/1000\n",
      "52/52 [==============================] - 0s 3ms/step - loss: 0.6949 - auc_72: 0.5032 - val_loss: 0.6834 - val_auc_72: 0.6025\n",
      "Epoch 105/1000\n",
      "52/52 [==============================] - 0s 3ms/step - loss: 0.6910 - auc_72: 0.5175 - val_loss: 0.6835 - val_auc_72: 0.6010\n",
      "Epoch 106/1000\n",
      "52/52 [==============================] - 0s 2ms/step - loss: 0.6965 - auc_72: 0.4717 - val_loss: 0.6842 - val_auc_72: 0.6010\n",
      "Epoch 107/1000\n",
      "52/52 [==============================] - 0s 3ms/step - loss: 0.6932 - auc_72: 0.4996 - val_loss: 0.6845 - val_auc_72: 0.6010\n",
      "Epoch 108/1000\n",
      "52/52 [==============================] - 0s 5ms/step - loss: 0.6919 - auc_72: 0.5127 - val_loss: 0.6848 - val_auc_72: 0.6006\n",
      "Epoch 109/1000\n",
      "52/52 [==============================] - 0s 3ms/step - loss: 0.6873 - auc_72: 0.5485 - val_loss: 0.6840 - val_auc_72: 0.6006\n",
      "Epoch 110/1000\n",
      "52/52 [==============================] - 0s 5ms/step - loss: 0.6928 - auc_72: 0.5142 - val_loss: 0.6840 - val_auc_72: 0.5707\n",
      "Epoch 111/1000\n",
      "52/52 [==============================] - 0s 3ms/step - loss: 0.6944 - auc_72: 0.4866 - val_loss: 0.6838 - val_auc_72: 0.6006\n",
      "Epoch 112/1000\n",
      "52/52 [==============================] - 0s 2ms/step - loss: 0.6885 - auc_72: 0.5422 - val_loss: 0.6832 - val_auc_72: 0.6010\n",
      "Epoch 113/1000\n",
      "52/52 [==============================] - 0s 4ms/step - loss: 0.6903 - auc_72: 0.5357 - val_loss: 0.6829 - val_auc_72: 0.6127\n",
      "Epoch 114/1000\n",
      "52/52 [==============================] - 0s 4ms/step - loss: 0.6890 - auc_72: 0.5311 - val_loss: 0.6835 - val_auc_72: 0.5991\n",
      "Epoch 115/1000\n",
      "52/52 [==============================] - 0s 3ms/step - loss: 0.6953 - auc_72: 0.4877 - val_loss: 0.6831 - val_auc_72: 0.6062\n",
      "Epoch 116/1000\n",
      "52/52 [==============================] - 0s 4ms/step - loss: 0.6885 - auc_72: 0.5433 - val_loss: 0.6822 - val_auc_72: 0.6213\n",
      "Epoch 117/1000\n",
      "52/52 [==============================] - 0s 3ms/step - loss: 0.6916 - auc_72: 0.5266 - val_loss: 0.6821 - val_auc_72: 0.6302\n",
      "Epoch 118/1000\n",
      "52/52 [==============================] - 0s 3ms/step - loss: 0.6905 - auc_72: 0.5193 - val_loss: 0.6850 - val_auc_72: 0.5570\n"
     ]
    },
    {
     "name": "stdout",
     "output_type": "stream",
     "text": [
      "Epoch 119/1000\n",
      "52/52 [==============================] - 0s 3ms/step - loss: 0.6950 - auc_72: 0.4879 - val_loss: 0.6842 - val_auc_72: 0.5583\n",
      "Epoch 120/1000\n",
      "52/52 [==============================] - 0s 2ms/step - loss: 0.6905 - auc_72: 0.5393 - val_loss: 0.6870 - val_auc_72: 0.5392\n",
      "Epoch 121/1000\n",
      "52/52 [==============================] - 0s 3ms/step - loss: 0.6881 - auc_72: 0.5526 - val_loss: 0.6859 - val_auc_72: 0.5557\n",
      "Epoch 122/1000\n",
      "52/52 [==============================] - 0s 3ms/step - loss: 0.6923 - auc_72: 0.5114 - val_loss: 0.6864 - val_auc_72: 0.5335\n",
      "Epoch 123/1000\n",
      "52/52 [==============================] - 0s 3ms/step - loss: 0.6870 - auc_72: 0.5573 - val_loss: 0.6853 - val_auc_72: 0.5364\n"
     ]
    }
   ],
   "source": [
    "# Define Model\n",
    "\n",
    "model = Sequential()\n",
    "\n",
    "model.add(Dense(10, input_shape=(5,), activation='relu', kernel_initializer = 'he_uniform'))\n",
    "model.add(Dropout(rate=0.25))\n",
    "\n",
    "model.add(Dense(14, activation='tanh', kernel_initializer = 'he_uniform'))\n",
    "model.add(Dropout(rate=0.25))\n",
    "\n",
    "model.add(Dense(14, activation='tanh', kernel_initializer = 'he_uniform'))\n",
    "model.add(Dropout(rate=0.25))\n",
    "\n",
    "model.add(Dense(14, activation='tanh', kernel_initializer = 'he_uniform'))\n",
    "model.add(Dropout(rate=0.25))\n",
    "\n",
    "model.add(Dense(1, activation='sigmoid'))\n",
    "\n",
    "# Compile model\n",
    "model.compile(loss='binary_crossentropy', \n",
    "              optimizer='adam', \n",
    "              metrics=[tensorflow.keras.metrics.AUC()])\n",
    "    \n",
    "stop_early = tensorflow.keras.callbacks.EarlyStopping(monitor='val_loss', patience=100, mode='min')\n",
    "\n",
    "# Fit model\n",
    "history = model.fit(X_train, \n",
    "                    y_train, \n",
    "                    validation_data=(X_valid, y_valid),\n",
    "                    epochs=1000,\n",
    "                    callbacks=[stop_early],\n",
    "                    batch_size=8)"
   ]
  },
  {
   "cell_type": "code",
   "execution_count": 621,
   "metadata": {},
   "outputs": [],
   "source": [
    "y_pred = model.predict_classes(X_valid)"
   ]
  },
  {
   "cell_type": "code",
   "execution_count": 622,
   "metadata": {},
   "outputs": [
    {
     "name": "stdout",
     "output_type": "stream",
     "text": [
      "              precision    recall  f1-score   support\n",
      "\n",
      "           0       0.65      0.25      0.37        51\n",
      "           1       0.55      0.87      0.67        53\n",
      "\n",
      "    accuracy                           0.57       104\n",
      "   macro avg       0.60      0.56      0.52       104\n",
      "weighted avg       0.60      0.57      0.52       104\n",
      "\n"
     ]
    }
   ],
   "source": [
    "from sklearn.metrics import classification_report\n",
    "\n",
    "print(classification_report(y_valid, y_pred))"
   ]
  },
  {
   "cell_type": "code",
   "execution_count": 623,
   "metadata": {},
   "outputs": [
    {
     "data": {
      "text/html": [
       "<div>\n",
       "<style scoped>\n",
       "    .dataframe tbody tr th:only-of-type {\n",
       "        vertical-align: middle;\n",
       "    }\n",
       "\n",
       "    .dataframe tbody tr th {\n",
       "        vertical-align: top;\n",
       "    }\n",
       "\n",
       "    .dataframe thead th {\n",
       "        text-align: right;\n",
       "    }\n",
       "</style>\n",
       "<table border=\"1\" class=\"dataframe\">\n",
       "  <thead>\n",
       "    <tr style=\"text-align: right;\">\n",
       "      <th></th>\n",
       "      <th>0</th>\n",
       "      <th>1</th>\n",
       "    </tr>\n",
       "  </thead>\n",
       "  <tbody>\n",
       "    <tr>\n",
       "      <th>0</th>\n",
       "      <td>13</td>\n",
       "      <td>38</td>\n",
       "    </tr>\n",
       "    <tr>\n",
       "      <th>1</th>\n",
       "      <td>7</td>\n",
       "      <td>46</td>\n",
       "    </tr>\n",
       "  </tbody>\n",
       "</table>\n",
       "</div>"
      ],
      "text/plain": [
       "    0   1\n",
       "0  13  38\n",
       "1   7  46"
      ]
     },
     "execution_count": 623,
     "metadata": {},
     "output_type": "execute_result"
    }
   ],
   "source": [
    "from sklearn.metrics import confusion_matrix\n",
    "\n",
    "pd.DataFrame(confusion_matrix(y_valid, y_pred))"
   ]
  },
  {
   "cell_type": "code",
   "execution_count": 624,
   "metadata": {},
   "outputs": [
    {
     "data": {
      "image/png": "[encoded data removed]",
      "text/plain": [
       "<Figure size 432x288 with 1 Axes>"
      ]
     },
     "metadata": {
      "needs_background": "light"
     },
     "output_type": "display_data"
    }
   ],
   "source": [
    "plt.plot(history.history['loss'])\n",
    "plt.plot(history.history['val_loss'])\n",
    "plt.ylabel('Loss')\n",
    "plt.xlabel('Epoch')\n",
    "plt.legend(['Train', 'Validation'], loc='upper right')\n",
    "plt.show()"
   ]
  },
  {
   "cell_type": "code",
   "execution_count": 625,
   "metadata": {},
   "outputs": [
    {
     "name": "stdout",
     "output_type": "stream",
     "text": [
      "INFO:tensorflow:Assets written to: model_final/assets\n"
     ]
    }
   ],
   "source": [
    "model.save(\"model_final\")"
   ]
  },
  {
   "cell_type": "markdown",
   "metadata": {},
   "source": [
    "---"
   ]
  },
  {
   "cell_type": "markdown",
   "metadata": {},
   "source": [
    "# Conclusion"
   ]
  },
  {
   "cell_type": "markdown",
   "metadata": {},
   "source": [
    "- ANN can not be better than Random Forest (Base Model) even though it showed overfitting for RF.\n",
    "- Creating Features to give signal about Fires help the model to detect fires, but now the model has difficulties to detect non Fires events.\n",
    "- ANN Model that are more consistent or stabil showed F1 Score around 50%"
   ]
  }
 ],
 "metadata": {
  "kernelspec": {
   "display_name": "Python 3",
   "language": "python",
   "name": "python3"
  },
  "language_info": {
   "codemirror_mode": {
    "name": "ipython",
    "version": 3
   },
   "file_extension": ".py",
   "mimetype": "text/x-python",
   "name": "python",
   "nbconvert_exporter": "python",
   "pygments_lexer": "ipython3",
   "version": "3.7.6"
  }
 },
 "nbformat": 4,
 "nbformat_minor": 4
}
