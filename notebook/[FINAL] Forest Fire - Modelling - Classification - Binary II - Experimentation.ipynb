{
 "cells": [
  {
   "cell_type": "code",
   "execution_count": 1,
   "metadata": {},
   "outputs": [],
   "source": [
    "import pandas as pd\n",
    "import numpy as np\n",
    "\n",
    "import seaborn as sns\n",
    "import matplotlib.pyplot as plt"
   ]
  },
  {
   "cell_type": "markdown",
   "metadata": {},
   "source": [
    "# Dataset\n",
    "\n",
    "The dataset is about forest fire in Portugal, detailed information can be found here: http://archive.ics.uci.edu/ml/datasets/Forest+Fires"
   ]
  },
  {
   "cell_type": "markdown",
   "metadata": {},
   "source": [
    "# Atribut Information\n",
    "\n",
    "For more information, read [Cortez and Morais, 2007].\n",
    "\n",
    "- X - x-axis spatial coordinate within the Montesinho park map: 1 to 9\n",
    "- Y - y-axis spatial coordinate within the Montesinho park map: 2 to 9\n",
    "- month - month of the year: 'jan' to 'dec'\n",
    "- day - day of the week: 'mon' to 'sun'\n",
    "- FFMC - FFMC index from the FWI system: 18.7 to 96.20\n",
    "- DMC - DMC index from the FWI system: 1.1 to 291.3\n",
    "- DC - DC index from the FWI system: 7.9 to 860.6\n",
    "- ISI - ISI index from the FWI system: 0.0 to 56.10\n",
    "- temp - temperature in Celsius degrees: 2.2 to 33.30\n",
    "- RH - relative humidity in %: 15.0 to 100\n",
    "- wind - wind speed in km/h: 0.40 to 9.40\n",
    "- rain - outside rain in mm/m2 : 0.0 to 6.4\n",
    "- area - the burned area of the forest (in ha): 0.00 to 1090.84 (this output variable is very skewed towards 0.0, thus it may make sense to model with the logarithm transform)."
   ]
  },
  {
   "cell_type": "code",
   "execution_count": 2,
   "metadata": {},
   "outputs": [],
   "source": [
    "data = pd.read_csv('../dataset/forestfires.csv')"
   ]
  },
  {
   "cell_type": "code",
   "execution_count": 3,
   "metadata": {},
   "outputs": [
    {
     "data": {
      "text/html": [
       "<div>\n",
       "<style scoped>\n",
       "    .dataframe tbody tr th:only-of-type {\n",
       "        vertical-align: middle;\n",
       "    }\n",
       "\n",
       "    .dataframe tbody tr th {\n",
       "        vertical-align: top;\n",
       "    }\n",
       "\n",
       "    .dataframe thead th {\n",
       "        text-align: right;\n",
       "    }\n",
       "</style>\n",
       "<table border=\"1\" class=\"dataframe\">\n",
       "  <thead>\n",
       "    <tr style=\"text-align: right;\">\n",
       "      <th></th>\n",
       "      <th>X</th>\n",
       "      <th>Y</th>\n",
       "      <th>month</th>\n",
       "      <th>day</th>\n",
       "      <th>FFMC</th>\n",
       "      <th>DMC</th>\n",
       "      <th>DC</th>\n",
       "      <th>ISI</th>\n",
       "      <th>temp</th>\n",
       "      <th>RH</th>\n",
       "      <th>wind</th>\n",
       "      <th>rain</th>\n",
       "      <th>area</th>\n",
       "    </tr>\n",
       "  </thead>\n",
       "  <tbody>\n",
       "    <tr>\n",
       "      <th>0</th>\n",
       "      <td>7</td>\n",
       "      <td>5</td>\n",
       "      <td>mar</td>\n",
       "      <td>fri</td>\n",
       "      <td>86.2</td>\n",
       "      <td>26.2</td>\n",
       "      <td>94.3</td>\n",
       "      <td>5.1</td>\n",
       "      <td>8.2</td>\n",
       "      <td>51</td>\n",
       "      <td>6.7</td>\n",
       "      <td>0.0</td>\n",
       "      <td>0.0</td>\n",
       "    </tr>\n",
       "    <tr>\n",
       "      <th>1</th>\n",
       "      <td>7</td>\n",
       "      <td>4</td>\n",
       "      <td>oct</td>\n",
       "      <td>tue</td>\n",
       "      <td>90.6</td>\n",
       "      <td>35.4</td>\n",
       "      <td>669.1</td>\n",
       "      <td>6.7</td>\n",
       "      <td>18.0</td>\n",
       "      <td>33</td>\n",
       "      <td>0.9</td>\n",
       "      <td>0.0</td>\n",
       "      <td>0.0</td>\n",
       "    </tr>\n",
       "    <tr>\n",
       "      <th>2</th>\n",
       "      <td>7</td>\n",
       "      <td>4</td>\n",
       "      <td>oct</td>\n",
       "      <td>sat</td>\n",
       "      <td>90.6</td>\n",
       "      <td>43.7</td>\n",
       "      <td>686.9</td>\n",
       "      <td>6.7</td>\n",
       "      <td>14.6</td>\n",
       "      <td>33</td>\n",
       "      <td>1.3</td>\n",
       "      <td>0.0</td>\n",
       "      <td>0.0</td>\n",
       "    </tr>\n",
       "    <tr>\n",
       "      <th>3</th>\n",
       "      <td>8</td>\n",
       "      <td>6</td>\n",
       "      <td>mar</td>\n",
       "      <td>fri</td>\n",
       "      <td>91.7</td>\n",
       "      <td>33.3</td>\n",
       "      <td>77.5</td>\n",
       "      <td>9.0</td>\n",
       "      <td>8.3</td>\n",
       "      <td>97</td>\n",
       "      <td>4.0</td>\n",
       "      <td>0.2</td>\n",
       "      <td>0.0</td>\n",
       "    </tr>\n",
       "    <tr>\n",
       "      <th>4</th>\n",
       "      <td>8</td>\n",
       "      <td>6</td>\n",
       "      <td>mar</td>\n",
       "      <td>sun</td>\n",
       "      <td>89.3</td>\n",
       "      <td>51.3</td>\n",
       "      <td>102.2</td>\n",
       "      <td>9.6</td>\n",
       "      <td>11.4</td>\n",
       "      <td>99</td>\n",
       "      <td>1.8</td>\n",
       "      <td>0.0</td>\n",
       "      <td>0.0</td>\n",
       "    </tr>\n",
       "  </tbody>\n",
       "</table>\n",
       "</div>"
      ],
      "text/plain": [
       "   X  Y month  day  FFMC   DMC     DC  ISI  temp  RH  wind  rain  area\n",
       "0  7  5   mar  fri  86.2  26.2   94.3  5.1   8.2  51   6.7   0.0   0.0\n",
       "1  7  4   oct  tue  90.6  35.4  669.1  6.7  18.0  33   0.9   0.0   0.0\n",
       "2  7  4   oct  sat  90.6  43.7  686.9  6.7  14.6  33   1.3   0.0   0.0\n",
       "3  8  6   mar  fri  91.7  33.3   77.5  9.0   8.3  97   4.0   0.2   0.0\n",
       "4  8  6   mar  sun  89.3  51.3  102.2  9.6  11.4  99   1.8   0.0   0.0"
      ]
     },
     "execution_count": 3,
     "metadata": {},
     "output_type": "execute_result"
    }
   ],
   "source": [
    "data.head()"
   ]
  },
  {
   "cell_type": "code",
   "execution_count": 4,
   "metadata": {},
   "outputs": [
    {
     "data": {
      "text/plain": [
       "(517, 13)"
      ]
     },
     "execution_count": 4,
     "metadata": {},
     "output_type": "execute_result"
    }
   ],
   "source": [
    "data.shape"
   ]
  },
  {
   "cell_type": "code",
   "execution_count": 5,
   "metadata": {},
   "outputs": [
    {
     "name": "stdout",
     "output_type": "stream",
     "text": [
      "<class 'pandas.core.frame.DataFrame'>\n",
      "RangeIndex: 517 entries, 0 to 516\n",
      "Data columns (total 13 columns):\n",
      " #   Column  Non-Null Count  Dtype  \n",
      "---  ------  --------------  -----  \n",
      " 0   X       517 non-null    int64  \n",
      " 1   Y       517 non-null    int64  \n",
      " 2   month   517 non-null    object \n",
      " 3   day     517 non-null    object \n",
      " 4   FFMC    517 non-null    float64\n",
      " 5   DMC     517 non-null    float64\n",
      " 6   DC      517 non-null    float64\n",
      " 7   ISI     517 non-null    float64\n",
      " 8   temp    517 non-null    float64\n",
      " 9   RH      517 non-null    int64  \n",
      " 10  wind    517 non-null    float64\n",
      " 11  rain    517 non-null    float64\n",
      " 12  area    517 non-null    float64\n",
      "dtypes: float64(8), int64(3), object(2)\n",
      "memory usage: 52.6+ KB\n"
     ]
    }
   ],
   "source": [
    "data.info()"
   ]
  },
  {
   "cell_type": "markdown",
   "metadata": {},
   "source": [
    "# Data Preparation"
   ]
  },
  {
   "cell_type": "code",
   "execution_count": 6,
   "metadata": {},
   "outputs": [],
   "source": [
    "data['area_categorical'] = data['area'].apply(lambda x:1 if x > 0 else 0)"
   ]
  },
  {
   "cell_type": "code",
   "execution_count": 7,
   "metadata": {},
   "outputs": [],
   "source": [
    "from sklearn.preprocessing import LabelEncoder\n",
    "\n",
    "encoder = LabelEncoder()\n",
    "data['month'] = encoder.fit_transform(data['month'])\n",
    "data['day'] = encoder.fit_transform(data['day'])"
   ]
  },
  {
   "cell_type": "code",
   "execution_count": 8,
   "metadata": {},
   "outputs": [],
   "source": [
    "data['location'] = data['X'].astype('string')+'-'+data['Y'].astype('string')"
   ]
  },
  {
   "cell_type": "code",
   "execution_count": 9,
   "metadata": {},
   "outputs": [],
   "source": [
    "data['location'] = encoder.fit_transform(data['location'])"
   ]
  },
  {
   "cell_type": "code",
   "execution_count": 10,
   "metadata": {},
   "outputs": [
    {
     "data": {
      "text/html": [
       "<div>\n",
       "<style scoped>\n",
       "    .dataframe tbody tr th:only-of-type {\n",
       "        vertical-align: middle;\n",
       "    }\n",
       "\n",
       "    .dataframe tbody tr th {\n",
       "        vertical-align: top;\n",
       "    }\n",
       "\n",
       "    .dataframe thead th {\n",
       "        text-align: right;\n",
       "    }\n",
       "</style>\n",
       "<table border=\"1\" class=\"dataframe\">\n",
       "  <thead>\n",
       "    <tr style=\"text-align: right;\">\n",
       "      <th></th>\n",
       "      <th>X</th>\n",
       "      <th>Y</th>\n",
       "      <th>month</th>\n",
       "      <th>day</th>\n",
       "      <th>FFMC</th>\n",
       "      <th>DMC</th>\n",
       "      <th>DC</th>\n",
       "      <th>ISI</th>\n",
       "      <th>temp</th>\n",
       "      <th>RH</th>\n",
       "      <th>wind</th>\n",
       "      <th>rain</th>\n",
       "      <th>area</th>\n",
       "      <th>area_categorical</th>\n",
       "      <th>location</th>\n",
       "    </tr>\n",
       "  </thead>\n",
       "  <tbody>\n",
       "    <tr>\n",
       "      <th>0</th>\n",
       "      <td>7</td>\n",
       "      <td>5</td>\n",
       "      <td>7</td>\n",
       "      <td>0</td>\n",
       "      <td>86.2</td>\n",
       "      <td>26.2</td>\n",
       "      <td>94.3</td>\n",
       "      <td>5.1</td>\n",
       "      <td>8.2</td>\n",
       "      <td>51</td>\n",
       "      <td>6.7</td>\n",
       "      <td>0.0</td>\n",
       "      <td>0.0</td>\n",
       "      <td>0</td>\n",
       "      <td>25</td>\n",
       "    </tr>\n",
       "    <tr>\n",
       "      <th>1</th>\n",
       "      <td>7</td>\n",
       "      <td>4</td>\n",
       "      <td>10</td>\n",
       "      <td>5</td>\n",
       "      <td>90.6</td>\n",
       "      <td>35.4</td>\n",
       "      <td>669.1</td>\n",
       "      <td>6.7</td>\n",
       "      <td>18.0</td>\n",
       "      <td>33</td>\n",
       "      <td>0.9</td>\n",
       "      <td>0.0</td>\n",
       "      <td>0.0</td>\n",
       "      <td>0</td>\n",
       "      <td>24</td>\n",
       "    </tr>\n",
       "    <tr>\n",
       "      <th>2</th>\n",
       "      <td>7</td>\n",
       "      <td>4</td>\n",
       "      <td>10</td>\n",
       "      <td>2</td>\n",
       "      <td>90.6</td>\n",
       "      <td>43.7</td>\n",
       "      <td>686.9</td>\n",
       "      <td>6.7</td>\n",
       "      <td>14.6</td>\n",
       "      <td>33</td>\n",
       "      <td>1.3</td>\n",
       "      <td>0.0</td>\n",
       "      <td>0.0</td>\n",
       "      <td>0</td>\n",
       "      <td>24</td>\n",
       "    </tr>\n",
       "    <tr>\n",
       "      <th>3</th>\n",
       "      <td>8</td>\n",
       "      <td>6</td>\n",
       "      <td>7</td>\n",
       "      <td>0</td>\n",
       "      <td>91.7</td>\n",
       "      <td>33.3</td>\n",
       "      <td>77.5</td>\n",
       "      <td>9.0</td>\n",
       "      <td>8.3</td>\n",
       "      <td>97</td>\n",
       "      <td>4.0</td>\n",
       "      <td>0.2</td>\n",
       "      <td>0.0</td>\n",
       "      <td>0</td>\n",
       "      <td>30</td>\n",
       "    </tr>\n",
       "    <tr>\n",
       "      <th>4</th>\n",
       "      <td>8</td>\n",
       "      <td>6</td>\n",
       "      <td>7</td>\n",
       "      <td>3</td>\n",
       "      <td>89.3</td>\n",
       "      <td>51.3</td>\n",
       "      <td>102.2</td>\n",
       "      <td>9.6</td>\n",
       "      <td>11.4</td>\n",
       "      <td>99</td>\n",
       "      <td>1.8</td>\n",
       "      <td>0.0</td>\n",
       "      <td>0.0</td>\n",
       "      <td>0</td>\n",
       "      <td>30</td>\n",
       "    </tr>\n",
       "  </tbody>\n",
       "</table>\n",
       "</div>"
      ],
      "text/plain": [
       "   X  Y  month  day  FFMC   DMC     DC  ISI  temp  RH  wind  rain  area  \\\n",
       "0  7  5      7    0  86.2  26.2   94.3  5.1   8.2  51   6.7   0.0   0.0   \n",
       "1  7  4     10    5  90.6  35.4  669.1  6.7  18.0  33   0.9   0.0   0.0   \n",
       "2  7  4     10    2  90.6  43.7  686.9  6.7  14.6  33   1.3   0.0   0.0   \n",
       "3  8  6      7    0  91.7  33.3   77.5  9.0   8.3  97   4.0   0.2   0.0   \n",
       "4  8  6      7    3  89.3  51.3  102.2  9.6  11.4  99   1.8   0.0   0.0   \n",
       "\n",
       "   area_categorical  location  \n",
       "0                 0        25  \n",
       "1                 0        24  \n",
       "2                 0        24  \n",
       "3                 0        30  \n",
       "4                 0        30  "
      ]
     },
     "execution_count": 10,
     "metadata": {},
     "output_type": "execute_result"
    }
   ],
   "source": [
    "data.head()"
   ]
  },
  {
   "cell_type": "markdown",
   "metadata": {},
   "source": [
    "# Base Model"
   ]
  },
  {
   "cell_type": "code",
   "execution_count": 11,
   "metadata": {},
   "outputs": [],
   "source": [
    "X = data.drop(['area_categorical','area','X','Y'], axis = 1)\n",
    "y = data['area_categorical']"
   ]
  },
  {
   "cell_type": "code",
   "execution_count": 17,
   "metadata": {},
   "outputs": [],
   "source": [
    "from sklearn.model_selection import train_test_split\n",
    "\n",
    "X_train, X_valid, y_train, y_valid = train_test_split(X, y, \n",
    "                                                      train_size=0.7, \n",
    "                                                      test_size=0.3,\n",
    "                                                      random_state=42)"
   ]
  },
  {
   "cell_type": "code",
   "execution_count": 18,
   "metadata": {},
   "outputs": [
    {
     "data": {
      "text/plain": [
       "RandomForestClassifier(random_state=0)"
      ]
     },
     "execution_count": 18,
     "metadata": {},
     "output_type": "execute_result"
    }
   ],
   "source": [
    "from sklearn.ensemble import RandomForestClassifier\n",
    "\n",
    "model = RandomForestClassifier(random_state=0)\n",
    "model.fit(X_train, y_train)"
   ]
  },
  {
   "cell_type": "code",
   "execution_count": 19,
   "metadata": {},
   "outputs": [],
   "source": [
    "y_pred = model.predict(X_valid)"
   ]
  },
  {
   "cell_type": "code",
   "execution_count": 20,
   "metadata": {},
   "outputs": [
    {
     "name": "stdout",
     "output_type": "stream",
     "text": [
      "              precision    recall  f1-score   support\n",
      "\n",
      "           0       0.59      0.49      0.54        77\n",
      "           1       0.58      0.67      0.62        79\n",
      "\n",
      "    accuracy                           0.58       156\n",
      "   macro avg       0.58      0.58      0.58       156\n",
      "weighted avg       0.58      0.58      0.58       156\n",
      "\n"
     ]
    }
   ],
   "source": [
    "from sklearn.metrics import classification_report\n",
    "\n",
    "print(classification_report(y_valid, y_pred))"
   ]
  },
  {
   "cell_type": "code",
   "execution_count": 21,
   "metadata": {},
   "outputs": [
    {
     "data": {
      "text/html": [
       "<div>\n",
       "<style scoped>\n",
       "    .dataframe tbody tr th:only-of-type {\n",
       "        vertical-align: middle;\n",
       "    }\n",
       "\n",
       "    .dataframe tbody tr th {\n",
       "        vertical-align: top;\n",
       "    }\n",
       "\n",
       "    .dataframe thead th {\n",
       "        text-align: right;\n",
       "    }\n",
       "</style>\n",
       "<table border=\"1\" class=\"dataframe\">\n",
       "  <thead>\n",
       "    <tr style=\"text-align: right;\">\n",
       "      <th></th>\n",
       "      <th>0</th>\n",
       "      <th>1</th>\n",
       "    </tr>\n",
       "  </thead>\n",
       "  <tbody>\n",
       "    <tr>\n",
       "      <th>0</th>\n",
       "      <td>38</td>\n",
       "      <td>39</td>\n",
       "    </tr>\n",
       "    <tr>\n",
       "      <th>1</th>\n",
       "      <td>26</td>\n",
       "      <td>53</td>\n",
       "    </tr>\n",
       "  </tbody>\n",
       "</table>\n",
       "</div>"
      ],
      "text/plain": [
       "    0   1\n",
       "0  38  39\n",
       "1  26  53"
      ]
     },
     "execution_count": 21,
     "metadata": {},
     "output_type": "execute_result"
    }
   ],
   "source": [
    "from sklearn.metrics import confusion_matrix\n",
    "\n",
    "pd.DataFrame(confusion_matrix(y_valid, y_pred))"
   ]
  },
  {
   "cell_type": "markdown",
   "metadata": {},
   "source": [
    "# Experiment 0 - Feature Selection & Create Feature "
   ]
  },
  {
   "cell_type": "markdown",
   "metadata": {},
   "source": [
    "## Feature Engineering"
   ]
  },
  {
   "cell_type": "markdown",
   "metadata": {},
   "source": [
    "### Mutual Information"
   ]
  },
  {
   "cell_type": "code",
   "execution_count": 22,
   "metadata": {},
   "outputs": [],
   "source": [
    "X = data.drop(['area_categorical','area','X','Y'], axis = 1)\n",
    "y = data['area_categorical']"
   ]
  },
  {
   "cell_type": "code",
   "execution_count": 23,
   "metadata": {},
   "outputs": [
    {
     "data": {
      "text/plain": [
       "rain        0.040233\n",
       "DC          0.038400\n",
       "DMC         0.038371\n",
       "temp        0.023900\n",
       "month       0.022108\n",
       "location    0.019288\n",
       "FFMC        0.016533\n",
       "day         0.013534\n",
       "ISI         0.012967\n",
       "RH          0.011050\n",
       "wind        0.000000\n",
       "Name: MI Scores, dtype: float64"
      ]
     },
     "execution_count": 23,
     "metadata": {},
     "output_type": "execute_result"
    }
   ],
   "source": [
    "from sklearn.feature_selection import mutual_info_classif\n",
    "\n",
    "def make_mi_scores(X, y):\n",
    "    mi_scores = mutual_info_classif(X, y, random_state=0)\n",
    "    mi_scores = pd.Series(mi_scores, name=\"MI Scores\", index=X.columns)\n",
    "    mi_scores = mi_scores.sort_values(ascending=False)\n",
    "    return mi_scores\n",
    "\n",
    "mi_scores= make_mi_scores(X, y)\n",
    "\n",
    "mi_scores"
   ]
  },
  {
   "cell_type": "markdown",
   "metadata": {},
   "source": [
    "### Select K-Best"
   ]
  },
  {
   "cell_type": "code",
   "execution_count": 24,
   "metadata": {},
   "outputs": [],
   "source": [
    "X = data.drop(['area_categorical','area','X','Y'], axis = 1)\n",
    "y = data['area_categorical']"
   ]
  },
  {
   "cell_type": "code",
   "execution_count": 25,
   "metadata": {},
   "outputs": [],
   "source": [
    "from sklearn.feature_selection import SelectKBest\n",
    "from sklearn.feature_selection import chi2\n",
    "\n",
    "threshold = 5\n",
    "\n",
    "skb = SelectKBest(score_func=chi2, k=threshold)\n",
    "sel_skb = skb.fit(X, y)\n",
    "sel_skb_index = sel_skb.get_support()"
   ]
  },
  {
   "cell_type": "code",
   "execution_count": 26,
   "metadata": {},
   "outputs": [
    {
     "data": {
      "text/plain": [
       "array([False, False, False,  True,  True, False,  True,  True, False,\n",
       "       False,  True])"
      ]
     },
     "execution_count": 26,
     "metadata": {},
     "output_type": "execute_result"
    }
   ],
   "source": [
    "sel_skb_index"
   ]
  },
  {
   "cell_type": "code",
   "execution_count": 27,
   "metadata": {},
   "outputs": [
    {
     "data": {
      "text/plain": [
       "Index(['month', 'day', 'FFMC', 'DMC', 'DC', 'ISI', 'temp', 'RH', 'wind',\n",
       "       'rain', 'location'],\n",
       "      dtype='object')"
      ]
     },
     "execution_count": 27,
     "metadata": {},
     "output_type": "execute_result"
    }
   ],
   "source": [
    "X.columns"
   ]
  },
  {
   "cell_type": "markdown",
   "metadata": {},
   "source": [
    "Selected = 'DMC', 'DC', 'temp', 'RH', 'location'"
   ]
  },
  {
   "cell_type": "markdown",
   "metadata": {},
   "source": [
    "### RFE - CV"
   ]
  },
  {
   "cell_type": "code",
   "execution_count": 28,
   "metadata": {},
   "outputs": [],
   "source": [
    "from sklearn.feature_selection import RFECV\n",
    "\n",
    "estimator = RandomForestClassifier(random_state=0)\n",
    "selector = RFECV(estimator, step=1, cv=5)\n",
    "\n",
    "X = data.drop(['area_categorical','area','X','Y'], axis = 1)\n",
    "y = data['area_categorical']\n",
    "\n",
    "selector = selector.fit(X, y)"
   ]
  },
  {
   "cell_type": "code",
   "execution_count": 29,
   "metadata": {},
   "outputs": [
    {
     "data": {
      "text/plain": [
       "array([False, False, False,  True, False, False,  True, False, False,\n",
       "       False, False])"
      ]
     },
     "execution_count": 29,
     "metadata": {},
     "output_type": "execute_result"
    }
   ],
   "source": [
    "selector.support_"
   ]
  },
  {
   "cell_type": "code",
   "execution_count": 30,
   "metadata": {},
   "outputs": [
    {
     "data": {
      "text/plain": [
       "array([ 9,  8,  7,  1,  3,  5,  1,  2,  6, 10,  4])"
      ]
     },
     "execution_count": 30,
     "metadata": {},
     "output_type": "execute_result"
    }
   ],
   "source": [
    "selector.ranking_"
   ]
  },
  {
   "cell_type": "code",
   "execution_count": 31,
   "metadata": {},
   "outputs": [
    {
     "data": {
      "text/plain": [
       "Index(['month', 'day', 'FFMC', 'DMC', 'DC', 'ISI', 'temp', 'RH', 'wind',\n",
       "       'rain', 'location'],\n",
       "      dtype='object')"
      ]
     },
     "execution_count": 31,
     "metadata": {},
     "output_type": "execute_result"
    }
   ],
   "source": [
    "X.columns"
   ]
  },
  {
   "cell_type": "markdown",
   "metadata": {},
   "source": [
    "Selected = 'DMC', 'temp'"
   ]
  },
  {
   "cell_type": "markdown",
   "metadata": {},
   "source": [
    "### Create New Features"
   ]
  },
  {
   "cell_type": "markdown",
   "metadata": {},
   "source": [
    "Based on feature selection exploration using mutual information classification, chi-square, and RFE-CV, then varibles that will be used are 'DMC','DC','temp','location','area','month' "
   ]
  },
  {
   "cell_type": "code",
   "execution_count": 33,
   "metadata": {},
   "outputs": [],
   "source": [
    "X = data[['DMC','DC','temp','location','area','month']]\n",
    "y = data['area_categorical']"
   ]
  },
  {
   "cell_type": "code",
   "execution_count": 34,
   "metadata": {},
   "outputs": [],
   "source": [
    "from sklearn.model_selection import train_test_split\n",
    "\n",
    "X_train, X_valid, y_train, y_valid = train_test_split(X, y, \n",
    "                                                      train_size=0.8, \n",
    "                                                      test_size=0.2,\n",
    "                                                      random_state=42)"
   ]
  },
  {
   "cell_type": "code",
   "execution_count": 35,
   "metadata": {},
   "outputs": [
    {
     "name": "stderr",
     "output_type": "stream",
     "text": [
      "/opt/anaconda3/lib/python3.7/site-packages/ipykernel_launcher.py:1: SettingWithCopyWarning: \n",
      "A value is trying to be set on a copy of a slice from a DataFrame.\n",
      "Try using .loc[row_indexer,col_indexer] = value instead\n",
      "\n",
      "See the caveats in the documentation: https://pandas.pydata.org/pandas-docs/stable/user_guide/indexing.html#returning-a-view-versus-a-copy\n",
      "  \"\"\"Entry point for launching an IPython kernel.\n"
     ]
    }
   ],
   "source": [
    "X_train[\"area_month_max\"] = X_train.groupby(\"month\")[\"area\"].transform(\"max\")\n",
    "\n",
    "# Merge the values into the validation set\n",
    "X_valid = X_valid.merge(\n",
    "    X_train[[\"month\", \"area_month_max\"]].drop_duplicates(),\n",
    "    on=\"month\",\n",
    "    how=\"left\",\n",
    ")"
   ]
  },
  {
   "cell_type": "code",
   "execution_count": 36,
   "metadata": {},
   "outputs": [],
   "source": [
    "X_train = X_train.drop(['area','month'], axis = 1)\n",
    "X_valid = X_valid.drop(['area','month'], axis = 1)"
   ]
  },
  {
   "cell_type": "code",
   "execution_count": 37,
   "metadata": {},
   "outputs": [
    {
     "data": {
      "text/plain": [
       "Index(['DMC', 'DC', 'temp', 'location', 'area_month_max'], dtype='object')"
      ]
     },
     "execution_count": 37,
     "metadata": {},
     "output_type": "execute_result"
    }
   ],
   "source": [
    "X_train.columns"
   ]
  },
  {
   "cell_type": "markdown",
   "metadata": {},
   "source": [
    "#### Testing Model - RF"
   ]
  },
  {
   "cell_type": "code",
   "execution_count": 38,
   "metadata": {},
   "outputs": [
    {
     "data": {
      "text/plain": [
       "RandomForestClassifier(random_state=42)"
      ]
     },
     "execution_count": 38,
     "metadata": {},
     "output_type": "execute_result"
    }
   ],
   "source": [
    "model = RandomForestClassifier(random_state=42)\n",
    "model.fit(X_train, y_train)"
   ]
  },
  {
   "cell_type": "code",
   "execution_count": 39,
   "metadata": {},
   "outputs": [
    {
     "data": {
      "text/plain": [
       "DMC               False\n",
       "DC                False\n",
       "temp              False\n",
       "location          False\n",
       "area_month_max    False\n",
       "dtype: bool"
      ]
     },
     "execution_count": 39,
     "metadata": {},
     "output_type": "execute_result"
    }
   ],
   "source": [
    "X_valid.isnull().any()"
   ]
  },
  {
   "cell_type": "code",
   "execution_count": 40,
   "metadata": {},
   "outputs": [],
   "source": [
    "y_pred = model.predict(X_valid)"
   ]
  },
  {
   "cell_type": "code",
   "execution_count": 41,
   "metadata": {},
   "outputs": [
    {
     "name": "stdout",
     "output_type": "stream",
     "text": [
      "              precision    recall  f1-score   support\n",
      "\n",
      "           0       0.64      0.57      0.60        51\n",
      "           1       0.63      0.70      0.66        53\n",
      "\n",
      "    accuracy                           0.63       104\n",
      "   macro avg       0.64      0.63      0.63       104\n",
      "weighted avg       0.64      0.63      0.63       104\n",
      "\n"
     ]
    }
   ],
   "source": [
    "from sklearn.metrics import classification_report\n",
    "\n",
    "print(classification_report(y_valid, y_pred))"
   ]
  },
  {
   "cell_type": "code",
   "execution_count": 42,
   "metadata": {},
   "outputs": [
    {
     "data": {
      "text/html": [
       "<div>\n",
       "<style scoped>\n",
       "    .dataframe tbody tr th:only-of-type {\n",
       "        vertical-align: middle;\n",
       "    }\n",
       "\n",
       "    .dataframe tbody tr th {\n",
       "        vertical-align: top;\n",
       "    }\n",
       "\n",
       "    .dataframe thead th {\n",
       "        text-align: right;\n",
       "    }\n",
       "</style>\n",
       "<table border=\"1\" class=\"dataframe\">\n",
       "  <thead>\n",
       "    <tr style=\"text-align: right;\">\n",
       "      <th></th>\n",
       "      <th>0</th>\n",
       "      <th>1</th>\n",
       "    </tr>\n",
       "  </thead>\n",
       "  <tbody>\n",
       "    <tr>\n",
       "      <th>0</th>\n",
       "      <td>29</td>\n",
       "      <td>22</td>\n",
       "    </tr>\n",
       "    <tr>\n",
       "      <th>1</th>\n",
       "      <td>16</td>\n",
       "      <td>37</td>\n",
       "    </tr>\n",
       "  </tbody>\n",
       "</table>\n",
       "</div>"
      ],
      "text/plain": [
       "    0   1\n",
       "0  29  22\n",
       "1  16  37"
      ]
     },
     "execution_count": 42,
     "metadata": {},
     "output_type": "execute_result"
    }
   ],
   "source": [
    "from sklearn.metrics import confusion_matrix\n",
    "\n",
    "pd.DataFrame(confusion_matrix(y_valid, y_pred))"
   ]
  },
  {
   "cell_type": "code",
   "execution_count": 43,
   "metadata": {},
   "outputs": [],
   "source": [
    "y_pred_ = model.predict(X_train)"
   ]
  },
  {
   "cell_type": "code",
   "execution_count": 44,
   "metadata": {},
   "outputs": [
    {
     "name": "stdout",
     "output_type": "stream",
     "text": [
      "              precision    recall  f1-score   support\n",
      "\n",
      "           0       0.99      0.99      0.99       196\n",
      "           1       0.99      1.00      0.99       217\n",
      "\n",
      "    accuracy                           0.99       413\n",
      "   macro avg       0.99      0.99      0.99       413\n",
      "weighted avg       0.99      0.99      0.99       413\n",
      "\n"
     ]
    }
   ],
   "source": [
    "from sklearn.metrics import classification_report\n",
    "\n",
    "print(classification_report(y_train, y_pred_))"
   ]
  },
  {
   "cell_type": "code",
   "execution_count": 45,
   "metadata": {},
   "outputs": [
    {
     "data": {
      "text/html": [
       "<div>\n",
       "<style scoped>\n",
       "    .dataframe tbody tr th:only-of-type {\n",
       "        vertical-align: middle;\n",
       "    }\n",
       "\n",
       "    .dataframe tbody tr th {\n",
       "        vertical-align: top;\n",
       "    }\n",
       "\n",
       "    .dataframe thead th {\n",
       "        text-align: right;\n",
       "    }\n",
       "</style>\n",
       "<table border=\"1\" class=\"dataframe\">\n",
       "  <thead>\n",
       "    <tr style=\"text-align: right;\">\n",
       "      <th></th>\n",
       "      <th>0</th>\n",
       "      <th>1</th>\n",
       "    </tr>\n",
       "  </thead>\n",
       "  <tbody>\n",
       "    <tr>\n",
       "      <th>0</th>\n",
       "      <td>194</td>\n",
       "      <td>2</td>\n",
       "    </tr>\n",
       "    <tr>\n",
       "      <th>1</th>\n",
       "      <td>1</td>\n",
       "      <td>216</td>\n",
       "    </tr>\n",
       "  </tbody>\n",
       "</table>\n",
       "</div>"
      ],
      "text/plain": [
       "     0    1\n",
       "0  194    2\n",
       "1    1  216"
      ]
     },
     "execution_count": 45,
     "metadata": {},
     "output_type": "execute_result"
    }
   ],
   "source": [
    "from sklearn.metrics import confusion_matrix\n",
    "\n",
    "pd.DataFrame(confusion_matrix(y_train, y_pred_))"
   ]
  },
  {
   "cell_type": "markdown",
   "metadata": {},
   "source": [
    "There is huge discrepancy between training and testing F1 Score, meaning there is overfitting"
   ]
  },
  {
   "cell_type": "markdown",
   "metadata": {},
   "source": [
    "---"
   ]
  },
  {
   "cell_type": "markdown",
   "metadata": {},
   "source": [
    "# ANN"
   ]
  },
  {
   "cell_type": "code",
   "execution_count": 46,
   "metadata": {},
   "outputs": [],
   "source": [
    "import tensorflow\n",
    "from tensorflow import keras\n",
    "from tensorflow.keras.layers import Dense\n",
    "from tensorflow.keras.models import Sequential\n",
    "from tensorflow.keras.layers import Dropout\n",
    "from tensorflow.keras.callbacks import ModelCheckpoint"
   ]
  },
  {
   "cell_type": "code",
   "execution_count": 47,
   "metadata": {},
   "outputs": [
    {
     "data": {
      "text/plain": [
       "(413, 5)"
      ]
     },
     "execution_count": 47,
     "metadata": {},
     "output_type": "execute_result"
    }
   ],
   "source": [
    "X_train.shape"
   ]
  },
  {
   "cell_type": "markdown",
   "metadata": {},
   "source": [
    "# Number of Neurons\n",
    "\n",
    "https://towardsdatascience.com/the-secret-neural-network-formula-70b41f0da767"
   ]
  },
  {
   "cell_type": "code",
   "execution_count": 48,
   "metadata": {},
   "outputs": [
    {
     "data": {
      "text/plain": [
       "34.416666666666664"
      ]
     },
     "execution_count": 48,
     "metadata": {},
     "output_type": "execute_result"
    }
   ],
   "source": [
    "N_max=413/(2*(5+1))\n",
    "N_max"
   ]
  },
  {
   "cell_type": "code",
   "execution_count": 49,
   "metadata": {},
   "outputs": [
    {
     "data": {
      "text/plain": [
       "6.883333333333334"
      ]
     },
     "execution_count": 49,
     "metadata": {},
     "output_type": "execute_result"
    }
   ],
   "source": [
    "N_min=413/(10*(5+1))\n",
    "N_min"
   ]
  },
  {
   "cell_type": "markdown",
   "metadata": {},
   "source": [
    "---"
   ]
  },
  {
   "cell_type": "markdown",
   "metadata": {},
   "source": [
    "# Hyperparameter Tuning"
   ]
  },
  {
   "cell_type": "code",
   "execution_count": 276,
   "metadata": {},
   "outputs": [],
   "source": [
    "import keras_tuner as kt"
   ]
  },
  {
   "cell_type": "code",
   "execution_count": 277,
   "metadata": {},
   "outputs": [],
   "source": [
    "def model_builder(hp):\n",
    "  model = keras.Sequential()\n",
    "  model.add(Dense(10, input_shape=(5,), activation='relu', kernel_initializer = 'he_uniform'))\n",
    "  model.add(Dropout(rate=0.2))\n",
    "\n",
    "  hp_units_1 = hp.Int('units_1', min_value=4, max_value=32, step=2)\n",
    "  model.add(keras.layers.Dense(units=hp_units_1, activation='relu', kernel_initializer = 'he_uniform'))\n",
    "  model.add(Dropout(rate=0.2))\n",
    "    \n",
    "  hp_units_2 = hp.Int('units_2', min_value=4, max_value=32, step=2)  \n",
    "  model.add(keras.layers.Dense(units=hp_units_2, activation='relu', kernel_initializer = 'he_uniform'))\n",
    "  model.add(Dropout(rate=0.2))\n",
    "\n",
    "  hp_units_3 = hp.Int('units_3', min_value=4, max_value=32, step=2)  \n",
    "  model.add(keras.layers.Dense(units=hp_units_3, activation='relu', kernel_initializer = 'he_uniform'))\n",
    "  model.add(Dropout(rate=0.2))\n",
    "    \n",
    "  model.add(Dense(1, activation='sigmoid'))\n",
    "\n",
    "  model.compile(optimizer='adam',\n",
    "                loss='binary_crossentropy',\n",
    "                metrics=[tensorflow.keras.metrics.AUC()])\n",
    "\n",
    "  return model"
   ]
  },
  {
   "cell_type": "code",
   "execution_count": 278,
   "metadata": {},
   "outputs": [],
   "source": [
    "tuner = kt.Hyperband(model_builder,\n",
    "                     objective=kt.Objective(\"auc\", direction=\"max\"),\n",
    "                     max_epochs=300,\n",
    "                     directory='my_dir',\n",
    "                     project_name='intro_to_kt_45')"
   ]
  },
  {
   "cell_type": "code",
   "execution_count": 279,
   "metadata": {},
   "outputs": [],
   "source": [
    "stop_early = tensorflow.keras.callbacks.EarlyStopping(monitor='val_loss', patience=5, mode='min')"
   ]
  },
  {
   "cell_type": "code",
   "execution_count": 280,
   "metadata": {},
   "outputs": [
    {
     "name": "stdout",
     "output_type": "stream",
     "text": [
      "Trial 725 Complete [00h 00m 04s]\n",
      "auc: 0.6303597092628479\n",
      "\n",
      "Best auc So Far: 0.6303597092628479\n",
      "Total elapsed time: 00h 24m 34s\n",
      "INFO:tensorflow:Oracle triggered exit\n"
     ]
    }
   ],
   "source": [
    "tuner.search(X_train, \n",
    "             y_train, \n",
    "             epochs=300, \n",
    "             validation_split=0.3, \n",
    "             callbacks=[stop_early],\n",
    "             batch_size=64)\n",
    "\n",
    "# Get the optimal hyperparameters\n",
    "best_hps=tuner.get_best_hyperparameters(num_trials=20)[0]"
   ]
  },
  {
   "cell_type": "code",
   "execution_count": 281,
   "metadata": {},
   "outputs": [
    {
     "data": {
      "text/plain": [
       "16"
      ]
     },
     "execution_count": 281,
     "metadata": {},
     "output_type": "execute_result"
    }
   ],
   "source": [
    "best_hps.get('units_1')"
   ]
  },
  {
   "cell_type": "code",
   "execution_count": 282,
   "metadata": {},
   "outputs": [
    {
     "data": {
      "text/plain": [
       "20"
      ]
     },
     "execution_count": 282,
     "metadata": {},
     "output_type": "execute_result"
    }
   ],
   "source": [
    "best_hps.get('units_2')"
   ]
  },
  {
   "cell_type": "code",
   "execution_count": 283,
   "metadata": {},
   "outputs": [
    {
     "data": {
      "text/plain": [
       "14"
      ]
     },
     "execution_count": 283,
     "metadata": {},
     "output_type": "execute_result"
    }
   ],
   "source": [
    "best_hps.get('units_3')"
   ]
  },
  {
   "cell_type": "markdown",
   "metadata": {},
   "source": [
    "---"
   ]
  },
  {
   "cell_type": "markdown",
   "metadata": {},
   "source": [
    "# Experiment I - Relu, Adam"
   ]
  },
  {
   "cell_type": "code",
   "execution_count": 327,
   "metadata": {},
   "outputs": [
    {
     "name": "stdout",
     "output_type": "stream",
     "text": [
      "Epoch 1/100\n",
      "5/5 [==============================] - 0s 65ms/step - loss: 106.4003 - auc_3: 0.4864 - val_loss: 67.5400 - val_auc_3: 0.5000\n",
      "Epoch 2/100\n",
      "5/5 [==============================] - 0s 12ms/step - loss: 88.4283 - auc_3: 0.5165 - val_loss: 41.3798 - val_auc_3: 0.5000\n",
      "Epoch 3/100\n",
      "5/5 [==============================] - 0s 12ms/step - loss: 83.5466 - auc_3: 0.5174 - val_loss: 17.2804 - val_auc_3: 0.4912\n",
      "Epoch 4/100\n",
      "5/5 [==============================] - 0s 9ms/step - loss: 67.4732 - auc_3: 0.4992 - val_loss: 5.1148 - val_auc_3: 0.5156\n",
      "Epoch 5/100\n",
      "5/5 [==============================] - 0s 8ms/step - loss: 68.3568 - auc_3: 0.5051 - val_loss: 4.7244 - val_auc_3: 0.5288\n",
      "Epoch 6/100\n",
      "5/5 [==============================] - 0s 13ms/step - loss: 63.7770 - auc_3: 0.5232 - val_loss: 6.9912 - val_auc_3: 0.5458\n",
      "Epoch 7/100\n",
      "5/5 [==============================] - 0s 6ms/step - loss: 58.8974 - auc_3: 0.4941 - val_loss: 8.8287 - val_auc_3: 0.5478\n",
      "Epoch 8/100\n",
      "5/5 [==============================] - 0s 11ms/step - loss: 52.3275 - auc_3: 0.4743 - val_loss: 9.1706 - val_auc_3: 0.5655\n",
      "Epoch 9/100\n",
      "5/5 [==============================] - 0s 7ms/step - loss: 45.4178 - auc_3: 0.5259 - val_loss: 8.5798 - val_auc_3: 0.5547\n",
      "Epoch 10/100\n",
      "5/5 [==============================] - 0s 8ms/step - loss: 50.8918 - auc_3: 0.4681 - val_loss: 8.3222 - val_auc_3: 0.5535\n"
     ]
    }
   ],
   "source": [
    "# Define Model\n",
    "\n",
    "model_1 = Sequential()\n",
    "\n",
    "model_1.add(Dense(10, input_shape=(5,), activation='relu', kernel_initializer = 'he_uniform'))\n",
    "model_1.add(Dropout(rate=0.2))\n",
    "\n",
    "model_1.add(Dense(16, activation='relu', kernel_initializer = 'he_uniform'))\n",
    "model_1.add(Dropout(rate=0.2))\n",
    "\n",
    "model_1.add(Dense(20, activation='relu', kernel_initializer = 'he_uniform'))\n",
    "model_1.add(Dropout(rate=0.2))\n",
    "\n",
    "model_1.add(Dense(14, activation='relu', kernel_initializer = 'he_uniform'))\n",
    "model_1.add(Dropout(rate=0.2))\n",
    "\n",
    "model_1.add(Dense(1, activation='sigmoid'))\n",
    "\n",
    "# Compile model\n",
    "model_1.compile(loss='binary_crossentropy', \n",
    "              optimizer='adam', \n",
    "              metrics=[tensorflow.keras.metrics.AUC()])\n",
    "    \n",
    "stop_early = tensorflow.keras.callbacks.EarlyStopping(monitor='val_loss', patience=5, mode='min')\n",
    "\n",
    "# Fit model\n",
    "history = model_1.fit(X_train, \n",
    "                    y_train,\n",
    "                    epochs=100,\n",
    "                    validation_split=0.3,\n",
    "                    callbacks=[stop_early],\n",
    "                    batch_size=64)"
   ]
  },
  {
   "cell_type": "code",
   "execution_count": 328,
   "metadata": {},
   "outputs": [],
   "source": [
    "y_pred = model_1.predict_classes(X_valid)"
   ]
  },
  {
   "cell_type": "code",
   "execution_count": 329,
   "metadata": {},
   "outputs": [
    {
     "name": "stdout",
     "output_type": "stream",
     "text": [
      "              precision    recall  f1-score   support\n",
      "\n",
      "           0       0.69      0.22      0.33        51\n",
      "           1       0.55      0.91      0.68        53\n",
      "\n",
      "    accuracy                           0.57       104\n",
      "   macro avg       0.62      0.56      0.50       104\n",
      "weighted avg       0.62      0.57      0.51       104\n",
      "\n"
     ]
    }
   ],
   "source": [
    "from sklearn.metrics import classification_report\n",
    "\n",
    "print(classification_report(y_valid, y_pred))"
   ]
  },
  {
   "cell_type": "code",
   "execution_count": 330,
   "metadata": {},
   "outputs": [
    {
     "data": {
      "text/html": [
       "<div>\n",
       "<style scoped>\n",
       "    .dataframe tbody tr th:only-of-type {\n",
       "        vertical-align: middle;\n",
       "    }\n",
       "\n",
       "    .dataframe tbody tr th {\n",
       "        vertical-align: top;\n",
       "    }\n",
       "\n",
       "    .dataframe thead th {\n",
       "        text-align: right;\n",
       "    }\n",
       "</style>\n",
       "<table border=\"1\" class=\"dataframe\">\n",
       "  <thead>\n",
       "    <tr style=\"text-align: right;\">\n",
       "      <th></th>\n",
       "      <th>0</th>\n",
       "      <th>1</th>\n",
       "    </tr>\n",
       "  </thead>\n",
       "  <tbody>\n",
       "    <tr>\n",
       "      <th>0</th>\n",
       "      <td>11</td>\n",
       "      <td>40</td>\n",
       "    </tr>\n",
       "    <tr>\n",
       "      <th>1</th>\n",
       "      <td>5</td>\n",
       "      <td>48</td>\n",
       "    </tr>\n",
       "  </tbody>\n",
       "</table>\n",
       "</div>"
      ],
      "text/plain": [
       "    0   1\n",
       "0  11  40\n",
       "1   5  48"
      ]
     },
     "execution_count": 330,
     "metadata": {},
     "output_type": "execute_result"
    }
   ],
   "source": [
    "from sklearn.metrics import confusion_matrix\n",
    "\n",
    "pd.DataFrame(confusion_matrix(y_valid, y_pred))"
   ]
  },
  {
   "cell_type": "code",
   "execution_count": 331,
   "metadata": {},
   "outputs": [
    {
     "data": {
      "image/png": "[encoded data removed]",
      "text/plain": [
       "<Figure size 432x288 with 1 Axes>"
      ]
     },
     "metadata": {
      "needs_background": "light"
     },
     "output_type": "display_data"
    }
   ],
   "source": [
    "# plot train and validation loss\n",
    "\n",
    "plt.plot(history.history['loss'])\n",
    "plt.plot(history.history['val_loss'])\n",
    "plt.title('Train vs Validation Loss')\n",
    "plt.ylabel('Loss')\n",
    "plt.xlabel('Epoch')\n",
    "plt.legend(['Train', 'Validation'], loc='upper right')\n",
    "plt.show()"
   ]
  },
  {
   "cell_type": "code",
   "execution_count": 332,
   "metadata": {},
   "outputs": [
    {
     "name": "stdout",
     "output_type": "stream",
     "text": [
      "INFO:tensorflow:Assets written to: model_experiment_1/assets\n"
     ]
    }
   ],
   "source": [
    "model_1.save(\"model_experiment_1\")"
   ]
  },
  {
   "cell_type": "markdown",
   "metadata": {},
   "source": [
    "---"
   ]
  },
  {
   "cell_type": "markdown",
   "metadata": {},
   "source": [
    "# Experiment 2 - Batch"
   ]
  },
  {
   "cell_type": "code",
   "execution_count": 345,
   "metadata": {},
   "outputs": [],
   "source": [
    "def fit_model(X_train, y_train, X_valid, y_valid, n_batch):\n",
    "\n",
    "    model_2 = Sequential()\n",
    "\n",
    "    model_2.add(Dense(10, input_shape=(5,), activation='relu', kernel_initializer = 'he_uniform'))\n",
    "    model_2.add(Dropout(rate=0.2))\n",
    "\n",
    "    model_2.add(Dense(16, activation='relu', kernel_initializer = 'he_uniform'))\n",
    "    model_2.add(Dropout(rate=0.2))\n",
    "\n",
    "    model_2.add(Dense(20, activation='relu', kernel_initializer = 'he_uniform'))\n",
    "    model_2.add(Dropout(rate=0.2))\n",
    "\n",
    "    model_2.add(Dense(14, activation='relu', kernel_initializer = 'he_uniform'))\n",
    "    model_2.add(Dropout(rate=0.2))\n",
    "\n",
    "    model_2.add(Dense(1, activation='sigmoid'))\n",
    "\n",
    "    # Compile model\n",
    "    model_2.compile(loss='binary_crossentropy', \n",
    "              optimizer='adam', \n",
    "              metrics=[tensorflow.keras.metrics.AUC()])\n",
    "    \n",
    "    stop_early = tensorflow.keras.callbacks.EarlyStopping(monitor='val_loss', patience=5, mode='min')\n",
    "\n",
    "    # Fit model\n",
    "    history = model_2.fit(X_train, \n",
    "                    y_train, \n",
    "                    validation_split=0.3,\n",
    "                    epochs=500,\n",
    "                    callbacks=[stop_early],\n",
    "                    batch_size=n_batch,\n",
    "                    verbose=0)\n",
    "    \n",
    "    plt.plot(history.history['loss'])\n",
    "    plt.plot(history.history['val_loss'])\n",
    "    plt.title('batch='+str(n_batch))\n",
    "    plt.ylabel('Loss')\n",
    "    plt.xlabel('Epoch')\n",
    "    plt.legend(['Train', 'Validation'], loc='upper right')"
   ]
  },
  {
   "cell_type": "code",
   "execution_count": 346,
   "metadata": {},
   "outputs": [
    {
     "data": {
      "image/png": "[encoded data removed]",
      "text/plain": [
       "<Figure size 1440x1440 with 7 Axes>"
      ]
     },
     "metadata": {
      "needs_background": "light"
     },
     "output_type": "display_data"
    }
   ],
   "source": [
    "# create learning curves for different batch sizes\n",
    "batch_sizes = [4, 8, 16, 32, 64, 128, 256]\n",
    "\n",
    "plt.figure(figsize=(20, 20))\n",
    "\n",
    "for i in range(len(batch_sizes)):\n",
    "    plot_no = 420 + (i+1)\n",
    "    plt.subplot(plot_no)\n",
    "    \n",
    "    fit_model(X_train, y_train, X_valid, y_valid, batch_sizes[i])\n",
    "plt.show()"
   ]
  },
  {
   "cell_type": "code",
   "execution_count": 351,
   "metadata": {},
   "outputs": [
    {
     "data": {
      "image/png": "[encoded data removed]",
      "text/plain": [
       "<Figure size 432x288 with 1 Axes>"
      ]
     },
     "metadata": {
      "needs_background": "light"
     },
     "output_type": "display_data"
    }
   ],
   "source": [
    "model_2 = Sequential()\n",
    "\n",
    "model_2.add(Dense(10, input_shape=(5,), activation='relu', kernel_initializer = 'he_uniform'))\n",
    "model_2.add(Dropout(rate=0.2))\n",
    "\n",
    "model_2.add(Dense(16, activation='relu', kernel_initializer = 'he_uniform'))\n",
    "model_2.add(Dropout(rate=0.2))\n",
    "\n",
    "model_2.add(Dense(20, activation='relu', kernel_initializer = 'he_uniform'))\n",
    "model_2.add(Dropout(rate=0.2))\n",
    "\n",
    "model_2.add(Dense(14, activation='relu', kernel_initializer = 'he_uniform'))\n",
    "model_2.add(Dropout(rate=0.2))\n",
    "\n",
    "model_2.add(Dense(1, activation='sigmoid'))\n",
    "\n",
    "# Compile model\n",
    "model_2.compile(loss='binary_crossentropy', \n",
    "            optimizer='adam', \n",
    "            metrics=[tensorflow.keras.metrics.AUC()])\n",
    "    \n",
    "stop_early = tensorflow.keras.callbacks.EarlyStopping(monitor='val_loss', patience=5, mode='min')\n",
    "\n",
    "# Fit model\n",
    "history = model_2.fit(X_train, \n",
    "                    y_train, \n",
    "                    validation_split=0.3,\n",
    "                    epochs=100,\n",
    "                    callbacks=[stop_early],\n",
    "                    batch_size=4,\n",
    "                    verbose=0)\n",
    "    \n",
    "plt.plot(history.history['loss'])\n",
    "plt.plot(history.history['val_loss'])\n",
    "plt.title('batch='+str(4))\n",
    "plt.ylabel('Loss')\n",
    "plt.xlabel('Epoch')\n",
    "plt.legend(['Train', 'Validation'], loc='upper right')\n",
    "plt.show()"
   ]
  },
  {
   "cell_type": "code",
   "execution_count": 352,
   "metadata": {},
   "outputs": [],
   "source": [
    "y_pred = model_2.predict_classes(X_valid)"
   ]
  },
  {
   "cell_type": "code",
   "execution_count": 353,
   "metadata": {},
   "outputs": [
    {
     "name": "stdout",
     "output_type": "stream",
     "text": [
      "              precision    recall  f1-score   support\n",
      "\n",
      "           0       0.55      0.65      0.59        51\n",
      "           1       0.59      0.49      0.54        53\n",
      "\n",
      "    accuracy                           0.57       104\n",
      "   macro avg       0.57      0.57      0.57       104\n",
      "weighted avg       0.57      0.57      0.56       104\n",
      "\n"
     ]
    }
   ],
   "source": [
    "from sklearn.metrics import classification_report\n",
    "\n",
    "print(classification_report(y_valid, y_pred))"
   ]
  },
  {
   "cell_type": "code",
   "execution_count": 354,
   "metadata": {},
   "outputs": [
    {
     "data": {
      "text/html": [
       "<div>\n",
       "<style scoped>\n",
       "    .dataframe tbody tr th:only-of-type {\n",
       "        vertical-align: middle;\n",
       "    }\n",
       "\n",
       "    .dataframe tbody tr th {\n",
       "        vertical-align: top;\n",
       "    }\n",
       "\n",
       "    .dataframe thead th {\n",
       "        text-align: right;\n",
       "    }\n",
       "</style>\n",
       "<table border=\"1\" class=\"dataframe\">\n",
       "  <thead>\n",
       "    <tr style=\"text-align: right;\">\n",
       "      <th></th>\n",
       "      <th>0</th>\n",
       "      <th>1</th>\n",
       "    </tr>\n",
       "  </thead>\n",
       "  <tbody>\n",
       "    <tr>\n",
       "      <th>0</th>\n",
       "      <td>33</td>\n",
       "      <td>18</td>\n",
       "    </tr>\n",
       "    <tr>\n",
       "      <th>1</th>\n",
       "      <td>27</td>\n",
       "      <td>26</td>\n",
       "    </tr>\n",
       "  </tbody>\n",
       "</table>\n",
       "</div>"
      ],
      "text/plain": [
       "    0   1\n",
       "0  33  18\n",
       "1  27  26"
      ]
     },
     "execution_count": 354,
     "metadata": {},
     "output_type": "execute_result"
    }
   ],
   "source": [
    "from sklearn.metrics import confusion_matrix\n",
    "\n",
    "pd.DataFrame(confusion_matrix(y_valid, y_pred))"
   ]
  },
  {
   "cell_type": "code",
   "execution_count": 355,
   "metadata": {},
   "outputs": [
    {
     "name": "stdout",
     "output_type": "stream",
     "text": [
      "INFO:tensorflow:Assets written to: model_experiment_2/assets\n"
     ]
    }
   ],
   "source": [
    "model_2.save(\"model_experiment_2\")"
   ]
  },
  {
   "cell_type": "markdown",
   "metadata": {},
   "source": [
    "---"
   ]
  },
  {
   "cell_type": "markdown",
   "metadata": {},
   "source": [
    "# Experiment 3 - OHE"
   ]
  },
  {
   "cell_type": "code",
   "execution_count": 356,
   "metadata": {},
   "outputs": [],
   "source": [
    "from sklearn.preprocessing import OneHotEncoder\n",
    "\n",
    "ohe = OneHotEncoder(sparse=False, handle_unknown=\"ignore\")\n",
    "data_ohe = ohe.fit_transform(data[['month','day']])\n",
    "\n",
    "data_ohe = pd.DataFrame(data_ohe, columns=[f\"ohe_{i}\" for i in range(data_ohe.shape[1])])\n",
    "\n",
    "data = pd.concat([data, data_ohe], axis=1)"
   ]
  },
  {
   "cell_type": "code",
   "execution_count": 357,
   "metadata": {},
   "outputs": [
    {
     "data": {
      "text/plain": [
       "Index(['X', 'Y', 'month', 'day', 'FFMC', 'DMC', 'DC', 'ISI', 'temp', 'RH',\n",
       "       'wind', 'rain', 'area', 'area_categorical', 'location', 'ohe_0',\n",
       "       'ohe_1', 'ohe_2', 'ohe_3', 'ohe_4', 'ohe_5', 'ohe_6', 'ohe_7', 'ohe_8',\n",
       "       'ohe_9', 'ohe_10', 'ohe_11', 'ohe_12', 'ohe_13', 'ohe_14', 'ohe_15',\n",
       "       'ohe_16', 'ohe_17', 'ohe_18'],\n",
       "      dtype='object')"
      ]
     },
     "execution_count": 357,
     "metadata": {},
     "output_type": "execute_result"
    }
   ],
   "source": [
    "data.columns"
   ]
  },
  {
   "cell_type": "code",
   "execution_count": 358,
   "metadata": {},
   "outputs": [],
   "source": [
    "X = data[['DMC','DC','temp','location','area','month',\n",
    "        'ohe_0','ohe_1', 'ohe_2', 'ohe_3', 'ohe_4', 'ohe_5', \n",
    "        'ohe_6', 'ohe_7', 'ohe_8','ohe_9', 'ohe_10', 'ohe_11', \n",
    "        'ohe_12', 'ohe_13', 'ohe_14', 'ohe_15','ohe_16', 'ohe_17', \n",
    "        'ohe_18']]\n",
    "y = data['area_categorical']"
   ]
  },
  {
   "cell_type": "code",
   "execution_count": 359,
   "metadata": {},
   "outputs": [],
   "source": [
    "from sklearn.model_selection import train_test_split\n",
    "\n",
    "X_train, X_valid, y_train, y_valid = train_test_split(X, y, \n",
    "                                                      train_size=0.7, \n",
    "                                                      test_size=0.3,\n",
    "                                                      random_state=42)"
   ]
  },
  {
   "cell_type": "code",
   "execution_count": 360,
   "metadata": {},
   "outputs": [
    {
     "name": "stderr",
     "output_type": "stream",
     "text": [
      "/opt/anaconda3/lib/python3.7/site-packages/ipykernel_launcher.py:1: SettingWithCopyWarning: \n",
      "A value is trying to be set on a copy of a slice from a DataFrame.\n",
      "Try using .loc[row_indexer,col_indexer] = value instead\n",
      "\n",
      "See the caveats in the documentation: https://pandas.pydata.org/pandas-docs/stable/user_guide/indexing.html#returning-a-view-versus-a-copy\n",
      "  \"\"\"Entry point for launching an IPython kernel.\n"
     ]
    }
   ],
   "source": [
    "X_train[\"area_month_max\"] = X_train.groupby(\"month\")[\"area\"].transform(\"max\")\n",
    "\n",
    "# Merge the values into the validation set\n",
    "X_valid = X_valid.merge(\n",
    "    X_train[[\"month\", \"area_month_max\"]].drop_duplicates(),\n",
    "    on=\"month\",\n",
    "    how=\"left\",\n",
    ")"
   ]
  },
  {
   "cell_type": "code",
   "execution_count": 361,
   "metadata": {},
   "outputs": [],
   "source": [
    "X_train = X_train.drop(['area','month'], axis = 1)\n",
    "X_valid = X_valid.drop(['area','month'], axis = 1)"
   ]
  },
  {
   "cell_type": "code",
   "execution_count": 366,
   "metadata": {},
   "outputs": [
    {
     "data": {
      "text/plain": [
       "Index(['DMC', 'DC', 'temp', 'location', 'ohe_0', 'ohe_1', 'ohe_2', 'ohe_3',\n",
       "       'ohe_4', 'ohe_5', 'ohe_6', 'ohe_7', 'ohe_8', 'ohe_9', 'ohe_10',\n",
       "       'ohe_11', 'ohe_12', 'ohe_13', 'ohe_14', 'ohe_15', 'ohe_16', 'ohe_17',\n",
       "       'ohe_18', 'area_month_max'],\n",
       "      dtype='object')"
      ]
     },
     "execution_count": 366,
     "metadata": {},
     "output_type": "execute_result"
    }
   ],
   "source": [
    "X_train.columns"
   ]
  },
  {
   "cell_type": "markdown",
   "metadata": {},
   "source": [
    "### Testing RF"
   ]
  },
  {
   "cell_type": "code",
   "execution_count": 367,
   "metadata": {},
   "outputs": [
    {
     "data": {
      "text/plain": [
       "RandomForestClassifier(random_state=42)"
      ]
     },
     "execution_count": 367,
     "metadata": {},
     "output_type": "execute_result"
    }
   ],
   "source": [
    "model = RandomForestClassifier(random_state=42)\n",
    "model.fit(X_train, y_train)"
   ]
  },
  {
   "cell_type": "code",
   "execution_count": 368,
   "metadata": {},
   "outputs": [],
   "source": [
    "y_pred = model.predict(X_valid)"
   ]
  },
  {
   "cell_type": "code",
   "execution_count": 369,
   "metadata": {},
   "outputs": [
    {
     "name": "stdout",
     "output_type": "stream",
     "text": [
      "              precision    recall  f1-score   support\n",
      "\n",
      "           0       0.58      0.55      0.56        77\n",
      "           1       0.58      0.61      0.59        79\n",
      "\n",
      "    accuracy                           0.58       156\n",
      "   macro avg       0.58      0.58      0.58       156\n",
      "weighted avg       0.58      0.58      0.58       156\n",
      "\n"
     ]
    }
   ],
   "source": [
    "from sklearn.metrics import classification_report\n",
    "\n",
    "print(classification_report(y_valid, y_pred))"
   ]
  },
  {
   "cell_type": "code",
   "execution_count": 370,
   "metadata": {},
   "outputs": [
    {
     "data": {
      "text/html": [
       "<div>\n",
       "<style scoped>\n",
       "    .dataframe tbody tr th:only-of-type {\n",
       "        vertical-align: middle;\n",
       "    }\n",
       "\n",
       "    .dataframe tbody tr th {\n",
       "        vertical-align: top;\n",
       "    }\n",
       "\n",
       "    .dataframe thead th {\n",
       "        text-align: right;\n",
       "    }\n",
       "</style>\n",
       "<table border=\"1\" class=\"dataframe\">\n",
       "  <thead>\n",
       "    <tr style=\"text-align: right;\">\n",
       "      <th></th>\n",
       "      <th>0</th>\n",
       "      <th>1</th>\n",
       "    </tr>\n",
       "  </thead>\n",
       "  <tbody>\n",
       "    <tr>\n",
       "      <th>0</th>\n",
       "      <td>42</td>\n",
       "      <td>35</td>\n",
       "    </tr>\n",
       "    <tr>\n",
       "      <th>1</th>\n",
       "      <td>31</td>\n",
       "      <td>48</td>\n",
       "    </tr>\n",
       "  </tbody>\n",
       "</table>\n",
       "</div>"
      ],
      "text/plain": [
       "    0   1\n",
       "0  42  35\n",
       "1  31  48"
      ]
     },
     "execution_count": 370,
     "metadata": {},
     "output_type": "execute_result"
    }
   ],
   "source": [
    "from sklearn.metrics import confusion_matrix\n",
    "\n",
    "pd.DataFrame(confusion_matrix(y_valid, y_pred))"
   ]
  },
  {
   "cell_type": "code",
   "execution_count": 371,
   "metadata": {},
   "outputs": [],
   "source": [
    "y_pred_ = model.predict(X_train)"
   ]
  },
  {
   "cell_type": "code",
   "execution_count": 372,
   "metadata": {},
   "outputs": [
    {
     "name": "stdout",
     "output_type": "stream",
     "text": [
      "              precision    recall  f1-score   support\n",
      "\n",
      "           0       1.00      0.98      0.99       170\n",
      "           1       0.98      1.00      0.99       191\n",
      "\n",
      "    accuracy                           0.99       361\n",
      "   macro avg       0.99      0.99      0.99       361\n",
      "weighted avg       0.99      0.99      0.99       361\n",
      "\n"
     ]
    }
   ],
   "source": [
    "from sklearn.metrics import classification_report\n",
    "\n",
    "print(classification_report(y_train, y_pred_))"
   ]
  },
  {
   "cell_type": "code",
   "execution_count": 373,
   "metadata": {},
   "outputs": [
    {
     "data": {
      "text/html": [
       "<div>\n",
       "<style scoped>\n",
       "    .dataframe tbody tr th:only-of-type {\n",
       "        vertical-align: middle;\n",
       "    }\n",
       "\n",
       "    .dataframe tbody tr th {\n",
       "        vertical-align: top;\n",
       "    }\n",
       "\n",
       "    .dataframe thead th {\n",
       "        text-align: right;\n",
       "    }\n",
       "</style>\n",
       "<table border=\"1\" class=\"dataframe\">\n",
       "  <thead>\n",
       "    <tr style=\"text-align: right;\">\n",
       "      <th></th>\n",
       "      <th>0</th>\n",
       "      <th>1</th>\n",
       "    </tr>\n",
       "  </thead>\n",
       "  <tbody>\n",
       "    <tr>\n",
       "      <th>0</th>\n",
       "      <td>167</td>\n",
       "      <td>3</td>\n",
       "    </tr>\n",
       "    <tr>\n",
       "      <th>1</th>\n",
       "      <td>0</td>\n",
       "      <td>191</td>\n",
       "    </tr>\n",
       "  </tbody>\n",
       "</table>\n",
       "</div>"
      ],
      "text/plain": [
       "     0    1\n",
       "0  167    3\n",
       "1    0  191"
      ]
     },
     "execution_count": 373,
     "metadata": {},
     "output_type": "execute_result"
    }
   ],
   "source": [
    "from sklearn.metrics import confusion_matrix\n",
    "\n",
    "pd.DataFrame(confusion_matrix(y_train, y_pred_))"
   ]
  },
  {
   "cell_type": "markdown",
   "metadata": {},
   "source": [
    "### ANN"
   ]
  },
  {
   "cell_type": "code",
   "execution_count": 374,
   "metadata": {},
   "outputs": [
    {
     "data": {
      "text/plain": [
       "(361, 24)"
      ]
     },
     "execution_count": 374,
     "metadata": {},
     "output_type": "execute_result"
    }
   ],
   "source": [
    "X_train.shape"
   ]
  },
  {
   "cell_type": "code",
   "execution_count": 375,
   "metadata": {},
   "outputs": [],
   "source": [
    "def model_builder(hp):\n",
    "  model = keras.Sequential()\n",
    "  model.add(Dense(10, input_shape=(24,), activation='relu', kernel_initializer = 'he_uniform'))\n",
    "  model.add(Dropout(rate=0.2))\n",
    "\n",
    "  hp_units_1 = hp.Int('units_1', min_value=4, max_value=32, step=2)\n",
    "  model.add(keras.layers.Dense(units=hp_units_1, activation='relu', kernel_initializer = 'he_uniform'))\n",
    "  model.add(Dropout(rate=0.2))\n",
    "    \n",
    "  hp_units_2 = hp.Int('units_2', min_value=4, max_value=32, step=2)  \n",
    "  model.add(keras.layers.Dense(units=hp_units_2, activation='relu', kernel_initializer = 'he_uniform'))\n",
    "  model.add(Dropout(rate=0.2))\n",
    "\n",
    "  hp_units_3 = hp.Int('units_3', min_value=4, max_value=32, step=2)  \n",
    "  model.add(keras.layers.Dense(units=hp_units_3, activation='relu', kernel_initializer = 'he_uniform'))\n",
    "  model.add(Dropout(rate=0.2))\n",
    "    \n",
    "  model.add(Dense(1, activation='sigmoid'))\n",
    "\n",
    "  model.compile(optimizer='adam',\n",
    "                loss='binary_crossentropy',\n",
    "                metrics=[tensorflow.keras.metrics.AUC()])\n",
    "\n",
    "  return model"
   ]
  },
  {
   "cell_type": "code",
   "execution_count": 376,
   "metadata": {},
   "outputs": [],
   "source": [
    "tuner = kt.Hyperband(model_builder,\n",
    "                     objective=kt.Objective(\"auc\", direction=\"max\"),\n",
    "                     max_epochs=300,\n",
    "                     directory='my_dir',\n",
    "                     project_name='intro_to_kt_50')"
   ]
  },
  {
   "cell_type": "code",
   "execution_count": 377,
   "metadata": {},
   "outputs": [],
   "source": [
    "stop_early = tensorflow.keras.callbacks.EarlyStopping(monitor='val_loss', patience=5, mode='min')"
   ]
  },
  {
   "cell_type": "code",
   "execution_count": 378,
   "metadata": {},
   "outputs": [
    {
     "name": "stdout",
     "output_type": "stream",
     "text": [
      "Trial 725 Complete [00h 00m 01s]\n",
      "auc: 0.5459592342376709\n",
      "\n",
      "Best auc So Far: 0.6158287525177002\n",
      "Total elapsed time: 00h 23m 25s\n",
      "INFO:tensorflow:Oracle triggered exit\n"
     ]
    }
   ],
   "source": [
    "tuner.search(X_train, \n",
    "             y_train, \n",
    "             epochs=300, \n",
    "             validation_split=0.3, \n",
    "             callbacks=[stop_early],\n",
    "             batch_size=64)\n",
    "\n",
    "# Get the optimal hyperparameters\n",
    "best_hps=tuner.get_best_hyperparameters(num_trials=20)[0]"
   ]
  },
  {
   "cell_type": "code",
   "execution_count": 379,
   "metadata": {},
   "outputs": [
    {
     "data": {
      "text/plain": [
       "28"
      ]
     },
     "execution_count": 379,
     "metadata": {},
     "output_type": "execute_result"
    }
   ],
   "source": [
    "best_hps.get('units_1')"
   ]
  },
  {
   "cell_type": "code",
   "execution_count": 380,
   "metadata": {},
   "outputs": [
    {
     "data": {
      "text/plain": [
       "10"
      ]
     },
     "execution_count": 380,
     "metadata": {},
     "output_type": "execute_result"
    }
   ],
   "source": [
    "best_hps.get('units_2')"
   ]
  },
  {
   "cell_type": "code",
   "execution_count": 381,
   "metadata": {},
   "outputs": [
    {
     "data": {
      "text/plain": [
       "6"
      ]
     },
     "execution_count": 381,
     "metadata": {},
     "output_type": "execute_result"
    }
   ],
   "source": [
    "best_hps.get('units_3')"
   ]
  },
  {
   "cell_type": "code",
   "execution_count": 382,
   "metadata": {},
   "outputs": [
    {
     "data": {
      "text/plain": [
       "100"
      ]
     },
     "execution_count": 382,
     "metadata": {},
     "output_type": "execute_result"
    }
   ],
   "source": [
    "best_hps.get('tuner/epochs')"
   ]
  },
  {
   "cell_type": "code",
   "execution_count": 428,
   "metadata": {},
   "outputs": [
    {
     "name": "stdout",
     "output_type": "stream",
     "text": [
      "Epoch 1/300\n",
      "2/2 [==============================] - 0s 210ms/step - loss: 12.3270 - auc_10: 0.5278 - val_loss: 6.6831 - val_auc_10: 0.5553\n",
      "Epoch 2/300\n",
      "2/2 [==============================] - 0s 34ms/step - loss: 12.9494 - auc_10: 0.4467 - val_loss: 5.9736 - val_auc_10: 0.5549\n",
      "Epoch 3/300\n",
      "2/2 [==============================] - 0s 16ms/step - loss: 11.0197 - auc_10: 0.4988 - val_loss: 5.4484 - val_auc_10: 0.5551\n",
      "Epoch 4/300\n",
      "2/2 [==============================] - 0s 20ms/step - loss: 8.8132 - auc_10: 0.5247 - val_loss: 4.9846 - val_auc_10: 0.5546\n",
      "Epoch 5/300\n",
      "2/2 [==============================] - 0s 15ms/step - loss: 12.2931 - auc_10: 0.4656 - val_loss: 4.5540 - val_auc_10: 0.5507\n",
      "Epoch 6/300\n",
      "2/2 [==============================] - 0s 13ms/step - loss: 8.5881 - auc_10: 0.4745 - val_loss: 4.1558 - val_auc_10: 0.5371\n",
      "Epoch 7/300\n",
      "2/2 [==============================] - 0s 13ms/step - loss: 8.6745 - auc_10: 0.5011 - val_loss: 3.7971 - val_auc_10: 0.5354\n",
      "Epoch 8/300\n",
      "2/2 [==============================] - 0s 13ms/step - loss: 7.9585 - auc_10: 0.5609 - val_loss: 3.5033 - val_auc_10: 0.5294\n",
      "Epoch 9/300\n",
      "2/2 [==============================] - 0s 18ms/step - loss: 8.5448 - auc_10: 0.4960 - val_loss: 3.2065 - val_auc_10: 0.5539\n",
      "Epoch 10/300\n",
      "2/2 [==============================] - 0s 12ms/step - loss: 7.6960 - auc_10: 0.4715 - val_loss: 2.9276 - val_auc_10: 0.5619\n",
      "Epoch 11/300\n",
      "2/2 [==============================] - 0s 17ms/step - loss: 7.2017 - auc_10: 0.4995 - val_loss: 2.6613 - val_auc_10: 0.5696\n",
      "Epoch 12/300\n",
      "2/2 [==============================] - 0s 16ms/step - loss: 6.9294 - auc_10: 0.5109 - val_loss: 2.4037 - val_auc_10: 0.5580\n",
      "Epoch 13/300\n",
      "2/2 [==============================] - 0s 19ms/step - loss: 6.0882 - auc_10: 0.4782 - val_loss: 2.1619 - val_auc_10: 0.5548\n",
      "Epoch 14/300\n",
      "2/2 [==============================] - 0s 12ms/step - loss: 5.4369 - auc_10: 0.5443 - val_loss: 1.9513 - val_auc_10: 0.5418\n",
      "Epoch 15/300\n",
      "2/2 [==============================] - 0s 22ms/step - loss: 4.5130 - auc_10: 0.5392 - val_loss: 1.7752 - val_auc_10: 0.5473\n",
      "Epoch 16/300\n",
      "2/2 [==============================] - 0s 16ms/step - loss: 5.9014 - auc_10: 0.4791 - val_loss: 1.6451 - val_auc_10: 0.5612\n",
      "Epoch 17/300\n",
      "2/2 [==============================] - 0s 13ms/step - loss: 5.6782 - auc_10: 0.5236 - val_loss: 1.5297 - val_auc_10: 0.5561\n",
      "Epoch 18/300\n",
      "2/2 [==============================] - 0s 25ms/step - loss: 4.4405 - auc_10: 0.4964 - val_loss: 1.4215 - val_auc_10: 0.5481\n",
      "Epoch 19/300\n",
      "2/2 [==============================] - 0s 19ms/step - loss: 5.2715 - auc_10: 0.5332 - val_loss: 1.3211 - val_auc_10: 0.5553\n",
      "Epoch 20/300\n",
      "2/2 [==============================] - 0s 16ms/step - loss: 4.0972 - auc_10: 0.5366 - val_loss: 1.2362 - val_auc_10: 0.5665\n",
      "Epoch 21/300\n",
      "2/2 [==============================] - 0s 16ms/step - loss: 4.5766 - auc_10: 0.5272 - val_loss: 1.1592 - val_auc_10: 0.5723\n",
      "Epoch 22/300\n",
      "2/2 [==============================] - 0s 15ms/step - loss: 4.2368 - auc_10: 0.5470 - val_loss: 1.0926 - val_auc_10: 0.5791\n",
      "Epoch 23/300\n",
      "2/2 [==============================] - 0s 21ms/step - loss: 3.5421 - auc_10: 0.5161 - val_loss: 1.0382 - val_auc_10: 0.5682\n",
      "Epoch 24/300\n",
      "2/2 [==============================] - 0s 19ms/step - loss: 2.8589 - auc_10: 0.5752 - val_loss: 0.9931 - val_auc_10: 0.5743\n",
      "Epoch 25/300\n",
      "2/2 [==============================] - 0s 12ms/step - loss: 4.2117 - auc_10: 0.5718 - val_loss: 0.9537 - val_auc_10: 0.5672\n",
      "Epoch 26/300\n",
      "2/2 [==============================] - 0s 24ms/step - loss: 3.7591 - auc_10: 0.4431 - val_loss: 0.9198 - val_auc_10: 0.5653\n",
      "Epoch 27/300\n",
      "2/2 [==============================] - 0s 16ms/step - loss: 3.7665 - auc_10: 0.4686 - val_loss: 0.8955 - val_auc_10: 0.5667\n",
      "Epoch 28/300\n",
      "2/2 [==============================] - 0s 14ms/step - loss: 3.5897 - auc_10: 0.4759 - val_loss: 0.8758 - val_auc_10: 0.5702\n",
      "Epoch 29/300\n",
      "2/2 [==============================] - 0s 23ms/step - loss: 3.0753 - auc_10: 0.4474 - val_loss: 0.8573 - val_auc_10: 0.5706\n",
      "Epoch 30/300\n",
      "2/2 [==============================] - 0s 18ms/step - loss: 2.5297 - auc_10: 0.5152 - val_loss: 0.8414 - val_auc_10: 0.5699\n",
      "Epoch 31/300\n",
      "2/2 [==============================] - 0s 18ms/step - loss: 2.7494 - auc_10: 0.5198 - val_loss: 0.8267 - val_auc_10: 0.5634\n",
      "Epoch 32/300\n",
      "2/2 [==============================] - 0s 25ms/step - loss: 2.3984 - auc_10: 0.5316 - val_loss: 0.8140 - val_auc_10: 0.5612\n",
      "Epoch 33/300\n",
      "2/2 [==============================] - 0s 11ms/step - loss: 3.0000 - auc_10: 0.5193 - val_loss: 0.8012 - val_auc_10: 0.5609\n",
      "Epoch 34/300\n",
      "2/2 [==============================] - 0s 20ms/step - loss: 2.7204 - auc_10: 0.4890 - val_loss: 0.7891 - val_auc_10: 0.5605\n",
      "Epoch 35/300\n",
      "2/2 [==============================] - 0s 20ms/step - loss: 3.0537 - auc_10: 0.5515 - val_loss: 0.7777 - val_auc_10: 0.5604\n",
      "Epoch 36/300\n",
      "2/2 [==============================] - 0s 17ms/step - loss: 2.4140 - auc_10: 0.5053 - val_loss: 0.7670 - val_auc_10: 0.5583\n",
      "Epoch 37/300\n",
      "2/2 [==============================] - 0s 17ms/step - loss: 2.9634 - auc_10: 0.4657 - val_loss: 0.7582 - val_auc_10: 0.5573\n",
      "Epoch 38/300\n",
      "2/2 [==============================] - 0s 16ms/step - loss: 2.4835 - auc_10: 0.5615 - val_loss: 0.7496 - val_auc_10: 0.5575\n",
      "Epoch 39/300\n",
      "2/2 [==============================] - 0s 27ms/step - loss: 2.5386 - auc_10: 0.4919 - val_loss: 0.7423 - val_auc_10: 0.5616\n",
      "Epoch 40/300\n",
      "2/2 [==============================] - 0s 19ms/step - loss: 2.2043 - auc_10: 0.5380 - val_loss: 0.7350 - val_auc_10: 0.5526\n",
      "Epoch 41/300\n",
      "2/2 [==============================] - 0s 19ms/step - loss: 2.2881 - auc_10: 0.4801 - val_loss: 0.7281 - val_auc_10: 0.5529\n",
      "Epoch 42/300\n",
      "2/2 [==============================] - 0s 19ms/step - loss: 1.9344 - auc_10: 0.5486 - val_loss: 0.7226 - val_auc_10: 0.5505\n",
      "Epoch 43/300\n",
      "2/2 [==============================] - 0s 17ms/step - loss: 2.5428 - auc_10: 0.5080 - val_loss: 0.7184 - val_auc_10: 0.5582\n",
      "Epoch 44/300\n",
      "2/2 [==============================] - 0s 43ms/step - loss: 1.8478 - auc_10: 0.5059 - val_loss: 0.7152 - val_auc_10: 0.5502\n",
      "Epoch 45/300\n",
      "2/2 [==============================] - 0s 20ms/step - loss: 2.0968 - auc_10: 0.5119 - val_loss: 0.7118 - val_auc_10: 0.5551\n",
      "Epoch 46/300\n",
      "2/2 [==============================] - 0s 22ms/step - loss: 2.1538 - auc_10: 0.4615 - val_loss: 0.7088 - val_auc_10: 0.5577\n",
      "Epoch 47/300\n",
      "2/2 [==============================] - 0s 37ms/step - loss: 1.9228 - auc_10: 0.5003 - val_loss: 0.7059 - val_auc_10: 0.5503\n",
      "Epoch 48/300\n",
      "2/2 [==============================] - 0s 38ms/step - loss: 1.8808 - auc_10: 0.4909 - val_loss: 0.7035 - val_auc_10: 0.5522\n",
      "Epoch 49/300\n",
      "2/2 [==============================] - 0s 56ms/step - loss: 1.5434 - auc_10: 0.5826 - val_loss: 0.7016 - val_auc_10: 0.5498\n",
      "Epoch 50/300\n",
      "2/2 [==============================] - 0s 59ms/step - loss: 1.4991 - auc_10: 0.5450 - val_loss: 0.6999 - val_auc_10: 0.5543\n",
      "Epoch 51/300\n",
      "2/2 [==============================] - 0s 14ms/step - loss: 2.3328 - auc_10: 0.4900 - val_loss: 0.6987 - val_auc_10: 0.5452\n",
      "Epoch 52/300\n",
      "2/2 [==============================] - 0s 21ms/step - loss: 1.7560 - auc_10: 0.5103 - val_loss: 0.6971 - val_auc_10: 0.5474\n",
      "Epoch 53/300\n",
      "2/2 [==============================] - 0s 32ms/step - loss: 1.5716 - auc_10: 0.5352 - val_loss: 0.6955 - val_auc_10: 0.5488\n",
      "Epoch 54/300\n",
      "2/2 [==============================] - 0s 26ms/step - loss: 1.5166 - auc_10: 0.5167 - val_loss: 0.6941 - val_auc_10: 0.5500\n",
      "Epoch 55/300\n",
      "2/2 [==============================] - 0s 21ms/step - loss: 1.9854 - auc_10: 0.5058 - val_loss: 0.6930 - val_auc_10: 0.5502\n",
      "Epoch 56/300\n",
      "2/2 [==============================] - 0s 26ms/step - loss: 1.3657 - auc_10: 0.5865 - val_loss: 0.6921 - val_auc_10: 0.5526\n",
      "Epoch 57/300\n",
      "2/2 [==============================] - 0s 23ms/step - loss: 1.6033 - auc_10: 0.4944 - val_loss: 0.6912 - val_auc_10: 0.5486\n",
      "Epoch 58/300\n",
      "2/2 [==============================] - 0s 20ms/step - loss: 1.6392 - auc_10: 0.4727 - val_loss: 0.6902 - val_auc_10: 0.5497\n",
      "Epoch 59/300\n",
      "2/2 [==============================] - 0s 17ms/step - loss: 1.7055 - auc_10: 0.5378 - val_loss: 0.6892 - val_auc_10: 0.5519\n",
      "Epoch 60/300\n",
      "2/2 [==============================] - 0s 39ms/step - loss: 1.7928 - auc_10: 0.5398 - val_loss: 0.6882 - val_auc_10: 0.5510\n"
     ]
    },
    {
     "name": "stdout",
     "output_type": "stream",
     "text": [
      "Epoch 61/300\n",
      "2/2 [==============================] - 0s 26ms/step - loss: 1.6498 - auc_10: 0.4635 - val_loss: 0.6874 - val_auc_10: 0.5532\n",
      "Epoch 62/300\n",
      "2/2 [==============================] - 0s 23ms/step - loss: 1.6757 - auc_10: 0.4713 - val_loss: 0.6865 - val_auc_10: 0.5502\n",
      "Epoch 63/300\n",
      "2/2 [==============================] - 0s 16ms/step - loss: 1.3148 - auc_10: 0.5203 - val_loss: 0.6859 - val_auc_10: 0.5474\n",
      "Epoch 64/300\n",
      "2/2 [==============================] - 0s 16ms/step - loss: 1.4614 - auc_10: 0.4916 - val_loss: 0.6853 - val_auc_10: 0.5588\n",
      "Epoch 65/300\n",
      "2/2 [==============================] - 0s 21ms/step - loss: 1.2798 - auc_10: 0.5267 - val_loss: 0.6848 - val_auc_10: 0.5515\n",
      "Epoch 66/300\n",
      "2/2 [==============================] - 0s 18ms/step - loss: 1.6348 - auc_10: 0.5580 - val_loss: 0.6845 - val_auc_10: 0.5476\n",
      "Epoch 67/300\n",
      "2/2 [==============================] - 0s 18ms/step - loss: 1.1652 - auc_10: 0.4848 - val_loss: 0.6843 - val_auc_10: 0.5486\n",
      "Epoch 68/300\n",
      "2/2 [==============================] - 0s 21ms/step - loss: 1.9718 - auc_10: 0.4650 - val_loss: 0.6841 - val_auc_10: 0.5522\n",
      "Epoch 69/300\n",
      "2/2 [==============================] - 0s 25ms/step - loss: 1.2950 - auc_10: 0.4967 - val_loss: 0.6841 - val_auc_10: 0.5536\n",
      "Epoch 70/300\n",
      "2/2 [==============================] - 0s 18ms/step - loss: 1.5924 - auc_10: 0.4835 - val_loss: 0.6842 - val_auc_10: 0.5478\n",
      "Epoch 71/300\n",
      "2/2 [==============================] - 0s 18ms/step - loss: 2.0967 - auc_10: 0.4428 - val_loss: 0.6843 - val_auc_10: 0.5406\n",
      "Epoch 72/300\n",
      "2/2 [==============================] - 0s 18ms/step - loss: 1.4479 - auc_10: 0.5108 - val_loss: 0.6845 - val_auc_10: 0.5371\n",
      "Epoch 73/300\n",
      "2/2 [==============================] - 0s 21ms/step - loss: 1.6217 - auc_10: 0.4571 - val_loss: 0.6847 - val_auc_10: 0.5543\n",
      "Epoch 74/300\n",
      "2/2 [==============================] - 0s 36ms/step - loss: 1.3750 - auc_10: 0.4916 - val_loss: 0.6850 - val_auc_10: 0.5553\n"
     ]
    }
   ],
   "source": [
    "# Define Model\n",
    "\n",
    "model_3 = Sequential()\n",
    "\n",
    "model_3.add(Dense(10, input_shape=(24,), activation='relu', kernel_initializer = 'he_uniform'))\n",
    "model_3.add(Dropout(rate=0.2))\n",
    "\n",
    "model_3.add(Dense(28, activation='relu', kernel_initializer = 'he_uniform'))\n",
    "model_3.add(Dropout(rate=0.2))\n",
    "\n",
    "model_3.add(Dense(10, activation='relu', kernel_initializer = 'he_uniform'))\n",
    "model_3.add(Dropout(rate=0.2))\n",
    "\n",
    "model_3.add(Dense(6, activation='relu', kernel_initializer = 'he_uniform'))\n",
    "model_3.add(Dropout(rate=0.2))\n",
    "\n",
    "model_3.add(Dense(1, activation='sigmoid'))\n",
    "\n",
    "# Compile model\n",
    "model_3.compile(loss='binary_crossentropy', \n",
    "              optimizer='adam', \n",
    "              metrics=[tensorflow.keras.metrics.AUC()])\n",
    "    \n",
    "stop_early = tensorflow.keras.callbacks.EarlyStopping(monitor='val_loss', patience=5, mode='min')\n",
    "\n",
    "# Fit model\n",
    "history = model_3.fit(X_train, \n",
    "                    y_train, \n",
    "                    validation_split=0.3,\n",
    "                    epochs=300,\n",
    "                    callbacks=[stop_early],\n",
    "                    batch_size=128)"
   ]
  },
  {
   "cell_type": "code",
   "execution_count": 429,
   "metadata": {},
   "outputs": [],
   "source": [
    "y_pred = model_3.predict_classes(X_valid)"
   ]
  },
  {
   "cell_type": "code",
   "execution_count": 430,
   "metadata": {},
   "outputs": [
    {
     "name": "stdout",
     "output_type": "stream",
     "text": [
      "              precision    recall  f1-score   support\n",
      "\n",
      "           0       0.70      0.27      0.39        77\n",
      "           1       0.56      0.89      0.68        79\n",
      "\n",
      "    accuracy                           0.58       156\n",
      "   macro avg       0.63      0.58      0.54       156\n",
      "weighted avg       0.63      0.58      0.54       156\n",
      "\n"
     ]
    }
   ],
   "source": [
    "from sklearn.metrics import classification_report\n",
    "\n",
    "print(classification_report(y_valid, y_pred))"
   ]
  },
  {
   "cell_type": "code",
   "execution_count": 431,
   "metadata": {},
   "outputs": [
    {
     "data": {
      "text/html": [
       "<div>\n",
       "<style scoped>\n",
       "    .dataframe tbody tr th:only-of-type {\n",
       "        vertical-align: middle;\n",
       "    }\n",
       "\n",
       "    .dataframe tbody tr th {\n",
       "        vertical-align: top;\n",
       "    }\n",
       "\n",
       "    .dataframe thead th {\n",
       "        text-align: right;\n",
       "    }\n",
       "</style>\n",
       "<table border=\"1\" class=\"dataframe\">\n",
       "  <thead>\n",
       "    <tr style=\"text-align: right;\">\n",
       "      <th></th>\n",
       "      <th>0</th>\n",
       "      <th>1</th>\n",
       "    </tr>\n",
       "  </thead>\n",
       "  <tbody>\n",
       "    <tr>\n",
       "      <th>0</th>\n",
       "      <td>21</td>\n",
       "      <td>56</td>\n",
       "    </tr>\n",
       "    <tr>\n",
       "      <th>1</th>\n",
       "      <td>9</td>\n",
       "      <td>70</td>\n",
       "    </tr>\n",
       "  </tbody>\n",
       "</table>\n",
       "</div>"
      ],
      "text/plain": [
       "    0   1\n",
       "0  21  56\n",
       "1   9  70"
      ]
     },
     "execution_count": 431,
     "metadata": {},
     "output_type": "execute_result"
    }
   ],
   "source": [
    "from sklearn.metrics import confusion_matrix\n",
    "\n",
    "pd.DataFrame(confusion_matrix(y_valid, y_pred))"
   ]
  },
  {
   "cell_type": "code",
   "execution_count": 432,
   "metadata": {},
   "outputs": [
    {
     "data": {
      "image/png": "[encoded data removed]",
      "text/plain": [
       "<Figure size 432x288 with 1 Axes>"
      ]
     },
     "metadata": {
      "needs_background": "light"
     },
     "output_type": "display_data"
    }
   ],
   "source": [
    "plt.plot(history.history['loss'])\n",
    "plt.plot(history.history['val_loss'])\n",
    "plt.ylabel('Loss')\n",
    "plt.xlabel('Epoch')\n",
    "plt.legend(['Train', 'Validation'], loc='upper right')\n",
    "plt.show()"
   ]
  },
  {
   "cell_type": "code",
   "execution_count": 438,
   "metadata": {},
   "outputs": [],
   "source": [
    "def fit_model(X_train, y_train, X_valid, y_valid, n_batch):\n",
    "\n",
    "    model_3 = Sequential()\n",
    "\n",
    "    model_3.add(Dense(10, input_shape=(24,), activation='relu', kernel_initializer = 'he_uniform'))\n",
    "    model_3.add(Dropout(rate=0.2))\n",
    "\n",
    "    model_3.add(Dense(28, activation='relu', kernel_initializer = 'he_uniform'))\n",
    "    model_3.add(Dropout(rate=0.2))\n",
    "\n",
    "    model_3.add(Dense(10, activation='relu', kernel_initializer = 'he_uniform'))\n",
    "    model_3.add(Dropout(rate=0.2))\n",
    "\n",
    "    model_3.add(Dense(6, activation='relu', kernel_initializer = 'he_uniform'))\n",
    "    model_3.add(Dropout(rate=0.2))\n",
    "\n",
    "    model_3.add(Dense(1, activation='sigmoid'))\n",
    "\n",
    "    # Compile model\n",
    "    model_3.compile(loss='binary_crossentropy', \n",
    "              optimizer='adam', \n",
    "              metrics=[tensorflow.keras.metrics.AUC()])\n",
    "    \n",
    "    stop_early = tensorflow.keras.callbacks.EarlyStopping(monitor='val_loss', patience=5, mode='min')\n",
    "\n",
    "    # Fit model\n",
    "    history = model_3.fit(X_train, \n",
    "                    y_train, \n",
    "                    validation_split=0.3,\n",
    "                    epochs=300,\n",
    "                    callbacks=[stop_early],\n",
    "                    batch_size=n_batch,\n",
    "                    verbose=0)\n",
    "    \n",
    "    plt.plot(history.history['loss'])\n",
    "    plt.plot(history.history['val_loss'])\n",
    "    plt.title('batch='+str(n_batch))\n",
    "    plt.ylabel('Loss')\n",
    "    plt.xlabel('Epoch')\n",
    "    plt.legend(['Train', 'Validation'], loc='upper right')"
   ]
  },
  {
   "cell_type": "code",
   "execution_count": 439,
   "metadata": {},
   "outputs": [
    {
     "data": {
      "image/png": "[encoded data removed]",
      "text/plain": [
       "<Figure size 1440x1440 with 7 Axes>"
      ]
     },
     "metadata": {
      "needs_background": "light"
     },
     "output_type": "display_data"
    }
   ],
   "source": [
    "# create learning curves for different batch sizes\n",
    "batch_sizes = [4, 8, 16, 32, 64, 128, 256]\n",
    "\n",
    "plt.figure(figsize=(20, 20))\n",
    "\n",
    "for i in range(len(batch_sizes)):\n",
    "    plot_no = 420 + (i+1)\n",
    "    plt.subplot(plot_no)\n",
    "    \n",
    "    fit_model(X_train, y_train, X_valid, y_valid, batch_sizes[i])\n",
    "plt.show()"
   ]
  },
  {
   "cell_type": "code",
   "execution_count": 480,
   "metadata": {},
   "outputs": [
    {
     "name": "stdout",
     "output_type": "stream",
     "text": [
      "Epoch 1/300\n",
      "4/4 [==============================] - 0s 72ms/step - loss: 38.2911 - auc_26: 0.5099 - val_loss: 6.8508 - val_auc_26: 0.5022\n",
      "Epoch 2/300\n",
      "4/4 [==============================] - 0s 17ms/step - loss: 29.0107 - auc_26: 0.5006 - val_loss: 7.3320 - val_auc_26: 0.4901\n",
      "Epoch 3/300\n",
      "4/4 [==============================] - 0s 14ms/step - loss: 30.0104 - auc_26: 0.5152 - val_loss: 8.0764 - val_auc_26: 0.4854\n",
      "Epoch 4/300\n",
      "4/4 [==============================] - 0s 11ms/step - loss: 26.8542 - auc_26: 0.5690 - val_loss: 8.0755 - val_auc_26: 0.4881\n",
      "Epoch 5/300\n",
      "4/4 [==============================] - 0s 11ms/step - loss: 29.5478 - auc_26: 0.4752 - val_loss: 7.7057 - val_auc_26: 0.4893\n",
      "Epoch 6/300\n",
      "4/4 [==============================] - 0s 8ms/step - loss: 23.6861 - auc_26: 0.5019 - val_loss: 7.5884 - val_auc_26: 0.4884\n",
      "Epoch 7/300\n",
      "4/4 [==============================] - 0s 10ms/step - loss: 21.9120 - auc_26: 0.5360 - val_loss: 6.8173 - val_auc_26: 0.4908\n",
      "Epoch 8/300\n",
      "4/4 [==============================] - 0s 12ms/step - loss: 18.1330 - auc_26: 0.5308 - val_loss: 6.5012 - val_auc_26: 0.4954\n",
      "Epoch 9/300\n",
      "4/4 [==============================] - 0s 7ms/step - loss: 17.7678 - auc_26: 0.5131 - val_loss: 6.1451 - val_auc_26: 0.4951\n",
      "Epoch 10/300\n",
      "4/4 [==============================] - 0s 16ms/step - loss: 18.0998 - auc_26: 0.5224 - val_loss: 5.9986 - val_auc_26: 0.4946\n",
      "Epoch 11/300\n",
      "4/4 [==============================] - 0s 20ms/step - loss: 18.2867 - auc_26: 0.5534 - val_loss: 6.1060 - val_auc_26: 0.4951\n",
      "Epoch 12/300\n",
      "4/4 [==============================] - 0s 10ms/step - loss: 15.5542 - auc_26: 0.5461 - val_loss: 6.2036 - val_auc_26: 0.4942\n",
      "Epoch 13/300\n",
      "4/4 [==============================] - 0s 10ms/step - loss: 16.1962 - auc_26: 0.4420 - val_loss: 6.4723 - val_auc_26: 0.4964\n",
      "Epoch 14/300\n",
      "4/4 [==============================] - 0s 7ms/step - loss: 16.1309 - auc_26: 0.5203 - val_loss: 6.3876 - val_auc_26: 0.4961\n",
      "Epoch 15/300\n",
      "4/4 [==============================] - 0s 8ms/step - loss: 12.2213 - auc_26: 0.5146 - val_loss: 6.3449 - val_auc_26: 0.5012\n",
      "Epoch 16/300\n",
      "4/4 [==============================] - 0s 10ms/step - loss: 13.2608 - auc_26: 0.4628 - val_loss: 6.1561 - val_auc_26: 0.5012\n",
      "Epoch 17/300\n",
      "4/4 [==============================] - 0s 8ms/step - loss: 13.3484 - auc_26: 0.5040 - val_loss: 5.9524 - val_auc_26: 0.5044\n",
      "Epoch 18/300\n",
      "4/4 [==============================] - 0s 8ms/step - loss: 13.5175 - auc_26: 0.4502 - val_loss: 5.6437 - val_auc_26: 0.5046\n",
      "Epoch 19/300\n",
      "4/4 [==============================] - 0s 10ms/step - loss: 9.4670 - auc_26: 0.5546 - val_loss: 5.2890 - val_auc_26: 0.5044\n",
      "Epoch 20/300\n",
      "4/4 [==============================] - 0s 14ms/step - loss: 11.7926 - auc_26: 0.4938 - val_loss: 4.9699 - val_auc_26: 0.5049\n",
      "Epoch 21/300\n",
      "4/4 [==============================] - 0s 11ms/step - loss: 10.7131 - auc_26: 0.4738 - val_loss: 4.6182 - val_auc_26: 0.5012\n",
      "Epoch 22/300\n",
      "4/4 [==============================] - 0s 8ms/step - loss: 8.0808 - auc_26: 0.5388 - val_loss: 4.3267 - val_auc_26: 0.4968\n",
      "Epoch 23/300\n",
      "4/4 [==============================] - 0s 10ms/step - loss: 9.0555 - auc_26: 0.5109 - val_loss: 4.0540 - val_auc_26: 0.5003\n",
      "Epoch 24/300\n",
      "4/4 [==============================] - 0s 10ms/step - loss: 8.7596 - auc_26: 0.4570 - val_loss: 3.8495 - val_auc_26: 0.5007\n",
      "Epoch 25/300\n",
      "4/4 [==============================] - 0s 7ms/step - loss: 6.8256 - auc_26: 0.4802 - val_loss: 3.6401 - val_auc_26: 0.5009\n",
      "Epoch 26/300\n",
      "4/4 [==============================] - 0s 12ms/step - loss: 6.2583 - auc_26: 0.5129 - val_loss: 3.4425 - val_auc_26: 0.5007\n",
      "Epoch 27/300\n",
      "4/4 [==============================] - 0s 9ms/step - loss: 7.5855 - auc_26: 0.5259 - val_loss: 3.2191 - val_auc_26: 0.4976\n",
      "Epoch 28/300\n",
      "4/4 [==============================] - 0s 7ms/step - loss: 8.3702 - auc_26: 0.4718 - val_loss: 2.9713 - val_auc_26: 0.5014\n",
      "Epoch 29/300\n",
      "4/4 [==============================] - 0s 13ms/step - loss: 7.6353 - auc_26: 0.4795 - val_loss: 2.7111 - val_auc_26: 0.4951\n",
      "Epoch 30/300\n",
      "4/4 [==============================] - 0s 10ms/step - loss: 7.3295 - auc_26: 0.4715 - val_loss: 2.4803 - val_auc_26: 0.5087\n",
      "Epoch 31/300\n",
      "4/4 [==============================] - 0s 8ms/step - loss: 6.0614 - auc_26: 0.5456 - val_loss: 2.2766 - val_auc_26: 0.5054\n",
      "Epoch 32/300\n",
      "4/4 [==============================] - 0s 10ms/step - loss: 5.3242 - auc_26: 0.5561 - val_loss: 2.1130 - val_auc_26: 0.5020\n",
      "Epoch 33/300\n",
      "4/4 [==============================] - 0s 11ms/step - loss: 7.0084 - auc_26: 0.4394 - val_loss: 1.9483 - val_auc_26: 0.4973\n",
      "Epoch 34/300\n",
      "4/4 [==============================] - 0s 9ms/step - loss: 5.8028 - auc_26: 0.5024 - val_loss: 1.7769 - val_auc_26: 0.5048\n",
      "Epoch 35/300\n",
      "4/4 [==============================] - 0s 10ms/step - loss: 5.8564 - auc_26: 0.5150 - val_loss: 1.6255 - val_auc_26: 0.5063\n",
      "Epoch 36/300\n",
      "4/4 [==============================] - 0s 7ms/step - loss: 5.3148 - auc_26: 0.4458 - val_loss: 1.4886 - val_auc_26: 0.5138\n",
      "Epoch 37/300\n",
      "4/4 [==============================] - 0s 8ms/step - loss: 5.1527 - auc_26: 0.4915 - val_loss: 1.3648 - val_auc_26: 0.4993\n",
      "Epoch 38/300\n",
      "4/4 [==============================] - 0s 12ms/step - loss: 4.6344 - auc_26: 0.5226 - val_loss: 1.2896 - val_auc_26: 0.5044\n",
      "Epoch 39/300\n",
      "4/4 [==============================] - 0s 8ms/step - loss: 5.2874 - auc_26: 0.4972 - val_loss: 1.2337 - val_auc_26: 0.5041\n",
      "Epoch 40/300\n",
      "4/4 [==============================] - 0s 9ms/step - loss: 4.7240 - auc_26: 0.5060 - val_loss: 1.2035 - val_auc_26: 0.4991\n",
      "Epoch 41/300\n",
      "4/4 [==============================] - 0s 13ms/step - loss: 4.6605 - auc_26: 0.4733 - val_loss: 1.1824 - val_auc_26: 0.5017\n",
      "Epoch 42/300\n",
      "4/4 [==============================] - 0s 9ms/step - loss: 4.0800 - auc_26: 0.4731 - val_loss: 1.1490 - val_auc_26: 0.4998\n",
      "Epoch 43/300\n",
      "4/4 [==============================] - 0s 12ms/step - loss: 3.8767 - auc_26: 0.5048 - val_loss: 1.1188 - val_auc_26: 0.5015\n",
      "Epoch 44/300\n",
      "4/4 [==============================] - 0s 8ms/step - loss: 3.6623 - auc_26: 0.4928 - val_loss: 1.0677 - val_auc_26: 0.4964\n",
      "Epoch 45/300\n",
      "4/4 [==============================] - 0s 9ms/step - loss: 4.0631 - auc_26: 0.4974 - val_loss: 1.0219 - val_auc_26: 0.4951\n",
      "Epoch 46/300\n",
      "4/4 [==============================] - 0s 10ms/step - loss: 3.4425 - auc_26: 0.5265 - val_loss: 0.9726 - val_auc_26: 0.4895\n",
      "Epoch 47/300\n",
      "4/4 [==============================] - 0s 12ms/step - loss: 3.0379 - auc_26: 0.5397 - val_loss: 0.9237 - val_auc_26: 0.4939\n",
      "Epoch 48/300\n",
      "4/4 [==============================] - 0s 13ms/step - loss: 3.3384 - auc_26: 0.4769 - val_loss: 0.8813 - val_auc_26: 0.4939\n",
      "Epoch 49/300\n",
      "4/4 [==============================] - 0s 15ms/step - loss: 3.2987 - auc_26: 0.4713 - val_loss: 0.8450 - val_auc_26: 0.4998\n",
      "Epoch 50/300\n",
      "4/4 [==============================] - 0s 14ms/step - loss: 3.4591 - auc_26: 0.4981 - val_loss: 0.8242 - val_auc_26: 0.5156\n",
      "Epoch 51/300\n",
      "4/4 [==============================] - 0s 7ms/step - loss: 3.3439 - auc_26: 0.4842 - val_loss: 0.8102 - val_auc_26: 0.5231\n",
      "Epoch 52/300\n",
      "4/4 [==============================] - 0s 10ms/step - loss: 3.3768 - auc_26: 0.4507 - val_loss: 0.8003 - val_auc_26: 0.5284\n",
      "Epoch 53/300\n",
      "4/4 [==============================] - 0s 108ms/step - loss: 3.3033 - auc_26: 0.4689 - val_loss: 0.7911 - val_auc_26: 0.5262\n",
      "Epoch 54/300\n",
      "4/4 [==============================] - 0s 8ms/step - loss: 2.5737 - auc_26: 0.5251 - val_loss: 0.7783 - val_auc_26: 0.5248\n",
      "Epoch 55/300\n",
      "4/4 [==============================] - 0s 16ms/step - loss: 2.5116 - auc_26: 0.5053 - val_loss: 0.7681 - val_auc_26: 0.5230\n",
      "Epoch 56/300\n",
      "4/4 [==============================] - 0s 9ms/step - loss: 2.7810 - auc_26: 0.4777 - val_loss: 0.7581 - val_auc_26: 0.5214\n",
      "Epoch 57/300\n",
      "4/4 [==============================] - 0s 7ms/step - loss: 2.1756 - auc_26: 0.5316 - val_loss: 0.7486 - val_auc_26: 0.5204\n",
      "Epoch 58/300\n",
      "4/4 [==============================] - 0s 16ms/step - loss: 2.7925 - auc_26: 0.4511 - val_loss: 0.7391 - val_auc_26: 0.5207\n",
      "Epoch 59/300\n",
      "4/4 [==============================] - 0s 9ms/step - loss: 2.5619 - auc_26: 0.4709 - val_loss: 0.7327 - val_auc_26: 0.5224\n",
      "Epoch 60/300\n",
      "4/4 [==============================] - 0s 14ms/step - loss: 1.8795 - auc_26: 0.5541 - val_loss: 0.7283 - val_auc_26: 0.5304\n"
     ]
    },
    {
     "name": "stdout",
     "output_type": "stream",
     "text": [
      "Epoch 61/300\n",
      "4/4 [==============================] - 0s 7ms/step - loss: 2.0649 - auc_26: 0.5090 - val_loss: 0.7255 - val_auc_26: 0.5303\n",
      "Epoch 62/300\n",
      "4/4 [==============================] - 0s 9ms/step - loss: 1.8437 - auc_26: 0.4779 - val_loss: 0.7243 - val_auc_26: 0.5333\n",
      "Epoch 63/300\n",
      "4/4 [==============================] - 0s 10ms/step - loss: 2.3368 - auc_26: 0.3893 - val_loss: 0.7220 - val_auc_26: 0.5391\n",
      "Epoch 64/300\n",
      "4/4 [==============================] - 0s 11ms/step - loss: 1.8948 - auc_26: 0.4754 - val_loss: 0.7188 - val_auc_26: 0.5388\n",
      "Epoch 65/300\n",
      "4/4 [==============================] - 0s 14ms/step - loss: 1.6862 - auc_26: 0.5637 - val_loss: 0.7173 - val_auc_26: 0.5362\n",
      "Epoch 66/300\n",
      "4/4 [==============================] - 0s 8ms/step - loss: 1.8292 - auc_26: 0.5272 - val_loss: 0.7149 - val_auc_26: 0.5378\n",
      "Epoch 67/300\n",
      "4/4 [==============================] - 0s 10ms/step - loss: 2.0558 - auc_26: 0.4649 - val_loss: 0.7137 - val_auc_26: 0.5332\n",
      "Epoch 68/300\n",
      "4/4 [==============================] - 0s 12ms/step - loss: 2.0185 - auc_26: 0.4528 - val_loss: 0.7139 - val_auc_26: 0.5361\n",
      "Epoch 69/300\n",
      "4/4 [==============================] - 0s 7ms/step - loss: 1.6309 - auc_26: 0.5433 - val_loss: 0.7151 - val_auc_26: 0.5366\n",
      "Epoch 70/300\n",
      "4/4 [==============================] - 0s 12ms/step - loss: 1.6609 - auc_26: 0.4988 - val_loss: 0.7174 - val_auc_26: 0.5333\n",
      "Epoch 71/300\n",
      "4/4 [==============================] - 0s 10ms/step - loss: 1.4264 - auc_26: 0.5197 - val_loss: 0.7191 - val_auc_26: 0.5294\n",
      "Epoch 72/300\n",
      "4/4 [==============================] - 0s 13ms/step - loss: 1.6289 - auc_26: 0.4674 - val_loss: 0.7201 - val_auc_26: 0.5338\n",
      "Epoch 73/300\n",
      "4/4 [==============================] - 0s 10ms/step - loss: 1.6234 - auc_26: 0.4900 - val_loss: 0.7206 - val_auc_26: 0.5311\n",
      "Epoch 74/300\n",
      "4/4 [==============================] - 0s 11ms/step - loss: 1.4611 - auc_26: 0.5303 - val_loss: 0.7226 - val_auc_26: 0.5243\n",
      "Epoch 75/300\n",
      "4/4 [==============================] - 0s 11ms/step - loss: 1.2646 - auc_26: 0.5327 - val_loss: 0.7282 - val_auc_26: 0.5236\n",
      "Epoch 76/300\n",
      "4/4 [==============================] - 0s 8ms/step - loss: 2.1052 - auc_26: 0.4374 - val_loss: 0.7317 - val_auc_26: 0.5277\n",
      "Epoch 77/300\n",
      "4/4 [==============================] - 0s 12ms/step - loss: 1.4196 - auc_26: 0.4813 - val_loss: 0.7353 - val_auc_26: 0.5308\n",
      "Epoch 78/300\n",
      "4/4 [==============================] - 0s 13ms/step - loss: 1.6347 - auc_26: 0.4628 - val_loss: 0.7381 - val_auc_26: 0.5320\n",
      "Epoch 79/300\n",
      "4/4 [==============================] - 0s 17ms/step - loss: 1.3240 - auc_26: 0.4961 - val_loss: 0.7412 - val_auc_26: 0.5320\n",
      "Epoch 80/300\n",
      "4/4 [==============================] - 0s 9ms/step - loss: 1.2473 - auc_26: 0.5054 - val_loss: 0.7424 - val_auc_26: 0.5276\n",
      "Epoch 81/300\n",
      "4/4 [==============================] - 0s 11ms/step - loss: 1.5742 - auc_26: 0.4703 - val_loss: 0.7453 - val_auc_26: 0.5248\n",
      "Epoch 82/300\n",
      "4/4 [==============================] - 0s 11ms/step - loss: 1.2438 - auc_26: 0.5077 - val_loss: 0.7470 - val_auc_26: 0.5276\n"
     ]
    }
   ],
   "source": [
    "# Define Model\n",
    "\n",
    "model_3 = Sequential()\n",
    "\n",
    "model_3.add(Dense(10, input_shape=(24,), activation='relu', kernel_initializer = 'he_uniform'))\n",
    "model_3.add(Dropout(rate=0.2))\n",
    "\n",
    "model_3.add(Dense(28, activation='relu', kernel_initializer = 'he_uniform'))\n",
    "model_3.add(Dropout(rate=0.2))\n",
    "\n",
    "model_3.add(Dense(10, activation='relu', kernel_initializer = 'he_uniform'))\n",
    "model_3.add(Dropout(rate=0.2))\n",
    "\n",
    "model_3.add(Dense(6, activation='relu', kernel_initializer = 'he_uniform'))\n",
    "model_3.add(Dropout(rate=0.2))\n",
    "\n",
    "model_3.add(Dense(1, activation='sigmoid'))\n",
    "\n",
    "# Compile model\n",
    "model_3.compile(loss='binary_crossentropy', \n",
    "              optimizer='adam', \n",
    "              metrics=[tensorflow.keras.metrics.AUC()])\n",
    "    \n",
    "stop_early = tensorflow.keras.callbacks.EarlyStopping(monitor='val_loss', patience=15, mode='min')\n",
    "\n",
    "# Fit model\n",
    "history = model_3.fit(X_train, \n",
    "                    y_train, \n",
    "                    validation_split=0.3,\n",
    "                    epochs=300,\n",
    "                    callbacks=[stop_early],\n",
    "                    batch_size=64)"
   ]
  },
  {
   "cell_type": "code",
   "execution_count": 481,
   "metadata": {},
   "outputs": [],
   "source": [
    "y_pred = model_3.predict_classes(X_valid)"
   ]
  },
  {
   "cell_type": "code",
   "execution_count": 482,
   "metadata": {},
   "outputs": [
    {
     "name": "stdout",
     "output_type": "stream",
     "text": [
      "              precision    recall  f1-score   support\n",
      "\n",
      "           0       0.50      0.53      0.52        77\n",
      "           1       0.51      0.48      0.50        79\n",
      "\n",
      "    accuracy                           0.51       156\n",
      "   macro avg       0.51      0.51      0.51       156\n",
      "weighted avg       0.51      0.51      0.51       156\n",
      "\n"
     ]
    }
   ],
   "source": [
    "from sklearn.metrics import classification_report\n",
    "\n",
    "print(classification_report(y_valid, y_pred))"
   ]
  },
  {
   "cell_type": "code",
   "execution_count": 483,
   "metadata": {},
   "outputs": [
    {
     "data": {
      "text/html": [
       "<div>\n",
       "<style scoped>\n",
       "    .dataframe tbody tr th:only-of-type {\n",
       "        vertical-align: middle;\n",
       "    }\n",
       "\n",
       "    .dataframe tbody tr th {\n",
       "        vertical-align: top;\n",
       "    }\n",
       "\n",
       "    .dataframe thead th {\n",
       "        text-align: right;\n",
       "    }\n",
       "</style>\n",
       "<table border=\"1\" class=\"dataframe\">\n",
       "  <thead>\n",
       "    <tr style=\"text-align: right;\">\n",
       "      <th></th>\n",
       "      <th>0</th>\n",
       "      <th>1</th>\n",
       "    </tr>\n",
       "  </thead>\n",
       "  <tbody>\n",
       "    <tr>\n",
       "      <th>0</th>\n",
       "      <td>41</td>\n",
       "      <td>36</td>\n",
       "    </tr>\n",
       "    <tr>\n",
       "      <th>1</th>\n",
       "      <td>41</td>\n",
       "      <td>38</td>\n",
       "    </tr>\n",
       "  </tbody>\n",
       "</table>\n",
       "</div>"
      ],
      "text/plain": [
       "    0   1\n",
       "0  41  36\n",
       "1  41  38"
      ]
     },
     "execution_count": 483,
     "metadata": {},
     "output_type": "execute_result"
    }
   ],
   "source": [
    "from sklearn.metrics import confusion_matrix\n",
    "\n",
    "pd.DataFrame(confusion_matrix(y_valid, y_pred))"
   ]
  },
  {
   "cell_type": "code",
   "execution_count": 484,
   "metadata": {},
   "outputs": [
    {
     "data": {
      "image/png": "[encoded data removed]",
      "text/plain": [
       "<Figure size 432x288 with 1 Axes>"
      ]
     },
     "metadata": {
      "needs_background": "light"
     },
     "output_type": "display_data"
    }
   ],
   "source": [
    "plt.plot(history.history['loss'])\n",
    "plt.plot(history.history['val_loss'])\n",
    "plt.ylabel('Loss')\n",
    "plt.xlabel('Epoch')\n",
    "plt.legend(['Train', 'Validation'], loc='upper right')\n",
    "plt.show()"
   ]
  },
  {
   "cell_type": "code",
   "execution_count": 485,
   "metadata": {},
   "outputs": [
    {
     "name": "stdout",
     "output_type": "stream",
     "text": [
      "INFO:tensorflow:Assets written to: model_experiment_3/assets\n"
     ]
    }
   ],
   "source": [
    "model_3.save(\"model_experiment_3\")"
   ]
  },
  {
   "cell_type": "markdown",
   "metadata": {},
   "source": [
    "---"
   ]
  },
  {
   "cell_type": "markdown",
   "metadata": {},
   "source": [
    "# Experiment 4 - Clustering"
   ]
  },
  {
   "cell_type": "markdown",
   "metadata": {},
   "source": [
    "After some explorations, changes in the network design gives no improvements to the F1 Score"
   ]
  },
  {
   "cell_type": "markdown",
   "metadata": {},
   "source": [
    "## Additional Information\n",
    "\n",
    "WEATHER\n",
    "\n",
    "Sources:\n",
    "https://www.auburn.edu/academic/forestry_wildlife/fire/weather_elements.htm\n",
    "\n",
    "- Air temperature has a direct influence on fire behavior because of the heat requirements for ignition and continuing the combustion process.\n",
    "- The temperature is the highest at that time resulting in higher fuel temperatures. Consequently, less heat is needed to raise the fuel to its ignition temperature. At the same time rising temperatures result in decreasing relative humidity and fuel moisture.\n",
    "- Wind has a strong effect on fire behavior due to the fanning effect on the fire. Wind increases the supply of oxygen, which results in the fire burning more rapidly. Wind influences the rate of spread and intensity of the fire. \n",
    "- The lower the relative humidity, the more readily a fire will start and burn; the more vigorously a fire will burn. This is because relative humidity is changed by temperature.\n",
    "- Precipitation will quickly dampen the surface of fuels to the point that fires cannot ignite and no wildfires will occur. During long periods of dry weather, drought, moisture that is toward the center of larger fuels and deeper in surface litter is able to work its way to the surface and evaporate into the dry atmosphere.  As a result, a larger percent of the total fuel becomes available fuel; available to burn.\n",
    "\n",
    "Conclusion:\n",
    "There will be more fire when Temperature is higher, Humidity (RH) is lower, Precipitation (Rain) is lower, and Wind is stronger.\n",
    "\n",
    "FIRE WEATHER INDEX\n",
    "\n",
    "Sources:\n",
    "https://www.nwcg.gov/publications/pms437/cffdrs/fire-weather-index-system\n",
    "\n",
    "There 3 main processes:\n",
    "- Fire Weather Observation : Temperature, Relative Humidity, Rain, and Wind.\n",
    "- Fuel Moisture Codes: FFMC (Temperature, Relative Humidity, Rain, and Wind), DMC (Temperature, Relative Humidity, and Wind), DC (Temperature and Rain)\n",
    "- Fire Behaviour Indices : ISI (Wind + FFMC) - as the fires Spread Component (SC)."
   ]
  },
  {
   "cell_type": "code",
   "execution_count": 759,
   "metadata": {},
   "outputs": [],
   "source": [
    "data = data[['X', 'Y', 'month', 'day', 'FFMC', 'DMC', 'DC', 'ISI', 'temp', 'RH',\n",
    "       'wind', 'rain', 'area', 'area_categorical', 'location']]"
   ]
  },
  {
   "cell_type": "code",
   "execution_count": 487,
   "metadata": {},
   "outputs": [],
   "source": [
    "from sklearn.cluster import KMeans"
   ]
  },
  {
   "cell_type": "markdown",
   "metadata": {},
   "source": [
    "### Weather Cluster"
   ]
  },
  {
   "cell_type": "code",
   "execution_count": 760,
   "metadata": {},
   "outputs": [
    {
     "data": {
      "text/html": [
       "<div>\n",
       "<style scoped>\n",
       "    .dataframe tbody tr th:only-of-type {\n",
       "        vertical-align: middle;\n",
       "    }\n",
       "\n",
       "    .dataframe tbody tr th {\n",
       "        vertical-align: top;\n",
       "    }\n",
       "\n",
       "    .dataframe thead th {\n",
       "        text-align: right;\n",
       "    }\n",
       "</style>\n",
       "<table border=\"1\" class=\"dataframe\">\n",
       "  <thead>\n",
       "    <tr style=\"text-align: right;\">\n",
       "      <th></th>\n",
       "      <th>X</th>\n",
       "      <th>Y</th>\n",
       "      <th>month</th>\n",
       "      <th>day</th>\n",
       "      <th>FFMC</th>\n",
       "      <th>DMC</th>\n",
       "      <th>DC</th>\n",
       "      <th>ISI</th>\n",
       "      <th>temp</th>\n",
       "      <th>RH</th>\n",
       "      <th>wind</th>\n",
       "      <th>rain</th>\n",
       "      <th>area</th>\n",
       "      <th>area_categorical</th>\n",
       "      <th>location</th>\n",
       "      <th>cluster_weather</th>\n",
       "    </tr>\n",
       "  </thead>\n",
       "  <tbody>\n",
       "    <tr>\n",
       "      <th>0</th>\n",
       "      <td>7</td>\n",
       "      <td>5</td>\n",
       "      <td>7</td>\n",
       "      <td>0</td>\n",
       "      <td>86.2</td>\n",
       "      <td>26.2</td>\n",
       "      <td>94.3</td>\n",
       "      <td>5.1</td>\n",
       "      <td>8.2</td>\n",
       "      <td>51</td>\n",
       "      <td>6.7</td>\n",
       "      <td>0.0</td>\n",
       "      <td>0.0</td>\n",
       "      <td>0</td>\n",
       "      <td>25</td>\n",
       "      <td>0</td>\n",
       "    </tr>\n",
       "    <tr>\n",
       "      <th>1</th>\n",
       "      <td>7</td>\n",
       "      <td>4</td>\n",
       "      <td>10</td>\n",
       "      <td>5</td>\n",
       "      <td>90.6</td>\n",
       "      <td>35.4</td>\n",
       "      <td>669.1</td>\n",
       "      <td>6.7</td>\n",
       "      <td>18.0</td>\n",
       "      <td>33</td>\n",
       "      <td>0.9</td>\n",
       "      <td>0.0</td>\n",
       "      <td>0.0</td>\n",
       "      <td>0</td>\n",
       "      <td>24</td>\n",
       "      <td>1</td>\n",
       "    </tr>\n",
       "    <tr>\n",
       "      <th>2</th>\n",
       "      <td>7</td>\n",
       "      <td>4</td>\n",
       "      <td>10</td>\n",
       "      <td>2</td>\n",
       "      <td>90.6</td>\n",
       "      <td>43.7</td>\n",
       "      <td>686.9</td>\n",
       "      <td>6.7</td>\n",
       "      <td>14.6</td>\n",
       "      <td>33</td>\n",
       "      <td>1.3</td>\n",
       "      <td>0.0</td>\n",
       "      <td>0.0</td>\n",
       "      <td>0</td>\n",
       "      <td>24</td>\n",
       "      <td>1</td>\n",
       "    </tr>\n",
       "    <tr>\n",
       "      <th>3</th>\n",
       "      <td>8</td>\n",
       "      <td>6</td>\n",
       "      <td>7</td>\n",
       "      <td>0</td>\n",
       "      <td>91.7</td>\n",
       "      <td>33.3</td>\n",
       "      <td>77.5</td>\n",
       "      <td>9.0</td>\n",
       "      <td>8.3</td>\n",
       "      <td>97</td>\n",
       "      <td>4.0</td>\n",
       "      <td>0.2</td>\n",
       "      <td>0.0</td>\n",
       "      <td>0</td>\n",
       "      <td>30</td>\n",
       "      <td>0</td>\n",
       "    </tr>\n",
       "    <tr>\n",
       "      <th>4</th>\n",
       "      <td>8</td>\n",
       "      <td>6</td>\n",
       "      <td>7</td>\n",
       "      <td>3</td>\n",
       "      <td>89.3</td>\n",
       "      <td>51.3</td>\n",
       "      <td>102.2</td>\n",
       "      <td>9.6</td>\n",
       "      <td>11.4</td>\n",
       "      <td>99</td>\n",
       "      <td>1.8</td>\n",
       "      <td>0.0</td>\n",
       "      <td>0.0</td>\n",
       "      <td>0</td>\n",
       "      <td>30</td>\n",
       "      <td>0</td>\n",
       "    </tr>\n",
       "  </tbody>\n",
       "</table>\n",
       "</div>"
      ],
      "text/plain": [
       "   X  Y  month  day  FFMC   DMC     DC  ISI  temp  RH  wind  rain  area  \\\n",
       "0  7  5      7    0  86.2  26.2   94.3  5.1   8.2  51   6.7   0.0   0.0   \n",
       "1  7  4     10    5  90.6  35.4  669.1  6.7  18.0  33   0.9   0.0   0.0   \n",
       "2  7  4     10    2  90.6  43.7  686.9  6.7  14.6  33   1.3   0.0   0.0   \n",
       "3  8  6      7    0  91.7  33.3   77.5  9.0   8.3  97   4.0   0.2   0.0   \n",
       "4  8  6      7    3  89.3  51.3  102.2  9.6  11.4  99   1.8   0.0   0.0   \n",
       "\n",
       "   area_categorical  location cluster_weather  \n",
       "0                 0        25               0  \n",
       "1                 0        24               1  \n",
       "2                 0        24               1  \n",
       "3                 0        30               0  \n",
       "4                 0        30               0  "
      ]
     },
     "execution_count": 760,
     "metadata": {},
     "output_type": "execute_result"
    }
   ],
   "source": [
    "features_weather = ['X', 'Y', 'month', 'temp', 'RH', 'wind', 'rain']\n",
    "\n",
    "kmeans = KMeans(n_clusters=2)\n",
    "data[\"cluster_weather\"] = kmeans.fit_predict(data[features_weather])\n",
    "data[\"cluster_weather\"] = data[\"cluster_weather\"].astype(\"category\")\n",
    "\n",
    "data.head()"
   ]
  },
  {
   "cell_type": "markdown",
   "metadata": {},
   "source": [
    "### Fire Weather Index Cluster"
   ]
  },
  {
   "cell_type": "code",
   "execution_count": 761,
   "metadata": {},
   "outputs": [
    {
     "data": {
      "text/html": [
       "<div>\n",
       "<style scoped>\n",
       "    .dataframe tbody tr th:only-of-type {\n",
       "        vertical-align: middle;\n",
       "    }\n",
       "\n",
       "    .dataframe tbody tr th {\n",
       "        vertical-align: top;\n",
       "    }\n",
       "\n",
       "    .dataframe thead th {\n",
       "        text-align: right;\n",
       "    }\n",
       "</style>\n",
       "<table border=\"1\" class=\"dataframe\">\n",
       "  <thead>\n",
       "    <tr style=\"text-align: right;\">\n",
       "      <th></th>\n",
       "      <th>X</th>\n",
       "      <th>Y</th>\n",
       "      <th>month</th>\n",
       "      <th>day</th>\n",
       "      <th>FFMC</th>\n",
       "      <th>DMC</th>\n",
       "      <th>DC</th>\n",
       "      <th>ISI</th>\n",
       "      <th>temp</th>\n",
       "      <th>RH</th>\n",
       "      <th>wind</th>\n",
       "      <th>rain</th>\n",
       "      <th>area</th>\n",
       "      <th>area_categorical</th>\n",
       "      <th>location</th>\n",
       "      <th>cluster_weather</th>\n",
       "      <th>cluster_weather_index</th>\n",
       "    </tr>\n",
       "  </thead>\n",
       "  <tbody>\n",
       "    <tr>\n",
       "      <th>0</th>\n",
       "      <td>7</td>\n",
       "      <td>5</td>\n",
       "      <td>7</td>\n",
       "      <td>0</td>\n",
       "      <td>86.2</td>\n",
       "      <td>26.2</td>\n",
       "      <td>94.3</td>\n",
       "      <td>5.1</td>\n",
       "      <td>8.2</td>\n",
       "      <td>51</td>\n",
       "      <td>6.7</td>\n",
       "      <td>0.0</td>\n",
       "      <td>0.0</td>\n",
       "      <td>0</td>\n",
       "      <td>25</td>\n",
       "      <td>0</td>\n",
       "      <td>1</td>\n",
       "    </tr>\n",
       "    <tr>\n",
       "      <th>1</th>\n",
       "      <td>7</td>\n",
       "      <td>4</td>\n",
       "      <td>10</td>\n",
       "      <td>5</td>\n",
       "      <td>90.6</td>\n",
       "      <td>35.4</td>\n",
       "      <td>669.1</td>\n",
       "      <td>6.7</td>\n",
       "      <td>18.0</td>\n",
       "      <td>33</td>\n",
       "      <td>0.9</td>\n",
       "      <td>0.0</td>\n",
       "      <td>0.0</td>\n",
       "      <td>0</td>\n",
       "      <td>24</td>\n",
       "      <td>1</td>\n",
       "      <td>0</td>\n",
       "    </tr>\n",
       "    <tr>\n",
       "      <th>2</th>\n",
       "      <td>7</td>\n",
       "      <td>4</td>\n",
       "      <td>10</td>\n",
       "      <td>2</td>\n",
       "      <td>90.6</td>\n",
       "      <td>43.7</td>\n",
       "      <td>686.9</td>\n",
       "      <td>6.7</td>\n",
       "      <td>14.6</td>\n",
       "      <td>33</td>\n",
       "      <td>1.3</td>\n",
       "      <td>0.0</td>\n",
       "      <td>0.0</td>\n",
       "      <td>0</td>\n",
       "      <td>24</td>\n",
       "      <td>1</td>\n",
       "      <td>0</td>\n",
       "    </tr>\n",
       "    <tr>\n",
       "      <th>3</th>\n",
       "      <td>8</td>\n",
       "      <td>6</td>\n",
       "      <td>7</td>\n",
       "      <td>0</td>\n",
       "      <td>91.7</td>\n",
       "      <td>33.3</td>\n",
       "      <td>77.5</td>\n",
       "      <td>9.0</td>\n",
       "      <td>8.3</td>\n",
       "      <td>97</td>\n",
       "      <td>4.0</td>\n",
       "      <td>0.2</td>\n",
       "      <td>0.0</td>\n",
       "      <td>0</td>\n",
       "      <td>30</td>\n",
       "      <td>0</td>\n",
       "      <td>1</td>\n",
       "    </tr>\n",
       "    <tr>\n",
       "      <th>4</th>\n",
       "      <td>8</td>\n",
       "      <td>6</td>\n",
       "      <td>7</td>\n",
       "      <td>3</td>\n",
       "      <td>89.3</td>\n",
       "      <td>51.3</td>\n",
       "      <td>102.2</td>\n",
       "      <td>9.6</td>\n",
       "      <td>11.4</td>\n",
       "      <td>99</td>\n",
       "      <td>1.8</td>\n",
       "      <td>0.0</td>\n",
       "      <td>0.0</td>\n",
       "      <td>0</td>\n",
       "      <td>30</td>\n",
       "      <td>0</td>\n",
       "      <td>1</td>\n",
       "    </tr>\n",
       "  </tbody>\n",
       "</table>\n",
       "</div>"
      ],
      "text/plain": [
       "   X  Y  month  day  FFMC   DMC     DC  ISI  temp  RH  wind  rain  area  \\\n",
       "0  7  5      7    0  86.2  26.2   94.3  5.1   8.2  51   6.7   0.0   0.0   \n",
       "1  7  4     10    5  90.6  35.4  669.1  6.7  18.0  33   0.9   0.0   0.0   \n",
       "2  7  4     10    2  90.6  43.7  686.9  6.7  14.6  33   1.3   0.0   0.0   \n",
       "3  8  6      7    0  91.7  33.3   77.5  9.0   8.3  97   4.0   0.2   0.0   \n",
       "4  8  6      7    3  89.3  51.3  102.2  9.6  11.4  99   1.8   0.0   0.0   \n",
       "\n",
       "   area_categorical  location cluster_weather cluster_weather_index  \n",
       "0                 0        25               0                     1  \n",
       "1                 0        24               1                     0  \n",
       "2                 0        24               1                     0  \n",
       "3                 0        30               0                     1  \n",
       "4                 0        30               0                     1  "
      ]
     },
     "execution_count": 761,
     "metadata": {},
     "output_type": "execute_result"
    }
   ],
   "source": [
    "features_index = ['X', 'Y', 'month', 'FFMC', 'DMC', 'DC', 'ISI']\n",
    "\n",
    "kmeans = KMeans(n_clusters=2)\n",
    "data[\"cluster_weather_index\"] = kmeans.fit_predict(data[features_index])\n",
    "data[\"cluster_weather_index\"] = data[\"cluster_weather_index\"].astype(\"category\")\n",
    "\n",
    "data.head()"
   ]
  },
  {
   "cell_type": "code",
   "execution_count": 762,
   "metadata": {},
   "outputs": [],
   "source": [
    "X = data.drop(['X','Y','area_categorical'], axis = 1)\n",
    "y = data['area_categorical']"
   ]
  },
  {
   "cell_type": "code",
   "execution_count": 763,
   "metadata": {},
   "outputs": [],
   "source": [
    "from sklearn.model_selection import train_test_split\n",
    "\n",
    "X_train, X_valid, y_train, y_valid = train_test_split(X, y, \n",
    "                                                      train_size=0.8, \n",
    "                                                      test_size=0.2,\n",
    "                                                      random_state=42)"
   ]
  },
  {
   "cell_type": "code",
   "execution_count": 764,
   "metadata": {},
   "outputs": [
    {
     "name": "stderr",
     "output_type": "stream",
     "text": [
      "/opt/anaconda3/lib/python3.7/site-packages/ipykernel_launcher.py:1: SettingWithCopyWarning: \n",
      "A value is trying to be set on a copy of a slice from a DataFrame.\n",
      "Try using .loc[row_indexer,col_indexer] = value instead\n",
      "\n",
      "See the caveats in the documentation: https://pandas.pydata.org/pandas-docs/stable/user_guide/indexing.html#returning-a-view-versus-a-copy\n",
      "  \"\"\"Entry point for launching an IPython kernel.\n"
     ]
    }
   ],
   "source": [
    "X_train[\"area_weather\"] = X_train.groupby(\"cluster_weather\")[\"area\"].transform(\"max\")\n",
    "\n",
    "# Merge the values into the validation set\n",
    "X_valid = X_valid.merge(\n",
    "    X_train[[\"cluster_weather\", \"area_weather\"]].drop_duplicates(),\n",
    "    on=\"cluster_weather\",\n",
    "    how=\"left\",\n",
    ")"
   ]
  },
  {
   "cell_type": "code",
   "execution_count": 765,
   "metadata": {},
   "outputs": [
    {
     "name": "stderr",
     "output_type": "stream",
     "text": [
      "/opt/anaconda3/lib/python3.7/site-packages/ipykernel_launcher.py:1: SettingWithCopyWarning: \n",
      "A value is trying to be set on a copy of a slice from a DataFrame.\n",
      "Try using .loc[row_indexer,col_indexer] = value instead\n",
      "\n",
      "See the caveats in the documentation: https://pandas.pydata.org/pandas-docs/stable/user_guide/indexing.html#returning-a-view-versus-a-copy\n",
      "  \"\"\"Entry point for launching an IPython kernel.\n"
     ]
    }
   ],
   "source": [
    "X_train[\"area_weather_index\"] = X_train.groupby(\"cluster_weather_index\")[\"area\"].transform(\"max\")\n",
    "\n",
    "# Merge the values into the validation set\n",
    "X_valid = X_valid.merge(\n",
    "    X_train[[\"cluster_weather_index\", \"area_weather_index\"]].drop_duplicates(),\n",
    "    on=\"cluster_weather_index\",\n",
    "    how=\"left\",\n",
    ")"
   ]
  },
  {
   "cell_type": "code",
   "execution_count": 766,
   "metadata": {},
   "outputs": [
    {
     "name": "stderr",
     "output_type": "stream",
     "text": [
      "/opt/anaconda3/lib/python3.7/site-packages/ipykernel_launcher.py:1: SettingWithCopyWarning: \n",
      "A value is trying to be set on a copy of a slice from a DataFrame.\n",
      "Try using .loc[row_indexer,col_indexer] = value instead\n",
      "\n",
      "See the caveats in the documentation: https://pandas.pydata.org/pandas-docs/stable/user_guide/indexing.html#returning-a-view-versus-a-copy\n",
      "  \"\"\"Entry point for launching an IPython kernel.\n"
     ]
    }
   ],
   "source": [
    "X_train[\"area_month_max\"] = X_train.groupby(\"month\")[\"area\"].transform(\"max\")\n",
    "\n",
    "# Merge the values into the validation set\n",
    "X_valid = X_valid.merge(\n",
    "    X_train[[\"month\", \"area_month_max\"]].drop_duplicates(),\n",
    "    on=\"month\",\n",
    "    how=\"left\",\n",
    ")"
   ]
  },
  {
   "cell_type": "code",
   "execution_count": 767,
   "metadata": {},
   "outputs": [],
   "source": [
    "X_train = X_train.drop(['area','day'], axis = 1)\n",
    "X_valid = X_valid.drop(['area','day'], axis = 1)"
   ]
  },
  {
   "cell_type": "code",
   "execution_count": 768,
   "metadata": {},
   "outputs": [
    {
     "data": {
      "text/plain": [
       "Index(['month', 'FFMC', 'DMC', 'DC', 'ISI', 'temp', 'RH', 'wind', 'rain',\n",
       "       'location', 'cluster_weather', 'cluster_weather_index', 'area_weather',\n",
       "       'area_weather_index', 'area_month_max'],\n",
       "      dtype='object')"
      ]
     },
     "execution_count": 768,
     "metadata": {},
     "output_type": "execute_result"
    }
   ],
   "source": [
    "X_train.columns"
   ]
  },
  {
   "cell_type": "code",
   "execution_count": 779,
   "metadata": {},
   "outputs": [
    {
     "data": {
      "text/plain": [
       "area_month_max           0.061543\n",
       "location                 0.048186\n",
       "RH                       0.040197\n",
       "cluster_weather_index    0.035329\n",
       "cluster_weather          0.027815\n",
       "month                    0.019888\n",
       "area_weather_index       0.018511\n",
       "ISI                      0.018147\n",
       "FFMC                     0.014863\n",
       "area_weather             0.014370\n",
       "wind                     0.011881\n",
       "DMC                      0.000000\n",
       "DC                       0.000000\n",
       "temp                     0.000000\n",
       "rain                     0.000000\n",
       "Name: MI Scores, dtype: float64"
      ]
     },
     "execution_count": 779,
     "metadata": {},
     "output_type": "execute_result"
    }
   ],
   "source": [
    "from sklearn.feature_selection import mutual_info_classif\n",
    "\n",
    "def make_mi_scores(X, y):\n",
    "    mi_scores = mutual_info_classif(X, y, random_state=0)\n",
    "    mi_scores = pd.Series(mi_scores, name=\"MI Scores\", index=X.columns)\n",
    "    mi_scores = mi_scores.sort_values(ascending=False)\n",
    "    return mi_scores\n",
    "\n",
    "mi_scores= make_mi_scores(X_train, y_train)\n",
    "\n",
    "mi_scores"
   ]
  },
  {
   "cell_type": "code",
   "execution_count": 781,
   "metadata": {},
   "outputs": [
    {
     "data": {
      "text/plain": [
       "temp                     0.098942\n",
       "ISI                      0.092534\n",
       "wind                     0.054256\n",
       "DC                       0.043416\n",
       "RH                       0.035955\n",
       "location                 0.022480\n",
       "cluster_weather_index    0.018734\n",
       "area_weather_index       0.004249\n",
       "month                    0.000000\n",
       "FFMC                     0.000000\n",
       "DMC                      0.000000\n",
       "rain                     0.000000\n",
       "cluster_weather          0.000000\n",
       "area_weather             0.000000\n",
       "area_month_max           0.000000\n",
       "Name: MI Scores, dtype: float64"
      ]
     },
     "execution_count": 781,
     "metadata": {},
     "output_type": "execute_result"
    }
   ],
   "source": [
    "from sklearn.feature_selection import mutual_info_classif\n",
    "\n",
    "def make_mi_scores(X, y):\n",
    "    mi_scores = mutual_info_classif(X, y, random_state=10)\n",
    "    mi_scores = pd.Series(mi_scores, name=\"MI Scores\", index=X.columns)\n",
    "    mi_scores = mi_scores.sort_values(ascending=False)\n",
    "    return mi_scores\n",
    "\n",
    "mi_scores= make_mi_scores(X_valid, y_valid)\n",
    "\n",
    "mi_scores"
   ]
  },
  {
   "cell_type": "code",
   "execution_count": 782,
   "metadata": {},
   "outputs": [],
   "source": [
    "from sklearn.feature_selection import SelectKBest\n",
    "from sklearn.feature_selection import chi2\n",
    "\n",
    "threshold = 7\n",
    "\n",
    "skb = SelectKBest(score_func=chi2, k=threshold)\n",
    "sel_skb = skb.fit(X_train, y_train)\n",
    "sel_skb_index = sel_skb.get_support()"
   ]
  },
  {
   "cell_type": "code",
   "execution_count": 783,
   "metadata": {},
   "outputs": [
    {
     "data": {
      "text/plain": [
       "array([False, False,  True,  True, False,  True, False, False, False,\n",
       "        True, False, False,  True,  True,  True])"
      ]
     },
     "execution_count": 783,
     "metadata": {},
     "output_type": "execute_result"
    }
   ],
   "source": [
    "sel_skb_index"
   ]
  },
  {
   "cell_type": "code",
   "execution_count": 784,
   "metadata": {},
   "outputs": [],
   "source": [
    "from sklearn.feature_selection import SelectKBest\n",
    "from sklearn.feature_selection import chi2\n",
    "\n",
    "threshold = 7\n",
    "\n",
    "skb = SelectKBest(score_func=chi2, k=threshold)\n",
    "sel_skb = skb.fit(X_valid, y_valid)\n",
    "sel_skb_index = sel_skb.get_support()"
   ]
  },
  {
   "cell_type": "code",
   "execution_count": 785,
   "metadata": {},
   "outputs": [
    {
     "data": {
      "text/plain": [
       "array([ True, False, False,  True, False,  True,  True, False, False,\n",
       "       False, False, False,  True,  True,  True])"
      ]
     },
     "execution_count": 785,
     "metadata": {},
     "output_type": "execute_result"
    }
   ],
   "source": [
    "sel_skb_index"
   ]
  },
  {
   "cell_type": "markdown",
   "metadata": {},
   "source": [
    "Selected : 4 - DC, 6 - RH, 13 - area_weather, 14 - area_weather_index, 15 - area_month_max"
   ]
  },
  {
   "cell_type": "code",
   "execution_count": 787,
   "metadata": {},
   "outputs": [],
   "source": [
    "X_train = X_train[['DC','RH','area_weather','area_weather_index','area_month_max']]\n",
    "X_valid = X_valid[['DC','RH','area_weather','area_weather_index','area_month_max']]"
   ]
  },
  {
   "cell_type": "markdown",
   "metadata": {},
   "source": [
    "### Testing - RF"
   ]
  },
  {
   "cell_type": "code",
   "execution_count": 788,
   "metadata": {},
   "outputs": [
    {
     "data": {
      "text/plain": [
       "RandomForestClassifier(random_state=42)"
      ]
     },
     "execution_count": 788,
     "metadata": {},
     "output_type": "execute_result"
    }
   ],
   "source": [
    "model = RandomForestClassifier(random_state=42)\n",
    "model.fit(X_train, y_train)"
   ]
  },
  {
   "cell_type": "code",
   "execution_count": 789,
   "metadata": {},
   "outputs": [],
   "source": [
    "y_pred = model.predict(X_valid)"
   ]
  },
  {
   "cell_type": "code",
   "execution_count": 790,
   "metadata": {},
   "outputs": [
    {
     "name": "stdout",
     "output_type": "stream",
     "text": [
      "              precision    recall  f1-score   support\n",
      "\n",
      "           0       0.59      0.65      0.62        51\n",
      "           1       0.62      0.57      0.59        53\n",
      "\n",
      "    accuracy                           0.61       104\n",
      "   macro avg       0.61      0.61      0.61       104\n",
      "weighted avg       0.61      0.61      0.61       104\n",
      "\n"
     ]
    }
   ],
   "source": [
    "from sklearn.metrics import classification_report\n",
    "\n",
    "print(classification_report(y_valid, y_pred))"
   ]
  },
  {
   "cell_type": "code",
   "execution_count": 791,
   "metadata": {},
   "outputs": [
    {
     "data": {
      "text/html": [
       "<div>\n",
       "<style scoped>\n",
       "    .dataframe tbody tr th:only-of-type {\n",
       "        vertical-align: middle;\n",
       "    }\n",
       "\n",
       "    .dataframe tbody tr th {\n",
       "        vertical-align: top;\n",
       "    }\n",
       "\n",
       "    .dataframe thead th {\n",
       "        text-align: right;\n",
       "    }\n",
       "</style>\n",
       "<table border=\"1\" class=\"dataframe\">\n",
       "  <thead>\n",
       "    <tr style=\"text-align: right;\">\n",
       "      <th></th>\n",
       "      <th>0</th>\n",
       "      <th>1</th>\n",
       "    </tr>\n",
       "  </thead>\n",
       "  <tbody>\n",
       "    <tr>\n",
       "      <th>0</th>\n",
       "      <td>33</td>\n",
       "      <td>18</td>\n",
       "    </tr>\n",
       "    <tr>\n",
       "      <th>1</th>\n",
       "      <td>23</td>\n",
       "      <td>30</td>\n",
       "    </tr>\n",
       "  </tbody>\n",
       "</table>\n",
       "</div>"
      ],
      "text/plain": [
       "    0   1\n",
       "0  33  18\n",
       "1  23  30"
      ]
     },
     "execution_count": 791,
     "metadata": {},
     "output_type": "execute_result"
    }
   ],
   "source": [
    "from sklearn.metrics import confusion_matrix\n",
    "\n",
    "pd.DataFrame(confusion_matrix(y_valid, y_pred))"
   ]
  },
  {
   "cell_type": "code",
   "execution_count": 792,
   "metadata": {},
   "outputs": [],
   "source": [
    "y_pred_ = model.predict(X_train)"
   ]
  },
  {
   "cell_type": "code",
   "execution_count": 793,
   "metadata": {},
   "outputs": [
    {
     "name": "stdout",
     "output_type": "stream",
     "text": [
      "              precision    recall  f1-score   support\n",
      "\n",
      "           0       0.95      0.96      0.95       196\n",
      "           1       0.96      0.95      0.96       217\n",
      "\n",
      "    accuracy                           0.96       413\n",
      "   macro avg       0.96      0.96      0.96       413\n",
      "weighted avg       0.96      0.96      0.96       413\n",
      "\n"
     ]
    }
   ],
   "source": [
    "from sklearn.metrics import classification_report\n",
    "\n",
    "print(classification_report(y_train, y_pred_))"
   ]
  },
  {
   "cell_type": "code",
   "execution_count": 794,
   "metadata": {},
   "outputs": [
    {
     "data": {
      "text/html": [
       "<div>\n",
       "<style scoped>\n",
       "    .dataframe tbody tr th:only-of-type {\n",
       "        vertical-align: middle;\n",
       "    }\n",
       "\n",
       "    .dataframe tbody tr th {\n",
       "        vertical-align: top;\n",
       "    }\n",
       "\n",
       "    .dataframe thead th {\n",
       "        text-align: right;\n",
       "    }\n",
       "</style>\n",
       "<table border=\"1\" class=\"dataframe\">\n",
       "  <thead>\n",
       "    <tr style=\"text-align: right;\">\n",
       "      <th></th>\n",
       "      <th>0</th>\n",
       "      <th>1</th>\n",
       "    </tr>\n",
       "  </thead>\n",
       "  <tbody>\n",
       "    <tr>\n",
       "      <th>0</th>\n",
       "      <td>188</td>\n",
       "      <td>8</td>\n",
       "    </tr>\n",
       "    <tr>\n",
       "      <th>1</th>\n",
       "      <td>10</td>\n",
       "      <td>207</td>\n",
       "    </tr>\n",
       "  </tbody>\n",
       "</table>\n",
       "</div>"
      ],
      "text/plain": [
       "     0    1\n",
       "0  188    8\n",
       "1   10  207"
      ]
     },
     "execution_count": 794,
     "metadata": {},
     "output_type": "execute_result"
    }
   ],
   "source": [
    "from sklearn.metrics import confusion_matrix\n",
    "\n",
    "pd.DataFrame(confusion_matrix(y_train, y_pred_))"
   ]
  },
  {
   "cell_type": "markdown",
   "metadata": {},
   "source": [
    "### Tuning ANN HyperParameter"
   ]
  },
  {
   "cell_type": "code",
   "execution_count": 795,
   "metadata": {},
   "outputs": [
    {
     "data": {
      "text/plain": [
       "(413, 5)"
      ]
     },
     "execution_count": 795,
     "metadata": {},
     "output_type": "execute_result"
    }
   ],
   "source": [
    "X_train.shape"
   ]
  },
  {
   "cell_type": "code",
   "execution_count": 796,
   "metadata": {},
   "outputs": [],
   "source": [
    "def model_builder(hp):\n",
    "  model = keras.Sequential()\n",
    "  model.add(Dense(10, input_shape=(5,), activation='relu', kernel_initializer = 'he_uniform'))\n",
    "  model.add(Dropout(rate=0.25))\n",
    "\n",
    "  hp_units_1 = hp.Int('units_1', min_value=4, max_value=32, step=2)\n",
    "  model.add(keras.layers.Dense(units=hp_units_1, activation='relu', kernel_initializer = 'he_uniform'))\n",
    "  model.add(Dropout(rate=0.25))\n",
    "    \n",
    "  hp_units_2 = hp.Int('units_2', min_value=4, max_value=32, step=2)  \n",
    "  model.add(keras.layers.Dense(units=hp_units_2, activation='relu', kernel_initializer = 'he_uniform'))\n",
    "  model.add(Dropout(rate=0.25))\n",
    "    \n",
    "  model.add(Dense(1, activation='sigmoid'))\n",
    "\n",
    "  model.compile(optimizer='adam',\n",
    "                loss='binary_crossentropy',\n",
    "                metrics=[tensorflow.keras.metrics.AUC()])\n",
    "\n",
    "  return model"
   ]
  },
  {
   "cell_type": "code",
   "execution_count": 797,
   "metadata": {},
   "outputs": [],
   "source": [
    "tuner = kt.Hyperband(model_builder,\n",
    "                     objective=kt.Objective(\"auc\", direction=\"max\"),\n",
    "                     max_epochs=300,\n",
    "                     directory='my_dir',\n",
    "                     project_name='intro_to_kt_61')"
   ]
  },
  {
   "cell_type": "code",
   "execution_count": 798,
   "metadata": {},
   "outputs": [],
   "source": [
    "stop_early = tensorflow.keras.callbacks.EarlyStopping(monitor='val_loss', patience=20, mode='min')"
   ]
  },
  {
   "cell_type": "code",
   "execution_count": 799,
   "metadata": {},
   "outputs": [
    {
     "name": "stdout",
     "output_type": "stream",
     "text": [
      "Trial 206 Complete [00h 00m 01s]\n",
      "auc: 0.5639088153839111\n",
      "\n",
      "Best auc So Far: 0.5811511278152466\n",
      "Total elapsed time: 00h 05m 45s\n",
      "INFO:tensorflow:Oracle triggered exit\n"
     ]
    }
   ],
   "source": [
    "tuner.search(X_train, \n",
    "             y_train, \n",
    "             epochs=300, \n",
    "             validation_split=0.3, \n",
    "             callbacks=[stop_early],\n",
    "             batch_size=64)\n",
    "\n",
    "# Get the optimal hyperparameters\n",
    "best_hps=tuner.get_best_hyperparameters(num_trials=10)[0]"
   ]
  },
  {
   "cell_type": "code",
   "execution_count": 800,
   "metadata": {},
   "outputs": [
    {
     "data": {
      "text/plain": [
       "12"
      ]
     },
     "execution_count": 800,
     "metadata": {},
     "output_type": "execute_result"
    }
   ],
   "source": [
    "best_hps.get('units_1')"
   ]
  },
  {
   "cell_type": "code",
   "execution_count": 801,
   "metadata": {},
   "outputs": [
    {
     "data": {
      "text/plain": [
       "22"
      ]
     },
     "execution_count": 801,
     "metadata": {},
     "output_type": "execute_result"
    }
   ],
   "source": [
    "best_hps.get('units_2')"
   ]
  },
  {
   "cell_type": "code",
   "execution_count": 802,
   "metadata": {},
   "outputs": [
    {
     "data": {
      "text/plain": [
       "2"
      ]
     },
     "execution_count": 802,
     "metadata": {},
     "output_type": "execute_result"
    }
   ],
   "source": [
    "best_hps.get('tuner/epochs')"
   ]
  },
  {
   "cell_type": "code",
   "execution_count": 862,
   "metadata": {},
   "outputs": [
    {
     "name": "stdout",
     "output_type": "stream",
     "text": [
      "Epoch 1/75\n",
      "19/19 [==============================] - 0s 20ms/step - loss: 443.7863 - auc_14: 0.5038 - val_loss: 138.7960 - val_auc_14: 0.4949\n",
      "Epoch 2/75\n",
      "19/19 [==============================] - 0s 4ms/step - loss: 373.9647 - auc_14: 0.4808 - val_loss: 121.9483 - val_auc_14: 0.4973\n",
      "Epoch 3/75\n",
      "19/19 [==============================] - 0s 4ms/step - loss: 376.7776 - auc_14: 0.4566 - val_loss: 109.9294 - val_auc_14: 0.4973\n",
      "Epoch 4/75\n",
      "19/19 [==============================] - 0s 4ms/step - loss: 261.6030 - auc_14: 0.5372 - val_loss: 99.3649 - val_auc_14: 0.4973\n",
      "Epoch 5/75\n",
      "19/19 [==============================] - 0s 4ms/step - loss: 288.1596 - auc_14: 0.4980 - val_loss: 103.8432 - val_auc_14: 0.4894\n",
      "Epoch 6/75\n",
      "19/19 [==============================] - 0s 3ms/step - loss: 228.0959 - auc_14: 0.5265 - val_loss: 94.3298 - val_auc_14: 0.4885\n",
      "Epoch 7/75\n",
      "19/19 [==============================] - 0s 4ms/step - loss: 204.5953 - auc_14: 0.5620 - val_loss: 79.3986 - val_auc_14: 0.4973\n",
      "Epoch 8/75\n",
      "19/19 [==============================] - 0s 3ms/step - loss: 208.5206 - auc_14: 0.4777 - val_loss: 72.7590 - val_auc_14: 0.4973\n",
      "Epoch 9/75\n",
      "19/19 [==============================] - 0s 3ms/step - loss: 240.8138 - auc_14: 0.4488 - val_loss: 58.4017 - val_auc_14: 0.4839\n",
      "Epoch 10/75\n",
      "19/19 [==============================] - 0s 3ms/step - loss: 170.3315 - auc_14: 0.5274 - val_loss: 53.5739 - val_auc_14: 0.5037\n",
      "Epoch 11/75\n",
      "19/19 [==============================] - 0s 4ms/step - loss: 161.4602 - auc_14: 0.5128 - val_loss: 49.9614 - val_auc_14: 0.4959\n",
      "Epoch 12/75\n",
      "19/19 [==============================] - 0s 5ms/step - loss: 156.7391 - auc_14: 0.4631 - val_loss: 49.0974 - val_auc_14: 0.5287\n",
      "Epoch 13/75\n",
      "19/19 [==============================] - 0s 3ms/step - loss: 132.9938 - auc_14: 0.4565 - val_loss: 57.9996 - val_auc_14: 0.5014\n",
      "Epoch 14/75\n",
      "19/19 [==============================] - 0s 3ms/step - loss: 130.8195 - auc_14: 0.4715 - val_loss: 51.9172 - val_auc_14: 0.5293\n",
      "Epoch 15/75\n",
      "19/19 [==============================] - 0s 4ms/step - loss: 133.0487 - auc_14: 0.4934 - val_loss: 50.1565 - val_auc_14: 0.5156\n",
      "Epoch 16/75\n",
      "19/19 [==============================] - 0s 4ms/step - loss: 108.3421 - auc_14: 0.5067 - val_loss: 47.9205 - val_auc_14: 0.4776\n",
      "Epoch 17/75\n",
      "19/19 [==============================] - 0s 3ms/step - loss: 88.2193 - auc_14: 0.5670 - val_loss: 41.4586 - val_auc_14: 0.4788\n",
      "Epoch 18/75\n",
      "19/19 [==============================] - 0s 5ms/step - loss: 88.0618 - auc_14: 0.4960 - val_loss: 41.8455 - val_auc_14: 0.4851\n",
      "Epoch 19/75\n",
      "19/19 [==============================] - 0s 5ms/step - loss: 71.2111 - auc_14: 0.5517 - val_loss: 41.0236 - val_auc_14: 0.4853\n",
      "Epoch 20/75\n",
      "19/19 [==============================] - 0s 4ms/step - loss: 81.5388 - auc_14: 0.5347 - val_loss: 43.6683 - val_auc_14: 0.4775\n",
      "Epoch 21/75\n",
      "19/19 [==============================] - 0s 3ms/step - loss: 78.2969 - auc_14: 0.4902 - val_loss: 36.7382 - val_auc_14: 0.4776\n",
      "Epoch 22/75\n",
      "19/19 [==============================] - 0s 4ms/step - loss: 74.1983 - auc_14: 0.4562 - val_loss: 31.7215 - val_auc_14: 0.4709\n",
      "Epoch 23/75\n",
      "19/19 [==============================] - 0s 5ms/step - loss: 67.6496 - auc_14: 0.5156 - val_loss: 31.8114 - val_auc_14: 0.4776\n",
      "Epoch 24/75\n",
      "19/19 [==============================] - 0s 4ms/step - loss: 69.2735 - auc_14: 0.4684 - val_loss: 20.3322 - val_auc_14: 0.4958\n",
      "Epoch 25/75\n",
      "19/19 [==============================] - 0s 3ms/step - loss: 53.2476 - auc_14: 0.5120 - val_loss: 20.4126 - val_auc_14: 0.4959\n",
      "Epoch 26/75\n",
      "19/19 [==============================] - 0s 3ms/step - loss: 60.6964 - auc_14: 0.4465 - val_loss: 20.3812 - val_auc_14: 0.4887\n",
      "Epoch 27/75\n",
      "19/19 [==============================] - 0s 3ms/step - loss: 54.2990 - auc_14: 0.4964 - val_loss: 17.8938 - val_auc_14: 0.5149\n",
      "Epoch 28/75\n",
      "19/19 [==============================] - 0s 4ms/step - loss: 53.5244 - auc_14: 0.4820 - val_loss: 17.2713 - val_auc_14: 0.4997\n",
      "Epoch 29/75\n",
      "19/19 [==============================] - 0s 4ms/step - loss: 51.5415 - auc_14: 0.5193 - val_loss: 15.4070 - val_auc_14: 0.5114\n",
      "Epoch 30/75\n",
      "19/19 [==============================] - 0s 3ms/step - loss: 46.8466 - auc_14: 0.5211 - val_loss: 15.6831 - val_auc_14: 0.4810\n",
      "Epoch 31/75\n",
      "19/19 [==============================] - 0s 4ms/step - loss: 45.0113 - auc_14: 0.5266 - val_loss: 16.2034 - val_auc_14: 0.4830\n",
      "Epoch 32/75\n",
      "19/19 [==============================] - 0s 4ms/step - loss: 39.3140 - auc_14: 0.5612 - val_loss: 14.8704 - val_auc_14: 0.4661\n",
      "Epoch 33/75\n",
      "19/19 [==============================] - 0s 3ms/step - loss: 37.0644 - auc_14: 0.5040 - val_loss: 13.3788 - val_auc_14: 0.4876\n",
      "Epoch 34/75\n",
      "19/19 [==============================] - 0s 3ms/step - loss: 42.6746 - auc_14: 0.4943 - val_loss: 10.8245 - val_auc_14: 0.4641\n",
      "Epoch 35/75\n",
      "19/19 [==============================] - 0s 4ms/step - loss: 37.9020 - auc_14: 0.5068 - val_loss: 10.0415 - val_auc_14: 0.4580\n",
      "Epoch 36/75\n",
      "19/19 [==============================] - 0s 3ms/step - loss: 36.4745 - auc_14: 0.5083 - val_loss: 8.7273 - val_auc_14: 0.4403\n",
      "Epoch 37/75\n",
      "19/19 [==============================] - 0s 3ms/step - loss: 28.6860 - auc_14: 0.5120 - val_loss: 6.6711 - val_auc_14: 0.4386\n",
      "Epoch 38/75\n",
      "19/19 [==============================] - 0s 5ms/step - loss: 31.3610 - auc_14: 0.4744 - val_loss: 7.2596 - val_auc_14: 0.4447\n",
      "Epoch 39/75\n",
      "19/19 [==============================] - 0s 4ms/step - loss: 29.9582 - auc_14: 0.4972 - val_loss: 7.3129 - val_auc_14: 0.4395\n",
      "Epoch 40/75\n",
      "19/19 [==============================] - 0s 4ms/step - loss: 31.8276 - auc_14: 0.4963 - val_loss: 6.4986 - val_auc_14: 0.4556\n",
      "Epoch 41/75\n",
      "19/19 [==============================] - 0s 5ms/step - loss: 24.2411 - auc_14: 0.5142 - val_loss: 4.5447 - val_auc_14: 0.4918\n",
      "Epoch 42/75\n",
      "19/19 [==============================] - 0s 3ms/step - loss: 23.3205 - auc_14: 0.5133 - val_loss: 4.0113 - val_auc_14: 0.5043\n",
      "Epoch 43/75\n",
      "19/19 [==============================] - 0s 4ms/step - loss: 24.9013 - auc_14: 0.4630 - val_loss: 3.5228 - val_auc_14: 0.5041\n",
      "Epoch 44/75\n",
      "19/19 [==============================] - 0s 3ms/step - loss: 26.2149 - auc_14: 0.4835 - val_loss: 3.4991 - val_auc_14: 0.4987\n",
      "Epoch 45/75\n",
      "19/19 [==============================] - 0s 3ms/step - loss: 22.5134 - auc_14: 0.4804 - val_loss: 3.4930 - val_auc_14: 0.4814\n",
      "Epoch 46/75\n",
      "19/19 [==============================] - 0s 4ms/step - loss: 23.3618 - auc_14: 0.4928 - val_loss: 3.3393 - val_auc_14: 0.4856\n",
      "Epoch 47/75\n",
      "19/19 [==============================] - 0s 4ms/step - loss: 20.2256 - auc_14: 0.4754 - val_loss: 3.2698 - val_auc_14: 0.4802\n",
      "Epoch 48/75\n",
      "19/19 [==============================] - 0s 4ms/step - loss: 20.3115 - auc_14: 0.5255 - val_loss: 3.2197 - val_auc_14: 0.4839\n",
      "Epoch 49/75\n",
      "19/19 [==============================] - 0s 5ms/step - loss: 16.8045 - auc_14: 0.5372 - val_loss: 3.2933 - val_auc_14: 0.4709\n",
      "Epoch 50/75\n",
      "19/19 [==============================] - 0s 4ms/step - loss: 16.7344 - auc_14: 0.5165 - val_loss: 3.3489 - val_auc_14: 0.5000\n",
      "Epoch 51/75\n",
      "19/19 [==============================] - 0s 4ms/step - loss: 19.2313 - auc_14: 0.4596 - val_loss: 2.8434 - val_auc_14: 0.5084\n",
      "Epoch 52/75\n",
      "19/19 [==============================] - 0s 3ms/step - loss: 18.3077 - auc_14: 0.5028 - val_loss: 2.4653 - val_auc_14: 0.5072\n",
      "Epoch 53/75\n",
      "19/19 [==============================] - 0s 3ms/step - loss: 19.5260 - auc_14: 0.4873 - val_loss: 2.7606 - val_auc_14: 0.5209\n",
      "Epoch 54/75\n",
      "19/19 [==============================] - 0s 4ms/step - loss: 19.0074 - auc_14: 0.5090 - val_loss: 2.5591 - val_auc_14: 0.5213\n",
      "Epoch 55/75\n",
      "19/19 [==============================] - 0s 4ms/step - loss: 14.5698 - auc_14: 0.4891 - val_loss: 2.6163 - val_auc_14: 0.5105\n",
      "Epoch 56/75\n",
      "19/19 [==============================] - 0s 3ms/step - loss: 16.0871 - auc_14: 0.5007 - val_loss: 2.5851 - val_auc_14: 0.4851\n",
      "Epoch 57/75\n",
      "19/19 [==============================] - 0s 3ms/step - loss: 14.3601 - auc_14: 0.5001 - val_loss: 2.9064 - val_auc_14: 0.4622\n",
      "Epoch 58/75\n",
      "19/19 [==============================] - 0s 3ms/step - loss: 13.7390 - auc_14: 0.4950 - val_loss: 2.9023 - val_auc_14: 0.4627\n",
      "Epoch 59/75\n",
      "19/19 [==============================] - 0s 4ms/step - loss: 13.0631 - auc_14: 0.5350 - val_loss: 3.1489 - val_auc_14: 0.4554\n",
      "Epoch 60/75\n"
     ]
    },
    {
     "name": "stdout",
     "output_type": "stream",
     "text": [
      "19/19 [==============================] - 0s 3ms/step - loss: 11.4118 - auc_14: 0.5147 - val_loss: 2.9208 - val_auc_14: 0.4489\n",
      "Epoch 61/75\n",
      "19/19 [==============================] - 0s 3ms/step - loss: 9.9395 - auc_14: 0.5506 - val_loss: 2.7801 - val_auc_14: 0.4567\n",
      "Epoch 62/75\n",
      "19/19 [==============================] - 0s 3ms/step - loss: 10.2680 - auc_14: 0.5607 - val_loss: 2.4898 - val_auc_14: 0.4609\n",
      "Epoch 63/75\n",
      "19/19 [==============================] - 0s 4ms/step - loss: 12.0186 - auc_14: 0.5425 - val_loss: 2.4109 - val_auc_14: 0.4836\n",
      "Epoch 64/75\n",
      "19/19 [==============================] - 0s 3ms/step - loss: 9.6887 - auc_14: 0.5063 - val_loss: 2.2027 - val_auc_14: 0.4914\n",
      "Epoch 65/75\n",
      "19/19 [==============================] - 0s 3ms/step - loss: 10.4022 - auc_14: 0.5014 - val_loss: 2.2750 - val_auc_14: 0.5048\n",
      "Epoch 66/75\n",
      "19/19 [==============================] - 0s 3ms/step - loss: 10.3606 - auc_14: 0.4759 - val_loss: 2.0743 - val_auc_14: 0.5063\n",
      "Epoch 67/75\n",
      "19/19 [==============================] - 0s 4ms/step - loss: 12.8716 - auc_14: 0.4874 - val_loss: 2.0466 - val_auc_14: 0.5127\n",
      "Epoch 68/75\n",
      "19/19 [==============================] - 0s 3ms/step - loss: 10.7559 - auc_14: 0.4769 - val_loss: 1.7692 - val_auc_14: 0.5175\n",
      "Epoch 69/75\n",
      "19/19 [==============================] - 0s 4ms/step - loss: 11.6541 - auc_14: 0.4409 - val_loss: 1.2984 - val_auc_14: 0.5254\n",
      "Epoch 70/75\n",
      "19/19 [==============================] - 0s 3ms/step - loss: 10.0929 - auc_14: 0.4937 - val_loss: 1.1608 - val_auc_14: 0.5348\n",
      "Epoch 71/75\n",
      "19/19 [==============================] - 0s 3ms/step - loss: 8.9717 - auc_14: 0.5056 - val_loss: 1.2810 - val_auc_14: 0.5236\n",
      "Epoch 72/75\n",
      "19/19 [==============================] - 0s 3ms/step - loss: 9.5939 - auc_14: 0.4942 - val_loss: 1.1690 - val_auc_14: 0.5706\n",
      "Epoch 73/75\n",
      "19/19 [==============================] - 0s 3ms/step - loss: 7.4938 - auc_14: 0.5847 - val_loss: 1.1179 - val_auc_14: 0.5940\n",
      "Epoch 74/75\n",
      "19/19 [==============================] - 0s 4ms/step - loss: 8.8574 - auc_14: 0.4561 - val_loss: 1.1495 - val_auc_14: 0.5746\n",
      "Epoch 75/75\n",
      "19/19 [==============================] - 0s 3ms/step - loss: 9.2742 - auc_14: 0.5246 - val_loss: 1.1247 - val_auc_14: 0.5766\n"
     ]
    }
   ],
   "source": [
    "# Define Model\n",
    "\n",
    "model_4 = Sequential()\n",
    "\n",
    "model_4.add(Dense(10, input_shape=(5,), activation='relu', kernel_initializer = 'he_uniform'))\n",
    "model_4.add(Dropout(rate=0.25))\n",
    "\n",
    "model_4.add(Dense(12, activation='relu', kernel_initializer = 'he_uniform'))\n",
    "model_4.add(Dropout(rate=0.25))\n",
    "\n",
    "model_4.add(Dense(22, activation='relu', kernel_initializer = 'he_uniform'))\n",
    "model_4.add(Dropout(rate=0.25))\n",
    "\n",
    "model_4.add(Dense(1, activation='sigmoid'))\n",
    "\n",
    "# Compile model\n",
    "model_4.compile(loss='binary_crossentropy', \n",
    "              optimizer='adam', \n",
    "              metrics=[tensorflow.keras.metrics.AUC()])\n",
    "    \n",
    "stop_early = tensorflow.keras.callbacks.EarlyStopping(monitor='val_loss', patience=20, mode='min')\n",
    "\n",
    "# Fit model\n",
    "history = model_4.fit(X_train, \n",
    "                    y_train, \n",
    "                    validation_split=0.3,\n",
    "                    epochs=75,\n",
    "                    callbacks=[stop_early],\n",
    "                    batch_size=16)"
   ]
  },
  {
   "cell_type": "code",
   "execution_count": 863,
   "metadata": {},
   "outputs": [],
   "source": [
    "y_pred = model_4.predict_classes(X_valid)"
   ]
  },
  {
   "cell_type": "code",
   "execution_count": 864,
   "metadata": {},
   "outputs": [
    {
     "name": "stdout",
     "output_type": "stream",
     "text": [
      "              precision    recall  f1-score   support\n",
      "\n",
      "           0       0.65      0.59      0.62        51\n",
      "           1       0.64      0.70      0.67        53\n",
      "\n",
      "    accuracy                           0.64       104\n",
      "   macro avg       0.65      0.64      0.64       104\n",
      "weighted avg       0.64      0.64      0.64       104\n",
      "\n"
     ]
    }
   ],
   "source": [
    "from sklearn.metrics import classification_report\n",
    "\n",
    "print(classification_report(y_valid, y_pred))"
   ]
  },
  {
   "cell_type": "code",
   "execution_count": 865,
   "metadata": {},
   "outputs": [
    {
     "data": {
      "text/html": [
       "<div>\n",
       "<style scoped>\n",
       "    .dataframe tbody tr th:only-of-type {\n",
       "        vertical-align: middle;\n",
       "    }\n",
       "\n",
       "    .dataframe tbody tr th {\n",
       "        vertical-align: top;\n",
       "    }\n",
       "\n",
       "    .dataframe thead th {\n",
       "        text-align: right;\n",
       "    }\n",
       "</style>\n",
       "<table border=\"1\" class=\"dataframe\">\n",
       "  <thead>\n",
       "    <tr style=\"text-align: right;\">\n",
       "      <th></th>\n",
       "      <th>0</th>\n",
       "      <th>1</th>\n",
       "    </tr>\n",
       "  </thead>\n",
       "  <tbody>\n",
       "    <tr>\n",
       "      <th>0</th>\n",
       "      <td>30</td>\n",
       "      <td>21</td>\n",
       "    </tr>\n",
       "    <tr>\n",
       "      <th>1</th>\n",
       "      <td>16</td>\n",
       "      <td>37</td>\n",
       "    </tr>\n",
       "  </tbody>\n",
       "</table>\n",
       "</div>"
      ],
      "text/plain": [
       "    0   1\n",
       "0  30  21\n",
       "1  16  37"
      ]
     },
     "execution_count": 865,
     "metadata": {},
     "output_type": "execute_result"
    }
   ],
   "source": [
    "from sklearn.metrics import confusion_matrix\n",
    "\n",
    "pd.DataFrame(confusion_matrix(y_valid, y_pred))"
   ]
  },
  {
   "cell_type": "code",
   "execution_count": 866,
   "metadata": {},
   "outputs": [
    {
     "data": {
      "image/png": "[encoded data removed]",
      "text/plain": [
       "<Figure size 432x288 with 1 Axes>"
      ]
     },
     "metadata": {
      "needs_background": "light"
     },
     "output_type": "display_data"
    }
   ],
   "source": [
    "plt.plot(history.history['loss'])\n",
    "plt.plot(history.history['val_loss'])\n",
    "plt.ylabel('Loss')\n",
    "plt.xlabel('Epoch')\n",
    "plt.legend(['Train', 'Validation'], loc='upper right')\n",
    "plt.show()"
   ]
  },
  {
   "cell_type": "code",
   "execution_count": 867,
   "metadata": {},
   "outputs": [
    {
     "name": "stdout",
     "output_type": "stream",
     "text": [
      "INFO:tensorflow:Assets written to: model_experiment_4/assets\n"
     ]
    }
   ],
   "source": [
    "model_4.save(\"model_experiment_4\")"
   ]
  },
  {
   "cell_type": "markdown",
   "metadata": {},
   "source": [
    "---"
   ]
  },
  {
   "cell_type": "markdown",
   "metadata": {},
   "source": [
    "# Experiment 5 - Resampling"
   ]
  },
  {
   "cell_type": "markdown",
   "metadata": {},
   "source": [
    "Deep learning works better with more dataset, let's try re-sampling!"
   ]
  },
  {
   "cell_type": "code",
   "execution_count": 1143,
   "metadata": {},
   "outputs": [],
   "source": [
    "data = data[['X', 'Y', 'month', 'day', 'FFMC', 'DMC', 'DC', 'ISI', 'temp', 'RH',\n",
    "       'wind', 'rain', 'area', 'area_categorical', 'location']]"
   ]
  },
  {
   "cell_type": "code",
   "execution_count": 1144,
   "metadata": {},
   "outputs": [],
   "source": [
    "data_sampling = data.copy()"
   ]
  },
  {
   "cell_type": "code",
   "execution_count": 1145,
   "metadata": {},
   "outputs": [
    {
     "data": {
      "text/html": [
       "<div>\n",
       "<style scoped>\n",
       "    .dataframe tbody tr th:only-of-type {\n",
       "        vertical-align: middle;\n",
       "    }\n",
       "\n",
       "    .dataframe tbody tr th {\n",
       "        vertical-align: top;\n",
       "    }\n",
       "\n",
       "    .dataframe thead th {\n",
       "        text-align: right;\n",
       "    }\n",
       "</style>\n",
       "<table border=\"1\" class=\"dataframe\">\n",
       "  <thead>\n",
       "    <tr style=\"text-align: right;\">\n",
       "      <th></th>\n",
       "      <th>X</th>\n",
       "      <th>Y</th>\n",
       "      <th>month</th>\n",
       "      <th>day</th>\n",
       "      <th>FFMC</th>\n",
       "      <th>DMC</th>\n",
       "      <th>DC</th>\n",
       "      <th>ISI</th>\n",
       "      <th>temp</th>\n",
       "      <th>RH</th>\n",
       "      <th>wind</th>\n",
       "      <th>rain</th>\n",
       "      <th>area</th>\n",
       "      <th>area_categorical</th>\n",
       "      <th>location</th>\n",
       "    </tr>\n",
       "  </thead>\n",
       "  <tbody>\n",
       "    <tr>\n",
       "      <th>0</th>\n",
       "      <td>7</td>\n",
       "      <td>5</td>\n",
       "      <td>7</td>\n",
       "      <td>0</td>\n",
       "      <td>86.2</td>\n",
       "      <td>26.2</td>\n",
       "      <td>94.3</td>\n",
       "      <td>5.1</td>\n",
       "      <td>8.2</td>\n",
       "      <td>51</td>\n",
       "      <td>6.7</td>\n",
       "      <td>0.0</td>\n",
       "      <td>0.0</td>\n",
       "      <td>0</td>\n",
       "      <td>25</td>\n",
       "    </tr>\n",
       "    <tr>\n",
       "      <th>1</th>\n",
       "      <td>7</td>\n",
       "      <td>4</td>\n",
       "      <td>10</td>\n",
       "      <td>5</td>\n",
       "      <td>90.6</td>\n",
       "      <td>35.4</td>\n",
       "      <td>669.1</td>\n",
       "      <td>6.7</td>\n",
       "      <td>18.0</td>\n",
       "      <td>33</td>\n",
       "      <td>0.9</td>\n",
       "      <td>0.0</td>\n",
       "      <td>0.0</td>\n",
       "      <td>0</td>\n",
       "      <td>24</td>\n",
       "    </tr>\n",
       "    <tr>\n",
       "      <th>2</th>\n",
       "      <td>7</td>\n",
       "      <td>4</td>\n",
       "      <td>10</td>\n",
       "      <td>2</td>\n",
       "      <td>90.6</td>\n",
       "      <td>43.7</td>\n",
       "      <td>686.9</td>\n",
       "      <td>6.7</td>\n",
       "      <td>14.6</td>\n",
       "      <td>33</td>\n",
       "      <td>1.3</td>\n",
       "      <td>0.0</td>\n",
       "      <td>0.0</td>\n",
       "      <td>0</td>\n",
       "      <td>24</td>\n",
       "    </tr>\n",
       "    <tr>\n",
       "      <th>3</th>\n",
       "      <td>8</td>\n",
       "      <td>6</td>\n",
       "      <td>7</td>\n",
       "      <td>0</td>\n",
       "      <td>91.7</td>\n",
       "      <td>33.3</td>\n",
       "      <td>77.5</td>\n",
       "      <td>9.0</td>\n",
       "      <td>8.3</td>\n",
       "      <td>97</td>\n",
       "      <td>4.0</td>\n",
       "      <td>0.2</td>\n",
       "      <td>0.0</td>\n",
       "      <td>0</td>\n",
       "      <td>30</td>\n",
       "    </tr>\n",
       "    <tr>\n",
       "      <th>4</th>\n",
       "      <td>8</td>\n",
       "      <td>6</td>\n",
       "      <td>7</td>\n",
       "      <td>3</td>\n",
       "      <td>89.3</td>\n",
       "      <td>51.3</td>\n",
       "      <td>102.2</td>\n",
       "      <td>9.6</td>\n",
       "      <td>11.4</td>\n",
       "      <td>99</td>\n",
       "      <td>1.8</td>\n",
       "      <td>0.0</td>\n",
       "      <td>0.0</td>\n",
       "      <td>0</td>\n",
       "      <td>30</td>\n",
       "    </tr>\n",
       "  </tbody>\n",
       "</table>\n",
       "</div>"
      ],
      "text/plain": [
       "   X  Y  month  day  FFMC   DMC     DC  ISI  temp  RH  wind  rain  area  \\\n",
       "0  7  5      7    0  86.2  26.2   94.3  5.1   8.2  51   6.7   0.0   0.0   \n",
       "1  7  4     10    5  90.6  35.4  669.1  6.7  18.0  33   0.9   0.0   0.0   \n",
       "2  7  4     10    2  90.6  43.7  686.9  6.7  14.6  33   1.3   0.0   0.0   \n",
       "3  8  6      7    0  91.7  33.3   77.5  9.0   8.3  97   4.0   0.2   0.0   \n",
       "4  8  6      7    3  89.3  51.3  102.2  9.6  11.4  99   1.8   0.0   0.0   \n",
       "\n",
       "   area_categorical  location  \n",
       "0                 0        25  \n",
       "1                 0        24  \n",
       "2                 0        24  \n",
       "3                 0        30  \n",
       "4                 0        30  "
      ]
     },
     "execution_count": 1145,
     "metadata": {},
     "output_type": "execute_result"
    }
   ],
   "source": [
    "data_sampling.head()"
   ]
  },
  {
   "cell_type": "code",
   "execution_count": 1146,
   "metadata": {},
   "outputs": [],
   "source": [
    "def remap(x):\n",
    "    if (x > 0 and x <= 5):\n",
    "        return 1 #small\n",
    "    elif (x > 5 and x <= 10):\n",
    "        return 2 #medium\n",
    "    elif (x > 10 and x <= 50):\n",
    "        return 3 #large\n",
    "    elif (x > 50):\n",
    "        return 4 #very large\n",
    "    else:\n",
    "        return 0 #no fires"
   ]
  },
  {
   "cell_type": "code",
   "execution_count": 1147,
   "metadata": {},
   "outputs": [],
   "source": [
    "data_sampling['area_multi_categorical'] = data_sampling['area'].apply(remap)"
   ]
  },
  {
   "cell_type": "code",
   "execution_count": 1148,
   "metadata": {},
   "outputs": [
    {
     "data": {
      "text/plain": [
       "<matplotlib.axes._subplots.AxesSubplot at 0x1a48c39d10>"
      ]
     },
     "execution_count": 1148,
     "metadata": {},
     "output_type": "execute_result"
    },
    {
     "data": {
      "image/png": "[encoded data removed]",
      "text/plain": [
       "<Figure size 432x288 with 1 Axes>"
      ]
     },
     "metadata": {
      "needs_background": "light"
     },
     "output_type": "display_data"
    }
   ],
   "source": [
    "sns.countplot(data=data_sampling, x='area_multi_categorical')"
   ]
  },
  {
   "cell_type": "code",
   "execution_count": 1149,
   "metadata": {},
   "outputs": [],
   "source": [
    "data_sampling['X-Y'] = data_sampling['X'].astype('string')+'-'+data_sampling['Y'].astype('string')"
   ]
  },
  {
   "cell_type": "code",
   "execution_count": 1150,
   "metadata": {},
   "outputs": [],
   "source": [
    "X = data_sampling.drop(['area_categorical','location', 'X', 'Y', 'area_multi_categorical'], axis=1)\n",
    "y = data_sampling['area_multi_categorical']"
   ]
  },
  {
   "cell_type": "code",
   "execution_count": 1151,
   "metadata": {},
   "outputs": [],
   "source": [
    "from imblearn.over_sampling import RandomOverSampler\n",
    "from imblearn.under_sampling import RandomUnderSampler"
   ]
  },
  {
   "cell_type": "code",
   "execution_count": 1152,
   "metadata": {},
   "outputs": [],
   "source": [
    "over = RandomOverSampler(sampling_strategy='not majority')\n",
    "\n",
    "X, y = over.fit_resample(X, y)"
   ]
  },
  {
   "cell_type": "code",
   "execution_count": 1153,
   "metadata": {},
   "outputs": [
    {
     "name": "stderr",
     "output_type": "stream",
     "text": [
      "/opt/anaconda3/lib/python3.7/site-packages/seaborn/_decorators.py:43: FutureWarning: Pass the following variable as a keyword arg: x. From version 0.12, the only valid positional argument will be `data`, and passing other arguments without an explicit keyword will result in an error or misinterpretation.\n",
      "  FutureWarning\n"
     ]
    },
    {
     "data": {
      "text/plain": [
       "<matplotlib.axes._subplots.AxesSubplot at 0x1a48cc9f10>"
      ]
     },
     "execution_count": 1153,
     "metadata": {},
     "output_type": "execute_result"
    },
    {
     "data": {
      "image/png": "[encoded data removed]",
      "text/plain": [
       "<Figure size 432x288 with 1 Axes>"
      ]
     },
     "metadata": {
      "needs_background": "light"
     },
     "output_type": "display_data"
    }
   ],
   "source": [
    "sns.countplot(y)"
   ]
  },
  {
   "cell_type": "code",
   "execution_count": 1154,
   "metadata": {},
   "outputs": [],
   "source": [
    "X['area_categorical'] = X['area'].apply(lambda x:1 if x > 0 else 0)"
   ]
  },
  {
   "cell_type": "code",
   "execution_count": 1155,
   "metadata": {},
   "outputs": [
    {
     "name": "stderr",
     "output_type": "stream",
     "text": [
      "/opt/anaconda3/lib/python3.7/site-packages/seaborn/_decorators.py:43: FutureWarning: Pass the following variable as a keyword arg: x. From version 0.12, the only valid positional argument will be `data`, and passing other arguments without an explicit keyword will result in an error or misinterpretation.\n",
      "  FutureWarning\n"
     ]
    },
    {
     "data": {
      "text/plain": [
       "<matplotlib.axes._subplots.AxesSubplot at 0x1a48e81d50>"
      ]
     },
     "execution_count": 1155,
     "metadata": {},
     "output_type": "execute_result"
    },
    {
     "data": {
      "image/png": "[encoded data removed]",
      "text/plain": [
       "<Figure size 432x288 with 1 Axes>"
      ]
     },
     "metadata": {
      "needs_background": "light"
     },
     "output_type": "display_data"
    }
   ],
   "source": [
    "sns.countplot(X['area_categorical'])"
   ]
  },
  {
   "cell_type": "code",
   "execution_count": 1156,
   "metadata": {},
   "outputs": [],
   "source": [
    "y = X['area_categorical']\n",
    "X = X.drop(['area_categorical'], axis=1)"
   ]
  },
  {
   "cell_type": "code",
   "execution_count": 1157,
   "metadata": {},
   "outputs": [],
   "source": [
    "over = RandomOverSampler(sampling_strategy=0.70)\n",
    "\n",
    "X, y = over.fit_resample(X, y)"
   ]
  },
  {
   "cell_type": "code",
   "execution_count": 1158,
   "metadata": {},
   "outputs": [],
   "source": [
    "under = RandomUnderSampler(sampling_strategy=0.80)\n",
    "\n",
    "X, y = under.fit_resample(X, y)"
   ]
  },
  {
   "cell_type": "code",
   "execution_count": 1159,
   "metadata": {},
   "outputs": [
    {
     "name": "stderr",
     "output_type": "stream",
     "text": [
      "/opt/anaconda3/lib/python3.7/site-packages/seaborn/_decorators.py:43: FutureWarning: Pass the following variable as a keyword arg: x. From version 0.12, the only valid positional argument will be `data`, and passing other arguments without an explicit keyword will result in an error or misinterpretation.\n",
      "  FutureWarning\n"
     ]
    },
    {
     "data": {
      "text/plain": [
       "<matplotlib.axes._subplots.AxesSubplot at 0x1a48ec31d0>"
      ]
     },
     "execution_count": 1159,
     "metadata": {},
     "output_type": "execute_result"
    },
    {
     "data": {
      "image/png": "[encoded data removed]",
      "text/plain": [
       "<Figure size 432x288 with 1 Axes>"
      ]
     },
     "metadata": {
      "needs_background": "light"
     },
     "output_type": "display_data"
    }
   ],
   "source": [
    "sns.countplot(y)"
   ]
  },
  {
   "cell_type": "code",
   "execution_count": 1160,
   "metadata": {},
   "outputs": [],
   "source": [
    "from sklearn.preprocessing import LabelEncoder\n",
    "\n",
    "encoder = LabelEncoder()\n",
    "X['month'] = encoder.fit_transform(X['month'])\n",
    "X['day'] = encoder.fit_transform(X['day'])\n",
    "X['location'] = encoder.fit_transform(X['X-Y'])"
   ]
  },
  {
   "cell_type": "code",
   "execution_count": 1161,
   "metadata": {},
   "outputs": [
    {
     "data": {
      "text/html": [
       "<div>\n",
       "<style scoped>\n",
       "    .dataframe tbody tr th:only-of-type {\n",
       "        vertical-align: middle;\n",
       "    }\n",
       "\n",
       "    .dataframe tbody tr th {\n",
       "        vertical-align: top;\n",
       "    }\n",
       "\n",
       "    .dataframe thead th {\n",
       "        text-align: right;\n",
       "    }\n",
       "</style>\n",
       "<table border=\"1\" class=\"dataframe\">\n",
       "  <thead>\n",
       "    <tr style=\"text-align: right;\">\n",
       "      <th></th>\n",
       "      <th>month</th>\n",
       "      <th>day</th>\n",
       "      <th>FFMC</th>\n",
       "      <th>DMC</th>\n",
       "      <th>DC</th>\n",
       "      <th>ISI</th>\n",
       "      <th>temp</th>\n",
       "      <th>RH</th>\n",
       "      <th>wind</th>\n",
       "      <th>rain</th>\n",
       "      <th>area</th>\n",
       "      <th>X-Y</th>\n",
       "      <th>location</th>\n",
       "    </tr>\n",
       "  </thead>\n",
       "  <tbody>\n",
       "    <tr>\n",
       "      <th>0</th>\n",
       "      <td>7</td>\n",
       "      <td>0</td>\n",
       "      <td>86.2</td>\n",
       "      <td>26.2</td>\n",
       "      <td>94.3</td>\n",
       "      <td>5.1</td>\n",
       "      <td>8.2</td>\n",
       "      <td>51</td>\n",
       "      <td>6.7</td>\n",
       "      <td>0.0</td>\n",
       "      <td>0.0</td>\n",
       "      <td>7-5</td>\n",
       "      <td>25</td>\n",
       "    </tr>\n",
       "    <tr>\n",
       "      <th>1</th>\n",
       "      <td>10</td>\n",
       "      <td>5</td>\n",
       "      <td>90.6</td>\n",
       "      <td>35.4</td>\n",
       "      <td>669.1</td>\n",
       "      <td>6.7</td>\n",
       "      <td>18.0</td>\n",
       "      <td>33</td>\n",
       "      <td>0.9</td>\n",
       "      <td>0.0</td>\n",
       "      <td>0.0</td>\n",
       "      <td>7-4</td>\n",
       "      <td>24</td>\n",
       "    </tr>\n",
       "    <tr>\n",
       "      <th>2</th>\n",
       "      <td>10</td>\n",
       "      <td>2</td>\n",
       "      <td>90.6</td>\n",
       "      <td>43.7</td>\n",
       "      <td>686.9</td>\n",
       "      <td>6.7</td>\n",
       "      <td>14.6</td>\n",
       "      <td>33</td>\n",
       "      <td>1.3</td>\n",
       "      <td>0.0</td>\n",
       "      <td>0.0</td>\n",
       "      <td>7-4</td>\n",
       "      <td>24</td>\n",
       "    </tr>\n",
       "    <tr>\n",
       "      <th>3</th>\n",
       "      <td>7</td>\n",
       "      <td>0</td>\n",
       "      <td>91.7</td>\n",
       "      <td>33.3</td>\n",
       "      <td>77.5</td>\n",
       "      <td>9.0</td>\n",
       "      <td>8.3</td>\n",
       "      <td>97</td>\n",
       "      <td>4.0</td>\n",
       "      <td>0.2</td>\n",
       "      <td>0.0</td>\n",
       "      <td>8-6</td>\n",
       "      <td>30</td>\n",
       "    </tr>\n",
       "    <tr>\n",
       "      <th>4</th>\n",
       "      <td>7</td>\n",
       "      <td>3</td>\n",
       "      <td>89.3</td>\n",
       "      <td>51.3</td>\n",
       "      <td>102.2</td>\n",
       "      <td>9.6</td>\n",
       "      <td>11.4</td>\n",
       "      <td>99</td>\n",
       "      <td>1.8</td>\n",
       "      <td>0.0</td>\n",
       "      <td>0.0</td>\n",
       "      <td>8-6</td>\n",
       "      <td>30</td>\n",
       "    </tr>\n",
       "  </tbody>\n",
       "</table>\n",
       "</div>"
      ],
      "text/plain": [
       "   month  day  FFMC   DMC     DC  ISI  temp  RH  wind  rain  area  X-Y  \\\n",
       "0      7    0  86.2  26.2   94.3  5.1   8.2  51   6.7   0.0   0.0  7-5   \n",
       "1     10    5  90.6  35.4  669.1  6.7  18.0  33   0.9   0.0   0.0  7-4   \n",
       "2     10    2  90.6  43.7  686.9  6.7  14.6  33   1.3   0.0   0.0  7-4   \n",
       "3      7    0  91.7  33.3   77.5  9.0   8.3  97   4.0   0.2   0.0  8-6   \n",
       "4      7    3  89.3  51.3  102.2  9.6  11.4  99   1.8   0.0   0.0  8-6   \n",
       "\n",
       "   location  \n",
       "0        25  \n",
       "1        24  \n",
       "2        24  \n",
       "3        30  \n",
       "4        30  "
      ]
     },
     "execution_count": 1161,
     "metadata": {},
     "output_type": "execute_result"
    }
   ],
   "source": [
    "X.head()"
   ]
  },
  {
   "cell_type": "code",
   "execution_count": 1162,
   "metadata": {},
   "outputs": [],
   "source": [
    "X = X.drop(['X-Y'], axis = 1)"
   ]
  },
  {
   "cell_type": "code",
   "execution_count": 1163,
   "metadata": {},
   "outputs": [
    {
     "data": {
      "text/html": [
       "<div>\n",
       "<style scoped>\n",
       "    .dataframe tbody tr th:only-of-type {\n",
       "        vertical-align: middle;\n",
       "    }\n",
       "\n",
       "    .dataframe tbody tr th {\n",
       "        vertical-align: top;\n",
       "    }\n",
       "\n",
       "    .dataframe thead th {\n",
       "        text-align: right;\n",
       "    }\n",
       "</style>\n",
       "<table border=\"1\" class=\"dataframe\">\n",
       "  <thead>\n",
       "    <tr style=\"text-align: right;\">\n",
       "      <th></th>\n",
       "      <th>month</th>\n",
       "      <th>day</th>\n",
       "      <th>FFMC</th>\n",
       "      <th>DMC</th>\n",
       "      <th>DC</th>\n",
       "      <th>ISI</th>\n",
       "      <th>temp</th>\n",
       "      <th>RH</th>\n",
       "      <th>wind</th>\n",
       "      <th>rain</th>\n",
       "      <th>area</th>\n",
       "      <th>location</th>\n",
       "      <th>cluster_weather</th>\n",
       "    </tr>\n",
       "  </thead>\n",
       "  <tbody>\n",
       "    <tr>\n",
       "      <th>0</th>\n",
       "      <td>7</td>\n",
       "      <td>0</td>\n",
       "      <td>86.2</td>\n",
       "      <td>26.2</td>\n",
       "      <td>94.3</td>\n",
       "      <td>5.1</td>\n",
       "      <td>8.2</td>\n",
       "      <td>51</td>\n",
       "      <td>6.7</td>\n",
       "      <td>0.0</td>\n",
       "      <td>0.0</td>\n",
       "      <td>25</td>\n",
       "      <td>1</td>\n",
       "    </tr>\n",
       "    <tr>\n",
       "      <th>1</th>\n",
       "      <td>10</td>\n",
       "      <td>5</td>\n",
       "      <td>90.6</td>\n",
       "      <td>35.4</td>\n",
       "      <td>669.1</td>\n",
       "      <td>6.7</td>\n",
       "      <td>18.0</td>\n",
       "      <td>33</td>\n",
       "      <td>0.9</td>\n",
       "      <td>0.0</td>\n",
       "      <td>0.0</td>\n",
       "      <td>24</td>\n",
       "      <td>0</td>\n",
       "    </tr>\n",
       "    <tr>\n",
       "      <th>2</th>\n",
       "      <td>10</td>\n",
       "      <td>2</td>\n",
       "      <td>90.6</td>\n",
       "      <td>43.7</td>\n",
       "      <td>686.9</td>\n",
       "      <td>6.7</td>\n",
       "      <td>14.6</td>\n",
       "      <td>33</td>\n",
       "      <td>1.3</td>\n",
       "      <td>0.0</td>\n",
       "      <td>0.0</td>\n",
       "      <td>24</td>\n",
       "      <td>0</td>\n",
       "    </tr>\n",
       "    <tr>\n",
       "      <th>3</th>\n",
       "      <td>7</td>\n",
       "      <td>0</td>\n",
       "      <td>91.7</td>\n",
       "      <td>33.3</td>\n",
       "      <td>77.5</td>\n",
       "      <td>9.0</td>\n",
       "      <td>8.3</td>\n",
       "      <td>97</td>\n",
       "      <td>4.0</td>\n",
       "      <td>0.2</td>\n",
       "      <td>0.0</td>\n",
       "      <td>30</td>\n",
       "      <td>1</td>\n",
       "    </tr>\n",
       "    <tr>\n",
       "      <th>4</th>\n",
       "      <td>7</td>\n",
       "      <td>3</td>\n",
       "      <td>89.3</td>\n",
       "      <td>51.3</td>\n",
       "      <td>102.2</td>\n",
       "      <td>9.6</td>\n",
       "      <td>11.4</td>\n",
       "      <td>99</td>\n",
       "      <td>1.8</td>\n",
       "      <td>0.0</td>\n",
       "      <td>0.0</td>\n",
       "      <td>30</td>\n",
       "      <td>1</td>\n",
       "    </tr>\n",
       "  </tbody>\n",
       "</table>\n",
       "</div>"
      ],
      "text/plain": [
       "   month  day  FFMC   DMC     DC  ISI  temp  RH  wind  rain  area  location  \\\n",
       "0      7    0  86.2  26.2   94.3  5.1   8.2  51   6.7   0.0   0.0        25   \n",
       "1     10    5  90.6  35.4  669.1  6.7  18.0  33   0.9   0.0   0.0        24   \n",
       "2     10    2  90.6  43.7  686.9  6.7  14.6  33   1.3   0.0   0.0        24   \n",
       "3      7    0  91.7  33.3   77.5  9.0   8.3  97   4.0   0.2   0.0        30   \n",
       "4      7    3  89.3  51.3  102.2  9.6  11.4  99   1.8   0.0   0.0        30   \n",
       "\n",
       "  cluster_weather  \n",
       "0               1  \n",
       "1               0  \n",
       "2               0  \n",
       "3               1  \n",
       "4               1  "
      ]
     },
     "execution_count": 1163,
     "metadata": {},
     "output_type": "execute_result"
    }
   ],
   "source": [
    "features_weather = ['location', 'month', 'temp', 'RH', 'wind', 'rain']\n",
    "\n",
    "kmeans = KMeans(n_clusters=2)\n",
    "X[\"cluster_weather\"] = kmeans.fit_predict(X[features_weather])\n",
    "X[\"cluster_weather\"] = X[\"cluster_weather\"].astype(\"category\")\n",
    "\n",
    "X.head()"
   ]
  },
  {
   "cell_type": "code",
   "execution_count": 1164,
   "metadata": {},
   "outputs": [
    {
     "data": {
      "text/html": [
       "<div>\n",
       "<style scoped>\n",
       "    .dataframe tbody tr th:only-of-type {\n",
       "        vertical-align: middle;\n",
       "    }\n",
       "\n",
       "    .dataframe tbody tr th {\n",
       "        vertical-align: top;\n",
       "    }\n",
       "\n",
       "    .dataframe thead th {\n",
       "        text-align: right;\n",
       "    }\n",
       "</style>\n",
       "<table border=\"1\" class=\"dataframe\">\n",
       "  <thead>\n",
       "    <tr style=\"text-align: right;\">\n",
       "      <th></th>\n",
       "      <th>month</th>\n",
       "      <th>day</th>\n",
       "      <th>FFMC</th>\n",
       "      <th>DMC</th>\n",
       "      <th>DC</th>\n",
       "      <th>ISI</th>\n",
       "      <th>temp</th>\n",
       "      <th>RH</th>\n",
       "      <th>wind</th>\n",
       "      <th>rain</th>\n",
       "      <th>area</th>\n",
       "      <th>location</th>\n",
       "      <th>cluster_weather</th>\n",
       "      <th>cluster_weather_index</th>\n",
       "    </tr>\n",
       "  </thead>\n",
       "  <tbody>\n",
       "    <tr>\n",
       "      <th>0</th>\n",
       "      <td>7</td>\n",
       "      <td>0</td>\n",
       "      <td>86.2</td>\n",
       "      <td>26.2</td>\n",
       "      <td>94.3</td>\n",
       "      <td>5.1</td>\n",
       "      <td>8.2</td>\n",
       "      <td>51</td>\n",
       "      <td>6.7</td>\n",
       "      <td>0.0</td>\n",
       "      <td>0.0</td>\n",
       "      <td>25</td>\n",
       "      <td>1</td>\n",
       "      <td>1</td>\n",
       "    </tr>\n",
       "    <tr>\n",
       "      <th>1</th>\n",
       "      <td>10</td>\n",
       "      <td>5</td>\n",
       "      <td>90.6</td>\n",
       "      <td>35.4</td>\n",
       "      <td>669.1</td>\n",
       "      <td>6.7</td>\n",
       "      <td>18.0</td>\n",
       "      <td>33</td>\n",
       "      <td>0.9</td>\n",
       "      <td>0.0</td>\n",
       "      <td>0.0</td>\n",
       "      <td>24</td>\n",
       "      <td>0</td>\n",
       "      <td>0</td>\n",
       "    </tr>\n",
       "    <tr>\n",
       "      <th>2</th>\n",
       "      <td>10</td>\n",
       "      <td>2</td>\n",
       "      <td>90.6</td>\n",
       "      <td>43.7</td>\n",
       "      <td>686.9</td>\n",
       "      <td>6.7</td>\n",
       "      <td>14.6</td>\n",
       "      <td>33</td>\n",
       "      <td>1.3</td>\n",
       "      <td>0.0</td>\n",
       "      <td>0.0</td>\n",
       "      <td>24</td>\n",
       "      <td>0</td>\n",
       "      <td>0</td>\n",
       "    </tr>\n",
       "    <tr>\n",
       "      <th>3</th>\n",
       "      <td>7</td>\n",
       "      <td>0</td>\n",
       "      <td>91.7</td>\n",
       "      <td>33.3</td>\n",
       "      <td>77.5</td>\n",
       "      <td>9.0</td>\n",
       "      <td>8.3</td>\n",
       "      <td>97</td>\n",
       "      <td>4.0</td>\n",
       "      <td>0.2</td>\n",
       "      <td>0.0</td>\n",
       "      <td>30</td>\n",
       "      <td>1</td>\n",
       "      <td>1</td>\n",
       "    </tr>\n",
       "    <tr>\n",
       "      <th>4</th>\n",
       "      <td>7</td>\n",
       "      <td>3</td>\n",
       "      <td>89.3</td>\n",
       "      <td>51.3</td>\n",
       "      <td>102.2</td>\n",
       "      <td>9.6</td>\n",
       "      <td>11.4</td>\n",
       "      <td>99</td>\n",
       "      <td>1.8</td>\n",
       "      <td>0.0</td>\n",
       "      <td>0.0</td>\n",
       "      <td>30</td>\n",
       "      <td>1</td>\n",
       "      <td>1</td>\n",
       "    </tr>\n",
       "  </tbody>\n",
       "</table>\n",
       "</div>"
      ],
      "text/plain": [
       "   month  day  FFMC   DMC     DC  ISI  temp  RH  wind  rain  area  location  \\\n",
       "0      7    0  86.2  26.2   94.3  5.1   8.2  51   6.7   0.0   0.0        25   \n",
       "1     10    5  90.6  35.4  669.1  6.7  18.0  33   0.9   0.0   0.0        24   \n",
       "2     10    2  90.6  43.7  686.9  6.7  14.6  33   1.3   0.0   0.0        24   \n",
       "3      7    0  91.7  33.3   77.5  9.0   8.3  97   4.0   0.2   0.0        30   \n",
       "4      7    3  89.3  51.3  102.2  9.6  11.4  99   1.8   0.0   0.0        30   \n",
       "\n",
       "  cluster_weather cluster_weather_index  \n",
       "0               1                     1  \n",
       "1               0                     0  \n",
       "2               0                     0  \n",
       "3               1                     1  \n",
       "4               1                     1  "
      ]
     },
     "execution_count": 1164,
     "metadata": {},
     "output_type": "execute_result"
    }
   ],
   "source": [
    "features_index = ['location', 'month', 'FFMC', 'DMC', 'DC', 'ISI']\n",
    "\n",
    "kmeans = KMeans(n_clusters=2)\n",
    "X[\"cluster_weather_index\"] = kmeans.fit_predict(X[features_index])\n",
    "X[\"cluster_weather_index\"] = X[\"cluster_weather_index\"].astype(\"category\")\n",
    "\n",
    "X.head()"
   ]
  },
  {
   "cell_type": "code",
   "execution_count": 1165,
   "metadata": {},
   "outputs": [],
   "source": [
    "from sklearn.model_selection import train_test_split\n",
    "\n",
    "X_train, X_valid, y_train, y_valid = train_test_split(X, y, \n",
    "                                                      train_size=0.8, \n",
    "                                                      test_size=0.2,\n",
    "                                                      random_state=42)"
   ]
  },
  {
   "cell_type": "code",
   "execution_count": 1166,
   "metadata": {},
   "outputs": [
    {
     "name": "stderr",
     "output_type": "stream",
     "text": [
      "/opt/anaconda3/lib/python3.7/site-packages/ipykernel_launcher.py:1: SettingWithCopyWarning: \n",
      "A value is trying to be set on a copy of a slice from a DataFrame.\n",
      "Try using .loc[row_indexer,col_indexer] = value instead\n",
      "\n",
      "See the caveats in the documentation: https://pandas.pydata.org/pandas-docs/stable/user_guide/indexing.html#returning-a-view-versus-a-copy\n",
      "  \"\"\"Entry point for launching an IPython kernel.\n"
     ]
    }
   ],
   "source": [
    "X_train[\"area_weather\"] = X_train.groupby(\"cluster_weather\")[\"area\"].transform(\"max\")\n",
    "\n",
    "# Merge the values into the validation set\n",
    "X_valid = X_valid.merge(\n",
    "    X_train[[\"cluster_weather\", \"area_weather\"]].drop_duplicates(),\n",
    "    on=\"cluster_weather\",\n",
    "    how=\"left\",\n",
    ")"
   ]
  },
  {
   "cell_type": "code",
   "execution_count": 1167,
   "metadata": {},
   "outputs": [
    {
     "name": "stderr",
     "output_type": "stream",
     "text": [
      "/opt/anaconda3/lib/python3.7/site-packages/ipykernel_launcher.py:1: SettingWithCopyWarning: \n",
      "A value is trying to be set on a copy of a slice from a DataFrame.\n",
      "Try using .loc[row_indexer,col_indexer] = value instead\n",
      "\n",
      "See the caveats in the documentation: https://pandas.pydata.org/pandas-docs/stable/user_guide/indexing.html#returning-a-view-versus-a-copy\n",
      "  \"\"\"Entry point for launching an IPython kernel.\n"
     ]
    }
   ],
   "source": [
    "X_train[\"area_weather_index\"] = X_train.groupby(\"cluster_weather_index\")[\"area\"].transform(\"max\")\n",
    "\n",
    "# Merge the values into the validation set\n",
    "X_valid = X_valid.merge(\n",
    "    X_train[[\"cluster_weather_index\", \"area_weather_index\"]].drop_duplicates(),\n",
    "    on=\"cluster_weather_index\",\n",
    "    how=\"left\",\n",
    ")"
   ]
  },
  {
   "cell_type": "code",
   "execution_count": 1168,
   "metadata": {},
   "outputs": [
    {
     "name": "stderr",
     "output_type": "stream",
     "text": [
      "/opt/anaconda3/lib/python3.7/site-packages/ipykernel_launcher.py:1: SettingWithCopyWarning: \n",
      "A value is trying to be set on a copy of a slice from a DataFrame.\n",
      "Try using .loc[row_indexer,col_indexer] = value instead\n",
      "\n",
      "See the caveats in the documentation: https://pandas.pydata.org/pandas-docs/stable/user_guide/indexing.html#returning-a-view-versus-a-copy\n",
      "  \"\"\"Entry point for launching an IPython kernel.\n"
     ]
    }
   ],
   "source": [
    "X_train[\"area_month_max\"] = X_train.groupby(\"month\")[\"area\"].transform(\"max\")\n",
    "\n",
    "# Merge the values into the validation set\n",
    "X_valid = X_valid.merge(\n",
    "    X_train[[\"month\", \"area_month_max\"]].drop_duplicates(),\n",
    "    on=\"month\",\n",
    "    how=\"left\",\n",
    ")"
   ]
  },
  {
   "cell_type": "code",
   "execution_count": 1169,
   "metadata": {},
   "outputs": [],
   "source": [
    "X_train = X_train.drop(['area','day'], axis = 1)\n",
    "X_valid = X_valid.drop(['area','day'], axis = 1)"
   ]
  },
  {
   "cell_type": "code",
   "execution_count": 1170,
   "metadata": {},
   "outputs": [
    {
     "data": {
      "text/plain": [
       "Index(['month', 'FFMC', 'DMC', 'DC', 'ISI', 'temp', 'RH', 'wind', 'rain',\n",
       "       'location', 'cluster_weather', 'cluster_weather_index', 'area_weather',\n",
       "       'area_weather_index', 'area_month_max'],\n",
       "      dtype='object')"
      ]
     },
     "execution_count": 1170,
     "metadata": {},
     "output_type": "execute_result"
    }
   ],
   "source": [
    "X_train.columns"
   ]
  },
  {
   "cell_type": "code",
   "execution_count": 1171,
   "metadata": {},
   "outputs": [
    {
     "data": {
      "text/plain": [
       "array([False, False,  True,  True, False,  True,  True, False, False,\n",
       "       False, False, False,  True,  True,  True])"
      ]
     },
     "execution_count": 1171,
     "metadata": {},
     "output_type": "execute_result"
    }
   ],
   "source": [
    "from sklearn.feature_selection import SelectKBest\n",
    "from sklearn.feature_selection import chi2\n",
    "\n",
    "threshold = 7\n",
    "\n",
    "skb = SelectKBest(score_func=chi2, k=threshold)\n",
    "sel_skb = skb.fit(X_train, y_train)\n",
    "sel_skb_index = sel_skb.get_support()\n",
    "sel_skb_index"
   ]
  },
  {
   "cell_type": "code",
   "execution_count": 1172,
   "metadata": {},
   "outputs": [
    {
     "data": {
      "text/plain": [
       "array([False, False, False,  True, False,  True,  True, False, False,\n",
       "        True, False, False,  True,  True,  True])"
      ]
     },
     "execution_count": 1172,
     "metadata": {},
     "output_type": "execute_result"
    }
   ],
   "source": [
    "from sklearn.feature_selection import SelectKBest\n",
    "from sklearn.feature_selection import chi2\n",
    "\n",
    "threshold = 7\n",
    "\n",
    "skb = SelectKBest(score_func=chi2, k=threshold)\n",
    "sel_skb = skb.fit(X_valid, y_valid)\n",
    "sel_skb_index = sel_skb.get_support()\n",
    "sel_skb_index"
   ]
  },
  {
   "cell_type": "markdown",
   "metadata": {},
   "source": [
    "Selected : DMC,DC,temp,RH,location,area_weather,area_weather_index,area_month_max"
   ]
  },
  {
   "cell_type": "code",
   "execution_count": 1173,
   "metadata": {},
   "outputs": [],
   "source": [
    "X_train = X_train[['DMC','DC','temp','RH','location','area_weather','area_weather_index','area_month_max']]\n",
    "X_valid = X_valid[['DMC','DC','temp','RH','location','area_weather','area_weather_index','area_month_max']]"
   ]
  },
  {
   "cell_type": "markdown",
   "metadata": {},
   "source": [
    "### Testing - RF"
   ]
  },
  {
   "cell_type": "code",
   "execution_count": 1198,
   "metadata": {},
   "outputs": [
    {
     "data": {
      "text/plain": [
       "RandomForestClassifier(random_state=42)"
      ]
     },
     "execution_count": 1198,
     "metadata": {},
     "output_type": "execute_result"
    }
   ],
   "source": [
    "model = RandomForestClassifier(random_state=42)\n",
    "model.fit(X_train, y_train)"
   ]
  },
  {
   "cell_type": "code",
   "execution_count": 1199,
   "metadata": {},
   "outputs": [],
   "source": [
    "y_pred = model.predict(X_valid)"
   ]
  },
  {
   "cell_type": "code",
   "execution_count": 1200,
   "metadata": {},
   "outputs": [
    {
     "name": "stdout",
     "output_type": "stream",
     "text": [
      "              precision    recall  f1-score   support\n",
      "\n",
      "           0       0.96      0.96      0.96       140\n",
      "           1       0.96      0.96      0.96       171\n",
      "\n",
      "    accuracy                           0.96       311\n",
      "   macro avg       0.96      0.96      0.96       311\n",
      "weighted avg       0.96      0.96      0.96       311\n",
      "\n"
     ]
    }
   ],
   "source": [
    "from sklearn.metrics import classification_report\n",
    "\n",
    "print(classification_report(y_valid, y_pred))"
   ]
  },
  {
   "cell_type": "code",
   "execution_count": 1201,
   "metadata": {},
   "outputs": [
    {
     "data": {
      "text/html": [
       "<div>\n",
       "<style scoped>\n",
       "    .dataframe tbody tr th:only-of-type {\n",
       "        vertical-align: middle;\n",
       "    }\n",
       "\n",
       "    .dataframe tbody tr th {\n",
       "        vertical-align: top;\n",
       "    }\n",
       "\n",
       "    .dataframe thead th {\n",
       "        text-align: right;\n",
       "    }\n",
       "</style>\n",
       "<table border=\"1\" class=\"dataframe\">\n",
       "  <thead>\n",
       "    <tr style=\"text-align: right;\">\n",
       "      <th></th>\n",
       "      <th>0</th>\n",
       "      <th>1</th>\n",
       "    </tr>\n",
       "  </thead>\n",
       "  <tbody>\n",
       "    <tr>\n",
       "      <th>0</th>\n",
       "      <td>134</td>\n",
       "      <td>6</td>\n",
       "    </tr>\n",
       "    <tr>\n",
       "      <th>1</th>\n",
       "      <td>6</td>\n",
       "      <td>165</td>\n",
       "    </tr>\n",
       "  </tbody>\n",
       "</table>\n",
       "</div>"
      ],
      "text/plain": [
       "     0    1\n",
       "0  134    6\n",
       "1    6  165"
      ]
     },
     "execution_count": 1201,
     "metadata": {},
     "output_type": "execute_result"
    }
   ],
   "source": [
    "from sklearn.metrics import confusion_matrix\n",
    "\n",
    "pd.DataFrame(confusion_matrix(y_valid, y_pred))"
   ]
  },
  {
   "cell_type": "code",
   "execution_count": 1202,
   "metadata": {},
   "outputs": [],
   "source": [
    "y_pred_ = model.predict(X_train)"
   ]
  },
  {
   "cell_type": "code",
   "execution_count": 1203,
   "metadata": {},
   "outputs": [
    {
     "name": "stdout",
     "output_type": "stream",
     "text": [
      "              precision    recall  f1-score   support\n",
      "\n",
      "           0       0.99      1.00      1.00       551\n",
      "           1       1.00      0.99      1.00       692\n",
      "\n",
      "    accuracy                           1.00      1243\n",
      "   macro avg       1.00      1.00      1.00      1243\n",
      "weighted avg       1.00      1.00      1.00      1243\n",
      "\n"
     ]
    }
   ],
   "source": [
    "from sklearn.metrics import classification_report\n",
    "\n",
    "print(classification_report(y_train, y_pred_))"
   ]
  },
  {
   "cell_type": "code",
   "execution_count": 1204,
   "metadata": {},
   "outputs": [
    {
     "data": {
      "text/html": [
       "<div>\n",
       "<style scoped>\n",
       "    .dataframe tbody tr th:only-of-type {\n",
       "        vertical-align: middle;\n",
       "    }\n",
       "\n",
       "    .dataframe tbody tr th {\n",
       "        vertical-align: top;\n",
       "    }\n",
       "\n",
       "    .dataframe thead th {\n",
       "        text-align: right;\n",
       "    }\n",
       "</style>\n",
       "<table border=\"1\" class=\"dataframe\">\n",
       "  <thead>\n",
       "    <tr style=\"text-align: right;\">\n",
       "      <th></th>\n",
       "      <th>0</th>\n",
       "      <th>1</th>\n",
       "    </tr>\n",
       "  </thead>\n",
       "  <tbody>\n",
       "    <tr>\n",
       "      <th>0</th>\n",
       "      <td>550</td>\n",
       "      <td>1</td>\n",
       "    </tr>\n",
       "    <tr>\n",
       "      <th>1</th>\n",
       "      <td>4</td>\n",
       "      <td>688</td>\n",
       "    </tr>\n",
       "  </tbody>\n",
       "</table>\n",
       "</div>"
      ],
      "text/plain": [
       "     0    1\n",
       "0  550    1\n",
       "1    4  688"
      ]
     },
     "execution_count": 1204,
     "metadata": {},
     "output_type": "execute_result"
    }
   ],
   "source": [
    "from sklearn.metrics import confusion_matrix\n",
    "\n",
    "pd.DataFrame(confusion_matrix(y_train, y_pred_))"
   ]
  },
  {
   "cell_type": "markdown",
   "metadata": {},
   "source": [
    "### ANN"
   ]
  },
  {
   "cell_type": "code",
   "execution_count": 1205,
   "metadata": {},
   "outputs": [
    {
     "data": {
      "text/plain": [
       "(1243, 8)"
      ]
     },
     "execution_count": 1205,
     "metadata": {},
     "output_type": "execute_result"
    }
   ],
   "source": [
    "X_train.shape"
   ]
  },
  {
   "cell_type": "code",
   "execution_count": 1211,
   "metadata": {},
   "outputs": [],
   "source": [
    "def model_builder(hp):\n",
    "  model = keras.Sequential()\n",
    "  model.add(Dense(10, input_shape=(8,), activation='relu', kernel_initializer = 'he_uniform'))\n",
    "  model.add(Dropout(rate=0.25))\n",
    "\n",
    "  hp_units_1 = hp.Int('units_1', min_value=4, max_value=32, step=2)\n",
    "  model.add(keras.layers.Dense(units=hp_units_1, activation='relu', kernel_initializer = 'he_uniform'))\n",
    "  model.add(Dropout(rate=0.25))\n",
    "    \n",
    "  hp_units_2 = hp.Int('units_2', min_value=4, max_value=32, step=2)  \n",
    "  model.add(keras.layers.Dense(units=hp_units_2, activation='relu', kernel_initializer = 'he_uniform'))\n",
    "  model.add(Dropout(rate=0.25))\n",
    "\n",
    "  hp_units_3 = hp.Int('units_3', min_value=4, max_value=32, step=2)  \n",
    "  model.add(keras.layers.Dense(units=hp_units_3, activation='relu', kernel_initializer = 'he_uniform'))\n",
    "  model.add(Dropout(rate=0.25))\n",
    "    \n",
    "  model.add(Dense(1, activation='sigmoid'))\n",
    "\n",
    "  model.compile(optimizer='adam',\n",
    "                loss='binary_crossentropy',\n",
    "                metrics=[tensorflow.keras.metrics.AUC()])\n",
    "\n",
    "  return model"
   ]
  },
  {
   "cell_type": "code",
   "execution_count": 1212,
   "metadata": {},
   "outputs": [],
   "source": [
    "tuner = kt.Hyperband(model_builder,\n",
    "                     objective=kt.Objective(\"auc\", direction=\"max\"),\n",
    "                     max_epochs=500,\n",
    "                     directory='my_dir',\n",
    "                     project_name='intro_to_kt_80')"
   ]
  },
  {
   "cell_type": "code",
   "execution_count": 1217,
   "metadata": {},
   "outputs": [],
   "source": [
    "stop_early = tensorflow.keras.callbacks.EarlyStopping(monitor='val_loss', patience=50, mode='min')"
   ]
  },
  {
   "cell_type": "code",
   "execution_count": 1218,
   "metadata": {},
   "outputs": [
    {
     "name": "stdout",
     "output_type": "stream",
     "text": [
      "Trial 727 Complete [00h 00m 18s]\n",
      "auc: 0.549591600894928\n",
      "\n",
      "Best auc So Far: 0.583980143070221\n",
      "Total elapsed time: 00h 47m 14s\n",
      "INFO:tensorflow:Oracle triggered exit\n"
     ]
    }
   ],
   "source": [
    "tuner.search(X_train, \n",
    "             y_train, \n",
    "             epochs=500, \n",
    "             validation_split=0.3, \n",
    "             callbacks=[stop_early],\n",
    "             batch_size=128)\n",
    "\n",
    "# Get the optimal hyperparameters\n",
    "best_hps=tuner.get_best_hyperparameters(num_trials=10)[0]"
   ]
  },
  {
   "cell_type": "code",
   "execution_count": 1219,
   "metadata": {},
   "outputs": [
    {
     "data": {
      "text/plain": [
       "10"
      ]
     },
     "execution_count": 1219,
     "metadata": {},
     "output_type": "execute_result"
    }
   ],
   "source": [
    "best_hps.get('units_1')"
   ]
  },
  {
   "cell_type": "code",
   "execution_count": 1220,
   "metadata": {},
   "outputs": [
    {
     "data": {
      "text/plain": [
       "20"
      ]
     },
     "execution_count": 1220,
     "metadata": {},
     "output_type": "execute_result"
    }
   ],
   "source": [
    "best_hps.get('units_2')"
   ]
  },
  {
   "cell_type": "code",
   "execution_count": 1221,
   "metadata": {},
   "outputs": [
    {
     "data": {
      "text/plain": [
       "14"
      ]
     },
     "execution_count": 1221,
     "metadata": {},
     "output_type": "execute_result"
    }
   ],
   "source": [
    "best_hps.get('units_3')"
   ]
  },
  {
   "cell_type": "code",
   "execution_count": 1222,
   "metadata": {},
   "outputs": [
    {
     "data": {
      "text/plain": [
       "500"
      ]
     },
     "execution_count": 1222,
     "metadata": {},
     "output_type": "execute_result"
    }
   ],
   "source": [
    "best_hps.get('tuner/epochs')"
   ]
  },
  {
   "cell_type": "code",
   "execution_count": 1224,
   "metadata": {},
   "outputs": [
    {
     "name": "stdout",
     "output_type": "stream",
     "text": [
      "Epoch 1/500\n",
      "7/7 [==============================] - 1s 76ms/step - loss: 276.2400 - auc_2: 0.5030 - val_loss: 118.0433 - val_auc_2: 0.4899\n",
      "Epoch 2/500\n",
      "7/7 [==============================] - 0s 8ms/step - loss: 234.1474 - auc_2: 0.5129 - val_loss: 52.5464 - val_auc_2: 0.5155\n",
      "Epoch 3/500\n",
      "7/7 [==============================] - 0s 15ms/step - loss: 217.2747 - auc_2: 0.4887 - val_loss: 17.4221 - val_auc_2: 0.4934\n",
      "Epoch 4/500\n",
      "7/7 [==============================] - 0s 10ms/step - loss: 176.5692 - auc_2: 0.5332 - val_loss: 13.5982 - val_auc_2: 0.4737\n",
      "Epoch 5/500\n",
      "7/7 [==============================] - 0s 8ms/step - loss: 153.6461 - auc_2: 0.5044 - val_loss: 18.2375 - val_auc_2: 0.5058\n",
      "Epoch 6/500\n",
      "7/7 [==============================] - 0s 9ms/step - loss: 161.0679 - auc_2: 0.4944 - val_loss: 14.1842 - val_auc_2: 0.5035\n",
      "Epoch 7/500\n",
      "7/7 [==============================] - 0s 10ms/step - loss: 152.2483 - auc_2: 0.4714 - val_loss: 11.0062 - val_auc_2: 0.4975\n",
      "Epoch 8/500\n",
      "7/7 [==============================] - 0s 7ms/step - loss: 130.3607 - auc_2: 0.5129 - val_loss: 8.5204 - val_auc_2: 0.4282\n",
      "Epoch 9/500\n",
      "7/7 [==============================] - 0s 8ms/step - loss: 112.6674 - auc_2: 0.5431 - val_loss: 12.7517 - val_auc_2: 0.4227\n",
      "Epoch 10/500\n",
      "7/7 [==============================] - 0s 7ms/step - loss: 113.2411 - auc_2: 0.4933 - val_loss: 17.4359 - val_auc_2: 0.4456\n",
      "Epoch 11/500\n",
      "7/7 [==============================] - 0s 10ms/step - loss: 94.5362 - auc_2: 0.5141 - val_loss: 19.6179 - val_auc_2: 0.4455\n",
      "Epoch 12/500\n",
      "7/7 [==============================] - 0s 7ms/step - loss: 105.5735 - auc_2: 0.4635 - val_loss: 20.1332 - val_auc_2: 0.4455\n",
      "Epoch 13/500\n",
      "7/7 [==============================] - 0s 9ms/step - loss: 91.5676 - auc_2: 0.4942 - val_loss: 18.6896 - val_auc_2: 0.4369\n",
      "Epoch 14/500\n",
      "7/7 [==============================] - 0s 6ms/step - loss: 79.8503 - auc_2: 0.5154 - val_loss: 16.5367 - val_auc_2: 0.4434\n",
      "Epoch 15/500\n",
      "7/7 [==============================] - 0s 9ms/step - loss: 77.5884 - auc_2: 0.4896 - val_loss: 14.7678 - val_auc_2: 0.4377\n",
      "Epoch 16/500\n",
      "7/7 [==============================] - 0s 7ms/step - loss: 73.9124 - auc_2: 0.5269 - val_loss: 13.8576 - val_auc_2: 0.4372\n",
      "Epoch 17/500\n",
      "7/7 [==============================] - 0s 7ms/step - loss: 69.2521 - auc_2: 0.4867 - val_loss: 13.8951 - val_auc_2: 0.4379\n",
      "Epoch 18/500\n",
      "7/7 [==============================] - 0s 8ms/step - loss: 58.4719 - auc_2: 0.5299 - val_loss: 13.4953 - val_auc_2: 0.4380\n",
      "Epoch 19/500\n",
      "7/7 [==============================] - 0s 6ms/step - loss: 68.5806 - auc_2: 0.4576 - val_loss: 12.6075 - val_auc_2: 0.4370\n",
      "Epoch 20/500\n",
      "7/7 [==============================] - 0s 9ms/step - loss: 64.9794 - auc_2: 0.4592 - val_loss: 11.8580 - val_auc_2: 0.4417\n",
      "Epoch 21/500\n",
      "7/7 [==============================] - 0s 8ms/step - loss: 49.1411 - auc_2: 0.5208 - val_loss: 10.1085 - val_auc_2: 0.4397\n",
      "Epoch 22/500\n",
      "7/7 [==============================] - 0s 14ms/step - loss: 53.9560 - auc_2: 0.4632 - val_loss: 8.3849 - val_auc_2: 0.4243\n",
      "Epoch 23/500\n",
      "7/7 [==============================] - 0s 6ms/step - loss: 45.2693 - auc_2: 0.5210 - val_loss: 6.8545 - val_auc_2: 0.4280\n",
      "Epoch 24/500\n",
      "7/7 [==============================] - 0s 6ms/step - loss: 44.7623 - auc_2: 0.4983 - val_loss: 5.8623 - val_auc_2: 0.4246\n",
      "Epoch 25/500\n",
      "7/7 [==============================] - 0s 11ms/step - loss: 40.4332 - auc_2: 0.5434 - val_loss: 5.2518 - val_auc_2: 0.4188\n",
      "Epoch 26/500\n",
      "7/7 [==============================] - 0s 7ms/step - loss: 46.5067 - auc_2: 0.4613 - val_loss: 4.8956 - val_auc_2: 0.4150\n",
      "Epoch 27/500\n",
      "7/7 [==============================] - 0s 6ms/step - loss: 35.3753 - auc_2: 0.4915 - val_loss: 5.1628 - val_auc_2: 0.4240\n",
      "Epoch 28/500\n",
      "7/7 [==============================] - 0s 7ms/step - loss: 35.1559 - auc_2: 0.5162 - val_loss: 5.0307 - val_auc_2: 0.4221\n",
      "Epoch 29/500\n",
      "7/7 [==============================] - 0s 8ms/step - loss: 33.1607 - auc_2: 0.4874 - val_loss: 5.0822 - val_auc_2: 0.4251\n",
      "Epoch 30/500\n",
      "7/7 [==============================] - 0s 11ms/step - loss: 33.6136 - auc_2: 0.5174 - val_loss: 4.6423 - val_auc_2: 0.4263\n",
      "Epoch 31/500\n",
      "7/7 [==============================] - 0s 7ms/step - loss: 30.9998 - auc_2: 0.4817 - val_loss: 4.2837 - val_auc_2: 0.4318\n",
      "Epoch 32/500\n",
      "7/7 [==============================] - 0s 9ms/step - loss: 30.0653 - auc_2: 0.4945 - val_loss: 4.0054 - val_auc_2: 0.4402\n",
      "Epoch 33/500\n",
      "7/7 [==============================] - ETA: 0s - loss: 43.4302 - auc_2: 0.41 - 0s 9ms/step - loss: 32.3150 - auc_2: 0.4769 - val_loss: 3.5641 - val_auc_2: 0.4386\n",
      "Epoch 34/500\n",
      "7/7 [==============================] - 0s 8ms/step - loss: 29.2157 - auc_2: 0.4774 - val_loss: 3.1006 - val_auc_2: 0.4344\n",
      "Epoch 35/500\n",
      "7/7 [==============================] - 0s 14ms/step - loss: 25.0166 - auc_2: 0.5065 - val_loss: 2.6934 - val_auc_2: 0.4235\n",
      "Epoch 36/500\n",
      "7/7 [==============================] - 0s 9ms/step - loss: 23.0811 - auc_2: 0.5044 - val_loss: 2.5097 - val_auc_2: 0.4217\n",
      "Epoch 37/500\n",
      "7/7 [==============================] - 0s 9ms/step - loss: 26.1682 - auc_2: 0.4648 - val_loss: 2.3594 - val_auc_2: 0.4360\n",
      "Epoch 38/500\n",
      "7/7 [==============================] - 0s 9ms/step - loss: 22.6332 - auc_2: 0.5181 - val_loss: 2.3562 - val_auc_2: 0.4330\n",
      "Epoch 39/500\n",
      "7/7 [==============================] - 0s 10ms/step - loss: 22.7361 - auc_2: 0.4936 - val_loss: 2.3928 - val_auc_2: 0.4405\n",
      "Epoch 40/500\n",
      "7/7 [==============================] - 0s 7ms/step - loss: 19.4776 - auc_2: 0.5048 - val_loss: 2.2134 - val_auc_2: 0.4433\n",
      "Epoch 41/500\n",
      "7/7 [==============================] - 0s 6ms/step - loss: 19.6980 - auc_2: 0.4910 - val_loss: 2.1430 - val_auc_2: 0.4479\n",
      "Epoch 42/500\n",
      "7/7 [==============================] - 0s 11ms/step - loss: 20.7022 - auc_2: 0.4918 - val_loss: 2.0387 - val_auc_2: 0.4469\n",
      "Epoch 43/500\n",
      "7/7 [==============================] - 0s 9ms/step - loss: 19.1033 - auc_2: 0.4727 - val_loss: 1.8493 - val_auc_2: 0.4486\n",
      "Epoch 44/500\n",
      "7/7 [==============================] - 0s 7ms/step - loss: 19.2277 - auc_2: 0.5059 - val_loss: 1.6818 - val_auc_2: 0.4542\n",
      "Epoch 45/500\n",
      "7/7 [==============================] - 0s 7ms/step - loss: 16.5088 - auc_2: 0.4849 - val_loss: 1.5239 - val_auc_2: 0.4749\n",
      "Epoch 46/500\n",
      "7/7 [==============================] - 0s 12ms/step - loss: 15.4058 - auc_2: 0.5216 - val_loss: 1.3316 - val_auc_2: 0.4864\n",
      "Epoch 47/500\n",
      "7/7 [==============================] - 0s 8ms/step - loss: 17.4890 - auc_2: 0.4578 - val_loss: 1.2917 - val_auc_2: 0.4862\n",
      "Epoch 48/500\n",
      "7/7 [==============================] - 0s 7ms/step - loss: 15.2898 - auc_2: 0.4784 - val_loss: 1.2214 - val_auc_2: 0.4872\n",
      "Epoch 49/500\n",
      "7/7 [==============================] - 0s 9ms/step - loss: 14.4422 - auc_2: 0.5072 - val_loss: 1.2012 - val_auc_2: 0.4834\n",
      "Epoch 50/500\n",
      "7/7 [==============================] - 0s 11ms/step - loss: 12.9925 - auc_2: 0.5282 - val_loss: 1.1726 - val_auc_2: 0.4943\n",
      "Epoch 51/500\n",
      "7/7 [==============================] - 0s 9ms/step - loss: 12.3296 - auc_2: 0.4933 - val_loss: 1.1448 - val_auc_2: 0.4966\n",
      "Epoch 52/500\n",
      "7/7 [==============================] - 0s 8ms/step - loss: 12.6927 - auc_2: 0.4853 - val_loss: 1.0726 - val_auc_2: 0.4968\n",
      "Epoch 53/500\n",
      "7/7 [==============================] - 0s 9ms/step - loss: 12.0993 - auc_2: 0.5162 - val_loss: 1.0112 - val_auc_2: 0.4958\n",
      "Epoch 54/500\n",
      "7/7 [==============================] - 0s 7ms/step - loss: 11.3691 - auc_2: 0.4974 - val_loss: 1.0128 - val_auc_2: 0.4749\n",
      "Epoch 55/500\n",
      "7/7 [==============================] - 0s 10ms/step - loss: 11.0026 - auc_2: 0.5086 - val_loss: 1.0735 - val_auc_2: 0.4740\n",
      "Epoch 56/500\n",
      "7/7 [==============================] - 0s 9ms/step - loss: 12.2677 - auc_2: 0.4799 - val_loss: 1.1815 - val_auc_2: 0.4717\n",
      "Epoch 57/500\n",
      "7/7 [==============================] - 0s 12ms/step - loss: 10.8338 - auc_2: 0.4835 - val_loss: 1.2228 - val_auc_2: 0.4736\n",
      "Epoch 58/500\n",
      "7/7 [==============================] - 0s 8ms/step - loss: 11.4645 - auc_2: 0.4806 - val_loss: 1.1747 - val_auc_2: 0.4745\n",
      "Epoch 59/500\n",
      "7/7 [==============================] - 0s 6ms/step - loss: 10.8983 - auc_2: 0.5144 - val_loss: 1.1617 - val_auc_2: 0.4735\n",
      "Epoch 60/500\n",
      "7/7 [==============================] - 0s 11ms/step - loss: 9.9638 - auc_2: 0.4930 - val_loss: 1.1695 - val_auc_2: 0.4715\n",
      "Epoch 61/500\n"
     ]
    },
    {
     "name": "stdout",
     "output_type": "stream",
     "text": [
      "7/7 [==============================] - 0s 7ms/step - loss: 9.1124 - auc_2: 0.4989 - val_loss: 1.1385 - val_auc_2: 0.4688\n",
      "Epoch 62/500\n",
      "7/7 [==============================] - 0s 10ms/step - loss: 9.6107 - auc_2: 0.4863 - val_loss: 1.0806 - val_auc_2: 0.4651\n",
      "Epoch 63/500\n",
      "7/7 [==============================] - 0s 11ms/step - loss: 8.0517 - auc_2: 0.4972 - val_loss: 1.0615 - val_auc_2: 0.4612\n",
      "Epoch 64/500\n",
      "7/7 [==============================] - 0s 9ms/step - loss: 7.0478 - auc_2: 0.5157 - val_loss: 0.9776 - val_auc_2: 0.4639\n",
      "Epoch 65/500\n",
      "7/7 [==============================] - 0s 8ms/step - loss: 6.9224 - auc_2: 0.4968 - val_loss: 0.9349 - val_auc_2: 0.4663\n",
      "Epoch 66/500\n",
      "7/7 [==============================] - 0s 11ms/step - loss: 8.9052 - auc_2: 0.4662 - val_loss: 0.9097 - val_auc_2: 0.4712\n",
      "Epoch 67/500\n",
      "7/7 [==============================] - 0s 11ms/step - loss: 6.5447 - auc_2: 0.5232 - val_loss: 0.8584 - val_auc_2: 0.4769\n",
      "Epoch 68/500\n",
      "7/7 [==============================] - 0s 8ms/step - loss: 8.2546 - auc_2: 0.4973 - val_loss: 0.8450 - val_auc_2: 0.4883\n",
      "Epoch 69/500\n",
      "7/7 [==============================] - 0s 9ms/step - loss: 6.4491 - auc_2: 0.5055 - val_loss: 0.8393 - val_auc_2: 0.5065\n",
      "Epoch 70/500\n",
      "7/7 [==============================] - 0s 9ms/step - loss: 6.6535 - auc_2: 0.4773 - val_loss: 0.7993 - val_auc_2: 0.5190\n",
      "Epoch 71/500\n",
      "7/7 [==============================] - 0s 10ms/step - loss: 6.9469 - auc_2: 0.4841 - val_loss: 0.7695 - val_auc_2: 0.5306\n",
      "Epoch 72/500\n",
      "7/7 [==============================] - 0s 10ms/step - loss: 6.0612 - auc_2: 0.5232 - val_loss: 0.7509 - val_auc_2: 0.5451\n",
      "Epoch 73/500\n",
      "7/7 [==============================] - 0s 10ms/step - loss: 5.8466 - auc_2: 0.4886 - val_loss: 0.7513 - val_auc_2: 0.5534\n",
      "Epoch 74/500\n",
      "7/7 [==============================] - 0s 7ms/step - loss: 4.8083 - auc_2: 0.5055 - val_loss: 0.7417 - val_auc_2: 0.5568\n",
      "Epoch 75/500\n",
      "7/7 [==============================] - 0s 6ms/step - loss: 5.1452 - auc_2: 0.4878 - val_loss: 0.7148 - val_auc_2: 0.5686\n",
      "Epoch 76/500\n",
      "7/7 [==============================] - 0s 10ms/step - loss: 5.1941 - auc_2: 0.5180 - val_loss: 0.6965 - val_auc_2: 0.5733\n",
      "Epoch 77/500\n",
      "7/7 [==============================] - 0s 8ms/step - loss: 5.6822 - auc_2: 0.5157 - val_loss: 0.6950 - val_auc_2: 0.5810\n",
      "Epoch 78/500\n",
      "7/7 [==============================] - 0s 13ms/step - loss: 4.7972 - auc_2: 0.5148 - val_loss: 0.6963 - val_auc_2: 0.5754\n",
      "Epoch 79/500\n",
      "7/7 [==============================] - 0s 7ms/step - loss: 5.0865 - auc_2: 0.5050 - val_loss: 0.7215 - val_auc_2: 0.5699\n",
      "Epoch 80/500\n",
      "7/7 [==============================] - 0s 7ms/step - loss: 5.1538 - auc_2: 0.5105 - val_loss: 0.7341 - val_auc_2: 0.5635\n",
      "Epoch 81/500\n",
      "7/7 [==============================] - 0s 8ms/step - loss: 3.9746 - auc_2: 0.5096 - val_loss: 0.7367 - val_auc_2: 0.5671\n",
      "Epoch 82/500\n",
      "7/7 [==============================] - 0s 9ms/step - loss: 4.6581 - auc_2: 0.5147 - val_loss: 0.7165 - val_auc_2: 0.5680\n",
      "Epoch 83/500\n",
      "7/7 [==============================] - 0s 9ms/step - loss: 4.9630 - auc_2: 0.4777 - val_loss: 0.6968 - val_auc_2: 0.5630\n",
      "Epoch 84/500\n",
      "7/7 [==============================] - 0s 6ms/step - loss: 3.8988 - auc_2: 0.4972 - val_loss: 0.6845 - val_auc_2: 0.5723\n",
      "Epoch 85/500\n",
      "7/7 [==============================] - 0s 12ms/step - loss: 4.4034 - auc_2: 0.4973 - val_loss: 0.6854 - val_auc_2: 0.5681\n",
      "Epoch 86/500\n",
      "7/7 [==============================] - 0s 6ms/step - loss: 4.2367 - auc_2: 0.4972 - val_loss: 0.6879 - val_auc_2: 0.5705\n",
      "Epoch 87/500\n",
      "7/7 [==============================] - 0s 9ms/step - loss: 3.6857 - auc_2: 0.4950 - val_loss: 0.7009 - val_auc_2: 0.5707\n",
      "Epoch 88/500\n",
      "7/7 [==============================] - 0s 7ms/step - loss: 3.7801 - auc_2: 0.4975 - val_loss: 0.7126 - val_auc_2: 0.5695\n",
      "Epoch 89/500\n",
      "7/7 [==============================] - 0s 6ms/step - loss: 3.4105 - auc_2: 0.5191 - val_loss: 0.7160 - val_auc_2: 0.5729\n",
      "Epoch 90/500\n",
      "7/7 [==============================] - 0s 13ms/step - loss: 3.5763 - auc_2: 0.5168 - val_loss: 0.6999 - val_auc_2: 0.5724\n",
      "Epoch 91/500\n",
      "7/7 [==============================] - 0s 10ms/step - loss: 3.3248 - auc_2: 0.5061 - val_loss: 0.6926 - val_auc_2: 0.5710\n",
      "Epoch 92/500\n",
      "7/7 [==============================] - 0s 6ms/step - loss: 3.4461 - auc_2: 0.4787 - val_loss: 0.6963 - val_auc_2: 0.5687\n",
      "Epoch 93/500\n",
      "7/7 [==============================] - 0s 6ms/step - loss: 2.7087 - auc_2: 0.5305 - val_loss: 0.6975 - val_auc_2: 0.5540\n",
      "Epoch 94/500\n",
      "7/7 [==============================] - 0s 11ms/step - loss: 3.1749 - auc_2: 0.5399 - val_loss: 0.7021 - val_auc_2: 0.5749\n",
      "Epoch 95/500\n",
      "7/7 [==============================] - 0s 6ms/step - loss: 2.7721 - auc_2: 0.5140 - val_loss: 0.7063 - val_auc_2: 0.5563\n",
      "Epoch 96/500\n",
      "7/7 [==============================] - 0s 8ms/step - loss: 3.2980 - auc_2: 0.4608 - val_loss: 0.7156 - val_auc_2: 0.5587\n",
      "Epoch 97/500\n",
      "7/7 [==============================] - 0s 9ms/step - loss: 2.4892 - auc_2: 0.5141 - val_loss: 0.7055 - val_auc_2: 0.5513\n",
      "Epoch 98/500\n",
      "7/7 [==============================] - 0s 6ms/step - loss: 2.5847 - auc_2: 0.5270 - val_loss: 0.6979 - val_auc_2: 0.5688\n",
      "Epoch 99/500\n",
      "7/7 [==============================] - 0s 7ms/step - loss: 3.4305 - auc_2: 0.4686 - val_loss: 0.6979 - val_auc_2: 0.5680\n",
      "Epoch 100/500\n",
      "7/7 [==============================] - 0s 10ms/step - loss: 2.8981 - auc_2: 0.4895 - val_loss: 0.6978 - val_auc_2: 0.5592\n",
      "Epoch 101/500\n",
      "7/7 [==============================] - 0s 6ms/step - loss: 2.0650 - auc_2: 0.5124 - val_loss: 0.6948 - val_auc_2: 0.5632\n",
      "Epoch 102/500\n",
      "7/7 [==============================] - 0s 8ms/step - loss: 2.3101 - auc_2: 0.4867 - val_loss: 0.6944 - val_auc_2: 0.5496\n",
      "Epoch 103/500\n",
      "7/7 [==============================] - 0s 10ms/step - loss: 2.0831 - auc_2: 0.5315 - val_loss: 0.6918 - val_auc_2: 0.5609\n",
      "Epoch 104/500\n",
      "7/7 [==============================] - 0s 11ms/step - loss: 2.4661 - auc_2: 0.4585 - val_loss: 0.6915 - val_auc_2: 0.5513\n"
     ]
    }
   ],
   "source": [
    "# Define Model\n",
    "\n",
    "model_5 = Sequential()\n",
    "\n",
    "model_5.add(Dense(10, input_shape=(8,), activation='relu', kernel_initializer = 'he_uniform'))\n",
    "model_5.add(Dropout(rate=0.25))\n",
    "\n",
    "model_5.add(Dense(10, activation='relu', kernel_initializer = 'he_uniform'))\n",
    "model_5.add(Dropout(rate=0.25))\n",
    "\n",
    "model_5.add(Dense(20, activation='relu', kernel_initializer = 'he_uniform'))\n",
    "model_5.add(Dropout(rate=0.25))\n",
    "\n",
    "model_5.add(Dense(14, activation='relu', kernel_initializer = 'he_uniform'))\n",
    "model_5.add(Dropout(rate=0.25))\n",
    "\n",
    "model_5.add(Dense(1, activation='sigmoid'))\n",
    "\n",
    "# Compile model\n",
    "model_5.compile(loss='binary_crossentropy', \n",
    "              optimizer='adam', \n",
    "              metrics=[tensorflow.keras.metrics.AUC()])\n",
    "    \n",
    "stop_early = tensorflow.keras.callbacks.EarlyStopping(monitor='val_loss', patience=20, mode='min')\n",
    "\n",
    "# Fit model\n",
    "history = model_5.fit(X_train, \n",
    "                    y_train, \n",
    "                    validation_split=0.3,\n",
    "                    epochs=500,\n",
    "                    callbacks=[stop_early],\n",
    "                    batch_size=128)"
   ]
  },
  {
   "cell_type": "code",
   "execution_count": 1225,
   "metadata": {},
   "outputs": [],
   "source": [
    "y_pred = model_5.predict_classes(X_valid)"
   ]
  },
  {
   "cell_type": "code",
   "execution_count": 1226,
   "metadata": {},
   "outputs": [
    {
     "name": "stdout",
     "output_type": "stream",
     "text": [
      "              precision    recall  f1-score   support\n",
      "\n",
      "           0       0.52      0.19      0.27       140\n",
      "           1       0.56      0.86      0.68       171\n",
      "\n",
      "    accuracy                           0.56       311\n",
      "   macro avg       0.54      0.52      0.48       311\n",
      "weighted avg       0.54      0.56      0.50       311\n",
      "\n"
     ]
    }
   ],
   "source": [
    "from sklearn.metrics import classification_report\n",
    "\n",
    "print(classification_report(y_valid, y_pred))"
   ]
  },
  {
   "cell_type": "code",
   "execution_count": 1227,
   "metadata": {},
   "outputs": [
    {
     "data": {
      "text/html": [
       "<div>\n",
       "<style scoped>\n",
       "    .dataframe tbody tr th:only-of-type {\n",
       "        vertical-align: middle;\n",
       "    }\n",
       "\n",
       "    .dataframe tbody tr th {\n",
       "        vertical-align: top;\n",
       "    }\n",
       "\n",
       "    .dataframe thead th {\n",
       "        text-align: right;\n",
       "    }\n",
       "</style>\n",
       "<table border=\"1\" class=\"dataframe\">\n",
       "  <thead>\n",
       "    <tr style=\"text-align: right;\">\n",
       "      <th></th>\n",
       "      <th>0</th>\n",
       "      <th>1</th>\n",
       "    </tr>\n",
       "  </thead>\n",
       "  <tbody>\n",
       "    <tr>\n",
       "      <th>0</th>\n",
       "      <td>26</td>\n",
       "      <td>114</td>\n",
       "    </tr>\n",
       "    <tr>\n",
       "      <th>1</th>\n",
       "      <td>24</td>\n",
       "      <td>147</td>\n",
       "    </tr>\n",
       "  </tbody>\n",
       "</table>\n",
       "</div>"
      ],
      "text/plain": [
       "    0    1\n",
       "0  26  114\n",
       "1  24  147"
      ]
     },
     "execution_count": 1227,
     "metadata": {},
     "output_type": "execute_result"
    }
   ],
   "source": [
    "from sklearn.metrics import confusion_matrix\n",
    "\n",
    "pd.DataFrame(confusion_matrix(y_valid, y_pred))"
   ]
  },
  {
   "cell_type": "code",
   "execution_count": 1228,
   "metadata": {},
   "outputs": [
    {
     "data": {
      "image/png": "[encoded data removed]",
      "text/plain": [
       "<Figure size 432x288 with 1 Axes>"
      ]
     },
     "metadata": {
      "needs_background": "light"
     },
     "output_type": "display_data"
    }
   ],
   "source": [
    "plt.plot(history.history['loss'])\n",
    "plt.plot(history.history['val_loss'])\n",
    "plt.ylabel('Loss')\n",
    "plt.xlabel('Epoch')\n",
    "plt.legend(['Train', 'Validation'], loc='upper right')\n",
    "plt.show()"
   ]
  },
  {
   "cell_type": "code",
   "execution_count": 1299,
   "metadata": {},
   "outputs": [],
   "source": [
    "def fit_model(X_train, y_train, X_valid, y_valid, n_batch):\n",
    "\n",
    "    model_5 = Sequential()\n",
    "\n",
    "    model_5.add(Dense(10, input_shape=(8,), activation='relu', kernel_initializer = 'he_uniform'))\n",
    "    model_5.add(Dropout(rate=0.25))\n",
    "\n",
    "    model_5.add(Dense(10, activation='relu', kernel_initializer = 'he_uniform'))\n",
    "    model_5.add(Dropout(rate=0.25))\n",
    "\n",
    "    model_5.add(Dense(20, activation='relu', kernel_initializer = 'he_uniform'))\n",
    "    model_5.add(Dropout(rate=0.25))\n",
    "\n",
    "    model_5.add(Dense(14, activation='relu', kernel_initializer = 'he_uniform'))\n",
    "    model_5.add(Dropout(rate=0.25))\n",
    "\n",
    "    model_5.add(Dense(1, activation='sigmoid'))\n",
    "\n",
    "    # Compile model\n",
    "    model_5.compile(loss='binary_crossentropy', \n",
    "              optimizer='adam', \n",
    "              metrics=[tensorflow.keras.metrics.AUC()])\n",
    "    \n",
    "    stop_early = tensorflow.keras.callbacks.EarlyStopping(monitor='val_loss', patience=20, mode='min')\n",
    "\n",
    "    # Fit model\n",
    "    history = model_5.fit(X_train, \n",
    "                    y_train, \n",
    "                    validation_split=0.3,\n",
    "                    epochs=500,\n",
    "                    callbacks=[stop_early],\n",
    "                    batch_size=n_batch,\n",
    "                    verbose=0)\n",
    "    \n",
    "    plt.plot(history.history['loss'])\n",
    "    plt.plot(history.history['val_loss'])\n",
    "    plt.title('batch='+str(n_batch))\n",
    "    plt.ylabel('Loss')\n",
    "    plt.xlabel('Epoch')\n",
    "    plt.legend(['Train', 'Validation'], loc='upper right')"
   ]
  },
  {
   "cell_type": "code",
   "execution_count": 1300,
   "metadata": {},
   "outputs": [
    {
     "data": {
      "image/png": "[encoded data removed]",
      "text/plain": [
       "<Figure size 1440x1440 with 7 Axes>"
      ]
     },
     "metadata": {
      "needs_background": "light"
     },
     "output_type": "display_data"
    }
   ],
   "source": [
    "# create learning curves for different batch sizes\n",
    "batch_sizes = [4, 8, 16, 32, 64, 128, 256]\n",
    "\n",
    "plt.figure(figsize=(20, 20))\n",
    "\n",
    "for i in range(len(batch_sizes)):\n",
    "    plot_no = 420 + (i+1)\n",
    "    plt.subplot(plot_no)\n",
    "    \n",
    "    fit_model(X_train, y_train, X_valid, y_valid, batch_sizes[i])\n",
    "plt.show()"
   ]
  },
  {
   "cell_type": "code",
   "execution_count": 1327,
   "metadata": {},
   "outputs": [
    {
     "name": "stdout",
     "output_type": "stream",
     "text": [
      "Epoch 1/100\n",
      "4/4 [==============================] - 1s 142ms/step - loss: 1285.1809 - auc_63: 0.4782 - val_loss: 1113.3789 - val_auc_63: 0.5000\n",
      "Epoch 2/100\n",
      "4/4 [==============================] - 0s 32ms/step - loss: 1024.0729 - auc_63: 0.5080 - val_loss: 979.4548 - val_auc_63: 0.5000\n",
      "Epoch 3/100\n",
      "4/4 [==============================] - 0s 12ms/step - loss: 984.5909 - auc_63: 0.4960 - val_loss: 851.4440 - val_auc_63: 0.5000\n",
      "Epoch 4/100\n",
      "4/4 [==============================] - 0s 11ms/step - loss: 841.3926 - auc_63: 0.4975 - val_loss: 728.8903 - val_auc_63: 0.5000\n",
      "Epoch 5/100\n",
      "4/4 [==============================] - 0s 13ms/step - loss: 679.0861 - auc_63: 0.4934 - val_loss: 617.0125 - val_auc_63: 0.5000\n",
      "Epoch 6/100\n",
      "4/4 [==============================] - 0s 13ms/step - loss: 603.5253 - auc_63: 0.5234 - val_loss: 516.5951 - val_auc_63: 0.5000\n",
      "Epoch 7/100\n",
      "4/4 [==============================] - 0s 13ms/step - loss: 541.8342 - auc_63: 0.5038 - val_loss: 426.2917 - val_auc_63: 0.5000\n",
      "Epoch 8/100\n",
      "4/4 [==============================] - 0s 10ms/step - loss: 486.8483 - auc_63: 0.5064 - val_loss: 342.2578 - val_auc_63: 0.5000\n",
      "Epoch 9/100\n",
      "4/4 [==============================] - 0s 12ms/step - loss: 429.8035 - auc_63: 0.5243 - val_loss: 268.8675 - val_auc_63: 0.5000\n",
      "Epoch 10/100\n",
      "4/4 [==============================] - 0s 14ms/step - loss: 413.5804 - auc_63: 0.5099 - val_loss: 202.1272 - val_auc_63: 0.5000\n",
      "Epoch 11/100\n",
      "4/4 [==============================] - 0s 10ms/step - loss: 346.3380 - auc_63: 0.4973 - val_loss: 142.3342 - val_auc_63: 0.5000\n",
      "Epoch 12/100\n",
      "4/4 [==============================] - 0s 16ms/step - loss: 375.8172 - auc_63: 0.5107 - val_loss: 94.5715 - val_auc_63: 0.5145\n",
      "Epoch 13/100\n",
      "4/4 [==============================] - 0s 9ms/step - loss: 376.7873 - auc_63: 0.5028 - val_loss: 59.8235 - val_auc_63: 0.4922\n",
      "Epoch 14/100\n",
      "4/4 [==============================] - 0s 13ms/step - loss: 312.0128 - auc_63: 0.5077 - val_loss: 36.8366 - val_auc_63: 0.4924\n",
      "Epoch 15/100\n",
      "4/4 [==============================] - 0s 12ms/step - loss: 280.4326 - auc_63: 0.5055 - val_loss: 20.8138 - val_auc_63: 0.5104\n",
      "Epoch 16/100\n",
      "4/4 [==============================] - 0s 11ms/step - loss: 327.8346 - auc_63: 0.4824 - val_loss: 14.0535 - val_auc_63: 0.5616\n",
      "Epoch 17/100\n",
      "4/4 [==============================] - 0s 18ms/step - loss: 284.0367 - auc_63: 0.5101 - val_loss: 15.7678 - val_auc_63: 0.5769\n",
      "Epoch 18/100\n",
      "4/4 [==============================] - 0s 10ms/step - loss: 298.0891 - auc_63: 0.4880 - val_loss: 17.0137 - val_auc_63: 0.5549\n",
      "Epoch 19/100\n",
      "4/4 [==============================] - 0s 13ms/step - loss: 241.5967 - auc_63: 0.5286 - val_loss: 17.6063 - val_auc_63: 0.5418\n",
      "Epoch 20/100\n",
      "4/4 [==============================] - 0s 13ms/step - loss: 274.3632 - auc_63: 0.4816 - val_loss: 16.9735 - val_auc_63: 0.5238\n",
      "Epoch 21/100\n",
      "4/4 [==============================] - 0s 17ms/step - loss: 275.4568 - auc_63: 0.4655 - val_loss: 17.8523 - val_auc_63: 0.5472\n",
      "Epoch 22/100\n",
      "4/4 [==============================] - 0s 10ms/step - loss: 246.7338 - auc_63: 0.5010 - val_loss: 22.9539 - val_auc_63: 0.5179\n",
      "Epoch 23/100\n",
      "4/4 [==============================] - 0s 9ms/step - loss: 220.5334 - auc_63: 0.5563 - val_loss: 27.4016 - val_auc_63: 0.5173\n",
      "Epoch 24/100\n",
      "4/4 [==============================] - 0s 15ms/step - loss: 245.1710 - auc_63: 0.5064 - val_loss: 28.2315 - val_auc_63: 0.5230\n",
      "Epoch 25/100\n",
      "4/4 [==============================] - 0s 10ms/step - loss: 238.7801 - auc_63: 0.4913 - val_loss: 26.9962 - val_auc_63: 0.5301\n",
      "Epoch 26/100\n",
      "4/4 [==============================] - 0s 17ms/step - loss: 208.6168 - auc_63: 0.4968 - val_loss: 26.4724 - val_auc_63: 0.5299\n",
      "Epoch 27/100\n",
      "4/4 [==============================] - 0s 13ms/step - loss: 172.1573 - auc_63: 0.5244 - val_loss: 25.1860 - val_auc_63: 0.5274\n",
      "Epoch 28/100\n",
      "4/4 [==============================] - 0s 8ms/step - loss: 193.1198 - auc_63: 0.5001 - val_loss: 24.8503 - val_auc_63: 0.5243\n",
      "Epoch 29/100\n",
      "4/4 [==============================] - 0s 16ms/step - loss: 173.8694 - auc_63: 0.5170 - val_loss: 24.3808 - val_auc_63: 0.5292\n",
      "Epoch 30/100\n",
      "4/4 [==============================] - 0s 19ms/step - loss: 179.9893 - auc_63: 0.4846 - val_loss: 23.7102 - val_auc_63: 0.5326\n",
      "Epoch 31/100\n",
      "4/4 [==============================] - 0s 11ms/step - loss: 183.4096 - auc_63: 0.4852 - val_loss: 22.3426 - val_auc_63: 0.5301\n",
      "Epoch 32/100\n",
      "4/4 [==============================] - 0s 10ms/step - loss: 151.9369 - auc_63: 0.5519 - val_loss: 20.1597 - val_auc_63: 0.5305\n",
      "Epoch 33/100\n",
      "4/4 [==============================] - 0s 11ms/step - loss: 149.2253 - auc_63: 0.5077 - val_loss: 17.4731 - val_auc_63: 0.5282\n",
      "Epoch 34/100\n",
      "4/4 [==============================] - 0s 9ms/step - loss: 169.1107 - auc_63: 0.4764 - val_loss: 14.7370 - val_auc_63: 0.5274\n",
      "Epoch 35/100\n",
      "4/4 [==============================] - 0s 10ms/step - loss: 129.0874 - auc_63: 0.5498 - val_loss: 12.6032 - val_auc_63: 0.5228\n",
      "Epoch 36/100\n",
      "4/4 [==============================] - 0s 10ms/step - loss: 155.2172 - auc_63: 0.5103 - val_loss: 11.0218 - val_auc_63: 0.5132\n",
      "Epoch 37/100\n",
      "4/4 [==============================] - 0s 9ms/step - loss: 140.9149 - auc_63: 0.5151 - val_loss: 8.9906 - val_auc_63: 0.5270\n",
      "Epoch 38/100\n",
      "4/4 [==============================] - 0s 12ms/step - loss: 147.7301 - auc_63: 0.5054 - val_loss: 7.1317 - val_auc_63: 0.5466\n",
      "Epoch 39/100\n",
      "4/4 [==============================] - 0s 16ms/step - loss: 126.4919 - auc_63: 0.5301 - val_loss: 6.8112 - val_auc_63: 0.5593\n",
      "Epoch 40/100\n",
      "4/4 [==============================] - 0s 14ms/step - loss: 143.1720 - auc_63: 0.4925 - val_loss: 6.7846 - val_auc_63: 0.5568\n",
      "Epoch 41/100\n",
      "4/4 [==============================] - 0s 16ms/step - loss: 137.0022 - auc_63: 0.5063 - val_loss: 7.0888 - val_auc_63: 0.5399\n",
      "Epoch 42/100\n",
      "4/4 [==============================] - 0s 11ms/step - loss: 129.8369 - auc_63: 0.4905 - val_loss: 7.5337 - val_auc_63: 0.5559\n",
      "Epoch 43/100\n",
      "4/4 [==============================] - 0s 18ms/step - loss: 121.8831 - auc_63: 0.4969 - val_loss: 8.0896 - val_auc_63: 0.5639\n",
      "Epoch 44/100\n",
      "4/4 [==============================] - 0s 14ms/step - loss: 128.2799 - auc_63: 0.4959 - val_loss: 8.2429 - val_auc_63: 0.5576\n",
      "Epoch 45/100\n",
      "4/4 [==============================] - 0s 17ms/step - loss: 122.9370 - auc_63: 0.5151 - val_loss: 8.1696 - val_auc_63: 0.5628\n",
      "Epoch 46/100\n",
      "4/4 [==============================] - 0s 12ms/step - loss: 106.5173 - auc_63: 0.4959 - val_loss: 8.2266 - val_auc_63: 0.5622\n",
      "Epoch 47/100\n",
      "4/4 [==============================] - 0s 10ms/step - loss: 108.7451 - auc_63: 0.5159 - val_loss: 8.5514 - val_auc_63: 0.5598\n",
      "Epoch 48/100\n",
      "4/4 [==============================] - 0s 12ms/step - loss: 105.2502 - auc_63: 0.5022 - val_loss: 9.0559 - val_auc_63: 0.5651\n",
      "Epoch 49/100\n",
      "4/4 [==============================] - 0s 16ms/step - loss: 96.5340 - auc_63: 0.5140 - val_loss: 9.7108 - val_auc_63: 0.5664\n",
      "Epoch 50/100\n",
      "4/4 [==============================] - 0s 19ms/step - loss: 94.7120 - auc_63: 0.5033 - val_loss: 10.3966 - val_auc_63: 0.5677\n",
      "Epoch 51/100\n",
      "4/4 [==============================] - 0s 16ms/step - loss: 99.8215 - auc_63: 0.4751 - val_loss: 11.0284 - val_auc_63: 0.5677\n",
      "Epoch 52/100\n",
      "4/4 [==============================] - 0s 15ms/step - loss: 104.7987 - auc_63: 0.4778 - val_loss: 11.6275 - val_auc_63: 0.5677\n",
      "Epoch 53/100\n",
      "4/4 [==============================] - 0s 14ms/step - loss: 99.9966 - auc_63: 0.5072 - val_loss: 11.7316 - val_auc_63: 0.5666\n",
      "Epoch 54/100\n",
      "4/4 [==============================] - 0s 10ms/step - loss: 93.1588 - auc_63: 0.4935 - val_loss: 11.7334 - val_auc_63: 0.5683\n",
      "Epoch 55/100\n",
      "4/4 [==============================] - 0s 10ms/step - loss: 96.2441 - auc_63: 0.4944 - val_loss: 11.7343 - val_auc_63: 0.5682\n",
      "Epoch 56/100\n",
      "4/4 [==============================] - 0s 17ms/step - loss: 85.8374 - auc_63: 0.5277 - val_loss: 11.6077 - val_auc_63: 0.5659\n",
      "Epoch 57/100\n",
      "4/4 [==============================] - 0s 16ms/step - loss: 84.6462 - auc_63: 0.5093 - val_loss: 11.4330 - val_auc_63: 0.5686\n",
      "Epoch 58/100\n",
      "4/4 [==============================] - 0s 10ms/step - loss: 79.5530 - auc_63: 0.5223 - val_loss: 11.2071 - val_auc_63: 0.5674\n",
      "Epoch 59/100\n",
      "4/4 [==============================] - 0s 15ms/step - loss: 78.1068 - auc_63: 0.5232 - val_loss: 10.9472 - val_auc_63: 0.5750\n"
     ]
    },
    {
     "name": "stdout",
     "output_type": "stream",
     "text": [
      "Epoch 60/100\n",
      "4/4 [==============================] - 0s 10ms/step - loss: 77.5696 - auc_63: 0.4908 - val_loss: 10.5803 - val_auc_63: 0.5690\n"
     ]
    }
   ],
   "source": [
    "# Define Model\n",
    "\n",
    "model_5 = Sequential()\n",
    "\n",
    "model_5.add(Dense(10, input_shape=(8,), activation='relu', kernel_initializer = 'he_uniform'))\n",
    "model_5.add(Dropout(rate=0.25))\n",
    "\n",
    "model_5.add(Dense(10, activation='relu', kernel_initializer = 'he_uniform'))\n",
    "model_5.add(Dropout(rate=0.25))\n",
    "\n",
    "model_5.add(Dense(20, activation='relu', kernel_initializer = 'he_uniform'))\n",
    "model_5.add(Dropout(rate=0.25))\n",
    "\n",
    "model_5.add(Dense(14, activation='relu', kernel_initializer = 'he_uniform'))\n",
    "model_5.add(Dropout(rate=0.25))\n",
    "\n",
    "model_5.add(Dense(1, activation='sigmoid'))\n",
    "\n",
    "# Compile model\n",
    "model_5.compile(loss='binary_crossentropy', \n",
    "              optimizer='adam', \n",
    "              metrics=[tensorflow.keras.metrics.AUC()])\n",
    "    \n",
    "stop_early = tensorflow.keras.callbacks.EarlyStopping(monitor='val_loss', patience=20, mode='min')\n",
    "\n",
    "# Fit model\n",
    "history = model_5.fit(X_train, \n",
    "                    y_train, \n",
    "                    validation_split=0.3,\n",
    "                    epochs=100,\n",
    "                    callbacks=[stop_early],\n",
    "                    batch_size=256)"
   ]
  },
  {
   "cell_type": "code",
   "execution_count": 1328,
   "metadata": {},
   "outputs": [],
   "source": [
    "y_pred = model_5.predict_classes(X_valid)"
   ]
  },
  {
   "cell_type": "code",
   "execution_count": 1329,
   "metadata": {},
   "outputs": [
    {
     "name": "stdout",
     "output_type": "stream",
     "text": [
      "              precision    recall  f1-score   support\n",
      "\n",
      "           0       0.52      0.39      0.45       140\n",
      "           1       0.59      0.71      0.64       171\n",
      "\n",
      "    accuracy                           0.57       311\n",
      "   macro avg       0.56      0.55      0.55       311\n",
      "weighted avg       0.56      0.57      0.56       311\n",
      "\n"
     ]
    }
   ],
   "source": [
    "from sklearn.metrics import classification_report\n",
    "\n",
    "print(classification_report(y_valid, y_pred))"
   ]
  },
  {
   "cell_type": "code",
   "execution_count": 1330,
   "metadata": {},
   "outputs": [
    {
     "data": {
      "text/html": [
       "<div>\n",
       "<style scoped>\n",
       "    .dataframe tbody tr th:only-of-type {\n",
       "        vertical-align: middle;\n",
       "    }\n",
       "\n",
       "    .dataframe tbody tr th {\n",
       "        vertical-align: top;\n",
       "    }\n",
       "\n",
       "    .dataframe thead th {\n",
       "        text-align: right;\n",
       "    }\n",
       "</style>\n",
       "<table border=\"1\" class=\"dataframe\">\n",
       "  <thead>\n",
       "    <tr style=\"text-align: right;\">\n",
       "      <th></th>\n",
       "      <th>0</th>\n",
       "      <th>1</th>\n",
       "    </tr>\n",
       "  </thead>\n",
       "  <tbody>\n",
       "    <tr>\n",
       "      <th>0</th>\n",
       "      <td>55</td>\n",
       "      <td>85</td>\n",
       "    </tr>\n",
       "    <tr>\n",
       "      <th>1</th>\n",
       "      <td>50</td>\n",
       "      <td>121</td>\n",
       "    </tr>\n",
       "  </tbody>\n",
       "</table>\n",
       "</div>"
      ],
      "text/plain": [
       "    0    1\n",
       "0  55   85\n",
       "1  50  121"
      ]
     },
     "execution_count": 1330,
     "metadata": {},
     "output_type": "execute_result"
    }
   ],
   "source": [
    "from sklearn.metrics import confusion_matrix\n",
    "\n",
    "pd.DataFrame(confusion_matrix(y_valid, y_pred))"
   ]
  },
  {
   "cell_type": "code",
   "execution_count": 1331,
   "metadata": {},
   "outputs": [
    {
     "data": {
      "image/png": "[encoded data removed]",
      "text/plain": [
       "<Figure size 432x288 with 1 Axes>"
      ]
     },
     "metadata": {
      "needs_background": "light"
     },
     "output_type": "display_data"
    }
   ],
   "source": [
    "plt.plot(history.history['loss'])\n",
    "plt.plot(history.history['val_loss'])\n",
    "plt.ylabel('Loss')\n",
    "plt.xlabel('Epoch')\n",
    "plt.legend(['Train', 'Validation'], loc='upper right')\n",
    "plt.show()"
   ]
  },
  {
   "cell_type": "markdown",
   "metadata": {},
   "source": [
    "---"
   ]
  },
  {
   "cell_type": "markdown",
   "metadata": {},
   "source": [
    "# Experiment 6 - Activation Function"
   ]
  },
  {
   "cell_type": "code",
   "execution_count": 1347,
   "metadata": {},
   "outputs": [],
   "source": [
    "def model_builder(hp):\n",
    "  model = keras.Sequential()\n",
    "  model.add(Dense(10, input_shape=(8,), activation='relu', kernel_initializer = 'he_uniform'))\n",
    "  model.add(Dropout(rate=0.25))\n",
    "  \n",
    "  hp_units_1 = hp.Int('units_1', min_value=4, max_value=32, step=2)\n",
    "  hp_activation_1 = hp.Choice('dense_activation_1', values=['relu', 'tanh', 'sigmoid'])\n",
    "  model.add(keras.layers.Dense(units=hp_units_1, activation=hp_activation_1, kernel_initializer = 'he_uniform'))\n",
    "  model.add(Dropout(rate=0.25))\n",
    "    \n",
    "  hp_units_2 = hp.Int('units_2', min_value=4, max_value=32, step=2)\n",
    "  hp_activation_2 = hp.Choice('dense_activation_2', values=['relu', 'tanh', 'sigmoid']) \n",
    "  model.add(keras.layers.Dense(units=hp_units_2, activation=hp_activation_2, kernel_initializer = 'he_uniform'))\n",
    "  model.add(Dropout(rate=0.25))\n",
    "    \n",
    "  model.add(Dense(1, activation='sigmoid'))\n",
    "\n",
    "  model.compile(optimizer='adam',\n",
    "                loss='binary_crossentropy',\n",
    "                metrics=[tensorflow.keras.metrics.AUC()])\n",
    "\n",
    "  return model"
   ]
  },
  {
   "cell_type": "code",
   "execution_count": 1348,
   "metadata": {},
   "outputs": [],
   "source": [
    "tuner = kt.Hyperband(model_builder,\n",
    "                     objective=kt.Objective(\"auc\", direction=\"max\"),\n",
    "                     max_epochs=300,\n",
    "                     directory='my_dir',\n",
    "                     project_name='intro_to_kt_120')"
   ]
  },
  {
   "cell_type": "code",
   "execution_count": 1349,
   "metadata": {},
   "outputs": [],
   "source": [
    "stop_early = tensorflow.keras.callbacks.EarlyStopping(monitor='val_loss', patience=10, mode='min')"
   ]
  },
  {
   "cell_type": "code",
   "execution_count": 1350,
   "metadata": {},
   "outputs": [
    {
     "name": "stdout",
     "output_type": "stream",
     "text": [
      "Trial 725 Complete [00h 00m 06s]\n",
      "auc: 0.5329935550689697\n",
      "\n",
      "Best auc So Far: 0.5867673754692078\n",
      "Total elapsed time: 00h 39m 36s\n",
      "INFO:tensorflow:Oracle triggered exit\n"
     ]
    }
   ],
   "source": [
    "tuner.search(X_train, \n",
    "             y_train, \n",
    "             epochs=300, \n",
    "             validation_split=0.3, \n",
    "             callbacks=[stop_early],\n",
    "             batch_size=64)\n",
    "\n",
    "# Get the optimal hyperparameters\n",
    "best_hps=tuner.get_best_hyperparameters(num_trials=10)[0]"
   ]
  },
  {
   "cell_type": "code",
   "execution_count": 1351,
   "metadata": {},
   "outputs": [
    {
     "data": {
      "text/plain": [
       "24"
      ]
     },
     "execution_count": 1351,
     "metadata": {},
     "output_type": "execute_result"
    }
   ],
   "source": [
    "best_hps.get('units_1')"
   ]
  },
  {
   "cell_type": "code",
   "execution_count": 1352,
   "metadata": {},
   "outputs": [
    {
     "data": {
      "text/plain": [
       "'tanh'"
      ]
     },
     "execution_count": 1352,
     "metadata": {},
     "output_type": "execute_result"
    }
   ],
   "source": [
    "best_hps.get('dense_activation_1')"
   ]
  },
  {
   "cell_type": "code",
   "execution_count": 1353,
   "metadata": {},
   "outputs": [
    {
     "data": {
      "text/plain": [
       "30"
      ]
     },
     "execution_count": 1353,
     "metadata": {},
     "output_type": "execute_result"
    }
   ],
   "source": [
    "best_hps.get('units_2')"
   ]
  },
  {
   "cell_type": "code",
   "execution_count": 1354,
   "metadata": {},
   "outputs": [
    {
     "data": {
      "text/plain": [
       "'relu'"
      ]
     },
     "execution_count": 1354,
     "metadata": {},
     "output_type": "execute_result"
    }
   ],
   "source": [
    "best_hps.get('dense_activation_2')"
   ]
  },
  {
   "cell_type": "code",
   "execution_count": 1355,
   "metadata": {},
   "outputs": [
    {
     "name": "stdout",
     "output_type": "stream",
     "text": [
      "Epoch 1/300\n",
      "14/14 [==============================] - 1s 58ms/step - loss: 0.9620 - auc_1: 0.4954 - val_loss: 0.7626 - val_auc_1: 0.5172\n",
      "Epoch 2/300\n",
      "14/14 [==============================] - 0s 6ms/step - loss: 0.8216 - auc_1: 0.5182 - val_loss: 0.7038 - val_auc_1: 0.5183\n",
      "Epoch 3/300\n",
      "14/14 [==============================] - 0s 8ms/step - loss: 0.8396 - auc_1: 0.4886 - val_loss: 0.6988 - val_auc_1: 0.5086\n",
      "Epoch 4/300\n",
      "14/14 [==============================] - 0s 5ms/step - loss: 0.8169 - auc_1: 0.5012 - val_loss: 0.7025 - val_auc_1: 0.5083\n",
      "Epoch 5/300\n",
      "14/14 [==============================] - 0s 4ms/step - loss: 0.8123 - auc_1: 0.4902 - val_loss: 0.6978 - val_auc_1: 0.5067\n",
      "Epoch 6/300\n",
      "14/14 [==============================] - 0s 8ms/step - loss: 0.7966 - auc_1: 0.4968 - val_loss: 0.6801 - val_auc_1: 0.5557\n",
      "Epoch 7/300\n",
      "14/14 [==============================] - 0s 5ms/step - loss: 0.7793 - auc_1: 0.5099 - val_loss: 0.6745 - val_auc_1: 0.5721\n",
      "Epoch 8/300\n",
      "14/14 [==============================] - 0s 4ms/step - loss: 0.7676 - auc_1: 0.5094 - val_loss: 0.6778 - val_auc_1: 0.5720\n",
      "Epoch 9/300\n",
      "14/14 [==============================] - 0s 6ms/step - loss: 0.7625 - auc_1: 0.5078 - val_loss: 0.6765 - val_auc_1: 0.5772\n",
      "Epoch 10/300\n",
      "14/14 [==============================] - 0s 6ms/step - loss: 0.7715 - auc_1: 0.4935 - val_loss: 0.6764 - val_auc_1: 0.5628\n",
      "Epoch 11/300\n",
      "14/14 [==============================] - 0s 5ms/step - loss: 0.7649 - auc_1: 0.4873 - val_loss: 0.6761 - val_auc_1: 0.5543\n",
      "Epoch 12/300\n",
      "14/14 [==============================] - 0s 5ms/step - loss: 0.7482 - auc_1: 0.5062 - val_loss: 0.6764 - val_auc_1: 0.5489\n",
      "Epoch 13/300\n",
      "14/14 [==============================] - 0s 4ms/step - loss: 0.7328 - auc_1: 0.5182 - val_loss: 0.6767 - val_auc_1: 0.5418\n",
      "Epoch 14/300\n",
      "14/14 [==============================] - 0s 7ms/step - loss: 0.7363 - auc_1: 0.5178 - val_loss: 0.6743 - val_auc_1: 0.5577\n",
      "Epoch 15/300\n",
      "14/14 [==============================] - 0s 5ms/step - loss: 0.7205 - auc_1: 0.5255 - val_loss: 0.6751 - val_auc_1: 0.5588\n",
      "Epoch 16/300\n",
      "14/14 [==============================] - 0s 5ms/step - loss: 0.7203 - auc_1: 0.5272 - val_loss: 0.6753 - val_auc_1: 0.5464\n",
      "Epoch 17/300\n",
      "14/14 [==============================] - 0s 5ms/step - loss: 0.7157 - auc_1: 0.5355 - val_loss: 0.6751 - val_auc_1: 0.5454\n",
      "Epoch 18/300\n",
      "14/14 [==============================] - 0s 6ms/step - loss: 0.7110 - auc_1: 0.5356 - val_loss: 0.6761 - val_auc_1: 0.5401\n",
      "Epoch 19/300\n",
      "14/14 [==============================] - 0s 5ms/step - loss: 0.7285 - auc_1: 0.4969 - val_loss: 0.6762 - val_auc_1: 0.5479\n",
      "Epoch 20/300\n",
      "14/14 [==============================] - 0s 5ms/step - loss: 0.7198 - auc_1: 0.5200 - val_loss: 0.6757 - val_auc_1: 0.5469\n",
      "Epoch 21/300\n",
      "14/14 [==============================] - 0s 6ms/step - loss: 0.7090 - auc_1: 0.5338 - val_loss: 0.6761 - val_auc_1: 0.5539\n",
      "Epoch 22/300\n",
      "14/14 [==============================] - 0s 4ms/step - loss: 0.7042 - auc_1: 0.5413 - val_loss: 0.6762 - val_auc_1: 0.5610\n",
      "Epoch 23/300\n",
      "14/14 [==============================] - 0s 4ms/step - loss: 0.7056 - auc_1: 0.5418 - val_loss: 0.6752 - val_auc_1: 0.5584\n",
      "Epoch 24/300\n",
      "14/14 [==============================] - 0s 4ms/step - loss: 0.7104 - auc_1: 0.5227 - val_loss: 0.6730 - val_auc_1: 0.5793\n",
      "Epoch 25/300\n",
      "14/14 [==============================] - 0s 6ms/step - loss: 0.7191 - auc_1: 0.5045 - val_loss: 0.6741 - val_auc_1: 0.5696\n",
      "Epoch 26/300\n",
      "14/14 [==============================] - 0s 5ms/step - loss: 0.7104 - auc_1: 0.5190 - val_loss: 0.6733 - val_auc_1: 0.5852\n",
      "Epoch 27/300\n",
      "14/14 [==============================] - 0s 5ms/step - loss: 0.7178 - auc_1: 0.5015 - val_loss: 0.6722 - val_auc_1: 0.5892\n",
      "Epoch 28/300\n",
      "14/14 [==============================] - 0s 5ms/step - loss: 0.7121 - auc_1: 0.5164 - val_loss: 0.6733 - val_auc_1: 0.5814\n",
      "Epoch 29/300\n",
      "14/14 [==============================] - 0s 7ms/step - loss: 0.7089 - auc_1: 0.5105 - val_loss: 0.6810 - val_auc_1: 0.5431\n",
      "Epoch 30/300\n",
      "14/14 [==============================] - 0s 4ms/step - loss: 0.7063 - auc_1: 0.5119 - val_loss: 0.6811 - val_auc_1: 0.5355\n",
      "Epoch 31/300\n",
      "14/14 [==============================] - 0s 5ms/step - loss: 0.7095 - auc_1: 0.5188 - val_loss: 0.6808 - val_auc_1: 0.5301\n",
      "Epoch 32/300\n",
      "14/14 [==============================] - 0s 7ms/step - loss: 0.7065 - auc_1: 0.5253 - val_loss: 0.6816 - val_auc_1: 0.5211\n",
      "Epoch 33/300\n",
      "14/14 [==============================] - 0s 6ms/step - loss: 0.6951 - auc_1: 0.5458 - val_loss: 0.6823 - val_auc_1: 0.5228\n",
      "Epoch 34/300\n",
      "14/14 [==============================] - 0s 5ms/step - loss: 0.7027 - auc_1: 0.5301 - val_loss: 0.6805 - val_auc_1: 0.5441\n",
      "Epoch 35/300\n",
      "14/14 [==============================] - 0s 5ms/step - loss: 0.7093 - auc_1: 0.4952 - val_loss: 0.6792 - val_auc_1: 0.5507\n",
      "Epoch 36/300\n",
      "14/14 [==============================] - 0s 6ms/step - loss: 0.7056 - auc_1: 0.5128 - val_loss: 0.6792 - val_auc_1: 0.5418\n",
      "Epoch 37/300\n",
      "14/14 [==============================] - 0s 7ms/step - loss: 0.7012 - auc_1: 0.5198 - val_loss: 0.6786 - val_auc_1: 0.5380\n"
     ]
    }
   ],
   "source": [
    "# Define Model\n",
    "\n",
    "model_6 = Sequential()\n",
    "\n",
    "model_6.add(Dense(10, input_shape=(8,), activation='relu', kernel_initializer = 'he_uniform'))\n",
    "model_6.add(Dropout(rate=0.25))\n",
    "\n",
    "model_6.add(Dense(24, activation='tanh', kernel_initializer = 'he_uniform'))\n",
    "model_6.add(Dropout(rate=0.25))\n",
    "\n",
    "model_6.add(Dense(30, activation='relu', kernel_initializer = 'he_uniform'))\n",
    "model_6.add(Dropout(rate=0.25))\n",
    "\n",
    "model_6.add(Dense(1, activation='sigmoid'))\n",
    "\n",
    "# Compile model\n",
    "model_6.compile(loss='binary_crossentropy', \n",
    "              optimizer='adam', \n",
    "              metrics=[tensorflow.keras.metrics.AUC()])\n",
    "    \n",
    "stop_early = tensorflow.keras.callbacks.EarlyStopping(monitor='val_loss', patience=10, mode='min')\n",
    "\n",
    "# Fit model\n",
    "history = model_6.fit(X_train, \n",
    "                    y_train, \n",
    "                    validation_split=0.3,\n",
    "                    epochs=300,\n",
    "                    callbacks=[stop_early],\n",
    "                    batch_size=64)"
   ]
  },
  {
   "cell_type": "code",
   "execution_count": 1356,
   "metadata": {},
   "outputs": [],
   "source": [
    "y_pred = model_6.predict_classes(X_valid)"
   ]
  },
  {
   "cell_type": "code",
   "execution_count": 1357,
   "metadata": {},
   "outputs": [
    {
     "name": "stdout",
     "output_type": "stream",
     "text": [
      "              precision    recall  f1-score   support\n",
      "\n",
      "           0       0.59      0.19      0.28       140\n",
      "           1       0.57      0.89      0.70       171\n",
      "\n",
      "    accuracy                           0.58       311\n",
      "   macro avg       0.58      0.54      0.49       311\n",
      "weighted avg       0.58      0.58      0.51       311\n",
      "\n"
     ]
    }
   ],
   "source": [
    "from sklearn.metrics import classification_report\n",
    "\n",
    "print(classification_report(y_valid, y_pred))"
   ]
  },
  {
   "cell_type": "code",
   "execution_count": 1358,
   "metadata": {},
   "outputs": [
    {
     "data": {
      "text/html": [
       "<div>\n",
       "<style scoped>\n",
       "    .dataframe tbody tr th:only-of-type {\n",
       "        vertical-align: middle;\n",
       "    }\n",
       "\n",
       "    .dataframe tbody tr th {\n",
       "        vertical-align: top;\n",
       "    }\n",
       "\n",
       "    .dataframe thead th {\n",
       "        text-align: right;\n",
       "    }\n",
       "</style>\n",
       "<table border=\"1\" class=\"dataframe\">\n",
       "  <thead>\n",
       "    <tr style=\"text-align: right;\">\n",
       "      <th></th>\n",
       "      <th>0</th>\n",
       "      <th>1</th>\n",
       "    </tr>\n",
       "  </thead>\n",
       "  <tbody>\n",
       "    <tr>\n",
       "      <th>0</th>\n",
       "      <td>26</td>\n",
       "      <td>114</td>\n",
       "    </tr>\n",
       "    <tr>\n",
       "      <th>1</th>\n",
       "      <td>18</td>\n",
       "      <td>153</td>\n",
       "    </tr>\n",
       "  </tbody>\n",
       "</table>\n",
       "</div>"
      ],
      "text/plain": [
       "    0    1\n",
       "0  26  114\n",
       "1  18  153"
      ]
     },
     "execution_count": 1358,
     "metadata": {},
     "output_type": "execute_result"
    }
   ],
   "source": [
    "from sklearn.metrics import confusion_matrix\n",
    "\n",
    "pd.DataFrame(confusion_matrix(y_valid, y_pred))"
   ]
  },
  {
   "cell_type": "code",
   "execution_count": 1359,
   "metadata": {},
   "outputs": [
    {
     "data": {
      "image/png": "[encoded data removed]",
      "text/plain": [
       "<Figure size 432x288 with 1 Axes>"
      ]
     },
     "metadata": {
      "needs_background": "light"
     },
     "output_type": "display_data"
    }
   ],
   "source": [
    "plt.plot(history.history['loss'])\n",
    "plt.plot(history.history['val_loss'])\n",
    "plt.ylabel('Loss')\n",
    "plt.xlabel('Epoch')\n",
    "plt.legend(['Train', 'Validation'], loc='upper right')\n",
    "plt.show()"
   ]
  },
  {
   "cell_type": "markdown",
   "metadata": {},
   "source": [
    "---"
   ]
  },
  {
   "cell_type": "markdown",
   "metadata": {},
   "source": [
    "# Conclusion"
   ]
  },
  {
   "cell_type": "markdown",
   "metadata": {},
   "source": [
    "- ANN can not be better than Random Forest (Base Model) even though it showed overfitting for RF. \n",
    "- Creating Features to give signal about Fires help the model to detect fires, but now the model has difficulties to detect non Fires events.\n",
    "- Re-sampling improve F1 score from RF but it's not the case for ANN\n",
    "- ANN Model that are more consistent or stabil showed F1 Score around 50%"
   ]
  },
  {
   "cell_type": "markdown",
   "metadata": {},
   "source": [
    "---"
   ]
  }
 ],
 "metadata": {
  "kernelspec": {
   "display_name": "Python 3",
   "language": "python",
   "name": "python3"
  },
  "language_info": {
   "codemirror_mode": {
    "name": "ipython",
    "version": 3
   },
   "file_extension": ".py",
   "mimetype": "text/x-python",
   "name": "python",
   "nbconvert_exporter": "python",
   "pygments_lexer": "ipython3",
   "version": "3.7.6"
  }
 },
 "nbformat": 4,
 "nbformat_minor": 4
}
